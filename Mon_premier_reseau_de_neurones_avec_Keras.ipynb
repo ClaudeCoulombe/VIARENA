{
 "cells": [
  {
   "cell_type": "markdown",
   "metadata": {},
   "source": [
    "[![Open In Colab](https://colab.research.google.com/assets/colab-badge.svg)](https://colab.research.google.com/github/googlecolab/colabtools/blob/master/notebooks/colab-github-demo.ipynb)\n"
   ]
  },
  {
   "cell_type": "markdown",
   "metadata": {},
   "source": [
    "# Mon premier réseau de neurones avec Keras - version compacte\n",
    "\n",
    "Vous allez créer votre premier réseau de neurones vrainent très simple pour faire de la reconnaissance de formes (pattern matching).\n",
    "\n",
    "Notre petite application a pour objectif de convertir des températures en degrés Farenheit en degrés Celsius. Ce petit exercice nous montrera comment un réseau de neurones peut apprendre à approximer une fonction à partir de données.\n",
    "\n",
    "**Note**: Il n'est pas important de comprendre le détail des instructions pour le moment. Ne vous inquiétez pas, des explications détaillées suivront bientôt."
   ]
  },
  {
   "cell_type": "markdown",
   "metadata": {},
   "source": [
    "# Version compacte"
   ]
  },
  {
   "cell_type": "code",
   "execution_count": 29,
   "metadata": {},
   "outputs": [
    {
     "name": "stdout",
     "output_type": "stream",
     "text": [
      "Farenheit: 32 , prédiction => Celsius: 0.030956268 , formule exacte: 0.0\n",
      "Farenheit: 212 , prédiction => Celsius: 100.0321 , formule exacte: 100.0\n"
     ]
    }
   ],
   "source": [
    "import tensorflow as tf\n",
    "import numpy as np\n",
    "\n",
    "farenheit_np = np.array([-100.0, -50.0, -25.0, 0.0, 25.0, 50.0, 100])\n",
    "celsius_np = np.array([-73.33, -45.56, -31.67, -17.78, -3.89, 10.00, 37.78])\n",
    "\n",
    "reseau_de_neurones = tf.keras.models.Sequential([tf.keras.layers.Dense(units=1, input_shape=[1])])\n",
    "reseau_de_neurones.compile(optimizer=tf.keras.optimizers.Adam(0.1),loss='mean_squared_error')\n",
    "reseau_de_neurones.fit(farenheit_np,celsius_np,epochs=500,verbose=0)\n",
    "\n",
    "farenheit = 32\n",
    "print(\"Farenheit:\",farenheit,\", prédiction =>\",\"Celsius:\",reseau_de_neurones.predict([farenheit])[0][0],\", formule exacte:\",5/9*(farenheit-32))\n",
    "farenheit = 212\n",
    "print(\"Farenheit:\",farenheit,\", prédiction =>\",\"Celsius:\",reseau_de_neurones.predict([farenheit])[0][0],\", formule exacte:\",5/9*(farenheit-32))\n"
   ]
  },
  {
   "cell_type": "markdown",
   "metadata": {},
   "source": [
    "Le réseau de neurones retourne des valeurs très proches des vraies valeurs données par la formule $\\;\\;celsius = \\large{\\frac{5}{9}}\\small(farenheit -32)$. Il est important de comprendre que le réseau de neurones n'apprend pas la formule exacte mais bien qu'il calcule itérativement une approximation de cette formule.  \n",
    "    "
   ]
  },
  {
   "cell_type": "code",
   "execution_count": null,
   "metadata": {},
   "outputs": [],
   "source": []
  }
 ],
 "metadata": {
  "kernelspec": {
   "display_name": "Python 3",
   "language": "python",
   "name": "python3"
  },
  "language_info": {
   "codemirror_mode": {
    "name": "ipython",
    "version": 3
   },
   "file_extension": ".py",
   "mimetype": "text/x-python",
   "name": "python",
   "nbconvert_exporter": "python",
   "pygments_lexer": "ipython3",
   "version": "3.6.5"
  }
 },
 "nbformat": 4,
 "nbformat_minor": 2
}
