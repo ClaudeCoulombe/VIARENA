{
 "cells": [
  {
   "cell_type": "markdown",
   "metadata": {},
   "source": [
    "<a href=\"https://colab.research.google.com/github/ClaudeCoulombe/VIARENA/blob/master/Mon_premier_reseau_de_neurones_avec_Keras.ipynb\" target=\"_blank\"><img src=\"https://colab.research.google.com/assets/colab-badge.svg\" alt=\"Open In Colab\"/></a>\n",
    "\n",
    "### Rappel - Fonctionnement d'un carnet web iPython\n",
    "\n",
    "* Pour exécuter le code contenu dans une cellule d'un carnet iPython, cliquez dans la cellule et faites (⇧↵, shift-enter) \n",
    "* Le code d'un carnet iPython s'exécute séquentiellement de haut en bas de la page. Souvent, l'importation d'une bibliothèque Python ou l'initialisation d'une variable est préalable à l'exécution d'une cellule située plus bas. Il est donc recommandé d'exécuter les cellules en séquence. Enfin, méfiez-vous des retours en arrière qui peuvent réinitialiser certaines variables."
   ]
  },
  {
   "cell_type": "markdown",
   "metadata": {},
   "source": [
    "# Mon premier réseau de neurones avec Keras - version compacte\n",
    "\n",
    "Vous allez créer votre premier réseau de neurones vraiment très simple pour faire de la reconnaissance de formes (pattern matching).\n",
    "\n",
    "Il s'agit d'une petite application de conversion des températures de degrés Farenheit à degrés Celsius. \n",
    "\n",
    "On peut légitimenent se questionner sur l'utilité d'un tel exercice car on peut obtenir une réponse exacte en utilisant l'équation de conversion $\\;\\;celsius = \\large{\\frac{5}{9}}\\small(farenheit -32)$? En fait, ce qui est «intéressant» c'est de constater que le réseau de neurones va apprendre «seul» à partir des données à approximer cette équation. \n",
    "\n",
    "**Note**: Il n'est pas important de comprendre le détail du code informatique pour le moment. Ne vous inquiétez pas, des explications détaillées suivront bientôt."
   ]
  },
  {
   "cell_type": "markdown",
   "metadata": {},
   "source": [
    "# Moins de 10 lignes de code..."
   ]
  },
  {
   "cell_type": "code",
   "execution_count": null,
   "metadata": {
    "scrolled": false
   },
   "outputs": [],
   "source": [
    "import tensorflow as tf\n",
    "import numpy as np\n",
    "\n",
    "farenheit_np = np.array([-100.0, -50.0, -25.0, 0.0, 25.0, 50.0, 100])\n",
    "celsius_np = np.array([-73.33, -45.56, -31.67, -17.78, -3.89, 10.00, 37.78])\n",
    "\n",
    "reseau_de_neurones = tf.keras.models.Sequential([tf.keras.layers.Dense(units=1, input_shape=[1])])\n",
    "reseau_de_neurones.compile(optimizer=tf.keras.optimizers.Adam(learning_rate=0.1),loss='mean_squared_error')\n",
    "reseau_de_neurones.fit(farenheit_np,celsius_np,epochs=400,verbose=2)\n",
    "\n",
    "farenheit = 32\n",
    "print(\"\\n\\nFarenheit:\",farenheit,\", prédiction =>\",\"Celsius:\",reseau_de_neurones.predict([farenheit])[0][0],\", formule exacte:\",5/9*(farenheit-32))"
   ]
  },
  {
   "cell_type": "markdown",
   "metadata": {},
   "source": [
    "Maintenant essayez avec 212 degrés Farenheit. Évidemment, vous pouvez affecter la valeur de votre choix dans la variable `farenheit`."
   ]
  },
  {
   "cell_type": "code",
   "execution_count": null,
   "metadata": {},
   "outputs": [],
   "source": [
    "farenheit = 212\n",
    "print(\"Farenheit:\",farenheit,\", prédiction =>\",\"Celsius:\",reseau_de_neurones.predict([farenheit])[0][0],\", formule exacte:\",5/9*(farenheit-32))\n"
   ]
  },
  {
   "cell_type": "markdown",
   "metadata": {},
   "source": [
    "Vous pouvez constater que le réseau de neurones retourne des valeurs très proches des vraies valeurs données par la formule $\\;\\;celsius = \\large{\\frac{5}{9}}\\small(farenheit -32)$. Il est important de comprendre que le réseau de neurones n'apprend pas la formule exacte mais bien qu'il calcule itérativement une approximation de cette formule.  \n",
    "\n",
    "Choses à retenir:\n",
    "\n",
    "* Le réseau de neurones est capable d'apprendre à approximer une fonction directement à partir des données\n",
    "* Le processus d'apprentissage est itératif\n",
    "    "
   ]
  }
 ],
 "metadata": {
  "kernelspec": {
   "display_name": "Python 3",
   "language": "python",
   "name": "python3"
  },
  "language_info": {
   "codemirror_mode": {
    "name": "ipython",
    "version": 3
   },
   "file_extension": ".py",
   "mimetype": "text/x-python",
   "name": "python",
   "nbconvert_exporter": "python",
   "pygments_lexer": "ipython3",
   "version": "3.6.5"
  }
 },
 "nbformat": 4,
 "nbformat_minor": 2
}
