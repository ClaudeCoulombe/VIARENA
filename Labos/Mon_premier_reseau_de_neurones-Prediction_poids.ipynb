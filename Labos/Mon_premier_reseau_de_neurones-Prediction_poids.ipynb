{
 "cells": [
  {
   "cell_type": "markdown",
   "metadata": {},
   "source": [
    "<a href=\"https://colab.research.google.com/github/ClaudeCoulombe/VIARENA/blob/master/Labos/Mon_premier_reseau_de_neurones-Prediction_poids.ipynb\" target=\"_blank\"><img src=\"https://colab.research.google.com/assets/colab-badge.svg\" alt=\"Open In Colab\"/></a>\n",
    "\n",
    "### Rappel - Fonctionnement d'un carnet web iPython\n",
    "\n",
    "* Pour exécuter le code contenu dans une cellule d'un carnet iPython, cliquez dans la cellule et faites (⇧↵, shift-enter) \n",
    "* Le code d'un carnet iPython s'exécute séquentiellement de haut en bas de la page. Souvent, l'importation d'une bibliothèque Python ou l'initialisation d'une variable est préalable à l'exécution d'une cellule située plus bas. Il est donc recommandé d'exécuter les cellules en séquence. Enfin, méfiez-vous des retours en arrière qui peuvent réinitialiser certaines variables."
   ]
  },
  {
   "cell_type": "markdown",
   "metadata": {},
   "source": [
    "# Mon premier réseau de neurones - Perceptron simple avec Keras\n",
    "\n",
    "## Prédiction du poids à partir du genre et de la taille d'une personne\n",
    "\n",
    "Vous allez créer votre premier réseau de neurones. Il s'agit d'un perceptron simple, ne comportant qu'un seul neurone, mais capable de prédire le poids approximatif d'une personne à partir de son genre (homme ou femme) et de sa taille.\n",
    "\n",
    "### Détermination de la classe-cible et des prédicteurs\n",
    "\n",
    "La cible (ou classe-cible) sera donc le `poids` et les prédicteurs (ou attributs-prédicteurs) seront: le `genre` et la `taille`.    \n",
    "\n",
    "Puisque la classe-cible est un attribut numérique continu (un nombre avec des décimales), nous allons donc réaliser une <b>régression</b>.\n",
    "\n",
    "**Note**: Il n'est pas important de comprendre le détail du code informatique pour le moment. Ne vous inquiétez pas, des explications détaillées suivront bientôt."
   ]
  },
  {
   "cell_type": "markdown",
   "metadata": {},
   "source": [
    "# Acquisition des données...\n",
    "\n",
    "### Source des données: \n",
    "\n",
    "Nous utiliserons un jeu de données de 10 000 mesures de taille et de poids pour les hommes et les femmes disponibles sur <a href=\"https://github.com/johnmyleswhite/ML_for_Hackers/tree/master/05-Regression/data\" target='_blank'>l'espace GitHub</a> du livre Machine Learning for Hackers, Drew Conway & John Myles-While, O'Reilly Media.\n",
    "\n",
    "Référence: Drew Conway, John Myles-While (2012). Machine Learning for Hackers. O'Reilly Media.\n",
    "\n",
    "Le fichier **01_heights_weights_genders.csv** a été renommé **genre_taille_poids.csv**"
   ]
  },
  {
   "cell_type": "markdown",
   "metadata": {},
   "source": [
    "#### Acquisition par téléchargement du jeu de données"
   ]
  },
  {
   "cell_type": "code",
   "execution_count": 417,
   "metadata": {},
   "outputs": [
    {
     "name": "stdout",
     "output_type": "stream",
     "text": [
      "--2021-03-22 05:25:46--  https://github.com/johnmyleswhite/ML_for_Hackers/blob/master/05-Regression/data/01_heights_weights_genders.csv?raw=True\n",
      "Resolving github.com (github.com)... 140.82.114.3\n",
      "Connecting to github.com (github.com)|140.82.114.3|:443... connected.\n",
      "HTTP request sent, awaiting response... 302 Found\n",
      "Location: https://github.com/johnmyleswhite/ML_for_Hackers/raw/master/05-Regression/data/01_heights_weights_genders.csv [following]\n",
      "--2021-03-22 05:25:46--  https://github.com/johnmyleswhite/ML_for_Hackers/raw/master/05-Regression/data/01_heights_weights_genders.csv\n",
      "Reusing existing connection to github.com:443.\n",
      "HTTP request sent, awaiting response... 302 Found\n",
      "Location: https://raw.githubusercontent.com/johnmyleswhite/ML_for_Hackers/master/05-Regression/data/01_heights_weights_genders.csv [following]\n",
      "--2021-03-22 05:25:46--  https://raw.githubusercontent.com/johnmyleswhite/ML_for_Hackers/master/05-Regression/data/01_heights_weights_genders.csv\n",
      "Resolving raw.githubusercontent.com (raw.githubusercontent.com)... 185.199.111.133, 185.199.108.133, 185.199.109.133, ...\n",
      "Connecting to raw.githubusercontent.com (raw.githubusercontent.com)|185.199.111.133|:443... connected.\n",
      "HTTP request sent, awaiting response... 200 OK\n",
      "Length: 418121 (408K) [text/plain]\n",
      "Saving to: ‘genre_taille_poids.csv’\n",
      "\n",
      "genre_taille_poids. 100%[===================>] 408.32K  --.-KB/s    in 0.05s   \n",
      "\n",
      "2021-03-22 05:25:47 (8.11 MB/s) - ‘genre_taille_poids.csv’ saved [418121/418121]\n",
      "\n"
     ]
    }
   ],
   "source": [
    "!wget \"https://github.com/johnmyleswhite/ML_for_Hackers/blob/master/05-Regression/data/01_heights_weights_genders.csv?raw=True\" -O genre_taille_poids.csv\n"
   ]
  },
  {
   "cell_type": "markdown",
   "metadata": {},
   "source": [
    "#### Fonctions de conversion\n",
    "\n",
    "Notez que la taille est en pouces et le poids en livres, des unités de mesure impériales établies par les Britanniques et encore communément utilisés en Amérique du Nord et au Québec. Ci-dessous de petites fonctions de conversion pour les personnes plus familières du système international d'unités (SI)."
   ]
  },
  {
   "cell_type": "code",
   "execution_count": 418,
   "metadata": {},
   "outputs": [],
   "source": [
    "def conv_cm_en_po(taille_centimetres):\n",
    "    return taille_centimetres/2.54\n",
    "\n",
    "def con_po_en_cm(taille_pouces):\n",
    "    return taille_pouces*2.54\n",
    "\n",
    "def conv_kg_en_livres(masse_en_kg):\n",
    "    return masse_en_kg*2.20462\n",
    "\n",
    "def conv_livres_en_kg(poids_en_livres):\n",
    "    return poids_en_livres/2.20462"
   ]
  },
  {
   "cell_type": "markdown",
   "metadata": {},
   "source": [
    "## Préparation des données..."
   ]
  },
  {
   "cell_type": "code",
   "execution_count": 419,
   "metadata": {
    "scrolled": false
   },
   "outputs": [
    {
     "data": {
      "text/html": [
       "<div>\n",
       "<style scoped>\n",
       "    .dataframe tbody tr th:only-of-type {\n",
       "        vertical-align: middle;\n",
       "    }\n",
       "\n",
       "    .dataframe tbody tr th {\n",
       "        vertical-align: top;\n",
       "    }\n",
       "\n",
       "    .dataframe thead th {\n",
       "        text-align: right;\n",
       "    }\n",
       "</style>\n",
       "<table border=\"1\" class=\"dataframe\">\n",
       "  <thead>\n",
       "    <tr style=\"text-align: right;\">\n",
       "      <th></th>\n",
       "      <th>genre</th>\n",
       "      <th>taille</th>\n",
       "      <th>poids</th>\n",
       "    </tr>\n",
       "  </thead>\n",
       "  <tbody>\n",
       "    <tr>\n",
       "      <th>6252</th>\n",
       "      <td>Female</td>\n",
       "      <td>68.687232</td>\n",
       "      <td>173.115813</td>\n",
       "    </tr>\n",
       "    <tr>\n",
       "      <th>4684</th>\n",
       "      <td>Male</td>\n",
       "      <td>68.829334</td>\n",
       "      <td>195.162042</td>\n",
       "    </tr>\n",
       "    <tr>\n",
       "      <th>1731</th>\n",
       "      <td>Male</td>\n",
       "      <td>66.398128</td>\n",
       "      <td>170.217451</td>\n",
       "    </tr>\n",
       "    <tr>\n",
       "      <th>4742</th>\n",
       "      <td>Male</td>\n",
       "      <td>71.929340</td>\n",
       "      <td>215.049660</td>\n",
       "    </tr>\n",
       "    <tr>\n",
       "      <th>4521</th>\n",
       "      <td>Male</td>\n",
       "      <td>67.042903</td>\n",
       "      <td>182.721452</td>\n",
       "    </tr>\n",
       "    <tr>\n",
       "      <th>6340</th>\n",
       "      <td>Female</td>\n",
       "      <td>65.310436</td>\n",
       "      <td>136.434393</td>\n",
       "    </tr>\n",
       "    <tr>\n",
       "      <th>576</th>\n",
       "      <td>Male</td>\n",
       "      <td>66.045444</td>\n",
       "      <td>169.326284</td>\n",
       "    </tr>\n",
       "    <tr>\n",
       "      <th>5202</th>\n",
       "      <td>Female</td>\n",
       "      <td>66.759071</td>\n",
       "      <td>150.881330</td>\n",
       "    </tr>\n",
       "    <tr>\n",
       "      <th>6363</th>\n",
       "      <td>Female</td>\n",
       "      <td>62.598648</td>\n",
       "      <td>114.766882</td>\n",
       "    </tr>\n",
       "    <tr>\n",
       "      <th>439</th>\n",
       "      <td>Male</td>\n",
       "      <td>63.596455</td>\n",
       "      <td>144.591922</td>\n",
       "    </tr>\n",
       "  </tbody>\n",
       "</table>\n",
       "</div>"
      ],
      "text/plain": [
       "       genre     taille       poids\n",
       "6252  Female  68.687232  173.115813\n",
       "4684    Male  68.829334  195.162042\n",
       "1731    Male  66.398128  170.217451\n",
       "4742    Male  71.929340  215.049660\n",
       "4521    Male  67.042903  182.721452\n",
       "6340  Female  65.310436  136.434393\n",
       "576     Male  66.045444  169.326284\n",
       "5202  Female  66.759071  150.881330\n",
       "6363  Female  62.598648  114.766882\n",
       "439     Male  63.596455  144.591922"
      ]
     },
     "execution_count": 419,
     "metadata": {},
     "output_type": "execute_result"
    }
   ],
   "source": [
    "import tensorflow as tf\n",
    "import numpy as np\n",
    "import pandas as pd\n",
    "\n",
    "# lecture des données et stockage dans un tableau DataFrame Pandas\n",
    "genre_taille_poids_df = pd.read_csv(\"genre_taille_poids.csv\")\n",
    "# modification des noms d'attributs (i.e. colonnes)\n",
    "genre_taille_poids_df.columns = ['genre','taille','poids']\n",
    "# examen d'une dizaines d'exemples tirés au hasard\n",
    "genre_taille_poids_df.sample(n=10, random_state=42)"
   ]
  },
  {
   "cell_type": "markdown",
   "metadata": {},
   "source": [
    "### Encodage des attributs catégoriels \n",
    "\n",
    "Rappelons qu'un attribut catégoriel prend des valeurs d'étiquettes symboliques. Ici l'attribut `genre` prend les valeurs 'Male' et 'Female'. Les algorithmes d'apprentissage automatique dont les réseaux de neurones exigent que les variables d'entrée soient des nombres. Il faut donc encoder les données catégorielles en nombres avant de les utiliser pour entraîner un modèle.\n",
    "\n",
    "Ici, nous ferons un simple remplacement de valeur avec la fonction `.replace()` de Pandas."
   ]
  },
  {
   "cell_type": "code",
   "execution_count": 420,
   "metadata": {},
   "outputs": [
    {
     "data": {
      "text/html": [
       "<div>\n",
       "<style scoped>\n",
       "    .dataframe tbody tr th:only-of-type {\n",
       "        vertical-align: middle;\n",
       "    }\n",
       "\n",
       "    .dataframe tbody tr th {\n",
       "        vertical-align: top;\n",
       "    }\n",
       "\n",
       "    .dataframe thead th {\n",
       "        text-align: right;\n",
       "    }\n",
       "</style>\n",
       "<table border=\"1\" class=\"dataframe\">\n",
       "  <thead>\n",
       "    <tr style=\"text-align: right;\">\n",
       "      <th></th>\n",
       "      <th>genre</th>\n",
       "      <th>taille</th>\n",
       "      <th>poids</th>\n",
       "    </tr>\n",
       "  </thead>\n",
       "  <tbody>\n",
       "    <tr>\n",
       "      <th>6252</th>\n",
       "      <td>0</td>\n",
       "      <td>68.687232</td>\n",
       "      <td>173.115813</td>\n",
       "    </tr>\n",
       "    <tr>\n",
       "      <th>4684</th>\n",
       "      <td>1</td>\n",
       "      <td>68.829334</td>\n",
       "      <td>195.162042</td>\n",
       "    </tr>\n",
       "    <tr>\n",
       "      <th>1731</th>\n",
       "      <td>1</td>\n",
       "      <td>66.398128</td>\n",
       "      <td>170.217451</td>\n",
       "    </tr>\n",
       "    <tr>\n",
       "      <th>4742</th>\n",
       "      <td>1</td>\n",
       "      <td>71.929340</td>\n",
       "      <td>215.049660</td>\n",
       "    </tr>\n",
       "    <tr>\n",
       "      <th>4521</th>\n",
       "      <td>1</td>\n",
       "      <td>67.042903</td>\n",
       "      <td>182.721452</td>\n",
       "    </tr>\n",
       "    <tr>\n",
       "      <th>6340</th>\n",
       "      <td>0</td>\n",
       "      <td>65.310436</td>\n",
       "      <td>136.434393</td>\n",
       "    </tr>\n",
       "    <tr>\n",
       "      <th>576</th>\n",
       "      <td>1</td>\n",
       "      <td>66.045444</td>\n",
       "      <td>169.326284</td>\n",
       "    </tr>\n",
       "    <tr>\n",
       "      <th>5202</th>\n",
       "      <td>0</td>\n",
       "      <td>66.759071</td>\n",
       "      <td>150.881330</td>\n",
       "    </tr>\n",
       "    <tr>\n",
       "      <th>6363</th>\n",
       "      <td>0</td>\n",
       "      <td>62.598648</td>\n",
       "      <td>114.766882</td>\n",
       "    </tr>\n",
       "    <tr>\n",
       "      <th>439</th>\n",
       "      <td>1</td>\n",
       "      <td>63.596455</td>\n",
       "      <td>144.591922</td>\n",
       "    </tr>\n",
       "  </tbody>\n",
       "</table>\n",
       "</div>"
      ],
      "text/plain": [
       "      genre     taille       poids\n",
       "6252      0  68.687232  173.115813\n",
       "4684      1  68.829334  195.162042\n",
       "1731      1  66.398128  170.217451\n",
       "4742      1  71.929340  215.049660\n",
       "4521      1  67.042903  182.721452\n",
       "6340      0  65.310436  136.434393\n",
       "576       1  66.045444  169.326284\n",
       "5202      0  66.759071  150.881330\n",
       "6363      0  62.598648  114.766882\n",
       "439       1  63.596455  144.591922"
      ]
     },
     "execution_count": 420,
     "metadata": {},
     "output_type": "execute_result"
    }
   ],
   "source": [
    "genre_taille_poids_df = genre_taille_poids_df.replace('Male', 1)\n",
    "genre_taille_poids_df = genre_taille_poids_df.replace('Female', 0)\n",
    "genre_taille_poids_df.sample(n=10, random_state=42)"
   ]
  },
  {
   "cell_type": "markdown",
   "metadata": {},
   "source": [
    "### Séparation de la cible et des prédicteurs\n"
   ]
  },
  {
   "cell_type": "code",
   "execution_count": 421,
   "metadata": {},
   "outputs": [
    {
     "name": "stdout",
     "output_type": "stream",
     "text": [
      "classe_cible:\n",
      " [241.89356318 162.31047252 212.74085556 ... 128.47531878 163.85246135\n",
      " 113.64910268]\n",
      "classe_cible.shape: (10000,)\n",
      "\n",
      "predicteurs:\n",
      " [[ 1.         73.84701702]\n",
      " [ 1.         68.78190405]\n",
      " [ 1.         74.11010539]\n",
      " ...\n",
      " [ 0.         63.86799221]\n",
      " [ 0.         69.03424313]\n",
      " [ 0.         61.94424588]]\n",
      "predicteurs.shape: (10000, 2)\n"
     ]
    }
   ],
   "source": [
    "classe_cible = genre_taille_poids_df['poids'].values\n",
    "print(\"classe_cible:\\n\",classe_cible)\n",
    "print(\"classe_cible.shape:\",classe_cible.shape)\n",
    "predicteurs = genre_taille_poids_df.drop(['poids'], axis=1).values\n",
    "print(\"\\npredicteurs:\\n\",predicteurs)\n",
    "print(\"predicteurs.shape:\",predicteurs.shape)"
   ]
  },
  {
   "cell_type": "markdown",
   "metadata": {},
   "source": [
    "### Division en données d'entraînement et de test - fonction Sklearn `train_test_split()`\n",
    "\n",
    "Nous allons retenir une partie des données dans un jeu de données de test que l'algorithme ne verra pas et nous utiliserons ces données pour avoir une idée des performances du modèle sur des données inconnues.\n",
    "\n",
    "Nous diviserons l'ensemble de données en deux, dont typiquement 80 % serviront à l'entraînement, à l'évaluation et à la sélection parmi nos modèles, et 20 % seront retenues comme ensemble de données de test."
   ]
  },
  {
   "cell_type": "code",
   "execution_count": 422,
   "metadata": {},
   "outputs": [],
   "source": [
    "from sklearn.model_selection import train_test_split\n",
    "\n",
    "# Le jeu de données de test contient 20% des données initiales\n",
    "# Note: ce ratio peut varier en fonction de la taille du jeu de données\n",
    "test_ratio = 0.20\n",
    "\n",
    "# Isoler les données de test \n",
    "predicteurs_entr, predicteurs_test, cibles_entr, cibles_test = train_test_split(predicteurs,\n",
    "                                                                              classe_cible,\n",
    "                                                                              test_size=test_ratio,\n",
    "                                                                              random_state=42)"
   ]
  },
  {
   "cell_type": "code",
   "execution_count": 423,
   "metadata": {},
   "outputs": [
    {
     "name": "stdout",
     "output_type": "stream",
     "text": [
      "Dimensions de predicteurs entrainement: (8000, 2)\n",
      "Dimensions de predicteurs test: (2000, 2)\n",
      "Dimensions de cibles entrainement: (8000,)\n",
      "Dimensions de cibles test: (2000,)\n"
     ]
    }
   ],
   "source": [
    "print(\"Dimensions de predicteurs entrainement:\",predicteurs_entr.shape)\n",
    "print(\"Dimensions de predicteurs test:\",predicteurs_test.shape)\n",
    "print(\"Dimensions de cibles entrainement:\",cibles_entr.shape)\n",
    "print(\"Dimensions de cibles test:\",cibles_test.shape)"
   ]
  },
  {
   "cell_type": "markdown",
   "metadata": {},
   "source": [
    "## Création d'un réseau de neurones\n",
    "\n",
    "Un perceptron simple à un seul neurone connecté à toutes les entrées (attributs prédicteurs) et avec une sortie "
   ]
  },
  {
   "cell_type": "code",
   "execution_count": 424,
   "metadata": {},
   "outputs": [
    {
     "name": "stdout",
     "output_type": "stream",
     "text": [
      "Architecture du réseau de neurones:\n",
      "\n",
      "Model: \"sequential_27\"\n",
      "_________________________________________________________________\n",
      "Layer (type)                 Output Shape              Param #   \n",
      "=================================================================\n",
      "dense_27 (Dense)             (None, 1)                 3         \n",
      "=================================================================\n",
      "Total params: 3\n",
      "Trainable params: 3\n",
      "Non-trainable params: 0\n",
      "_________________________________________________________________\n",
      "None\n"
     ]
    }
   ],
   "source": [
    "import tensorflow as tf\n",
    "from keras.models import Sequential\n",
    "from keras.layers import Dense\n",
    "\n",
    "reseau_de_neurones = Sequential()\n",
    "reseau_de_neurones.add(Dense(units=1, input_shape=[2]))\n",
    "\n",
    "print(\"Architecture du réseau de neurones:\\n\")\n",
    "print(reseau_de_neurones.summary())\n"
   ]
  },
  {
   "cell_type": "markdown",
   "metadata": {},
   "source": [
    "### Compilation du réseau de neurones"
   ]
  },
  {
   "cell_type": "code",
   "execution_count": 425,
   "metadata": {},
   "outputs": [
    {
     "name": "stdout",
     "output_type": "stream",
     "text": [
      "Le réseau de neurones a été compilé!\n"
     ]
    }
   ],
   "source": [
    "reseau_de_neurones.compile(optimizer=tf.keras.optimizers.Adam(learning_rate=0.01),\n",
    "                           loss='mean_squared_error')\n",
    "print(\"Le réseau de neurones a été compilé!\")"
   ]
  },
  {
   "cell_type": "markdown",
   "metadata": {},
   "source": [
    "### Entraînement du réseau de neurones"
   ]
  },
  {
   "cell_type": "code",
   "execution_count": 426,
   "metadata": {},
   "outputs": [
    {
     "name": "stdout",
     "output_type": "stream",
     "text": [
      "Le réseau de neurones a été entraîné!\n"
     ]
    }
   ],
   "source": [
    "traces_entrainement = reseau_de_neurones.fit(predicteurs_entr,cibles_entr,\n",
    "                                             epochs=500,\n",
    "                                             verbose=0)\n",
    "print(\"Le réseau de neurones a été entraîné!\")"
   ]
  },
  {
   "cell_type": "markdown",
   "metadata": {},
   "source": [
    "### Affichage de l'évolution de la fonction de coût"
   ]
  },
  {
   "cell_type": "code",
   "execution_count": 427,
   "metadata": {
    "scrolled": false
   },
   "outputs": [
    {
     "data": {
      "image/png": "[encoded data removed]",
      "text/plain": [
       "<Figure size 648x432 with 1 Axes>"
      ]
     },
     "metadata": {
      "needs_background": "light"
     },
     "output_type": "display_data"
    }
   ],
   "source": [
    "import matplotlib.pyplot as plt\n",
    "nombre_dor = 1.618\n",
    "hauteur = 6\n",
    "longueur = int(nombre_dor * hauteur)\n",
    "_ = plt.figure(figsize=(longueur,hauteur))\n",
    "plt.xlabel('Nombre de passages dans les données')\n",
    "plt.ylabel(\"Fonction de coût ou de perte\")\n",
    "_ = plt.plot(traces_entrainement.history['loss'],linewidth=2)\n",
    "plt.show()"
   ]
  },
  {
   "cell_type": "markdown",
   "metadata": {},
   "source": [
    "### Validation du modèle sur les données de test\n",
    "Nous allons valider le modèle que notre réseau de neurones a appris avec des données de test qui ne faisaient pas partie des données d'entraînement."
   ]
  },
  {
   "cell_type": "code",
   "execution_count": 428,
   "metadata": {},
   "outputs": [
    {
     "name": "stdout",
     "output_type": "stream",
     "text": [
      "> REQM: 10.83\n"
     ]
    }
   ],
   "source": [
    "from sklearn.metrics import mean_squared_error\n",
    "\n",
    "predictions_poids_test = reseau_de_neurones.predict(predicteurs_test)\n",
    "\n",
    "# Racine de l'erreur quadratique moyenne\n",
    "print(\"> REQM: {:.2f}\".format(mean_squared_error(cibles_test, predictions_poids_test, squared=False)))"
   ]
  },
  {
   "cell_type": "markdown",
   "metadata": {},
   "source": [
    "En fait ce que cela veut dire, c'est que notre petit réseau à un seul neurone est capable de déterminer le poids d'une personne à partir de son genre et de sa taille à 11 livres près (~5 Kg). Du moins sur le jeu de données d'entraînement. "
   ]
  },
  {
   "cell_type": "markdown",
   "metadata": {},
   "source": [
    "### Entraînement sur toutes les données\n",
    "\n",
    "Nous allons maintenant entraîner notre modèle avec toutes les données pour maximiser l'emploi des données. "
   ]
  },
  {
   "cell_type": "code",
   "execution_count": 429,
   "metadata": {},
   "outputs": [
    {
     "name": "stdout",
     "output_type": "stream",
     "text": [
      "Le réseau de neurones a été entraîné sur toutes les données!\n"
     ]
    }
   ],
   "source": [
    "reseau_de_neurones.fit(predicteurs,classe_cible,\n",
    "                       epochs=500,\n",
    "                       verbose=0)\n",
    "print(\"Le réseau de neurones a été entraîné sur toutes les données!\")"
   ]
  },
  {
   "cell_type": "markdown",
   "metadata": {},
   "source": [
    "## Utilisation du modèle entraîné en production\n",
    "\n",
    "Nous allons utiliser le modèle entraîné sur des nouvelles données qui ne font pas partie du jeu de données d'entraînement."
   ]
  },
  {
   "cell_type": "code",
   "execution_count": 430,
   "metadata": {},
   "outputs": [
    {
     "name": "stdout",
     "output_type": "stream",
     "text": [
      "Poids prédit: 181.68 livres\n",
      "Erreur: 1.68 livres\n"
     ]
    }
   ],
   "source": [
    "# homme, 5 pieds 8 po, poids connu: 180 livres\n",
    "genre = 1\n",
    "grandeur = 5*12+8\n",
    "nouveau_predicteur = np.array([[genre,grandeur]])\n",
    "prediction_poids = reseau_de_neurones.predict(nouveau_predicteur)\n",
    "print(\"Poids prédit: {:.2f} livres\".format(prediction_poids[0][0]))\n",
    "print(\"Erreur: {:.2f} livres\".format(abs(180-prediction_poids[0][0])))"
   ]
  },
  {
   "cell_type": "code",
   "execution_count": 431,
   "metadata": {},
   "outputs": [
    {
     "name": "stdout",
     "output_type": "stream",
     "text": [
      "Poids prédit: 154.96 livres\n",
      "Erreur: 4.96 livres\n"
     ]
    }
   ],
   "source": [
    "# femme, 5 pieds 7 po, poids connu: 150 livres \n",
    "genre = 0\n",
    "taille = 5*12+7\n",
    "nouveau_predicteur = np.array([[genre,taille]])\n",
    "prediction_poids = reseau_de_neurones.predict(nouveau_predicteur)\n",
    "print(\"Poids prédit: {:.2f} livres\".format(prediction_poids[0][0]))\n",
    "print(\"Erreur: {:.2f} livres\".format(abs(150-prediction_poids[0][0])))"
   ]
  },
  {
   "cell_type": "code",
   "execution_count": 432,
   "metadata": {},
   "outputs": [
    {
     "name": "stdout",
     "output_type": "stream",
     "text": [
      "Poids prédit: 204.31 livres\n",
      "Erreur: 4.31 livres\n"
     ]
    }
   ],
   "source": [
    "# homme, 6 pieds, poids connu: 200 livres\n",
    "genre = 1\n",
    "taille = 72\n",
    "nouveau_predicteur = np.array([[genre,taille]])\n",
    "prediction_poids = reseau_de_neurones.predict(nouveau_predicteur)\n",
    "print(\"Poids prédit: {:.2f} livres\".format(prediction_poids[0][0]))\n",
    "print(\"Erreur: {:.2f} livres\".format(abs(200-prediction_poids[0][0])))"
   ]
  },
  {
   "cell_type": "code",
   "execution_count": 434,
   "metadata": {},
   "outputs": [
    {
     "name": "stdout",
     "output_type": "stream",
     "text": [
      "Masse prédite: 54.96 Kg\n",
      "Erreur: 3.04 Kg\n"
     ]
    }
   ],
   "source": [
    "# femme, 1 m 55 ou 155 cm, poid connu: 58 Kg\n",
    "genre = 0\n",
    "grandeur = conv_cm_en_po(155)\n",
    "nouveau_predicteur = np.array([[genre,grandeur]])\n",
    "prediction_poids = reseau_de_neurones.predict(nouveau_predicteur)\n",
    "print(\"Masse prédite: {:.2f} Kg\".format(conv_livres_en_kg(prediction_poids[0][0])))\n",
    "print(\"Erreur: {:.2f} Kg\".format(abs(58-conv_livres_en_kg(prediction_poids[0][0]))))"
   ]
  },
  {
   "cell_type": "markdown",
   "metadata": {},
   "source": [
    "Vous pouvez constater que le réseau de neurones retourne des valeurs assez proches des vraies valeurs données par nos exemples. Il est important de comprendre que le réseau de neurones n'apprend pas une formule exacte mais bien qu'il calcule itérativement une fonction qui approxime à partir des données.  \n",
    "\n",
    "## Choses à retenir:\n",
    "\n",
    "* Le réseau de neurones est capable d'apprendre à approximer une fonction directement à partir des données\n",
    "* Le processus d'apprentissage est itératif\n",
    "    "
   ]
  },
  {
   "cell_type": "code",
   "execution_count": null,
   "metadata": {},
   "outputs": [],
   "source": []
  }
 ],
 "metadata": {
  "kernelspec": {
   "display_name": "Python 3",
   "language": "python",
   "name": "python3"
  },
  "language_info": {
   "codemirror_mode": {
    "name": "ipython",
    "version": 3
   },
   "file_extension": ".py",
   "mimetype": "text/x-python",
   "name": "python",
   "nbconvert_exporter": "python",
   "pygments_lexer": "ipython3",
   "version": "3.8.8"
  }
 },
 "nbformat": 4,
 "nbformat_minor": 2
}
