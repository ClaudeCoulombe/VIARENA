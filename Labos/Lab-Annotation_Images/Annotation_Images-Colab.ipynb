{
  "cells": [
    {
      "cell_type": "markdown",
      "metadata": {
        "id": "rOvvWAVTkMR7"
      },
      "source": [
        "<a href=\"https://colab.research.google.com/github/ClaudeCoulombe/VIARENA/blob/master/Labos/Lab-Annotation_Images/Annotation_Images-Colab.ipynb\" target=\"_blank\"><img src=\"https://colab.research.google.com/assets/colab-badge.svg\" alt=\"Open In Colab\"/></a>\n",
        "\n",
        "### Rappel - Fonctionnement d'un carnet web iPython\n",
        "\n",
        "* Pour exécuter le code contenu dans une cellule d'un carnet iPython, cliquez dans la cellule et faites (⇧↵, shift-enter) \n",
        "* Le code d'un carnet iPython s'exécute séquentiellement de haut en bas de la page. Souvent, l'importation d'une bibliothèque Python ou l'initialisation d'une variable est préalable à l'exécution d'une cellule située plus bas. Il est donc recommandé d'exécuter les cellules en séquence. Enfin, méfiez-vous des retours en arrière qui peuvent réinitialiser certaines variables."
      ]
    },
    {
      "cell_type": "markdown",
      "metadata": {
        "id": "wd-Z2tsX0MHk"
      },
      "source": [
        "# Droits d'auteur et inspiration:\n",
        "\n",
        "Ce laboratoire est basé sur la première partie du tutoriel officiel de Google sur le module de détection d'objet de TensorFlow (Object Detection API). Il contient un outil d'annotation simple qui fonctionne dans Google Colab."
      ]
    },
    {
      "cell_type": "markdown",
      "metadata": {
        "id": "3mmQaTUKjYX6"
      },
      "source": [
        "# Annotation d'images\n",
        "\n",
        "## Annotation de photos de saumons de la passe migratoire de Matane en Gaspésie \n",
        "\n",
        "\n",
        "La passe migratoire de Matane en Gaspésie est le lieu par excellence pour observer les saumons qui remontent la rivière Matane<sup>1</sup> en saison de reproduction. En période touristique, un animateur dispense des informations sur la biologie du saumon de l'Atlantique. Nous en profitons pour remercier les responsables du <a href=\"https://www.rivierematane.com/observation-du-saumon.html\" target='_blank'>Centre d'observation de la montée du saumon - Matane</a> pour le prêt de ces extraordinaires photos de saumons.\n",
        "<hr/>\n",
        "<sup>1</sup> On utilise le terme montaison"
      ]
    },
    {
      "cell_type": "code",
      "execution_count": null,
      "metadata": {
        "id": "Sr1hWtp4ulF_"
      },
      "outputs": [],
      "source": [
        "from IPython.display import YouTubeVideo\n",
        "YouTubeVideo('j0YRc4Bqfoc',width=600,height=300)"
      ]
    },
    {
      "cell_type": "markdown",
      "metadata": {
        "id": "XC3Ph6nUulGA"
      },
      "source": [
        "## Importation des outils et des modèles de TensorFlow"
      ]
    },
    {
      "cell_type": "code",
      "execution_count": null,
      "metadata": {
        "id": "oi28cqGGFWnY"
      },
      "outputs": [],
      "source": [
        "import os\n",
        "import pathlib\n",
        "\n",
        "# Cloner le référentiel de modèles de TensorFlow \n",
        "# si ce n'est pas déjà fait\n",
        "if \"models\" in pathlib.Path.cwd().parts:\n",
        "    while \"models\" in pathlib.Path.cwd().parts:\n",
        "        os.chdir('..')\n",
        "elif not pathlib.Path('models').exists():\n",
        "    !git clone --depth 1 https://github.com/tensorflow/models"
      ]
    },
    {
      "cell_type": "code",
      "execution_count": null,
      "metadata": {
        "id": "NwdsBdGhFanc"
      },
      "outputs": [],
      "source": [
        "# Installation du module TensorFlow de détection d'objets\n",
        "# (TensoFlow Object Detection API) qui contient un outil \n",
        "# d'annotation simple.\n",
        "%%bash\n",
        "cd models/research/\n",
        "protoc object_detection/protos/*.proto --python_out=.\n",
        "cp object_detection/packages/tf2/setup.py .\n",
        "python -m pip install ."
      ]
    },
    {
      "cell_type": "markdown",
      "metadata": {
        "id": "xXp5bwWR7kU6"
      },
      "source": [
        "**Note: Quelques erreurs sans conséquence peuvent s'afficher ci-dessus.** "
      ]
    },
    {
      "cell_type": "markdown",
      "metadata": {
        "id": "IogyryF2lFBL"
      },
      "source": [
        "# Utilitaires"
      ]
    },
    {
      "cell_type": "markdown",
      "metadata": {
        "id": "DTm0bsuZKdqS"
      },
      "source": [
        "Remplacement de la fonction `colab_util.py`"
      ]
    },
    {
      "cell_type": "code",
      "execution_count": null,
      "metadata": {
        "id": "SdiV0iJdR24T"
      },
      "outputs": [],
      "source": [
        "!rm models/research/object_detection/utils/colab_util.py"
      ]
    },
    {
      "cell_type": "code",
      "execution_count": null,
      "metadata": {
        "id": "zDQ0CJBvKW44"
      },
      "outputs": [],
      "source": [
        "!wget \"https://github.com/ClaudeCoulombe/VIARENA/blob/master/Labos/Lab-Annotation_Images/colab_util.py?raw=True\" -O models/research/object_detection/utils/colab_util.py\n"
      ]
    },
    {
      "cell_type": "code",
      "execution_count": null,
      "metadata": {
        "id": "uZcqD4NLdnf4"
      },
      "outputs": [],
      "source": [
        "import matplotlib\n",
        "import matplotlib.pyplot as plt\n",
        "\n",
        "import os\n",
        "import random\n",
        "import io\n",
        "import imageio\n",
        "import glob\n",
        "import scipy.misc\n",
        "import numpy as np\n",
        "from six import BytesIO\n",
        "from PIL import Image, ImageDraw, ImageFont\n",
        "from IPython.display import display, Javascript\n",
        "from IPython.display import Image as IPyImage\n",
        "\n",
        "import tensorflow as tf\n",
        "\n",
        "from object_detection.utils import label_map_util\n",
        "from object_detection.utils import config_util\n",
        "from object_detection.utils import visualization_utils as viz_utils\n",
        "from object_detection.utils import colab_utils\n",
        "from object_detection.builders import model_builder\n",
        "\n",
        "%matplotlib inline\n",
        "print(\"Les utilitaires de l'outil d'annotation sont installés.\")"
      ]
    },
    {
      "cell_type": "code",
      "execution_count": null,
      "metadata": {
        "id": "-y9R0Xllefec"
      },
      "outputs": [],
      "source": [
        "# Fonction qui lit une image et la \n",
        "# mémorise dans un tableau NumPy\n",
        "def load_image_into_numpy_array(path):\n",
        "    \"\"\"Load an image from file into a numpy array.\n",
        "    \n",
        "    Puts image into numpy array to feed into tensorflow graph.\n",
        "    Note that by convention we put it into a numpy array with shape\n",
        "    (height, width, channels), where channels=3 for RGB.\n",
        "    \n",
        "    Args:\n",
        "        path: a file path.\n",
        "\n",
        "    Returns:\n",
        "        uint8 numpy array with shape (img_height, img_width, 3)\n",
        "    \"\"\"\n",
        "    img_data = tf.io.gfile.GFile(path, 'rb').read()\n",
        "    image = Image.open(BytesIO(img_data))\n",
        "    (im_width, im_height) = image.size\n",
        "    \n",
        "    return np.array(image.getdata()).reshape((im_height, im_width, 3)).astype(np.uint8)\n",
        "\n",
        "# Fonction qui affiche les cadres avec les classes détectés\n",
        "def plot_detections(image_np,\n",
        "                    boxes,\n",
        "                    classes,\n",
        "                    scores,\n",
        "                    category_index,\n",
        "                    figsize=(12, 16),\n",
        "                    image_name=None):\n",
        "    \"\"\"Wrapper function to visualize detections.\n",
        "    \n",
        "    Args:\n",
        "        image_np: uint8 numpy array with shape (img_height, img_width, 3)\n",
        "        boxes: a numpy array of shape [N, 4]\n",
        "        classes: a numpy array of shape [N]. Note that class indices are 1-based,\n",
        "          and match the keys in the label map.\n",
        "        scores: a numpy array of shape [N] or None.  If scores=None, then\n",
        "          this function assumes that the boxes to be plotted are groundtruth\n",
        "          boxes and plot all boxes as black with no classes or scores.\n",
        "        category_index: a dict containing category dictionaries (each holding\n",
        "          category index `id` and category name `name`) keyed by category indices.\n",
        "        figsize: size for the figure.\n",
        "        image_name: a name for the image file.\n",
        "      \"\"\"\n",
        "    \n",
        "    image_np_with_annotations = image_np.copy()\n",
        "    viz_utils.visualize_boxes_and_labels_on_image_array(\n",
        "        image_np_with_annotations,\n",
        "        boxes,\n",
        "        classes,\n",
        "        scores,\n",
        "        category_index,\n",
        "        use_normalized_coordinates=True,\n",
        "        min_score_thresh=0.8)\n",
        "    if image_name:\n",
        "        plt.imsave(image_name, image_np_with_annotations)\n",
        "    else:\n",
        "        plt.imshow(image_np_with_annotations)\n",
        "\n",
        "print(\"Quelques utilitaires supplémentaires pour l'outil d'annotation sont installés.\")"
      ]
    },
    {
      "cell_type": "markdown",
      "metadata": {
        "id": "sSaXL28TZfk1"
      },
      "source": [
        "# Acquisition des données\n",
        "## Téléchargement de photos de saumons de la passe migratoire de Matane\n",
        "\n",
        "Vous allez télécharger trois (3) photos de saumons qui sont stockées sur le site GitHub du cours VIARENA. Cette utilisation de la fonction Unix / Linux `wget` pour télécharger des données stockées sur GitHub vous sera utile ultérieurement. Pour simplifier le travail d'annotation, chaque photo ne contient qu'un élément d'intérêt, ou prsque...\n",
        "\n",
        "**Note**: L'outil d'annotation impose une limite supérieure de 600 pixels pour la hauteur des images. Au besoin, vous devrez reformater vos images pour tenir compte de cette contrainte."
      ]
    },
    {
      "cell_type": "code",
      "execution_count": null,
      "metadata": {
        "id": "x7GtdNGeJeYv"
      },
      "outputs": [],
      "source": [
        "# Création d'un répertoire pour stocker les photos\n",
        "!mkdir Photos_Saumons\n",
        "# Téléchargement des photos\n",
        "!wget \"https://github.com/ClaudeCoulombe/VIARENA/blob/master/Labos/Lab-Annotation_Images/Photos_Saumons/saumon_Matane-1.jpg?raw=True\" -O Photos_Saumons/saumon_Matane-1.jpg\n",
        "!wget \"https://github.com/ClaudeCoulombe/VIARENA/blob/master/Labos/Lab-Annotation_Images/Photos_Saumons/saumon_Matane-2.jpg?raw=True\" -O Photos_Saumons/saumon_Matane-2.jpg\n",
        "!wget \"https://github.com/ClaudeCoulombe/VIARENA/blob/master/Labos/Lab-Annotation_Images/Photos_Saumons/saumon_Matane-3.jpg?raw=True\" -O Photos_Saumons/saumon_Matane-3.jpg\n"
      ]
    },
    {
      "cell_type": "markdown",
      "metadata": {
        "id": "K89yMAFn_5I5"
      },
      "source": [
        "## Lecture et affichage des images\n"
      ]
    },
    {
      "cell_type": "code",
      "execution_count": null,
      "metadata": {
        "id": "SQy3ND7EpFQM"
      },
      "outputs": [],
      "source": [
        "# Lecture des images et chargement dans un tableau NumPy\n",
        "train_image_dir = 'Photos_Saumons/'\n",
        "train_images_np = []\n",
        "# Répéter pour les 3 images\n",
        "for i in range(1, 4):\n",
        "  # Construction d'un chemin d'accès à chaque image\n",
        "  image_path = os.path.join(train_image_dir, 'saumon_Matane-' + str(i) + '.jpg')\n",
        "  # Affichage du chemin d'accès\n",
        "  print(image_path)\n",
        "  # Lecture de chaque image et stockage dans un tableau NumPy\n",
        "  train_images_np.append(load_image_into_numpy_array(image_path))\n",
        "\n",
        "print(\"\\nLecture et chargement des images terminés.\")"
      ]
    },
    {
      "cell_type": "code",
      "execution_count": null,
      "metadata": {
        "id": "QIInCKkEAuM2"
      },
      "outputs": [],
      "source": [
        "# Affichage des images dans un grille \n",
        "# plt.figure(figsize=(20,15))\n",
        "plt.figure(figsize=(14,7))\n",
        "for idx, train_image_np in enumerate(train_images_np):\n",
        "    plt.subplot(1, 3, idx+1)\n",
        "    plt.imshow(train_image_np)\n",
        "plt.show()"
      ]
    },
    {
      "cell_type": "markdown",
      "metadata": {
        "id": "cbKXmQoxcUgE"
      },
      "source": [
        "# Annotation des images avec des cadres<sup>1</sup>\n",
        "\n",
        "Vous allez annoter des images de saumons pour préparer les données pour la détection d'objets.\n",
        "\n",
        "Pour cela, vous allez dessiner un rectangle pour encadrer et isoler un saumon situé au premier plan dans une image. \n",
        "\n",
        "<hr/>\n",
        "<sup>1</sup>En français on dit tout simplement «cadres» ou parfois «boîtes englobantes». En anglais «bounding boxes»."
      ]
    },
    {
      "cell_type": "code",
      "execution_count": null,
      "metadata": {
        "id": "-nEDRoUEcUgL"
      },
      "outputs": [],
      "source": [
        "gt_boxes = []\n",
        "colab_utils.annotate(train_images_np, box_storage_pointer=gt_boxes)"
      ]
    },
    {
      "cell_type": "markdown",
      "metadata": {
        "id": "Dqb_yjAo3cO_"
      },
      "source": [
        "## Fusion des annotations et des étiquettes de classe\n",
        "\n",
        "La dernière étape de préparation des données consiste en la fusion des annotations avec les étiquettes de classe. "
      ]
    },
    {
      "cell_type": "markdown",
      "metadata": {
        "id": "QcNN-SoXulGI"
      },
      "source": [
        "### Définition d'un dictionnaire des classes-cibles\n",
        "\n",
        "Pour simplifier nous avons supposé deux classes-cibles «saumon» et «pas_saumon» dans ce laboratoire, bien qu'il devrait être facile de l'étendre pour gérer plusieurs classes."
      ]
    },
    {
      "cell_type": "code",
      "execution_count": null,
      "metadata": {
        "id": "HWBqFVMcweF-"
      },
      "outputs": [],
      "source": [
        "# Nous avons deux classes-cibles: saumon = 1 et pas_saumon = 0\n",
        "id_classe_pas_saumon = 0\n",
        "id_classe_saumon = 1\n",
        "num_classes = 2\n",
        "\n",
        "# Note: les clés du dictionnaire 'id' et 'name' sont attendues par le module de visualisation \n",
        "dict_classes_cibles = { 0: {'id': id_classe_pas_saumon, 'name':'pas_saumon'},\n",
        "                        1: {'id': id_classe_saumon, 'name':'saumon'}\n",
        "                      }"
      ]
    },
    {
      "cell_type": "markdown",
      "metadata": {
        "id": "IV6f0fg1ulGJ"
      },
      "source": [
        "### Attribution des classes-cibles aux images\n",
        "\n",
        "Vous allez inspecter manuellement les images pour confirmer la classe pour chacune, notez que :\n",
        "\n",
        "* 0 est pour un cadre ne contenant pas un saumon\n",
        "* 1 est pour un cadre contenant un saumon \n",
        "\n",
        "**Attention!** Pour les fins de la démonstration vous allez délibérément introduire un exemple de la classe 'pas_saumon' comme dernière donnée annotée. \n",
        "\n",
        "**Note:** un outil plus complet d'annotation devrait permettre le choix de la classe au moment de la mise en place du cadre autour de l'objet à identifier"
      ]
    },
    {
      "cell_type": "code",
      "execution_count": null,
      "metadata": {
        "id": "oXxFRP32ulGJ"
      },
      "outputs": [],
      "source": [
        "# Vous allez inspecter manuellement les images pour confirmer la classe pour chacune, notez que :\n",
        "# 0 est pour un cadre ne contenant pas un saumon\n",
        "# 1 est pour un cadre contenant un saumon \n",
        "#\n",
        "# Note: un outil plus complet d'annotation devrait permettre le choix de la classe \n",
        "# au moment de la mise en place du cadre\n",
        "\n",
        "vraies_classes_cibles = [\n",
        "  1*np.ones(shape=(1), dtype=np.int32),\n",
        "  1*np.ones(shape=(1), dtype=np.int32),\n",
        "  # Ici, vous allez introduire une étiquette 'pas_saumon' \n",
        "  # soit 0, pour constater le résultat à l'affichage\n",
        "  0*np.ones(shape=(1), dtype=np.int32)    \n",
        "]\n",
        "\n",
        "# Donner aux cadres un score de 100 %\n",
        "scores_bidons = np.array([1.0], dtype=np.float32)  \n",
        "\n",
        "print(\"Attribution des classes-cibles\")"
      ]
    },
    {
      "cell_type": "markdown",
      "metadata": {
        "id": "b3_Z3mJWN9KJ"
      },
      "source": [
        "## Visualisation des images annotées"
      ]
    },
    {
      "cell_type": "code",
      "execution_count": null,
      "metadata": {
        "id": "YBD6l-E4N71y"
      },
      "outputs": [],
      "source": [
        "plt.figure(figsize=(20, 15))\n",
        "for idx in range(3):\n",
        "    plt.subplot(1, 3, idx+1)\n",
        "    plot_detections(\n",
        "        train_images_np[idx],\n",
        "        gt_boxes[idx],\n",
        "        vraies_classes_cibles[idx],\n",
        "        scores_bidons, \n",
        "        dict_classes_cibles)\n",
        "plt.show()"
      ]
    },
    {
      "cell_type": "markdown",
      "metadata": {
        "id": "LyfyjVEnATa9"
      },
      "source": [
        "### **Note:** Il se peut que vous obteniez parfois des erreurs car cet outil d'annotation n'est pas robuste.\n",
        "### Vous n'avez qu'à reprendre l'annotation."
      ]
    },
    {
      "cell_type": "code",
      "execution_count": null,
      "metadata": {
        "id": "1ez1AKdbAZnV"
      },
      "outputs": [],
      "source": [
        ""
      ]
    }
  ],
  "metadata": {
    "colab": {
      "collapsed_sections": [],
      "name": "Annotation_Images-colab.ipynb",
      "provenance": []
    },
    "kernelspec": {
      "display_name": "Python 3",
      "language": "python",
      "name": "python3"
    },
    "language_info": {
      "codemirror_mode": {
        "name": "ipython",
        "version": 3
      },
      "file_extension": ".py",
      "mimetype": "text/x-python",
      "name": "python",
      "nbconvert_exporter": "python",
      "pygments_lexer": "ipython3",
      "version": "3.9.5"
    }
  },
  "nbformat": 4,
  "nbformat_minor": 0
}