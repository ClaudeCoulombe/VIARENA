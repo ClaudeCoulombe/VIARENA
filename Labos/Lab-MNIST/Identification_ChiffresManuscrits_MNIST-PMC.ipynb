{
  "cells": [
    {
      "cell_type": "markdown",
      "id": "6428aeb9",
      "metadata": {
        "id": "6428aeb9"
      },
      "source": [
        "<a style=\"float:left;\" href=\"https://colab.research.google.com/github/ClaudeCoulombe/VIARENA/blob/master/Labos/Lab-MNIST/Identification_ChiffresManuscrits_MNIST-PMC.ipynb\" target=\"_blank\"><img src=\"https://colab.research.google.com/assets/colab-badge.svg\" alt=\"Open In Colab\"/></a>\n",
        "<br/>\n",
        "### Rappel - Fonctionnement d'un carnet web iPython\n",
        "\n",
        "* Pour exécuter le code contenu dans une cellule d'un carnet iPython, cliquez dans la cellule et faites (⇧↵, shift-enter);\n",
        "* Le code d'un carnet iPython s'exécute séquentiellement de haut en bas de la page. Souvent, l'importation d'une bibliothèque Python ou l'initialisation d'une variable est préalable à l'exécution d'une cellule située plus bas. Il est donc recommandé d'exécuter les cellules en séquence. Enfin, méfiez-vous des retours en arrière qui peuvent réinitialiser certaines variables;\n",
        "* Pour obtenir de l'information sur une fonction, utilisez la commande Python `help(`\"nom de la fonction\"`)`"
      ]
    },
    {
      "cell_type": "markdown",
      "id": "40c12a2e",
      "metadata": {
        "id": "40c12a2e"
      },
      "source": [
        "# Identification de chiffres manuscrits - jeu de données MNIST\n",
        "## Utilisation d'un perceptron multicouche (PMC)\n",
        "\n",
        "#### Inspiration:\n",
        "\n",
        "Michael Nielsen, http://neuralnetworksanddeeplearning.com/\n",
        "\n",
        "Grant Sanderson, https://www.youtube.com/watch?v=Ilg3gGewQ5U"
      ]
    },
    {
      "cell_type": "markdown",
      "id": "b819907f",
      "metadata": {
        "id": "b819907f"
      },
      "source": [
        "## Importation des bibliothèques Python"
      ]
    },
    {
      "cell_type": "code",
      "execution_count": null,
      "id": "d4235134",
      "metadata": {
        "id": "d4235134"
      },
      "outputs": [],
      "source": [
        "import os\n",
        "import matplotlib.pyplot as plt\n",
        "\n",
        "import tensorflow as tf\n",
        "print(\"TensorFlow version:\",tf.__version__)\n",
        "import keras\n",
        "print(\"Keras version:\",keras.__version__)"
      ]
    },
    {
      "cell_type": "markdown",
      "source": [
        "## Fixer le hasard pour la reproductibilité\n",
        "\n",
        "La mise au point de réseaux de neurones implique certains processus aléatoires. Afin de pouvoir reproduire et comparer vos résultats d'expérience, vous fixez temporairement l'état aléatoire grâce à un germe aléatoire unique.\n",
        "\n",
        "Pendant la mise au point, vous fixez temporairement l'état aléatoire pour la reproductibilité mais vous répétez l'expérience avec différents germes ou états aléatoires et prenez la moyenne des résultats.\n",
        "<br/>\n",
        "##### **Note**: Pour un système en production, vous ravivez simplement l'état  purement aléatoire avec l'instruction `GERME_ALEATOIRE = None`"
      ],
      "metadata": {
        "id": "FN8mG2KVx9d9"
      },
      "id": "FN8mG2KVx9d9"
    },
    {
      "cell_type": "code",
      "source": [
        "import os\n",
        "\n",
        "# Définir un germe aléatoire\n",
        "GERME_ALEATOIRE = 21\n",
        "\n",
        "# Définir un état aléatoire pour Python\n",
        "os.environ['PYTHONHASHSEED'] = str(GERME_ALEATOIRE)\n",
        "\n",
        "# Définir un état aléatoire pour Python random\n",
        "import random\n",
        "random.seed(GERME_ALEATOIRE)\n",
        "\n",
        "# Définir un état aléatoire pour NumPy\n",
        "import numpy as np\n",
        "np.random.seed(GERME_ALEATOIRE)\n",
        "\n",
        "# Définir un état aléatoire pour TensorFlow\n",
        "import tensorflow as tf\n",
        "tf.random.set_seed(GERME_ALEATOIRE)\n",
        "os.environ['TF_DETERMINISTIC_OPS'] = '1'\n",
        "os.environ['TF_CUDNN_DETERMINISTIC'] = '1'\n",
        "\n",
        "print(\"Germe aléatoire fixé\")"
      ],
      "metadata": {
        "id": "tZ5qrPZexz3D"
      },
      "id": "tZ5qrPZexz3D",
      "execution_count": null,
      "outputs": []
    },
    {
      "cell_type": "markdown",
      "id": "0edea099",
      "metadata": {
        "id": "0edea099"
      },
      "source": [
        "## Jeu de données - chiffres manuscrits MNIST\n",
        "\n",
        "Le jeu de données MNIST (Modified National Institute of Standards and Technology) comporte 60,000 images en tons de gris de 28×28 pixels de chiffres manuscrits étiquetés de 0 à 9. Site web: http://yann.lecun.com/exdb/mnist/\n",
        "\n",
        "Il est incorporé dans keras.datasets"
      ]
    },
    {
      "cell_type": "markdown",
      "id": "7abc7fec",
      "metadata": {
        "id": "7abc7fec"
      },
      "source": [
        "### Lecture des données\n",
        "### Séparation entre jeu de données d'entraînement et jeux de données de test"
      ]
    },
    {
      "cell_type": "code",
      "execution_count": null,
      "id": "41c5c18a",
      "metadata": {
        "id": "41c5c18a"
      },
      "outputs": [],
      "source": [
        "# le jeu de données MNIST\n",
        "from keras.datasets import mnist\n",
        "\n",
        "dic_noms_classe = {\n",
        "    0 : \"0\",\n",
        "    1 : \"1\",\n",
        "    2 : \"2\",\n",
        "    3 : \"3\",\n",
        "    4 : \"4\",\n",
        "    5 : \"5\",\n",
        "    6 : \"6\",\n",
        "    7 : \"7\",\n",
        "    8 : \"8\",\n",
        "    9 : \"9\",\n",
        "}\n",
        "\n",
        "# lire le jeu de données MNIST et le diviser entre\n",
        "# les données d'entrainement et les données de test\n",
        "# MNIST est déjà divisé en un jeu de données d'entraînement (les 60 000 premières images)\n",
        "# et un jeu de données de test (les 10 000 dernières images).\n",
        "(attributs_entrainement, classes_cibles_entrainement), (attributs_test, classes_cibles_test) = mnist.load_data()\n"
      ]
    },
    {
      "cell_type": "markdown",
      "id": "9d72b18c",
      "metadata": {
        "id": "9d72b18c"
      },
      "source": [
        "## Exploration des données"
      ]
    },
    {
      "cell_type": "markdown",
      "id": "5f5eb0f8",
      "metadata": {
        "id": "5f5eb0f8"
      },
      "source": [
        "### Portrait des données"
      ]
    },
    {
      "cell_type": "code",
      "execution_count": null,
      "id": "ae1cb8d3",
      "metadata": {
        "id": "ae1cb8d3"
      },
      "outputs": [],
      "source": [
        "# Portrait des données\n",
        "print()\n",
        "print('Entraînement: attributs=%s, classes=%s' % (attributs_entrainement.shape, classes_cibles_entrainement.shape))\n",
        "print('Test: attributs=%s, classes=%s' % (attributs_test.shape, classes_cibles_test.shape))"
      ]
    },
    {
      "cell_type": "markdown",
      "id": "f0377c9d",
      "metadata": {
        "id": "f0377c9d"
      },
      "source": [
        "### Visualisation de données"
      ]
    },
    {
      "cell_type": "code",
      "execution_count": null,
      "id": "3a9ca8b9",
      "metadata": {
        "id": "3a9ca8b9"
      },
      "outputs": [],
      "source": [
        "# Afficher les 24 premières images\n",
        "print()\n",
        "print(\"Quelques images avec leur étiquette de classe-cible...\")\n",
        "%matplotlib inline\n",
        "# définir subplot\n",
        "fig, axes = plt.subplots(nrows=4,ncols=6,figsize=(13,10))\n",
        "for i_rangee in range(0,4):\n",
        "    for i_colonne in range(0,6):\n",
        "        axes[i_rangee,i_colonne].set_title(dic_noms_classe[int(classes_cibles_entrainement[i_rangee*6+i_colonne])],\n",
        "                                           fontsize=15, color=\"#FF0000\")\n",
        "        axes[i_rangee,i_colonne].imshow(attributs_entrainement[i_rangee*6+i_colonne],cmap='gray')\n",
        "plt.show()"
      ]
    },
    {
      "cell_type": "markdown",
      "id": "ac22f32c",
      "metadata": {
        "id": "ac22f32c"
      },
      "source": [
        "## Préparation des données"
      ]
    },
    {
      "cell_type": "markdown",
      "id": "3780748c",
      "metadata": {
        "id": "3780748c"
      },
      "source": [
        "### Linéariser les attributs des images 28 x 28 pixels en 784 attributs"
      ]
    },
    {
      "cell_type": "code",
      "execution_count": null,
      "id": "acd622f4",
      "metadata": {
        "id": "acd622f4"
      },
      "outputs": [],
      "source": [
        "# Linéariser les attributs des images 28 x 28 pixels en 784 attributs\n",
        "nombre_attributs = attributs_entrainement.shape[1]*attributs_entrainement.shape[1]\n",
        "# print(\"nombre_attributs:\",nombre_attributs)\n",
        "print(\"nombre_attributs: {:d}\".format(nombre_attributs))\n",
        "attributs_entrainement = attributs_entrainement.reshape(attributs_entrainement.shape[0], nombre_attributs)\n",
        "attributs_test = attributs_test.reshape(attributs_test.shape[0], nombre_attributs)\n",
        "print(\"Linéarisation des attributs des images terminée!\")"
      ]
    },
    {
      "cell_type": "markdown",
      "id": "a41603a9",
      "metadata": {
        "id": "a41603a9"
      },
      "source": [
        "### Conversion des étiquettes-cibles en vecteurs binaires à un bit discriminant"
      ]
    },
    {
      "cell_type": "code",
      "execution_count": null,
      "id": "c16cc87f",
      "metadata": {
        "id": "c16cc87f"
      },
      "outputs": [],
      "source": [
        "# Conversion des étiquettes-cibles en vecteurs binaires à un bit discriminant\n",
        "from keras.utils import to_categorical\n",
        "classes_cibles_entrainement = to_categorical(classes_cibles_entrainement)\n",
        "classes_cibles_test = to_categorical(classes_cibles_test)\n",
        "print(\"Conversion des étiquettes-cibles en vecteurs binaires terminée!\")"
      ]
    },
    {
      "cell_type": "markdown",
      "id": "3269ae81",
      "metadata": {
        "id": "3269ae81"
      },
      "source": [
        "### Normalisation des images"
      ]
    },
    {
      "cell_type": "code",
      "execution_count": null,
      "id": "023cb1ec",
      "metadata": {
        "id": "023cb1ec"
      },
      "outputs": [],
      "source": [
        "# Normalisation\n",
        "def normalisation(entrainement, test):\n",
        "    # convertir de nombres entiers à nombres décimaux\n",
        "    entrainement_normalise = entrainement.astype('float32')\n",
        "    test_normalise = test.astype('float32')\n",
        "    # normalisation à un nombre entre 0 et 1\n",
        "    entrainement_normalise = entrainement_normalise / 255.0\n",
        "    test_normalise = test_normalise / 255.0\n",
        "    return entrainement_normalise, test_normalise\n",
        "\n",
        "attributs_entrainement, attributs_test = normalisation(attributs_entrainement, attributs_test)\n",
        "\n",
        "print(\"Normalisation des images terminée!\")"
      ]
    },
    {
      "cell_type": "code",
      "source": [
        "nombre_attributs"
      ],
      "metadata": {
        "id": "ksMBC2DjfBoW"
      },
      "id": "ksMBC2DjfBoW",
      "execution_count": null,
      "outputs": []
    },
    {
      "cell_type": "markdown",
      "id": "7933c907",
      "metadata": {
        "id": "7933c907"
      },
      "source": [
        "## Construction d'un modèle de perceptron multicouche (PMC)"
      ]
    },
    {
      "cell_type": "code",
      "execution_count": null,
      "id": "334320dc",
      "metadata": {
        "id": "334320dc"
      },
      "outputs": [],
      "source": [
        "# Construction du modèle\n",
        "\n",
        "from keras.models import Sequential\n",
        "from keras.layers import Dense\n",
        "\n",
        "print(\"Création d'un modèle de base...\")\n",
        "\n",
        "dimension_entree = (nombre_attributs,)\n",
        "nombre_classes_cibles = 10\n",
        "\n",
        "modele_de_base = Sequential()\n",
        "\n",
        "# Apprentissage et extraction des attributs\n",
        "modele_de_base.add(Dense(16, activation='relu', input_shape=dimension_entree))\n",
        "modele_de_base.add(Dense(16, activation='relu'))\n",
        "\n",
        "# Classification des images\n",
        "modele_de_base.add(Dense(nombre_classes_cibles,\n",
        "                         activation='softmax'))\n",
        "\n",
        "print()\n",
        "print(\"Description du modèle de base:\")\n",
        "modele_de_base.summary()"
      ]
    },
    {
      "cell_type": "markdown",
      "id": "7ac8ffd8",
      "metadata": {
        "id": "7ac8ffd8"
      },
      "source": [
        "### Compilation du modèle"
      ]
    },
    {
      "cell_type": "code",
      "execution_count": null,
      "id": "c3672c9a",
      "metadata": {
        "id": "c3672c9a"
      },
      "outputs": [],
      "source": [
        "print()\n",
        "print(\"Compilation du modèle...\")\n",
        "\n",
        "modele_de_base.compile(loss=\"categorical_crossentropy\",\n",
        "                       optimizer=\"sgd\",\n",
        "                       metrics=[\"accuracy\"])\n",
        "\n",
        "print(\"Modèle compilé!\")"
      ]
    },
    {
      "cell_type": "code",
      "source": [
        "# Évaluation du modèle avant entraînement\n",
        "\n",
        "print()\n",
        "print(\"Évaluation du modèle de base avant entraînement...\")\n",
        "\n",
        "resultats = modele_de_base.evaluate(attributs_test, classes_cibles_test, verbose=0)\n",
        "print(\"Exactitude test: {:.2f}%\".format(resultats[1]*100))"
      ],
      "metadata": {
        "id": "BN3pLEE-9Rh8"
      },
      "id": "BN3pLEE-9Rh8",
      "execution_count": null,
      "outputs": []
    },
    {
      "cell_type": "markdown",
      "source": [
        "Voila qui est tout à fait normal. Puisque MNIST a 10 étiquettes de classe. Ainsi, en devinant au hasard, nous devrions obtenir une exactitude de 10%."
      ],
      "metadata": {
        "id": "7U7ASpVH998k"
      },
      "id": "7U7ASpVH998k"
    },
    {
      "cell_type": "markdown",
      "id": "62d75a67",
      "metadata": {
        "id": "62d75a67"
      },
      "source": [
        "## Entraînement du modèle"
      ]
    },
    {
      "cell_type": "code",
      "execution_count": null,
      "id": "858ee15a",
      "metadata": {
        "id": "858ee15a",
        "collapsed": true
      },
      "outputs": [],
      "source": [
        "# Entraînement du modèle\n",
        "\n",
        "print()\n",
        "print(\"Entraînement du modèle...\")\n",
        "\n",
        "taille_lot = 128\n",
        "nombre_iterations = 20\n",
        "taille_jeu_validation = 0.1\n",
        "\n",
        "traces_entrainement = modele_de_base.fit(attributs_entrainement,\n",
        "                                         classes_cibles_entrainement,\n",
        "                                         batch_size=taille_lot,\n",
        "                                         epochs=nombre_iterations,\n",
        "                                         validation_split=taille_jeu_validation)"
      ]
    },
    {
      "cell_type": "markdown",
      "id": "f4ff02d0",
      "metadata": {
        "id": "f4ff02d0"
      },
      "source": [
        "## Évaluation du modèle avec un jeu de données test"
      ]
    },
    {
      "cell_type": "code",
      "execution_count": null,
      "id": "e40319bd",
      "metadata": {
        "id": "e40319bd"
      },
      "outputs": [],
      "source": [
        "# Évaluation du modèle\n",
        "\n",
        "print()\n",
        "print(\"Évaluation du modèle...\")\n",
        "\n",
        "resultats = modele_de_base.evaluate(attributs_test, classes_cibles_test, verbose=0)\n",
        "print(\"Erreur test (entropie croisée): {:.2f}\".format(resultats[0]))\n",
        "print(\"Exactitude test: {:.2f}%\".format(resultats[1]*100))"
      ]
    },
    {
      "cell_type": "markdown",
      "id": "2c7b6a55",
      "metadata": {
        "id": "2c7b6a55"
      },
      "source": [
        "**Note:** On constate une perte d'environ -1% entre l'exactitude sur le jeu de données de test ~93 % et l'exactitude sur du jeu de données d'entraînement ~94%. Cette différence s'explique par le surajustement (en anglais, overfitting)."
      ]
    },
    {
      "cell_type": "markdown",
      "source": [
        "## Affichage des courbes d'entraînement: erreur et exactitude"
      ],
      "metadata": {
        "id": "Dzfqm_ZtNvSx"
      },
      "id": "Dzfqm_ZtNvSx"
    },
    {
      "cell_type": "code",
      "source": [
        "## Affichage des courbes d'entraînement\n",
        "hauteur = 6\n",
        "# tracer l'erreur\n",
        "plt.subplots(figsize=(1.62*hauteur,hauteur))\n",
        "plt.title('Erreur entropie croisée')\n",
        "plt.plot(traces_entrainement.history['loss'], color='blue', label='courbe entraînement')\n",
        "plt.plot(traces_entrainement.history['val_loss'], color='orange', label='courbe validation')\n",
        "plt.ylabel(\"Erreur\")\n",
        "plt.xlabel(\"Nombre d'époques\")\n",
        "plt.legend()\n",
        "# tracer l'exactitude\n",
        "plt.subplots(figsize=(1.62*hauteur,hauteur))\n",
        "plt.title('\\nExactitude de la classification')\n",
        "plt.plot(traces_entrainement.history['accuracy'], color='blue', label='courbe entraînement')\n",
        "plt.plot(traces_entrainement.history['val_accuracy'], color='orange', label='courbe validation')\n",
        "plt.ylabel(\"Exactitude\")\n",
        "plt.xlabel(\"Nombre d'époques\")\n",
        "plt.legend()\n",
        "plt.show()"
      ],
      "metadata": {
        "id": "jcOrVZUlNmHU"
      },
      "id": "jcOrVZUlNmHU",
      "execution_count": null,
      "outputs": []
    },
    {
      "cell_type": "code",
      "execution_count": null,
      "id": "84499d11",
      "metadata": {
        "id": "84499d11"
      },
      "outputs": [],
      "source": [
        "print(\"Exécution carnet IPython terminée!\")"
      ]
    }
  ],
  "metadata": {
    "kernelspec": {
      "display_name": "Python 3",
      "language": "python",
      "name": "python3"
    },
    "language_info": {
      "codemirror_mode": {
        "name": "ipython",
        "version": 3
      },
      "file_extension": ".py",
      "mimetype": "text/x-python",
      "name": "python",
      "nbconvert_exporter": "python",
      "pygments_lexer": "ipython3",
      "version": "3.9.5"
    },
    "colab": {
      "name": "Identification_ChiffresManuscrits_MNIST-PMC.ipynb",
      "provenance": []
    }
  },
  "nbformat": 4,
  "nbformat_minor": 5
}