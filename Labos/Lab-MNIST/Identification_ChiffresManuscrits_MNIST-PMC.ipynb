{
 "cells": [
  {
   "cell_type": "markdown",
   "id": "6428aeb9",
   "metadata": {},
   "source": [
    "<a style=\"float:left;\" href=\"https://colab.research.google.com/github/ClaudeCoulombe/VIARENA/blob/master/Labos/Lab-MNIST/Identification_ChiffresManuscrits_MNIST-PMC.ipynb\" target=\"_blank\"><img src=\"https://colab.research.google.com/assets/colab-badge.svg\" alt=\"Open In Colab\"/></a>\n",
    "<br/>\n",
    "### Rappel - Fonctionnement d'un carnet web iPython\n",
    "\n",
    "* Pour exécuter le code contenu dans une cellule d'un carnet iPython, cliquez dans la cellule et faites (⇧↵, shift-enter);\n",
    "* Le code d'un carnet iPython s'exécute séquentiellement de haut en bas de la page. Souvent, l'importation d'une bibliothèque Python ou l'initialisation d'une variable est préalable à l'exécution d'une cellule située plus bas. Il est donc recommandé d'exécuter les cellules en séquence. Enfin, méfiez-vous des retours en arrière qui peuvent réinitialiser certaines variables;\n",
    "* Pour obtenir de l'information sur une fonction, utilisez la commande Python `help(`\"nom de la fonction\"`)`"
   ]
  },
  {
   "cell_type": "markdown",
   "id": "40c12a2e",
   "metadata": {},
   "source": [
    "# Identification de chiffres manuscrits - jeu de données MNIST\n",
    "## Utilisation d'un perceptron multicouche (PMC)\n",
    "\n",
    "#### Inspiration: \n",
    "\n",
    "Michael Nielsen, http://neuralnetworksanddeeplearning.com/\n",
    "\n",
    "Grant Sanderson, https://www.youtube.com/watch?v=Ilg3gGewQ5U"
   ]
  },
  {
   "cell_type": "markdown",
   "id": "b819907f",
   "metadata": {},
   "source": [
    "## Importation des bibliothèques Python"
   ]
  },
  {
   "cell_type": "code",
   "execution_count": null,
   "id": "d4235134",
   "metadata": {},
   "outputs": [],
   "source": [
    "import os\n",
    "import matplotlib.pyplot as plt\n",
    "\n",
    "import tensorflow as tf\n",
    "print(\"TensorFlow version:\",tf.__version__)\n",
    "import keras\n",
    "print(\"Keras version:\",keras.__version__)"
   ]
  },
  {
   "cell_type": "markdown",
   "id": "0edea099",
   "metadata": {},
   "source": [
    "## Jeu de données - chiffres manuscrits MNIST\n",
    "\n",
    "Le jeu de données MNIST (Modified National Institute of Standards and Technology) comporte 60,000 images en tons de gris de 28×28 pixels de chiffres manuscrits étiquetés de 0 à 9. Site web: http://yann.lecun.com/exdb/mnist/\n",
    "\n",
    "Il est incorporé dans keras.datasets "
   ]
  },
  {
   "cell_type": "markdown",
   "id": "7abc7fec",
   "metadata": {},
   "source": [
    "### Lecture des données\n",
    "### Séparation entre jeu de données d'entraînement et jeux de données de test"
   ]
  },
  {
   "cell_type": "code",
   "execution_count": null,
   "id": "41c5c18a",
   "metadata": {},
   "outputs": [],
   "source": [
    "# le jeu de données MNIST\n",
    "from keras.datasets import mnist\n",
    "\n",
    "dic_noms_classe = { \n",
    "    0 : \"0\",\n",
    "    1 : \"1\",\n",
    "    2 : \"2\",\n",
    "    3 : \"3\",\n",
    "    4 : \"4\",\n",
    "    5 : \"5\",\n",
    "    6 : \"6\",\n",
    "    7 : \"7\",\n",
    "    8 : \"8\",\n",
    "    9 : \"9\",\n",
    "}\n",
    "\n",
    "# lire le jeu de données MNIST et le diviser entre\n",
    "# les données d'entrainement et les données de test\n",
    "# MNIST est déjà divisé en un jeu de données d'entraînement (les 60 000 premières images) \n",
    "# et un jeu de données de test (les 10 000 dernières images).\n",
    "(attributs_entrainement, classes_cibles_entrainement), (attributs_test, classes_cibles_test) = mnist.load_data()\n"
   ]
  },
  {
   "cell_type": "markdown",
   "id": "9d72b18c",
   "metadata": {},
   "source": [
    "## Exploration des données"
   ]
  },
  {
   "cell_type": "markdown",
   "id": "5f5eb0f8",
   "metadata": {},
   "source": [
    "### Portrait des données"
   ]
  },
  {
   "cell_type": "code",
   "execution_count": null,
   "id": "ae1cb8d3",
   "metadata": {},
   "outputs": [],
   "source": [
    "# Portrait des données \n",
    "print()\n",
    "print('Entraînement: attributs=%s, classes=%s' % (attributs_entrainement.shape, classes_cibles_entrainement.shape))\n",
    "print('Test: attributs=%s, classes=%s' % (attributs_test.shape, classes_cibles_test.shape))"
   ]
  },
  {
   "cell_type": "markdown",
   "id": "f0377c9d",
   "metadata": {},
   "source": [
    "### Visualisation de données"
   ]
  },
  {
   "cell_type": "code",
   "execution_count": null,
   "id": "3a9ca8b9",
   "metadata": {},
   "outputs": [],
   "source": [
    "# Afficher les 24 premières images\n",
    "print()\n",
    "print(\"Quelques images avec leur étiquette de classe-cible...\")\n",
    "%matplotlib inline\n",
    "# définir subplot\n",
    "fig, axes = plt.subplots(nrows=4,ncols=6,figsize=(13,10))\n",
    "for i_rangee in range(0,4):\n",
    "    for i_colonne in range(0,6):\n",
    "        axes[i_rangee,i_colonne].set_title(dic_noms_classe[int(classes_cibles_entrainement[i_rangee*6+i_colonne])],\n",
    "                                           fontsize=10)\n",
    "        axes[i_rangee,i_colonne].imshow(attributs_entrainement[i_rangee*6+i_colonne],cmap='gray')\n",
    "plt.show()"
   ]
  },
  {
   "cell_type": "markdown",
   "id": "ac22f32c",
   "metadata": {},
   "source": [
    "## Préparation des données"
   ]
  },
  {
   "cell_type": "markdown",
   "id": "3780748c",
   "metadata": {},
   "source": [
    "### Linéariser les attributs des images 28 x 28 pixels en 784 attributs"
   ]
  },
  {
   "cell_type": "code",
   "execution_count": null,
   "id": "acd622f4",
   "metadata": {},
   "outputs": [],
   "source": [
    "# Linéariser les attributs des images 28 x 28 pixels en 784 attributs\n",
    "nombre_attributs = attributs_entrainement.shape[1]*attributs_entrainement.shape[1]\n",
    "print(\"nombre_attributs:\",nombre_attributs)\n",
    "attributs_entrainement = attributs_entrainement.reshape(attributs_entrainement.shape[0], nombre_attributs)\n",
    "attributs_test = attributs_test.reshape(attributs_test.shape[0], nombre_attributs)\n",
    "print(\"Linéarisation des attributs des images terminée!\")"
   ]
  },
  {
   "cell_type": "markdown",
   "id": "a41603a9",
   "metadata": {},
   "source": [
    "### Conversion des étiquettes-cibles en vecteurs binaires à un bit discriminant"
   ]
  },
  {
   "cell_type": "code",
   "execution_count": null,
   "id": "c16cc87f",
   "metadata": {},
   "outputs": [],
   "source": [
    "# Conversion des étiquettes-cibles en vecteurs binaires à un bit discriminant\n",
    "from tensorflow.keras.utils import to_categorical\n",
    "classes_cibles_entrainement = to_categorical(classes_cibles_entrainement)\n",
    "classes_cibles_test = to_categorical(classes_cibles_test)\n",
    "print(\"Conversion des étiquettes-cibles en vecteurs binaires terminée!\")"
   ]
  },
  {
   "cell_type": "markdown",
   "id": "3269ae81",
   "metadata": {},
   "source": [
    "### Normalisation des images"
   ]
  },
  {
   "cell_type": "code",
   "execution_count": null,
   "id": "023cb1ec",
   "metadata": {},
   "outputs": [],
   "source": [
    "# Normalisation\n",
    "def normalisation(entrainement, test):\n",
    "    # convertir de nombres entiers à nombres décimaux\n",
    "    entrainement_normalise = entrainement.astype('float32')\n",
    "    test_normalise = test.astype('float32')\n",
    "    # normalisation à un nombre entre 0 et 1\n",
    "    entrainement_normalise = entrainement_normalise / 255.0\n",
    "    test_normalise = test_normalise / 255.0\n",
    "    return entrainement_normalise, test_normalise\n",
    "\n",
    "attributs_entrainement, attributs_test = normalisation(attributs_entrainement, attributs_test)\n",
    "\n",
    "print(\"Normalisation des images terminée!\")"
   ]
  },
  {
   "cell_type": "markdown",
   "id": "7933c907",
   "metadata": {},
   "source": [
    "## Construction d'un modèle de perceptron multicouche (PMC)"
   ]
  },
  {
   "cell_type": "code",
   "execution_count": null,
   "id": "334320dc",
   "metadata": {},
   "outputs": [],
   "source": [
    "# Construction du modèle\n",
    "\n",
    "from keras.models import Sequential\n",
    "from keras.layers import Dense\n",
    "\n",
    "print(\"Création d'un modèle de base...\")\n",
    "\n",
    "dimension_entree = (nombre_attributs,)\n",
    "nombre_classes_cibles = 10\n",
    "\n",
    "modele_de_base = Sequential()\n",
    "\n",
    "# Apprentissage et extraction des attributs\n",
    "modele_de_base.add(Dense(16, activation='relu', input_shape=dimension_entree))\n",
    "modele_de_base.add(Dense(16, activation='relu'))\n",
    "\n",
    "# Classification des images\n",
    "modele_de_base.add(Dense(nombre_classes_cibles, \n",
    "                         activation='softmax'))\n",
    "\n",
    "print()\n",
    "print(\"Description du modèle de base:\")\n",
    "modele_de_base.summary()"
   ]
  },
  {
   "cell_type": "markdown",
   "id": "7ac8ffd8",
   "metadata": {},
   "source": [
    "### Compilation du modèle"
   ]
  },
  {
   "cell_type": "code",
   "execution_count": null,
   "id": "c3672c9a",
   "metadata": {},
   "outputs": [],
   "source": [
    "print()\n",
    "print(\"Compilation du modèle...\")\n",
    "\n",
    "modele_de_base.compile(loss=\"categorical_crossentropy\", \n",
    "                       optimizer=\"sgd\", \n",
    "                       metrics=[\"accuracy\"])\n",
    "\n",
    "print(\"Modèle compilé!\")"
   ]
  },
  {
   "cell_type": "markdown",
   "id": "62d75a67",
   "metadata": {},
   "source": [
    "## Entraînement du modèle"
   ]
  },
  {
   "cell_type": "code",
   "execution_count": null,
   "id": "858ee15a",
   "metadata": {},
   "outputs": [],
   "source": [
    "# Entraînement du modèle\n",
    "\n",
    "print()\n",
    "print(\"Entraînement du modèle...\")\n",
    "\n",
    "batch_size = 128\n",
    "epochs = 20\n",
    "taille_jeu_validation = 0.1\n",
    "\n",
    "traces_entrainement = modele_de_base.fit(attributs_entrainement, \n",
    "                                         classes_cibles_entrainement,\n",
    "                                         batch_size=batch_size,\n",
    "                                         epochs=epochs,\n",
    "                                         validation_split=taille_jeu_validation)"
   ]
  },
  {
   "cell_type": "markdown",
   "id": "f4ff02d0",
   "metadata": {},
   "source": [
    "## Évaluation du modèle avec un jeu de données test"
   ]
  },
  {
   "cell_type": "code",
   "execution_count": null,
   "id": "e40319bd",
   "metadata": {},
   "outputs": [],
   "source": [
    "# Évaluation du modèle\n",
    "\n",
    "print()\n",
    "print(\"Évaluation du modèle...\")\n",
    "\n",
    "resultats = modele_de_base.evaluate(attributs_test, classes_cibles_test, verbose=0)\n",
    "print(\"Exactitude test: {:.2f}%\".format(resultats[1]*100))"
   ]
  },
  {
   "cell_type": "markdown",
   "id": "2c7b6a55",
   "metadata": {},
   "source": [
    "**Note:** On constate une perte d'environ -1% entre l'exactitude sur le jeu de données de test et l'exactitude sur du jeu de données d'entraînement. Cette différence s'explique par le surajustement (en anglais, overfitting). "
   ]
  },
  {
   "cell_type": "code",
   "execution_count": null,
   "id": "84499d11",
   "metadata": {},
   "outputs": [],
   "source": [
    "print(\"Exécution carnet IPython terminée!\")"
   ]
  },
  {
   "cell_type": "code",
   "execution_count": null,
   "id": "23d0b1b4",
   "metadata": {},
   "outputs": [],
   "source": []
  }
 ],
 "metadata": {
  "kernelspec": {
   "display_name": "Python 3",
   "language": "python",
   "name": "python3"
  },
  "language_info": {
   "codemirror_mode": {
    "name": "ipython",
    "version": 3
   },
   "file_extension": ".py",
   "mimetype": "text/x-python",
   "name": "python",
   "nbconvert_exporter": "python",
   "pygments_lexer": "ipython3",
   "version": "3.9.5"
  }
 },
 "nbformat": 4,
 "nbformat_minor": 5
}
