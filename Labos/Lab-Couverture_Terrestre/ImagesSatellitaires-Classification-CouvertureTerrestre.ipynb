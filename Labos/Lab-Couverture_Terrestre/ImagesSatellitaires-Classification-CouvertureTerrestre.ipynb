{
 "cells": [
  {
   "cell_type": "markdown",
   "metadata": {},
   "source": [
    "<a style=\"float:left;\" href=\"https://colab.research.google.com/github/ClaudeCoulombe/VIARENA/blob/master/Labos/Lab-Couverture_Terrestre/ImagesSatellitaires-Classification-CouvertureTerrestre.ipynb\" target=\"_blank\"><img src=\"https://colab.research.google.com/assets/colab-badge.svg\" alt=\"Open In Colab\"/></a>\n",
    "<br/>\n",
    "### Rappel - Fonctionnement d'un carnet web iPython\n",
    "\n",
    "* Pour exécuter le code contenu dans une cellule d'un carnet iPython, cliquez dans la cellule et faites (⇧↵, shift-enter);\n",
    "* Le code d'un carnet iPython s'exécute séquentiellement de haut en bas de la page. Souvent, l'importation d'une bibliothèque Python ou l'initialisation d'une variable est préalable à l'exécution d'une cellule située plus bas. Il est donc recommandé d'exécuter les cellules en séquence. Enfin, méfiez-vous des retours en arrière qui peuvent réinitialiser certaines variables;\n",
    "* Pour obtenir de l'information sur une fonction, utilisez la commande Python `help(`\"nom de la fonction\"`)`"
   ]
  },
  {
   "cell_type": "markdown",
   "metadata": {
    "id": "hPGs4XnJ70g3"
   },
   "source": [
    "# Images satellitaires - Classification de la couverture terrestre\n",
    "\n",
    "## Utilisation d'un réseau convolutif\n",
    "\n",
    "Ce carnet IPython pour Google Colab est une traduction et une adaptation du tutoriel « <a href=\"https://github.com/patrickcgray/open-geo-tutorial/blob/master/notebooks/chapter_6_neural_networks.ipynb\" target='_blank'>Chapter 6: Using Neural Networks for Classification and Land Cover Mapping</a> » de <a href=\"https://github.com/patrickcgray\" target='_blank'><b>Patrick Gray</b></a> par <a href=\"https:/github/ClaudeCoulombe/VIARENA/blob/master/Labos/Lab-Couverture_Terrestre/ImagesSatellitaires-AnalyseCouvertureTerrestre.ipynb\" target='_blank'>Claude Coulombe</a>. \n",
    "\n",
    "## Introduction\n",
    "\n",
    "L'apprentissage profond est à la fois surexposé sur le plan médiatique et sous-utilisé en pratique (https://doi.org/10.1038/nature14539). Peu importe,  l'apprentissage profond constitue un puissant coffre à outils pour analyser d'énormes quantités de données. De nouvelles applications passionnantes se développent rapidement en <a href=\"https://doi.org/10.1109/MGRS.2017.2762307\" target='_blank'>télédétection</a> dans des domaines tels que la <a href=\"https://doi.org/10.1109/TGRS.2018.2872509\" target='_blank'>détection d'anomalies</a>, la <a href=\"https://doi.org/10.1109/TGRS.2016.2612821\" target='_blank'>classification des images</a> et la <a href=\"https://doi.org/10.3390/rs11070768\" target='_blank'>régression des variables biophysiques</a>. \n",
    "\n",
    "Vous expérimenterez ici un exemple simple de classification de la couverture terrestre à partir d'images satellitaires de <i>Landsat 8</i> du <i>National Landcover Dataset</i> américain comme données d'entraînement et d'un réseau convolutif profond.\n",
    "\n",
    "Lancé par la <i>NASA</i> au début des années 1970, <i>Landsat</i> est un programme d’observation de la terre basé sur une constellation de 8 satellites.  <i>Landsat</i> est destiné à des applications civiles (agriculture, utilisation des sols, foresterie, urbanisme, etc.)\n",
    "\n",
    "## Plan\n",
    "\n",
    "*   Installation de bibiothèques Python requises;\n",
    "*   Téléchargement des données depuis GitHub;\n",
    "*   Création de fonctions utilitaires;\n",
    "*   Exploration des données;\n",
    "*   Création d'une base de référence\n",
    "    * pour la classification avec l'algorithme des K-plus-proches-voisins (<i>K nearest neighbors</i>)\n",
    "    * l'algorithme de la forêt aléatoire (<i>random forest</i>);\n",
    "*   Création et entraînement d'un réseau convolutif;\n",
    "*   Évaluation et comparaison du modèle."
   ]
  },
  {
   "cell_type": "markdown",
   "metadata": {},
   "source": [
    "## Installation de bibliothèques Python"
   ]
  },
  {
   "cell_type": "code",
   "execution_count": null,
   "metadata": {
    "colab": {
     "base_uri": "https://localhost:8080/"
    },
    "id": "U0ClI2eJVDPx",
    "outputId": "9ec01682-de29-4c57-e910-111aeff92902"
   },
   "outputs": [],
   "source": [
    "# Installation de bibliothèques Python\n",
    "! pip3 install geopandas rasterio matplotlib descartes scikit-learn"
   ]
  },
  {
   "cell_type": "markdown",
   "metadata": {},
   "source": [
    "## Fixer le hasard pour la reproductibilité\n",
    "\n",
    "La mise au point de réseaux de neurones implique certains processus aléatoires. Afin de pouvoir reproduire et comparer vos résultats d'expérience, vous fixez temporairement l'état aléatoire grâce à un germe aléatoire unique.\n",
    "\n",
    "Pendant la mise au point, vous fixez temporairement l'état aléatoire pour la reproductibilité mais vous répétez l'expérience avec différents germes ou états aléatoires et prenez la moyenne des résultats.\n",
    "<br/>\n",
    "##### **Note**: Pour un système en production, vous ravivez simplement l'état  purement aléatoire avec l'instruction `GERME_ALEATOIRE = None`"
   ]
  },
  {
   "cell_type": "code",
   "execution_count": null,
   "metadata": {},
   "outputs": [],
   "source": [
    "import os\n",
    "\n",
    "# Définir un germe aléatoire\n",
    "GERME_ALEATOIRE = 21\n",
    "\n",
    "# Définir un état aléatoire pour Python\n",
    "os.environ['PYTHONHASHSEED'] = str(GERME_ALEATOIRE)\n",
    "\n",
    "# Définir un état aléatoire pour Python random\n",
    "import random\n",
    "random.seed(GERME_ALEATOIRE)\n",
    "\n",
    "# Définir un état aléatoire pour NumPy\n",
    "import numpy as np\n",
    "np.random.seed(GERME_ALEATOIRE)\n",
    "\n",
    "# Définir un état aléatoire pour TensorFlow\n",
    "import tensorflow as tf\n",
    "tf.random.set_seed(GERME_ALEATOIRE)\n",
    "\n",
    "os.environ['TF_DETERMINISTIC_OPS'] = '1'\n",
    "os.environ['TF_CUDNN_DETERMINISTIC'] = '1'\n",
    "\n",
    "print(\"Germe aléatoire fixé\")"
   ]
  },
  {
   "cell_type": "markdown",
   "metadata": {},
   "source": [
    "## Téléchargement des données depuis GitHub"
   ]
  },
  {
   "cell_type": "code",
   "execution_count": null,
   "metadata": {
    "colab": {
     "base_uri": "https://localhost:8080/"
    },
    "id": "gAnp75RiapFx",
    "outputId": "bc636158-5302-4178-bc2b-58889bfef19a",
    "scrolled": true
   },
   "outputs": [],
   "source": [
    "!wget https://github.com/ClaudeCoulombe/open-geo-tutorial/blob/master/data.zip?raw=True -O data.zip\n"
   ]
  },
  {
   "cell_type": "markdown",
   "metadata": {},
   "source": [
    "### Décompression des données"
   ]
  },
  {
   "cell_type": "code",
   "execution_count": null,
   "metadata": {
    "id": "AcRzCGQjmvkX"
   },
   "outputs": [],
   "source": [
    "import os\n",
    "import zipfile\n",
    "\n",
    "zip_ref = zipfile.ZipFile('data.zip','r')\n",
    "zip_ref.extractall('.')\n",
    "zip_ref.close()\n"
   ]
  },
  {
   "cell_type": "code",
   "execution_count": null,
   "metadata": {
    "colab": {
     "base_uri": "https://localhost:8080/"
    },
    "id": "x7CxQbgjwHnw",
    "outputId": "2930657e-5c66-4953-b79b-2368f3dc283b"
   },
   "outputs": [],
   "source": [
    "!ls -all data"
   ]
  },
  {
   "cell_type": "markdown",
   "metadata": {},
   "source": [
    "### Les différentes classes de couverture du sol"
   ]
  },
  {
   "cell_type": "code",
   "execution_count": null,
   "metadata": {
    "colab": {
     "base_uri": "https://localhost:8080/"
    },
    "id": "3ng4KwzvDsmq",
    "outputId": "06a0a8d3-b06c-4cb7-aacb-d6c633959f66"
   },
   "outputs": [],
   "source": [
    "# Dictionnaire de toutes les classes et de leur identifiant\n",
    "classes_couverture = dict((\n",
    "    (0,  \"arrière-plan\"), # (0,  'Background'),\n",
    "    (1,  \"non-classé\"), # (1, 'Unclassified'),\n",
    "    # anthropoformé ou aménagé ?\n",
    "    (2,  \"fortement aménagé\"), # (2, 'High Intensity Developed'),\n",
    "    (3,  \"moyennement aménagé\"), # (3, 'Medium Intensity Developed'),\n",
    "    (4,  \"faiblement aménagé\"), # (4, 'Low Intensity Developed'),\n",
    "    (5,  \"espace ouvert aménagé\"),# (5, 'Open Space Developed'),\n",
    "    (6,  \"terre cultivée\"), # (6, 'Cultivated Land'),\n",
    "    (7,  \"pâturage/foin\"), # (7, 'Pasture/Hay')\n",
    "    (8,  \"prairie\"), # (8, 'Grassland'),\n",
    "    (9,  \"forêt de feuillus\"), # (9, 'Deciduous Forest'),\n",
    "    (10, \"forêt de conifères\"), # (10, 'Evergreen Forest'),\n",
    "    (11, \"forêt mixte\"), # (11, 'Mixed Forest'),\n",
    "    (12, \"arbuste/broussaille\"), # (12, 'Scrub/Shrub'),\n",
    "    (13, \"milieu humide boisé palustre\"), # (13, 'Palustrine Forested Wetland'),\n",
    "    (14, \"milieu humide arbustif/broussailleux palustre\"), # (14, 'Palustrine Scrub/Shrub Wetland'),\n",
    "    (15, \"milieu humide émergent palustre\"), # (15, 'Palustrine Emergent Wetland'),\n",
    "    (16, \"milieu humide boisé estuarien\"), # (16, 'Estuarine Forested Wetland'),\n",
    "    (17, \"milieu humide arbustif/broussailleux estuarien\"), # (17, 'Estuarine Scrub/Shrub Wetland')\n",
    "    (18, \"milieu humide émergent estuarien\"), # (18, 'Estuarine Emergent Wetland'),\n",
    "    (19, \"rivage meuble/non consolidé\"), # (19, 'Unconsolidated Shore'),\n",
    "    (20, \"terre nue\"), # (20, 'Bare Land'),\n",
    "    (21, \"eau\"), # (21, 'Water'),\n",
    "    (22, \"lit de cours d'eau palustre\"), # (22, 'Palustrine Aquatic Bed'),\n",
    "    (23, \"lit de cours d'eau estuarien\"), # (23, 'Estuarine Aquatic Bed'),\n",
    "    (24, 'toundra'), # (24, 'Tundra'),\n",
    "    (25, 'neige/glace') # (25, 'Snow/Ice')\n",
    "))\n",
    "\n",
    "print('Code exécuté!')\n"
   ]
  },
  {
   "cell_type": "markdown",
   "metadata": {},
   "source": [
    "## Création de fonctions utilitaires"
   ]
  },
  {
   "cell_type": "markdown",
   "metadata": {},
   "source": [
    "### Un générateur de pixels aléatoires \n",
    "\n",
    "Générateur de pixels aléatoires définis par leurs positions x, y dans une image. Le générateur tient compte des tailles différentes des classes-cibles et fournit un ensemble de données d'entraînement équilibré.\n",
    "\n",
    "Cette fonction extrait un nombre nbre_donnees_entrainement + nbre_donnees_validation de pixels aléatoires d'une liste de jeux de données matricielles (<i>raster</i>) fournie en entrée. Elle retourne une liste de positions de pixels d'entraînement associée à une image (index_image) et une liste de positions de pixels de validation également avec un index d'image."
   ]
  },
  {
   "cell_type": "code",
   "execution_count": null,
   "metadata": {},
   "outputs": [],
   "source": [
    "import math\n",
    "import random\n",
    "import itertools\n",
    "\n",
    "from rasterio.plot import adjust_band\n",
    "import matplotlib.pyplot as plt\n",
    "from rasterio.plot import reshape_as_raster, reshape_as_image\n",
    "from rasterio.plot import show\n",
    "from rasterio.windows import Window\n",
    "import rasterio.features\n",
    "import rasterio.warp\n",
    "import rasterio.mask\n",
    "\n",
    "from pyproj import Proj, transform\n",
    "from tqdm import tqdm\n",
    "from shapely.geometry import Polygon\n",
    "\n",
    "def generer_pixels(liste_jeux_donnees_landsat,\n",
    "                   jeu_donnees_etiquettes,\n",
    "                   etiquettes_couverture,\n",
    "                   classes_couverture,\n",
    "                   train_count,\n",
    "                   fusionner=False):\n",
    "    \n",
    "    # Rappel: système de référence géodésique / cartographique, en anglais \"Coordinate Reference System\" (CRS)\n",
    "    # Obtenir le système de projection cartographique des étiquettes de classe-cible \n",
    "    projection_cartographique_etiquettes = Proj(jeu_donnees_etiquettes.crs)  \n",
    "    # initialiser le jeu de pixel d'entraînement\n",
    "    pixels_entrainement = []\n",
    "    nbr_donnees_entrainement_par_jeu = math.ceil(train_count / len(liste_jeux_donnees_landsat))    \n",
    "    print(\"Nombre de donnees d'entraînement par jeu de données:\",nbr_donnees_entrainement_par_jeu)\n",
    "    print(\"Nombre d'images dans le jeu de données:\",len(liste_jeux_donnees_landsat))\n",
    "    for index, jeu_donnees_images in enumerate(liste_jeux_donnees_landsat):\n",
    "        # Combien de points de données pour chaque classe-cible?\n",
    "        points_par_classe = nbr_donnees_entrainement_par_jeu // len(np.unique(fusionner_classes(etiquettes_couverture,classes_couverture)[0]))\n",
    "        print(\"Nombre de points de données par classe-cible:\",points_par_classe)\n",
    "        # obtenir les limites (4 coins) de l'image Landsat\n",
    "        # créer un masque approximatif pour le jeu de données dans les coordonnées cartographiques\n",
    "        # cette fonction transforme les positions des pixels dans les coordonnées (rangée, colonne) en des positions spatiales (x, y)\n",
    "        points_format_matriciel = jeu_donnees_images.transform * (0, 0),\\\n",
    "                        jeu_donnees_images.transform * (jeu_donnees_images.width, 0),\\\n",
    "                        jeu_donnees_images.transform * (jeu_donnees_images.width, jeu_donnees_images.height),\\\n",
    "                        jeu_donnees_images.transform * (0, jeu_donnees_images.height)\n",
    "        print(\"points_format_matriciel:\",points_format_matriciel)\n",
    "        # Obtenir le système de projection cartographique des images \n",
    "        projection_cartographique_landsat = Proj(jeu_donnees_images.crs)\n",
    "        neo_points_format_matriciel = []\n",
    "        # convert the raster bounds from landsat into label crs\n",
    "        # convertir les limites en format matriciel d'images Landsat en coordonnées cartographique des étiquettes\n",
    "        for x,y in points_format_matriciel:\n",
    "            x,y = transform(projection_cartographique_landsat,projection_cartographique_etiquettes,x,y)\n",
    "            # convertir les coordonnées cartographiques x, y en rangées et colonnes du format de l'étiquette\n",
    "            rangee, colonne = jeu_donnees_etiquettes.index(x, y)\n",
    "            # puisque rangee, colonne est en fait y, x, donc il faut inverser leur ordre\n",
    "            neo_points_format_matriciel.append((colonne, rangee))\n",
    "        # transformer ces nouvelles coordonnées en un polygone\n",
    "        polygone_matriciel = Polygon(neo_points_format_matriciel)\n",
    "        # construire une fenêtre à partir de tuples / listes d'index de début et de fin. \n",
    "        # Window.from_slices((rangee_debut, rangee_fin), (colonne_debut, colonne_fin))\n",
    "        masque_image_etiquette = jeu_donnees_etiquettes.read(window=Window.from_slices((int(polygone_matriciel.bounds[1]),\n",
    "                                                                                    int(polygone_matriciel.bounds[3])),\n",
    "                                                                                   (int(polygone_matriciel.bounds[0]),\n",
    "                                                                                    int(polygone_matriciel.bounds[2]))))\n",
    "        if fusionner:\n",
    "            masque_image_etiquette = fusionner_classes(masque_image_etiquette,classes_couverture)[0]\n",
    "        # Boucler sur toutes les classes\n",
    "        tous_les_points_d_une_image = []\n",
    "        bar_progression = tqdm(np.unique(fusionner_classes(etiquettes_couverture,classes_couverture)[0]))\n",
    "        for classe_id in (bar_progression):\n",
    "            bar_progression.set_description(\"Traitement de la classe-cible « %s »\" % str(classes_couverture[int(classe_id)]))\n",
    "            classe_id = int(classe_id)\n",
    "            # masquer l'image du sous-ensemble d'étiquettes associée à chaque classe\n",
    "            # extraire les positions où le masque est vrai\n",
    "            rangees,colonnes = np.where(masque_image_etiquette[0] == classe_id)\n",
    "            toutes_les_positions = list(zip(rangees,colonnes))\n",
    "            # mélanger au hasard toutes les positions\n",
    "            random.shuffle(toutes_les_positions)\n",
    "            # convertir dans le système de référence géodésique / cartographique (CRS, Coordinate Reference System) \n",
    "            # des images satellitaires Landsat\n",
    "            points_coordonnees_cartographiques_landsat = []\n",
    "            if len(toutes_les_positions)!=0:\n",
    "                for r,c in toutes_les_positions[:points_par_classe]:\n",
    "                # convertir la ligne et la colonne de l'étiquette en coordonnées cartographique de l'étiquette\n",
    "                    x,y = jeu_donnees_etiquettes.xy(r+polygone_matriciel.bounds[1],c+polygone_matriciel.bounds[0])\n",
    "                # convertir de la projection cartographique des étiquettes à la projection cartographique Landsat\n",
    "                    x,y = transform(projection_cartographique_etiquettes,projection_cartographique_landsat,x,y)\n",
    "                # convertir de l'espace cartographique Landsat en rangées et colonnes\n",
    "                    r,c = jeu_donnees_images.index(x,y)\n",
    "                    points_coordonnees_cartographiques_landsat.append((r,c))\n",
    "                tous_les_points_d_une_image += points_coordonnees_cartographiques_landsat\n",
    "        dataset_index_list = [index] * len(tous_les_points_d_une_image)\n",
    "        dataset_pixels = list(zip(tous_les_points_d_une_image, dataset_index_list))\n",
    "        pixels_entrainement += dataset_pixels\n",
    "    random.shuffle(pixels_entrainement)\n",
    "    return (pixels_entrainement)\n",
    "\n",
    "print('Code generer_pixels prêt!')\n"
   ]
  },
  {
   "cell_type": "markdown",
   "metadata": {
    "id": "eiOdUd868Sdm"
   },
   "source": [
    "### Un générateur de tuiles de pixels \n",
    "\n",
    "Le générateur de tuiles prend des positions de pixels et construit des tuiles de pixels au bon format.\n",
    "\n",
    "Ce générateur est fourni directement au modèle « keras » et alimente en continu les données du modèle pendant l'entraînement et la validation.\n"
   ]
  },
  {
   "cell_type": "code",
   "execution_count": null,
   "metadata": {
    "colab": {
     "base_uri": "https://localhost:8080/"
    },
    "id": "nY7L3cXJDRQz",
    "outputId": "b8e25b99-cd4d-4e32-da0d-558903bbbb37"
   },
   "outputs": [],
   "source": [
    "# Générateur de données compatible avec Keras qui génère des tuiles et \n",
    "# des étiquettes à la volée à partir d'un ensemble de positions de pixels, \n",
    "# d'un jeu de données d'images satellitaires Landsat à 8 canaux d'images \n",
    "# et d'un jeu de données d'étiquettes décrivant la couverture terrestre \n",
    "def generer_tuiles(liste_jeux_donnees_landsat,                    \n",
    "                   jeu_donnees_etiquettes, \n",
    "                   classes_couverture,\n",
    "                   hauteur_tuile, largeur_tuile, \n",
    "                   positions_pixel, \n",
    "                   taille_lot, \n",
    "                   merge=False):\n",
    "\n",
    "    rangee_pixel = 0\n",
    "    colonne_pixel = 0\n",
    "    index_pixel = 0\n",
    "    \n",
    "    # Proj effectue des transformations cartographiques,\n",
    "    # convertit la longitude, la latitude en coordonnées \n",
    "    # natives x,y de la projection cartographique et vice versa\n",
    "    projection_cartographique_etiquettes = Proj(jeu_donnees_etiquettes.crs)\n",
    "    \n",
    "    # On suppose que toutes les images ont le même nombre de bandes spectrales ou canaux\n",
    "    compteur_bandes = liste_jeux_donnees_landsat[0].count \n",
    "    # band_count = compteur_bandes\n",
    "    compteur_classes = len(classes_couverture)\n",
    "    buffer = math.ceil(hauteur_tuile / 2)\n",
    "  \n",
    "    while True:\n",
    "        # compteur_bandes-1, on enleve une bande parce que nous n'utilisons pas la bande QA\n",
    "        # qui est la bande de contrôle de la qualité (Quality Assessment) de l'image Landsat\n",
    "        lot_images = np.zeros((taille_lot, hauteur_tuile, largeur_tuile, compteur_bandes-1)) \n",
    "        lot_etiquettes = np.zeros((taille_lot,compteur_classes))\n",
    "        b = 0\n",
    "        while b < taille_lot:\n",
    "            # si nous sommes arrivés à la fin des données, il suffit de recommencer\n",
    "            if index_pixel >= len(positions_pixel):\n",
    "                index_pixel = 0\n",
    "            rangee_pixel, colonne_pixel = positions_pixel[index_pixel][0]\n",
    "            index_jeu_donnees = positions_pixel[index_pixel][1]\n",
    "            index_pixel += 1\n",
    "            tuile = liste_jeux_donnees_landsat[index_jeu_donnees].read(list(np.arange(1, compteur_bandes+1)),\n",
    "                                                                       window=Window(colonne_pixel-buffer, \n",
    "                                                                                     rangee_pixel-buffer,\n",
    "                                                                                     largeur_tuile,\n",
    "                                                                                     hauteur_tuile))\n",
    "            if tuile.size == 0:\n",
    "                pass\n",
    "            elif np.amax(tuile) == 0: # don't include if it is part of the image with no pixels\n",
    "                pass\n",
    "            elif np.isnan(tuile).any() == True or -9999 in tuile: \n",
    "                # nous ne voulons pas de tuiles contenant nan ou -999 qui viennent des bordures\n",
    "                # cela gaspille du temps et est inefficace\n",
    "                pass\n",
    "            elif tuile.shape != (compteur_bandes, largeur_tuile, hauteur_tuile):\n",
    "                #print('mauvaise dimension')\n",
    "                #print(tuile.shape)\n",
    "                # tuile aux mauvaises dimensions \n",
    "                pass\n",
    "            elif np.isin(tuile[7,:,:], [352, 368, 392, 416, 432, 480, 840, 864, 880, 904, 928, 944, 1352]).any() == True:\n",
    "                # le pixel ne doit pas être un nuage\n",
    "                # cela semble assez inefficace\n",
    "                # lire: https://prd-wret.s3-us-west-2.amazonaws.com/assets/palladium/production/s3fs-public/atoms/files/LSDS-1873_US_Landsat_ARD_DFCB_0.pdf\n",
    "                #print(\"J'ai trouvé un nuage!\")\n",
    "                #print(tuile[7,:,:])\n",
    "                pass\n",
    "            else:                \n",
    "                # retrait de la bande de contrôle de qualité (QA pour Quality Assessment) qui n'est pas utilisée\n",
    "                tuile = tuile[0:7]\n",
    "                # reformater du format matriciel (raster) au format d'image normalisé\n",
    "                tuile_reformatee = (reshape_as_image(tuile)  - 982.5) / 1076.5\n",
    "\n",
    "                # obtenir l'étiquette de la classe-cible\n",
    "                # obtenir la géolocalisation du pixel dans l'image\n",
    "                (x, y) = liste_jeux_donnees_landsat[index_jeu_donnees].xy(rangee_pixel, colonne_pixel)\n",
    "\n",
    "                # si la projection cartographique des étiquettes est différente  \n",
    "                # convertir la localisation du point à partir duquel nous échantillonnons en la même projection que \n",
    "                # l'ensemble de données d'étiquettes si nécessaire\n",
    "                # Rappel: système de référence géodésique / cartographique - Coordinate Reference System (CRS)\n",
    "                projection_cartographique_landsat = Proj(liste_jeux_donnees_landsat[0].crs)\n",
    "                # projection_cartographique_images = Proj(jeu_donnees_images.crs)\n",
    "                if projection_cartographique_landsat != projection_cartographique_etiquettes:\n",
    "                    x,y = transform(projection_cartographique_landsat,projection_cartographique_etiquettes,x,y)\n",
    "                # coordonnées de référence de l'étiquette\n",
    "                rangee, colonne = jeu_donnees_etiquettes.index(x,y)\n",
    "                # trouver l'étiquette\n",
    "                # l'image de l'étiquette pourrait être énorme, nous en avons donc besoin pour obtenir une seule position\n",
    "                window = ((rangee, rangee+1), (colonne, colonne+1))\n",
    "                data, classes_couverture = fusionner_classes(jeu_donnees_etiquettes.read(1, \n",
    "                                                                                window=window, \n",
    "                                                                                masked=False, \n",
    "                                                                                boundless=True),\n",
    "                                                            classes_couverture)\n",
    "                label = data[0,0]\n",
    "                # si cette étiquette fait partie d'une couverture non classée alors ignorez la\n",
    "                if label == 0 or np.isnan(label).any() == True:\n",
    "                    pass\n",
    "                else:                   \n",
    "                    # ajouter l'étiquette au lot avec un encodage à un bit discriminant (hot encoding)\n",
    "                    lot_etiquettes[b][label] = 1\n",
    "                    lot_images[b] = tuile_reformatee\n",
    "                    b += 1\n",
    "        yield (lot_images, lot_etiquettes)\n",
    "\n",
    "print('Code generer_tuiles prêt!')\n"
   ]
  },
  {
   "cell_type": "markdown",
   "metadata": {
    "id": "kUEqYMQZ8qqC"
   },
   "source": [
    "### Une fonction pour fusionner les classes en un sous-ensemble plus petit"
   ]
  },
  {
   "cell_type": "code",
   "execution_count": null,
   "metadata": {
    "id": "qi3Wr-e1D9xT"
   },
   "outputs": [],
   "source": [
    "def fusionner_classes(y,classes_couverture):\n",
    "\n",
    "    # reclasser 255 (pixel blanc intense) à 0 (arrière-plan)\n",
    "    y[y == 255] = 0\n",
    "    \n",
    "    # regrouper \"moyennement aménagé\" 3 et \"faiblement aménagé\" 4\n",
    "    # dans \"milieu aménagé\" 2\n",
    "    y[y == 3] = 2\n",
    "    y[y == 4] = 2\n",
    "    classes_couverture[2] = \"milieu aménagé\"\n",
    "\n",
    "    # regrouper \"espace ouvert aménagé\" 5 et \"pâturage/foin\" 7\n",
    "    # dans \"terre cultivée\" 6\n",
    "    y[y == 5] = 6\n",
    "    y[y == 7] = 6\n",
    "    classes_couverture[6] = \"terre cultivée\"\n",
    "\n",
    "    # regrouper \"forêt de feuillus\" 9 et \"forêt de conifères\" 10,\n",
    "    # \"arbuste/broussaille\" 12, et \"milieu humide boisé palustre\" 13\n",
    "    # dans \"milieu forestier\" 11\n",
    "    y[y == 9] = 11\n",
    "    y[y == 10] = 11\n",
    "    y[y == 12] = 11\n",
    "    y[y == 13] = 11\n",
    "    classes_couverture[11] = \"milieu forestier\"\n",
    "    \n",
    "    # regrouper \"milieu humide arbustif/broussailleux palustre\" 14\n",
    "    # \"milieu humide émergent palustre\" 15, \"milieu humide boisé estuarien\") 16 \n",
    "    # et \"milieu humide arbustif/broussailleux estuarien\" 17, \n",
    "    # dans \"milieu humide\" 18\n",
    "    y[y == 14] = 18\n",
    "    y[y == 15] = 18\n",
    "    y[y == 16] = 18\n",
    "    y[y == 17] = 18\n",
    "    classes_couverture[18] = \"milieu humide\"\n",
    "    \n",
    "    # regrouper \"rivage meuble/non consolidé\" 19 et \"lit de cours d'eau palustre\" 22\n",
    "    # dans \"milieu aquatique\" 21\n",
    "    y[y == 22] = 21\n",
    "    y[y == 19] = 21\n",
    "    classes_couverture[21] = \"milieu aquatique\"\n",
    "    \n",
    "    return(y,classes_couverture)\n",
    "\n",
    "print('Code fusionner_classes prêt!')\n"
   ]
  },
  {
   "cell_type": "markdown",
   "metadata": {
    "id": "_4EFCx718ite"
   },
   "source": [
    "### Matrice de confusion"
   ]
  },
  {
   "cell_type": "code",
   "execution_count": null,
   "metadata": {
    "colab": {
     "base_uri": "https://localhost:8080/"
    },
    "id": "nnqxxgogQCQj",
    "outputId": "84d0e9a4-f606-4255-8296-04d5de3d2bbd"
   },
   "outputs": [],
   "source": [
    "from sklearn.model_selection import train_test_split\n",
    "from sklearn.metrics import confusion_matrix\n",
    "from sklearn.utils.multiclass import unique_labels\n",
    "import matplotlib.pyplot as plt\n",
    "\n",
    "def afficher_matrice_confusion(y_true, y_pred, classes, class_dict,\n",
    "                               normalize=False,\n",
    "                               title=None,\n",
    "                               cmap=plt.cm.Blues):\n",
    "    \"\"\"\n",
    "    This function prints and plots the confusion matrix.\n",
    "    Normalization can be applied by setting `normalize=True`.\n",
    "    \"\"\"\n",
    "    if not title:\n",
    "        if normalize:\n",
    "            title = 'Matrice de confusion normalisée'\n",
    "        else:\n",
    "            title = 'Matrice de confusion sans normalisation'\n",
    "\n",
    "    # Compute confusion matrix\n",
    "    cm = confusion_matrix(y_true, y_pred)\n",
    "    # Only use the labels that appear in the data\n",
    "    classes = classes[unique_labels(y_true, y_pred)]\n",
    "    # convert class_id to class_name using the class_dict\n",
    "    cover_names = []\n",
    "    for cover_class in classes:\n",
    "        cover_names.append(class_dict[cover_class])\n",
    "    if normalize:\n",
    "        cm = cm.astype('float') / cm.sum(axis=1)[:, np.newaxis]\n",
    "    else:\n",
    "        pass\n",
    "    #print(cm)\n",
    "\n",
    "    fig, ax = plt.subplots(figsize=(10,10))\n",
    "    im = ax.imshow(cm, interpolation='nearest', cmap=cmap)\n",
    "    ax.figure.colorbar(im, ax=ax)\n",
    "    # We want to show all ticks...\n",
    "    ax.set(xticks=np.arange(cm.shape[1]),\n",
    "           yticks=np.arange(cm.shape[0]),\n",
    "           # ... and label them with the respective list entries\n",
    "           xticklabels=cover_names, yticklabels=cover_names,\n",
    "           title=title,\n",
    "           ylabel='Étiquette vraie',\n",
    "           xlabel='Étiquette prédite')\n",
    "\n",
    "    # Rotate the tick labels and set their alignment.\n",
    "    plt.setp(ax.get_xticklabels(), rotation=45, ha=\"right\",\n",
    "             rotation_mode=\"anchor\")\n",
    "\n",
    "    # Loop over data dimensions and create text annotations.\n",
    "    fmt = '.2f' if normalize else 'd'\n",
    "    thresh = cm.max() / 2.\n",
    "    for i in range(cm.shape[0]):\n",
    "        for j in range(cm.shape[1]):\n",
    "            ax.text(j, i, format(cm[i, j], fmt),\n",
    "                    ha=\"center\", va=\"center\",\n",
    "                    color=\"white\" if cm[i, j] > thresh else \"black\")\n",
    "    fig.tight_layout()\n",
    "    return ax\n",
    "\n",
    "print('Code afficher_matrice_confusion prêt!')\n"
   ]
  },
  {
   "cell_type": "markdown",
   "metadata": {
    "id": "PfbbU4aX90T1"
   },
   "source": [
    "## Exploration des données du satellite Landsat"
   ]
  },
  {
   "cell_type": "markdown",
   "metadata": {},
   "source": [
    "### Lecture des métadonnées sur les images"
   ]
  },
  {
   "cell_type": "code",
   "execution_count": null,
   "metadata": {
    "colab": {
     "base_uri": "https://localhost:8080/"
    },
    "id": "Pt_q6_SQ48wZ",
    "outputId": "854b4677-38ee-44b9-bb70-0f5c8f36e09b"
   },
   "outputs": [],
   "source": [
    "import rasterio\n",
    "import matplotlib.pyplot as plt\n",
    "import numpy as np\n",
    "\n",
    "# Lecture des métadonnées du fichier de données matricielles (raster) Landsat\n",
    "meta_donnees_images_landsat = rasterio.open(\"data/landsat_image.tif\")\n",
    "\n",
    "# Vérification du nombre de canaux / bandes spectrales par image\n",
    "nombre_canaux = meta_donnees_images_landsat.count\n",
    "print(\"Nombre de canaux par image: {nc}\\n\".format(nc=nombre_canaux))\n",
    "\n",
    "# Combien de rangées et de colonnes dans les données?\n",
    "rangees, colonnes = meta_donnees_images_landsat.shape\n",
    "print(\"Le format des images est: {l} rangees x {c} colonnes\\n\".format(l=rangees, c=colonnes))\n",
    "\n",
    "# Quelle est la version de la bibliothèque Rasterio: \n",
    "print(\"Version de Rasterio: {v}\\n\".format(v=rasterio.__version__))\n",
    "\n",
    "# Quel pilote (driver) a été utilisé pour lire les données matricielles (raster)?\n",
    "pilote = meta_donnees_images_landsat.driver\n",
    "print(\"Pilote données matriciel utilisé: {p}\\n\".format(p=pilote))\n",
    "\n",
    "# Quelle est la projection cartographique des données?\n",
    "projection_cartographique = meta_donnees_images_landsat.crs\n",
    "print(\"Projection cartographique utilisée:\\n\",projection_cartographique)\n"
   ]
  },
  {
   "cell_type": "markdown",
   "metadata": {
    "id": "DQOn2wwF96-5"
   },
   "source": [
    "###  Lecture et chargement en mémoire des images \n",
    "ou données matricielles (raster), images satellitaires Landsat\n"
   ]
  },
  {
   "cell_type": "code",
   "execution_count": null,
   "metadata": {
    "colab": {
     "base_uri": "https://localhost:8080/"
    },
    "id": "mBgu28Kj7WHw",
    "outputId": "d304cff9-8bb0-445a-b075-dc30a203e900"
   },
   "outputs": [],
   "source": [
    "images_landsat = meta_donnees_images_landsat.read()\n",
    "images_landsat.shape"
   ]
  },
  {
   "cell_type": "markdown",
   "metadata": {},
   "source": [
    "### Calcul de l'indice de végétation"
   ]
  },
  {
   "cell_type": "markdown",
   "metadata": {
    "id": "JsFccm-9-ACt"
   },
   "source": [
    "Maintenant calculons l'indice de végétation<sup>1</sup>, un indicateur utilisé en télédétection pour évaluer si la cible observée contient de la végétation. L'indice de végétation se calcule à partir des réflectances mesurées dans les bandes visible rouge et le proche infrarouge.\n",
    "<hr/>\n",
    "<span style=\"font-size:80%\"><sup>1</sup><b>Note - terminologie:</b> En français,  « indice de végétation par différence normalisée (IVDN) » ou « indice différentiel normalisé de végétation » ou plus simplement « indice de végétation ». En anglais, « <i>Normalized Difference Vegetation Index</i> (<i>NDVI</i>) ».</span>"
   ]
  },
  {
   "cell_type": "code",
   "execution_count": null,
   "metadata": {
    "colab": {
     "base_uri": "https://localhost:8080/"
    },
    "id": "jE4HiOkb7Py4",
    "outputId": "f6117906-2ee6-44e5-80c3-cc204c202131"
   },
   "outputs": [],
   "source": [
    "bande_proche_infrarouge = images_landsat[4, :, :]\n",
    "bande_rouge = images_landsat[3, :, :]\n",
    "\n",
    "indice_vegetation = np.clip((bande_proche_infrarouge.astype(float) - bande_rouge.astype(float)) / (bande_proche_infrarouge.astype(float) + bande_rouge.astype(float)), -1,1)\n",
    "\n",
    "print('Code exécuté!')\n"
   ]
  },
  {
   "cell_type": "code",
   "execution_count": null,
   "metadata": {
    "colab": {
     "base_uri": "https://localhost:8080/"
    },
    "id": "-dyg1pGY7Sjx",
    "outputId": "ad9be600-eaa9-4e7c-cb35-210c8c541ede"
   },
   "outputs": [],
   "source": [
    "print('\\nIndice de végétation maximum: {m:.2f}'.format(m=indice_vegetation.max()))\n",
    "print('Indice de végétation moyen: {m:.2f}'.format(m=indice_vegetation.mean()))\n",
    "print('Indice de végétation médian: {m:.2f}'.format(m=np.median(indice_vegetation)))\n",
    "print('Indice de végétation minimum: {m:.2f}'.format(m=indice_vegetation.min()))"
   ]
  },
  {
   "cell_type": "markdown",
   "metadata": {},
   "source": [
    "Examinons la répartition statistique de l'indice de végétation avec un histogramme."
   ]
  },
  {
   "cell_type": "code",
   "execution_count": null,
   "metadata": {
    "colab": {
     "base_uri": "https://localhost:8080/",
     "height": 438
    },
    "id": "QhjFb8M_8HJ4",
    "outputId": "922d4e12-e187-4d36-c3be-ec7f4414510c"
   },
   "outputs": [],
   "source": [
    "figure, axes = plt.subplots(figsize=(1.62*7,7))\n",
    "# Nous pouvons définir le nombre de colonnes de l'histogramme avec l'argument `bins`\n",
    "axes.hist(indice_vegetation.flatten(), bins=50)\n",
    "plt.title(\"Histogramme de l'indice de végétation\")\n",
    "plt.xlabel(\"Indice de végétation\")\n",
    "plt.ylabel(\"Fréquence\")\n",
    "plt.show()"
   ]
  },
  {
   "cell_type": "markdown",
   "metadata": {
    "id": "gJIgZNds-PP2"
   },
   "source": [
    "### Histogramme multicanal de l'image\n",
    "L'indice de végétation semble normal, regardons maintenant l'histogramme de l'image dans son intégralité.\n",
    "\n",
    "Qu'est-ce que la valeur numérique (Digital Number, DN)? Dans les systèmes de télédétection, la la valeur numérique est une valeur attribuée à un pixel, généralement sous la forme d'un entier compris entre 0 et 255 (c'est-à-dire un octet). "
   ]
  },
  {
   "cell_type": "code",
   "execution_count": null,
   "metadata": {
    "colab": {
     "base_uri": "https://localhost:8080/",
     "height": 514
    },
    "id": "H-nqFDHh6OtK",
    "outputId": "4a1438fc-11cc-4de0-da97-e68cf626e625",
    "scrolled": false
   },
   "outputs": [],
   "source": [
    "figure, axes = plt.subplots(figsize=(1.62*7,7))\n",
    "\n",
    "rasterio.plot.show_hist(meta_donnees_images_landsat.read([1,2,3,4,5,6,7]), \n",
    "                        bins=100, \n",
    "                        histtype='stepfilled', \n",
    "                        lw=0.0, \n",
    "                        stacked=False, \n",
    "                        alpha=0.3,\n",
    "                        ax = axes,\n",
    "                       title=\"Histogramme multicanal de l'image\",\n",
    "                       label=[1,2,3,4,5,6,7]\n",
    "                       )\n",
    "axes.set_xlabel('Valeur numérique des pixels')\n",
    "_ = axes.set_ylabel('Fréquence')\n"
   ]
  },
  {
   "cell_type": "markdown",
   "metadata": {
    "id": "bOTMZxNz7Vx3"
   },
   "source": [
    "###  Lecture et chargement en mémoire des étiquettes ou annotation de couverture "
   ]
  },
  {
   "cell_type": "code",
   "execution_count": null,
   "metadata": {
    "colab": {
     "base_uri": "https://localhost:8080/"
    },
    "id": "LVou6etFAgr8",
    "outputId": "dc0e7b57-95e7-42c6-8772-8aabaa0e6702"
   },
   "outputs": [],
   "source": [
    "meta_donnees_etiquettes_couverture = rasterio.open('data/labels_image.tif')\n",
    "\n",
    "meta_donnees_etiquettes_couverture.crs"
   ]
  },
  {
   "cell_type": "code",
   "execution_count": null,
   "metadata": {},
   "outputs": [],
   "source": [
    "# nous fusionnons pour limiter le nombre de classes avec lesquelles nous travaillons\n",
    "etiquettes_couverture, classes_couverture = fusionner_classes(meta_donnees_etiquettes_couverture.read(),classes_couverture)\n",
    "etiquettes_couverture.shape\n"
   ]
  },
  {
   "cell_type": "markdown",
   "metadata": {},
   "source": [
    "### Visualisation - Image Landsat, couverture terrestre et indice de végétation "
   ]
  },
  {
   "cell_type": "markdown",
   "metadata": {
    "id": "v2gE319v-EVj"
   },
   "source": [
    "Maintenant, nous allons visualiser l'image Landsat, une carte en fausses couleurs des de la couverture terrestre et l'indice de végétation (NDVI) côte à côte :\n"
   ]
  },
  {
   "cell_type": "code",
   "execution_count": null,
   "metadata": {
    "colab": {
     "base_uri": "https://localhost:8080/",
     "height": 915
    },
    "id": "odb65Zhy5FRB",
    "outputId": "4a9caf5d-0243-4d3b-9518-c300a6cb5c39"
   },
   "outputs": [],
   "source": [
    "from rasterio.plot import adjust_band\n",
    "from rasterio.plot import reshape_as_raster, reshape_as_image\n",
    "from rasterio.plot import show\n",
    "\n",
    "# pull out the bands we want to visualize\n",
    "index = np.array([3, 2, 1])\n",
    "couleurs = images_landsat[index, :, :].astype(np.float64)\n",
    "\n",
    "# we'll use the values to stretch the landsat image based on the above histogram\n",
    "max_val = 2500\n",
    "min_val = 0\n",
    "\n",
    "# enforce maximum and minimum values\n",
    "couleurs[couleurs[:, :, :] > max_val] = max_val\n",
    "couleurs[couleurs[:, :, :] < min_val] = min_val\n",
    "\n",
    "for b in range(couleurs.shape[0]):\n",
    "    couleurs[b, :, :] = couleurs[b, :, :] * 1 / (max_val - min_val)\n",
    "\n",
    "# les images matricielles sont dans le format [canaux, rangees, colonnes] \n",
    "# alors qu'en général les images sont typiqueent en format [rangees, colonnes, canaux]\n",
    "# et donc notre tableau doit être reformaté\n",
    "print(couleurs.shape)\n",
    "couleurs_reformate = reshape_as_image(couleurs)\n",
    "print(couleurs_reformate.shape)\n",
    "\n",
    "# next setup a colormap for our map\n",
    "fausses_couleurs = dict((\n",
    "    (0, (245,245,245, 255)), # arrière-plan # Background\n",
    "    (1, (0,0,0)), # non-classé # Unclassified (Cloud, Shadow, etc)\n",
    "    (2, (255,0,0)), # fortement aménagé # High Intensity Developed\n",
    "    (3, (255, 110, 51)), # moyennement aménagé # Medium Intensity Developed\n",
    "    (4, (255, 162, 51)), # faiblement aménagé # Low Intensity Developed\n",
    "    (5, (255, 162, 51)), # espace ouvert aménagé # Open Space Developed\n",
    "    (6, (162, 89, 0)), # terre cultivée # Cultivated Land\n",
    "    (7, (229, 221, 50)), # pâturage/foin # Pasture/Hay\n",
    "    (8, (185, 251, 96)), # prairie # Grassland\n",
    "    (9, (83, 144, 0)), # forêt de feuillus # Deciduous Forest\n",
    "    (10, (13, 118, 0  )), # forêt de conifères # Evergreen Forest\n",
    "    (11, (62, 178, 49)), # forêt mixte / Mixed Forest\n",
    "    (12, (100, 241, 125)), # arbuste/broussaille # Scrub/Shrub\n",
    "    (13, (68, 160, 85)), # milieu humide boisé palustre # Palustrine Forested Wetland\n",
    "    (14, (118, 192, 131)), # milieu humide arbustif/broussailleux palustre # Palustrine Scrub/Shrub Wetland\n",
    "    (15, (188, 0, 211)), # milieu humide émergent palustre # Palustrine Emergent Wetland\n",
    "    (16, (188, 0, 211)), # milieu humide boisé estuarien # Estuarine Forested Wetland\n",
    "    (17, (0, 0, 0)), # milieu humide arbustif/broussailleux estuarien # Estuarine Scrub/Shrub Wetland\n",
    "    (18, (172, 0, 191)), # milieu humide émergent estuarien # Estuarine Emergent Wetland\n",
    "    (19, (159, 251, 255)), # rivage meuble/non consolidé # Unconsolidated Shore \n",
    "    (20, (172, 177, 68)), # terre nue # Bare Land\n",
    "    (21, (29, 0, 189)), # eau # Water\n",
    "    (22, (40, 40, 40)), # lit de cours d'eau palustre # Pal Bed\n",
    "))\n",
    "\n",
    "# n = int(np.max(jeu_etiquettes_couverture)) + 1\n",
    "n = int(np.max(etiquettes_couverture)) + 1\n",
    "\n",
    "# Put 0 - 255 as float 0 - 1\n",
    "for k in fausses_couleurs:\n",
    "    v = fausses_couleurs[k]\n",
    "    _v = [_v / 255.0 for _v in v]\n",
    "    fausses_couleurs[k] = _v\n",
    "    \n",
    "index_fausses_couleurs = [fausses_couleurs[key] for key in range(0, n)]\n",
    "\n",
    "cmap_fausses_couleurs = plt.matplotlib.colors.ListedColormap(index_fausses_couleurs, \n",
    "                                                             'Classification', \n",
    "                                                             n)\n",
    "fig, axes = plt.subplots(1, 3, figsize=(1.62*17, 17)) \n",
    "\n",
    "# Afficher l'image en couleur\n",
    "axes[0].imshow(couleurs_reformate)\n",
    "axes[0].set_title('Image Landsat couleur')\n",
    "\n",
    "# Afficher les classes de couverture en fausses couleurs\n",
    "axes[1].imshow(etiquettes_couverture[0,:, :],\n",
    "               cmap=cmap_fausses_couleurs,\n",
    "               interpolation='none')\n",
    "import matplotlib.patches as mpatches\n",
    "patches =[mpatches.Patch(color=cmap_fausses_couleurs.colors[classe_id],label=classes_couverture[classe_id]) \n",
    "          for classe_id in range(len(cmap_fausses_couleurs.colors))]\n",
    "axes[1].set_title('Classes\\nde couverture')\n",
    "axes[1].legend(handles=patches, loc=(1.01,0), borderaxespad=0.)\n",
    "\n",
    "# Afficher l'indice de végétation\n",
    "axes[2].imshow(indice_vegetation, \n",
    "              cmap='RdYlGn')\n",
    "axes[2].set_title('Indice de végégation')\n",
    "\n",
    "# Afficher les images\n",
    "plt.show()\n"
   ]
  },
  {
   "cell_type": "code",
   "execution_count": null,
   "metadata": {},
   "outputs": [],
   "source": [
    "cmap_fausses_couleurs.colors[0]"
   ]
  },
  {
   "cell_type": "markdown",
   "metadata": {
    "id": "xE-bM05N-m66"
   },
   "source": [
    "Combien y a-t-il de pixels dans chaque classe ?"
   ]
  },
  {
   "cell_type": "code",
   "execution_count": null,
   "metadata": {
    "colab": {
     "base_uri": "https://localhost:8080/"
    },
    "id": "2unJDbI-BKyd",
    "outputId": "6b7af4ac-2ed7-4832-c77a-684ab17ddcba"
   },
   "outputs": [],
   "source": [
    "unique, counts = np.unique(etiquettes_couverture, return_counts=True)\n",
    "donnees_histogramme = [(classes_couverture[classe_id],counts) for classe_id,counts in list(zip(unique, counts))]\n",
    "donnees_histogramme"
   ]
  },
  {
   "cell_type": "code",
   "execution_count": null,
   "metadata": {},
   "outputs": [],
   "source": [
    "fig = plt.figure(figsize=(1.62*6, 6)) \n",
    "plt.yscale('log')\n",
    "plt.xticks(rotation=45)\n",
    "plt.xlabel(\"Type de couverture\")\n",
    "plt.ylabel(\"Log(Fréquence)\")\n",
    "plt.title(\"Répartition des types de couverture terrestre - échelle logarithmique\")\n",
    "_ = plt.bar([classe[0] for classe in donnees_histogramme], [classe[1] for classe in donnees_histogramme])\n"
   ]
  },
  {
   "cell_type": "markdown",
   "metadata": {},
   "source": [
    "### Génération des données d'entraînement"
   ]
  },
  {
   "cell_type": "code",
   "execution_count": null,
   "metadata": {},
   "outputs": [],
   "source": [
    "# Le code ci-dessous génère des avertissements\n",
    "# nous allons donc les supprimer pour le moment \n",
    "import warnings\n",
    "warnings.filterwarnings(\"ignore\")"
   ]
  },
  {
   "cell_type": "code",
   "execution_count": null,
   "metadata": {
    "scrolled": false
   },
   "outputs": [],
   "source": [
    "pixels_entrainement = generer_pixels([meta_donnees_images_landsat],\n",
    "                                     meta_donnees_etiquettes_couverture,\n",
    "                                     etiquettes_couverture,\n",
    "                                     classes_couverture,\n",
    "                                     3000,\n",
    "                                     True)\n"
   ]
  },
  {
   "cell_type": "markdown",
   "metadata": {
    "id": "9krQTTu-tkwU"
   },
   "source": [
    "### Test du générateur de tuiles\n",
    "\n",
    "Afficher des lots d'images et d'étiquettes et vérifier leurs dimensions."
   ]
  },
  {
   "cell_type": "code",
   "execution_count": null,
   "metadata": {
    "colab": {
     "base_uri": "https://localhost:8080/"
    },
    "id": "yCXTnWK8J8LE",
    "outputId": "b1570ef2-8716-4c97-920e-8060c77ee15f",
    "scrolled": false
   },
   "outputs": [],
   "source": [
    "im_batch = None\n",
    "\n",
    "count = 0\n",
    "\n",
    "for (im, label) in generer_tuiles([meta_donnees_images_landsat], \n",
    "                                  meta_donnees_etiquettes_couverture, \n",
    "                                  classes_couverture,\n",
    "                                  128, 128, \n",
    "                                  pixels_entrainement, \n",
    "                                  10):\n",
    "    # Arrêter après 3 images \n",
    "    if count > 3:\n",
    "        break\n",
    "    print('Image')\n",
    "    print(im.shape)\n",
    "#     for index_lot in range(10):\n",
    "#         for canal in range(7):\n",
    "#             plt.imshow((normalize(im[index_lot,:,:,canal])))\n",
    "#             plt.show()\n",
    "    print('Label')\n",
    "    print(label.shape)\n",
    "    print('----')\n",
    "    count += 1\n",
    "    im_batch = im\n",
    "    label_batch = label"
   ]
  },
  {
   "cell_type": "markdown",
   "metadata": {},
   "source": [
    "### Visualisation de tuiles\n",
    "\n",
    "Maintenant, visualisons des tuiles réelles. "
   ]
  },
  {
   "cell_type": "code",
   "execution_count": null,
   "metadata": {
    "colab": {
     "base_uri": "https://localhost:8080/",
     "height": 705
    },
    "id": "9Nzeov9QKNGx",
    "outputId": "b2d2e849-b44c-47a0-86df-81df8dbc6102"
   },
   "outputs": [],
   "source": [
    "import numpy as np\n",
    "\n",
    "def normalize(image):\n",
    "    return (image - np.min(image)) / (np.max(image) - np.min(image))\n",
    "\n",
    "fig, axes = plt.subplots(2, 3, figsize=(1.62*10, 10)) \n",
    "axes[0,0].imshow(normalize(im_batch[0,:,:,3:6]))\n",
    "axes[0,0].set_title(classes_couverture[np.argmax(label_batch[0])])\n",
    "axes[0,1].imshow(normalize(im_batch[1,:,:,3:6]))\n",
    "axes[0,1].set_title(classes_couverture[np.argmax(label_batch[1])])\n",
    "axes[0,2].imshow(normalize(im_batch[2,:,:,3:6]))\n",
    "axes[0,2].set_title(classes_couverture[np.argmax(label_batch[2])])\n",
    "axes[1,0].imshow(normalize(im_batch[3,:,:,3:6]))\n",
    "axes[1,0].set_title(classes_couverture[np.argmax(label_batch[3])])\n",
    "axes[1,1].imshow(normalize(im_batch[4,:,:,3:6]))\n",
    "axes[1,1].set_title(classes_couverture[np.argmax(label_batch[4])])\n",
    "axes[1,2].imshow(normalize(im_batch[5,:,:,3:6]))\n",
    "axes[1,2].set_title(classes_couverture[np.argmax(label_batch[5])])\n",
    "\n",
    "plt.show()\n"
   ]
  },
  {
   "cell_type": "markdown",
   "metadata": {
    "id": "8VMWZ9hMuIBO"
   },
   "source": [
    "### Générer un jeu de données d'entraînement de tuiles 1x1 pour scikit-learn \n"
   ]
  },
  {
   "cell_type": "code",
   "execution_count": null,
   "metadata": {
    "colab": {
     "base_uri": "https://localhost:8080/"
    },
    "id": "BxVPxQPW6yks",
    "outputId": "db81bcbd-32e3-4306-bfc1-1195811e0b46"
   },
   "outputs": [],
   "source": [
    "im_batch = None\n",
    "label_batch = None\n",
    "\n",
    "sample_size = 500\n",
    "\n",
    "count = 0\n",
    "    \n",
    "for (im, label) in generer_tuiles([meta_donnees_images_landsat], \n",
    "                                  meta_donnees_etiquettes_couverture, \n",
    "                                  classes_couverture, \n",
    "                                  1, 1, \n",
    "                                  pixels_entrainement, \n",
    "                                  sample_size):\n",
    "    if count > 0:\n",
    "        break\n",
    "    print('Batch Shape')\n",
    "    print(im.shape)\n",
    "    print('Label Shape')\n",
    "    print(label.shape)\n",
    "    print('----')\n",
    "    count += 1\n",
    "    im_batch = im\n",
    "    label_batch = label"
   ]
  },
  {
   "cell_type": "markdown",
   "metadata": {
    "id": "3ZJKYR_DTcCU"
   },
   "source": [
    "#### Reformater les données\n",
    "Reformater les donnés pour scikit-learn qui a besoin de données au format `(echantillons, bandes)` :"
   ]
  },
  {
   "cell_type": "code",
   "execution_count": null,
   "metadata": {
    "colab": {
     "base_uri": "https://localhost:8080/"
    },
    "id": "vZqFVntt7k2y",
    "outputId": "61af1945-b5a6-4011-a12b-4200a91bbf83"
   },
   "outputs": [],
   "source": [
    "im_batch[0,:,:,:]"
   ]
  },
  {
   "cell_type": "code",
   "execution_count": null,
   "metadata": {
    "colab": {
     "base_uri": "https://localhost:8080/"
    },
    "id": "IUhfVaq28Xfi",
    "outputId": "9192f213-aeb9-4e76-81bd-78f401b1468d"
   },
   "outputs": [],
   "source": [
    "im_batch_reshaped = im_batch.reshape(sample_size,7)\n",
    "im_batch_reshaped[0]"
   ]
  },
  {
   "cell_type": "markdown",
   "metadata": {
    "id": "vNs6MwKz-myd"
   },
   "source": [
    "### Visualiser les signatures spectrales\n",
    "\n",
    "Examinons le spectre des intensités pour les différentes bandes ou canaux. Rappelons que la réflectance est le rapport de l'intensité d'une onde réfléchie sur l'intensité de l'onde incidente. "
   ]
  },
  {
   "cell_type": "code",
   "execution_count": null,
   "metadata": {
    "colab": {
     "base_uri": "https://localhost:8080/",
     "height": 640
    },
    "id": "QgYCvsiA8NFd",
    "outputId": "298f933c-4058-4e06-efa8-f2a25f0058bb"
   },
   "outputs": [],
   "source": [
    "fig, axe = plt.subplots(1,1, figsize=[1.62*8,8])\n",
    "\n",
    "liste_couleurs = ['red', # 'milieu aménagé' 2\n",
    "                  'gold', # 'terre cultivée' 6\n",
    "                  'orange', # 'prairie' 8\n",
    "                  'forestgreen', # 'milieu forestier' 11\n",
    "                  'skyblue', # 'milieu humide' 18\n",
    "                  'brown', # 'terre nue' 20\n",
    "                  'blue'] # eau 21\n",
    "\n",
    "# numbers 1-8\n",
    "band_count = np.arange(1,8)\n",
    "\n",
    "y = np.argmax(label_batch, axis=1)\n",
    "X = im_batch_reshaped\n",
    "\n",
    "classes = np.unique(y)\n",
    "for index_couleur,class_type in enumerate(classes): \n",
    "    band_intensity = np.mean(X[y==class_type, :], axis=0)\n",
    "    axe.plot(band_count, \n",
    "             band_intensity, \n",
    "             color=liste_couleurs[index_couleur], \n",
    "             label=classes_couverture[class_type])\n",
    "# plot them as lines\n",
    "\n",
    "# Add some axis labels\n",
    "axe.set_xlabel('Bande #')\n",
    "axe.set_ylabel('Valeur de réflectance')\n",
    "\n",
    "# Add a title\n",
    "axe.set_title(\"Spectre d'intensité des différentes bandes\")\n",
    "_ = axe.legend(loc='upper left')"
   ]
  },
  {
   "cell_type": "markdown",
   "metadata": {},
   "source": [
    "## Création d'une base de référence pour la classification "
   ]
  },
  {
   "cell_type": "markdown",
   "metadata": {
    "id": "yFyPPa6K_VmH"
   },
   "source": [
    "### Générer un ensemble de données d'entraînement de tuiles 1x1 pour scikit-learn"
   ]
  },
  {
   "cell_type": "code",
   "execution_count": null,
   "metadata": {
    "colab": {
     "base_uri": "https://localhost:8080/"
    },
    "id": "hNfWrnY9_DXe",
    "outputId": "d1a41211-39b2-4446-d6d7-56389d2b4fd9"
   },
   "outputs": [],
   "source": [
    "im_batch = None\n",
    "label_batch = None\n",
    "\n",
    "sample_size = 800\n",
    "train_count = 600\n",
    "\n",
    "count = 0\n",
    "    \n",
    "for (img, label) in generer_tuiles([meta_donnees_images_landsat], \n",
    "                                  meta_donnees_etiquettes_couverture,\n",
    "                                  classes_couverture,\n",
    "                                  1, 1, \n",
    "                                  pixels_entrainement, \n",
    "                                  sample_size):\n",
    "    if count > 0:\n",
    "        break\n",
    "    print('Batch Shape')\n",
    "    print(img.shape)\n",
    "    print('Label Shape')\n",
    "    print(label.shape)\n",
    "    print('----')\n",
    "    count += 1\n",
    "    img_batch = img\n",
    "    label_batch = label\n",
    "\n",
    "img_batch_reshaped = img_batch.reshape(sample_size,7)\n",
    "\n",
    "X_train = img_batch_reshaped[:train_count]\n",
    "X_val = img_batch_reshaped[train_count:]\n",
    "y_train = np.argmax(label_batch, axis=1)[:train_count]\n",
    "y_val = np.argmax(label_batch, axis=1)[train_count:]"
   ]
  },
  {
   "cell_type": "markdown",
   "metadata": {
    "id": "LR4cckuf_ihh"
   },
   "source": [
    "### Algorithme de la forêt aléatoire (<i>random forest</i>)"
   ]
  },
  {
   "cell_type": "code",
   "execution_count": null,
   "metadata": {
    "colab": {
     "base_uri": "https://localhost:8080/"
    },
    "id": "1CBzgR_L_8nV",
    "outputId": "81fad5c1-2e65-4174-8ea3-913caa7626c7"
   },
   "outputs": [],
   "source": [
    "from sklearn.ensemble import RandomForestClassifier\n",
    "\n",
    "# Initialize our model with 500 trees\n",
    "rf = RandomForestClassifier(n_estimators=500, \n",
    "                            oob_score=True)\n",
    "\n",
    "# Fit our model to training data\n",
    "rf = rf.fit(X_train, y_train)\n",
    "\n",
    "print('Exactitude de: {accuracy:.2f}%'.format(accuracy = rf.score(X_val, y_val)*100))"
   ]
  },
  {
   "cell_type": "code",
   "execution_count": null,
   "metadata": {
    "colab": {
     "base_uri": "https://localhost:8080/",
     "height": 701
    },
    "id": "mwXYA-f-A1cc",
    "outputId": "877d153f-b345-4f22-d863-6e91b6f2deac"
   },
   "outputs": [],
   "source": [
    "pred_index = rf.predict(X_val)\n",
    "\n",
    "# Plot non-normalized confusion matrix\n",
    "_ = afficher_matrice_confusion(y_val,\n",
    "                               pred_index,\n",
    "                               classes=np.array(list(classes_couverture)),\n",
    "                               class_dict=classes_couverture)\n"
   ]
  },
  {
   "cell_type": "code",
   "execution_count": null,
   "metadata": {
    "colab": {
     "base_uri": "https://localhost:8080/",
     "height": 701
    },
    "id": "o50pTRgkvvMU",
    "outputId": "29fa422b-007e-4dff-8cce-e68fa5932a4d"
   },
   "outputs": [],
   "source": [
    "# Plot normalized confusion matrix\n",
    "_ = afficher_matrice_confusion(y_val,\n",
    "                               pred_index,\n",
    "                               classes=np.array(list(classes_couverture)),\n",
    "                               class_dict=classes_couverture,\n",
    "                               normalize=True)\n"
   ]
  },
  {
   "cell_type": "code",
   "execution_count": null,
   "metadata": {},
   "outputs": [],
   "source": [
    "from sklearn.metrics import precision_score, accuracy_score, recall_score, f1_score\n",
    "print(\"Exactitude: {exactitude:.2f}%\".format(exactitude = accuracy_score(y_val, pred_index)*100)) \n",
    "print(\"Précision: {precision:.2f}%\".format(precision = precision_score(y_val, pred_index, average='weighted')*100))\n",
    "print(\"Rappel: {rappel:.2f}%\".format(rappel = recall_score(y_val, pred_index, average='weighted')*100))\n",
    "print(\"Métrique F1: {f1:.2f}%\".format(f1 = f1_score(y_val, pred_index, average='weighted')*100))\n"
   ]
  },
  {
   "cell_type": "markdown",
   "metadata": {
    "id": "UmjcVCo0VDZu"
   },
   "source": [
    "Ce modèle n'est pas terrible, car il classe mal une bonne partie des prairies, des terres cultivées et des terres aménagées. Voyons si nous pouvons améliorer ls résultats avec un réseau convolutif profond..."
   ]
  },
  {
   "cell_type": "markdown",
   "metadata": {
    "id": "DdRkZ7QDtrTF"
   },
   "source": [
    "## Création et entraînement d'un réseau convolutif"
   ]
  },
  {
   "cell_type": "markdown",
   "metadata": {},
   "source": [
    "### Importer les bibliothèques `keras` nécessaires"
   ]
  },
  {
   "cell_type": "code",
   "execution_count": null,
   "metadata": {
    "id": "bgPrE7nfKgBK"
   },
   "outputs": [],
   "source": [
    "import tensorflow as tf\n",
    "import keras\n",
    "from tensorflow.keras import backend as K\n",
    "from tensorflow.keras.models import Sequential\n",
    "from tensorflow.keras.layers import Dense, Dropout, Flatten\n",
    "from tensorflow.keras.layers import Conv2D, MaxPooling2D\n",
    "from tensorflow.keras.layers import Activation, BatchNormalization\n",
    "from tensorflow.keras.callbacks import ModelCheckpoint"
   ]
  },
  {
   "cell_type": "markdown",
   "metadata": {
    "id": "0CSQtcDutv5R"
   },
   "source": [
    "### Définir les hyperparamètres du résau convolutif"
   ]
  },
  {
   "cell_type": "code",
   "execution_count": null,
   "metadata": {
    "colab": {
     "base_uri": "https://localhost:8080/"
    },
    "id": "so-MzsE6K9wY",
    "outputId": "13b2df17-9234-44b7-f502-3133c5663e27"
   },
   "outputs": [],
   "source": [
    "taille_lot = 25\n",
    "epochs = 50\n",
    "nombre_classes = len(classes_couverture)\n",
    "\n",
    "# input image dimensions\n",
    "taille_tuile = 32\n",
    "img_rangees, img_colonnes = taille_tuile, taille_tuile\n",
    "img_bands = meta_donnees_images_landsat.count- 1\n",
    "\n",
    "input_shape = (img_rangees, img_colonnes, img_bands)\n",
    "print(input_shape)"
   ]
  },
  {
   "cell_type": "markdown",
   "metadata": {
    "id": "otFus3i5txy6"
   },
   "source": [
    "### Créer l'architecture du réseau convolutif"
   ]
  },
  {
   "cell_type": "code",
   "execution_count": null,
   "metadata": {
    "colab": {
     "base_uri": "https://localhost:8080/"
    },
    "id": "Ku9yk42NKq4g",
    "outputId": "8a74fbfc-b6d1-4fd5-c2d7-e79accb69d32"
   },
   "outputs": [],
   "source": [
    "modele = Sequential()\n",
    "\n",
    "modele.add(Conv2D(32, (3, 3), padding='same', input_shape=input_shape))\n",
    "modele.add(BatchNormalization())\n",
    "modele.add(Activation('relu'))\n",
    "modele.add(MaxPooling2D(pool_size=(2, 2)))\n",
    "\n",
    "modele.add(Conv2D(64, (3, 3), padding='same'))\n",
    "modele.add(BatchNormalization())\n",
    "modele.add(Activation('relu'))\n",
    "\n",
    "modele.add(Conv2D(64, (3, 3), padding='same'))\n",
    "modele.add(BatchNormalization())\n",
    "modele.add(Activation('relu'))\n",
    "modele.add(MaxPooling2D(pool_size=(2, 2)))\n",
    "\n",
    "modele.add(Conv2D(128, (3, 3), padding='same'))\n",
    "modele.add(BatchNormalization())\n",
    "modele.add(Activation('relu'))\n",
    "modele.add(MaxPooling2D(pool_size=(2, 2)))\n",
    "\n",
    "modele.add(Conv2D(256, (3, 3), padding='same'))\n",
    "modele.add(BatchNormalization())\n",
    "modele.add(Activation('relu'))\n",
    "modele.add(MaxPooling2D(pool_size=(2, 2)))\n",
    "modele.add(Dropout(0.25))\n",
    "\n",
    "modele.add(Flatten())\n",
    "modele.add(Dense(128))\n",
    "modele.add(BatchNormalization())\n",
    "modele.add(Activation('relu'))\n",
    "modele.add(Dropout(0.25))\n",
    "\n",
    "modele.add(Dense(128))\n",
    "modele.add(BatchNormalization())\n",
    "modele.add(Activation('relu'))\n",
    "modele.add(Dropout(0.25))\n",
    "\n",
    "modele.add(Dense(nombre_classes))\n",
    "modele.add(Activation('softmax'))\n",
    "\n",
    "modele.summary()"
   ]
  },
  {
   "cell_type": "markdown",
   "metadata": {
    "id": "DkvcOnqLt2cz"
   },
   "source": [
    "### Choisir la fonction d'optimisation et compiler le modèle"
   ]
  },
  {
   "cell_type": "code",
   "execution_count": null,
   "metadata": {
    "colab": {
     "base_uri": "https://localhost:8080/"
    },
    "id": "SLAmHQJXLXBo",
    "outputId": "b39018c6-1cdc-4207-b3f7-7b18800dacd2"
   },
   "outputs": [],
   "source": [
    "sgd = tf.keras.optimizers.SGD(learning_rate=0.0001, \n",
    "                              decay=1e-6, \n",
    "                              momentum=0.9, \n",
    "                              nesterov=True)\n",
    "metrics=['accuracy']\n",
    "\n",
    "modele.compile(optimizer=sgd, \n",
    "               loss='categorical_crossentropy', \n",
    "               metrics=metrics)\n",
    "\n",
    "print(\"Modèle compilé\")"
   ]
  },
  {
   "cell_type": "markdown",
   "metadata": {
    "id": "U7MkRMH9t0Em"
   },
   "source": [
    "### Diviser les données entre donnés d'entraînement et données de validation"
   ]
  },
  {
   "cell_type": "code",
   "execution_count": null,
   "metadata": {
    "colab": {
     "base_uri": "https://localhost:8080/"
    },
    "id": "iSvnToUNLQj4",
    "outputId": "083bacb6-e689-4257-f1ce-eeaf2c81f7e7"
   },
   "outputs": [],
   "source": [
    "ratio_entrainement_vs_validation = 0.8\n",
    "train_px = pixels_entrainement[:int(len(pixels_entrainement)*ratio_entrainement_vs_validation)]\n",
    "val_px = pixels_entrainement[int(len(pixels_entrainement)*ratio_entrainement_vs_validation):]\n",
    "print(\"Nombre d'exemples d'entraînement: {n_entrainement} \\nNombre d'exemples de validation: {n_validation}\".\n",
    "      format(n_entrainement=len(train_px),n_validation=len(val_px)))"
   ]
  },
  {
   "cell_type": "markdown",
   "metadata": {
    "id": "faJAqfMFt-To"
   },
   "source": [
    "### Entraîner le modèle"
   ]
  },
  {
   "cell_type": "code",
   "execution_count": null,
   "metadata": {
    "colab": {
     "base_uri": "https://localhost:8080/",
     "height": 1000
    },
    "id": "HU8eVd2rLciQ",
    "outputId": "942c063c-3abd-48d5-ad89-1f60aecb2c2a"
   },
   "outputs": [],
   "source": [
    "traces = modele.fit(generer_tuiles([meta_donnees_images_landsat], \n",
    "                                   meta_donnees_etiquettes_couverture, \n",
    "                                   classes_couverture,\n",
    "                                   taille_tuile, taille_tuile, \n",
    "                                   train_px, \n",
    "                                   taille_lot, \n",
    "                                   merge=True), \n",
    "                    steps_per_epoch=len(train_px) // taille_lot, \n",
    "                    epochs=epochs, \n",
    "                    verbose=1,\n",
    "                    validation_data=generer_tuiles([meta_donnees_images_landsat], \n",
    "                                                   meta_donnees_etiquettes_couverture, \n",
    "                                                   classes_couverture,\n",
    "                                                   taille_tuile, taille_tuile, \n",
    "                                                   val_px, \n",
    "                                                   taille_lot, \n",
    "                                                   merge=True),\n",
    "                    validation_steps=len(val_px) // taille_lot)\n",
    "\n"
   ]
  },
  {
   "cell_type": "markdown",
   "metadata": {},
   "source": [
    "### Affichage des courbes d'entraînement et de validation"
   ]
  },
  {
   "cell_type": "code",
   "execution_count": null,
   "metadata": {},
   "outputs": [],
   "source": [
    "plt.figure(figsize=(1.62*7,7))\n",
    "plt.plot(traces.history['accuracy'])\n",
    "plt.plot(traces.history['val_accuracy'])\n",
    "plt.title(\"Courbes d'exactitude du modèle\")\n",
    "plt.ylabel(\"Exactitude (%)\")\n",
    "plt.xlabel(\"Nombre d'itérations / époques\")\n",
    "_ = plt.legend(['Entraînement', 'Validation'], loc='upper left')"
   ]
  },
  {
   "cell_type": "code",
   "execution_count": null,
   "metadata": {},
   "outputs": [],
   "source": [
    "plt.figure(figsize=(1.62*7,7))\n",
    "plt.plot(traces.history['loss'])\n",
    "plt.plot(traces.history['val_loss'])\n",
    "plt.title(\"Courbes d'erreur du modèle\")\n",
    "plt.ylabel(\"Erreur\")\n",
    "plt.xlabel(\"Nombre d'itérations / époques\")\n",
    "_ = plt.legend(['Entraînement', 'Validation'], loc='upper left')"
   ]
  },
  {
   "cell_type": "markdown",
   "metadata": {},
   "source": [
    "### Génération de données test"
   ]
  },
  {
   "cell_type": "code",
   "execution_count": null,
   "metadata": {},
   "outputs": [],
   "source": [
    "predictions = modele.predict(generer_tuiles([meta_donnees_images_landsat],\n",
    "                                            meta_donnees_etiquettes_couverture,\n",
    "                                            classes_couverture,\n",
    "                                            taille_tuile, taille_tuile,\n",
    "                                            val_px,\n",
    "                                            taille_lot,\n",
    "                                            merge=True),\n",
    "                             steps=len(val_px) // taille_lot,\n",
    "                             verbose=1)\n",
    "\n",
    "eval_generator = generer_tuiles([meta_donnees_images_landsat], \n",
    "                                meta_donnees_etiquettes_couverture,\n",
    "                                classes_couverture,\n",
    "                                taille_tuile, taille_tuile, \n",
    "                                val_px, \n",
    "                                1, \n",
    "                                merge=True)\n",
    "\n",
    "labels = np.empty(predictions.shape)\n",
    "count = 0\n",
    "while count < len(labels):\n",
    "    image_b, label_b = next(eval_generator)\n",
    "    labels[count] = label_b\n",
    "    count += 1"
   ]
  },
  {
   "cell_type": "markdown",
   "metadata": {
    "id": "NRTAYA-nuCE4"
   },
   "source": [
    "###  Affichage d'une matrice de confusion :"
   ]
  },
  {
   "cell_type": "code",
   "execution_count": null,
   "metadata": {},
   "outputs": [],
   "source": [
    "label_index = np.argmax(labels, axis=1)     \n",
    "pred_index = np.argmax(predictions, axis=1)\n",
    "\n",
    "np.set_printoptions(precision=2)"
   ]
  },
  {
   "cell_type": "code",
   "execution_count": null,
   "metadata": {
    "colab": {
     "base_uri": "https://localhost:8080/",
     "height": 776
    },
    "id": "VR9xuMWgYTO7",
    "outputId": "dd24b854-f7ca-4378-a695-89c335e94744"
   },
   "outputs": [],
   "source": [
    "# Plot non-normalized confusion matrix\n",
    "_ = afficher_matrice_confusion(label_index,\n",
    "                               pred_index,\n",
    "                               classes=np.array(list(classes_couverture)),\n",
    "                               class_dict=classes_couverture)\n"
   ]
  },
  {
   "cell_type": "code",
   "execution_count": null,
   "metadata": {
    "colab": {
     "base_uri": "https://localhost:8080/",
     "height": 701
    },
    "id": "WB7hQr-SwLf9",
    "outputId": "aaa0122b-53d4-4e26-b54f-b9fd87090aca"
   },
   "outputs": [],
   "source": [
    "# Plot normalized confusion matrix\n",
    "_ = afficher_matrice_confusion(label_index, \n",
    "                               pred_index,\n",
    "                               classes=np.array(list(classes_couverture)),\n",
    "                               class_dict=classes_couverture,\n",
    "                               normalize=True)\n"
   ]
  },
  {
   "cell_type": "code",
   "execution_count": null,
   "metadata": {},
   "outputs": [],
   "source": [
    "from sklearn.metrics import precision_score, accuracy_score, recall_score, f1_score\n",
    "print(\"Exactitude: {exactitude:.2f}%\".format(exactitude = accuracy_score(label_index, pred_index)*100)) \n",
    "print(\"Précision: {precision:.2f}%\".format(precision = precision_score(label_index, pred_index, average='weighted')*100))\n",
    "print(\"Rappel: {rappel:.2f}%\".format(rappel = recall_score(label_index, pred_index, average='weighted')*100))\n",
    "print(\"Métrique F1: {f1:.2f}%\".format(f1 = f1_score(label_index, pred_index, average='weighted')*100))\n"
   ]
  },
  {
   "cell_type": "markdown",
   "metadata": {},
   "source": [
    "Pas mal! Environ 10 % d'amélioration pour un réseau convolutif par rapport à un algorithme d'apprentissage automatique plus classique."
   ]
  },
  {
   "cell_type": "markdown",
   "metadata": {
    "id": "zB5tbfy0umpM"
   },
   "source": [
    "## Conclusion\n",
    "\n",
    "Vous avez expérimenté avec un certain nombre de techniques d'exploration de données satellitaires et vu comment utiliser Keras pour construire un réseau convolutif profond pour une classification efficace de la couverture terrestre. "
   ]
  },
  {
   "cell_type": "code",
   "execution_count": null,
   "metadata": {
    "colab": {
     "base_uri": "https://localhost:8080/"
    },
    "id": "8or116_iuohq",
    "outputId": "f826ad71-9f1b-4620-f7c2-88c367935655"
   },
   "outputs": [],
   "source": [
    "print(\"Exécution du carnet web IPython terminée\")"
   ]
  },
  {
   "cell_type": "code",
   "execution_count": null,
   "metadata": {},
   "outputs": [],
   "source": []
  }
 ],
 "metadata": {
  "accelerator": "GPU",
  "colab": {
   "collapsed_sections": [],
   "name": "landcover_analysis.ipynb",
   "provenance": []
  },
  "kernelspec": {
   "display_name": "Python 3",
   "language": "python",
   "name": "python3"
  },
  "language_info": {
   "codemirror_mode": {
    "name": "ipython",
    "version": 3
   },
   "file_extension": ".py",
   "mimetype": "text/x-python",
   "name": "python",
   "nbconvert_exporter": "python",
   "pygments_lexer": "ipython3",
   "version": "3.9.5"
  }
 },
 "nbformat": 4,
 "nbformat_minor": 1
}
