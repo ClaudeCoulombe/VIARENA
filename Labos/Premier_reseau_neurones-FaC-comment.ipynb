{
 "cells": [
  {
   "cell_type": "markdown",
   "metadata": {},
   "source": [
    "<a href=\"https://colab.research.google.com/github/ClaudeCoulombe/VIARENA/blob/master/Labos/Premier_reseau_neurones-FaC-comment.ipynb\" target=\"_blank\"><img src=\"https://colab.research.google.com/assets/colab-badge.svg\" alt=\"Open In Colab\"/></a>\n",
    "\n",
    "### Rappel - Fonctionnement d'un carnet web iPython\n",
    "\n",
    "* Pour exécuter le code contenu dans une cellule d'un carnet iPython, cliquez dans la cellule et faites (⇧↵, shift-enter) \n",
    "* Le code d'un carnet iPython s'exécute séquentiellement de haut en bas de la page. Souvent, l'importation d'une bibliothèque Python ou l'initialisation d'une variable est préalable à l'exécution d'une cellule située plus bas. Il est donc recommandé d'exécuter les cellules en séquence. Enfin, méfiez-vous des retours en arrière qui peuvent réinitialiser certaines variables."
   ]
  },
  {
   "cell_type": "markdown",
   "metadata": {},
   "source": [
    "# Mon premier réseau de neurones avec Keras\n",
    "## Conversion Farenheit à Celsius - version commentée\n",
    "\n",
    "Vous allez créer votre premier réseau de neurones vraiment très simple pour faire de la reconnaissance de formes (pattern matching). \n",
    "\n",
    "Notre petite application a pour objectif de convertir des températures en degrés Farenheit en degrés Celsius. Ce petit exercice nous montrera comment un réseau de neurones peut apprendre à approximer une fonction à partir de données.\n",
    "\n",
    "Nous partirons d'un jeu de données très simple qui consiste en un tableau de conversion températures de degrés Farenheit en degré Celsius que nous allons générer à partir d'une formule. Ce petit exercice nous montrera comment un réseau de neurones peut apprendre à approximer une fonction à partir de données."
   ]
  },
  {
   "cell_type": "markdown",
   "metadata": {},
   "source": [
    "## Génération des données\n",
    "\n",
    "Pour générer des données d'entraînement «synthétiques», nous nous servirons de la formule exacte: $\\;\\;celsius = \\large{\\frac{5}{9}}\\small(farenheit -32)$"
   ]
  },
  {
   "cell_type": "code",
   "execution_count": null,
   "metadata": {},
   "outputs": [],
   "source": [
    "import numpy as np\n",
    "\n",
    "farenheit_liste = [float(farenheit) for farenheit in range(-100,100,5)]\n",
    "print(\"\\nFarenheit: \",farenheit_liste)\n",
    "\n",
    "celsius_liste = [round(5/9*(farenheit-32),2) for farenheit in farenheit_liste]\n",
    "print(\"\\nCelsius: \",celsius_liste)\n",
    "\n",
    "farenheit_np = np.array(farenheit_liste)\n",
    "celsius_np = np.array(celsius_liste)\n"
   ]
  },
  {
   "cell_type": "markdown",
   "metadata": {},
   "source": [
    "## Création d'un réseau de neurones ou modèle "
   ]
  },
  {
   "cell_type": "code",
   "execution_count": null,
   "metadata": {},
   "outputs": [],
   "source": [
    "import tensorflow as tf\n",
    "from keras.models import Sequential\n",
    "from keras.layers import Dense\n",
    "\n",
    "reseau_de_neurones = Sequential()\n",
    "reseau_de_neurones.add(Dense(units=1, input_shape=[1]))\n",
    "\n",
    "print(\"Architecture du réseau de neurones:\\n\")\n",
    "print(reseau_de_neurones.summary())\n"
   ]
  },
  {
   "cell_type": "markdown",
   "metadata": {},
   "source": [
    "## Compilation du modèle "
   ]
  },
  {
   "cell_type": "code",
   "execution_count": null,
   "metadata": {},
   "outputs": [],
   "source": [
    "reseau_de_neurones.compile(optimizer=tf.keras.optimizers.Adam(learning_rate=0.1),\n",
    "                           loss='mean_squared_error')\n"
   ]
  },
  {
   "cell_type": "markdown",
   "metadata": {},
   "source": [
    "## Entraînement du modèle sur les données"
   ]
  },
  {
   "cell_type": "code",
   "execution_count": null,
   "metadata": {
    "scrolled": false
   },
   "outputs": [],
   "source": [
    "traces_entrainement = reseau_de_neurones.fit(farenheit_np,celsius_np,\n",
    "                                             epochs=150,\n",
    "                                             verbose=2)\n",
    "print(\"Le réseau de neurones a été entraîné!\")\n"
   ]
  },
  {
   "cell_type": "markdown",
   "metadata": {},
   "source": [
    "## Évolution de la fonction de perte ou coût"
   ]
  },
  {
   "cell_type": "code",
   "execution_count": null,
   "metadata": {},
   "outputs": [],
   "source": [
    "import matplotlib.pyplot as plt\n",
    "nombre_dor = 1.618\n",
    "hauteur = 6\n",
    "longueur = int(nombre_dor * hauteur)\n",
    "_ = plt.figure(figsize=(longueur,hauteur))\n",
    "plt.xlabel('Nombre de passages dans les données')\n",
    "plt.ylabel(\"Fonction de coût ou de perte\")\n",
    "_ = plt.plot(traces_entrainement.history['loss'],linewidth=2)\n",
    "plt.show()\n"
   ]
  },
  {
   "cell_type": "markdown",
   "metadata": {},
   "source": [
    "## Test sur des données «fraîches»\n",
    "\n",
    "Prenons deux températures qui ne font pas partie de nos données d'entraînement. Nous choisirons des températures intéresantes dun point de vue physique comme le point de congélation de l'eau $-32^o F$ et le point d'ébullition de l'eau $212^o F$."
   ]
  },
  {
   "cell_type": "code",
   "execution_count": null,
   "metadata": {},
   "outputs": [],
   "source": [
    "farenheit = 32\n",
    "print(\"Farenheit:\",farenheit,\", prédiction =>\",\"Celsius:\",reseau_de_neurones.predict([farenheit])[0][0],\", formule exacte:\",5/9*(farenheit-32))\n"
   ]
  },
  {
   "cell_type": "code",
   "execution_count": null,
   "metadata": {},
   "outputs": [],
   "source": [
    "farenheit = 212\n",
    "print(\"Farenheit:\",farenheit,\", prédiction =>\",\"Celsius:\",reseau_de_neurones.predict([farenheit])[0][0],\", formule exacte:\",5/9*(farenheit-32))\n"
   ]
  },
  {
   "cell_type": "markdown",
   "metadata": {},
   "source": [
    "Le réseau de neurones retourne des valeurs très proches des vraies valeurs données par la formule $\\;\\;celsius = \\large{\\frac{5}{9}}\\small(farenheit -32)$. Il est important de comprendre que le réseau de neurones n'apprend pas la formule exacte mais bien qu'il calcule itérativement une approximation de cette formule.  \n",
    "    "
   ]
  },
  {
   "cell_type": "code",
   "execution_count": null,
   "metadata": {},
   "outputs": [],
   "source": []
  }
 ],
 "metadata": {
  "kernelspec": {
   "display_name": "Python 3",
   "language": "python",
   "name": "python3"
  },
  "language_info": {
   "codemirror_mode": {
    "name": "ipython",
    "version": 3
   },
   "file_extension": ".py",
   "mimetype": "text/x-python",
   "name": "python",
   "nbconvert_exporter": "python",
   "pygments_lexer": "ipython3",
   "version": "3.6.5"
  }
 },
 "nbformat": 4,
 "nbformat_minor": 2
}
