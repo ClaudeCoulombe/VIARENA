{
  "cells": [
    {
      "cell_type": "markdown",
      "metadata": {
        "id": "0rPwlVIqNSE0"
      },
      "source": [
        "<a href=\"https://colab.research.google.com/github/ClaudeCoulombe/VIARENA/blob/master/Labos/Lab-Contraste_Image/Correction_contraste_image-Colab.ipynb\" target=\"_blank\"><img src=\"https://colab.research.google.com/assets/colab-badge.svg\" alt=\"Open In Colab\"/></a>\n",
        "\n",
        "### Rappel - Fonctionnement d'un carnet web iPython\n",
        "\n",
        "* Pour exécuter le code contenu dans une cellule d'un carnet iPython, cliquez dans la cellule et faites (⇧↵, shift-enter)\n",
        "* Le code d'un carnet iPython s'exécute séquentiellement de haut en bas de la page. Souvent, l'importation d'une bibliothèque Python ou l'initialisation d'une variable est préalable à l'exécution d'une cellule située plus bas. Il est donc recommandé d'exécuter les cellules en séquence. Enfin, méfiez-vous des retours en arrière qui peuvent réinitialiser certaines variables."
      ]
    },
    {
      "cell_type": "markdown",
      "metadata": {
        "id": "Uls76LwwNSE1"
      },
      "source": [
        "# Droits d'auteur, sources et inspiration:\n",
        "\n",
        "Sources:\n",
        "<ul>\n",
        "    <ul>\n",
        "        <li><a href=\"http://morpheo.inrialpes.fr/people/Boyer/Teaching/L3/L3_analyse.pdf\" target='_blank'>Analyse d'images - introduction</a> - Elise Arnaud - Edmond Boyer - Université Joseph Fourier</li>\n",
        "        <li><a href=\"https://fr.wikipedia.org/wiki/Histogramme_(imagerie_num%C3%A9rique)\" target='_blank'>Histogramme (imagerie numérique)</a> - Wikipédia</li>\n",
        "        <li><a href=\"https://scikit-image.org/docs/0.18.x/auto_examples/color_exposure/plot_local_equalize.html#sphx-glr-auto-examples-color-exposure-plot-local-equalize-py\" target='_blank'>Histogram Equalization</a> - tutoriel scikit-image</li>\n",
        "    </ul>\n",
        "</ul>\n"
      ]
    },
    {
      "cell_type": "markdown",
      "metadata": {
        "id": "EGP5vKMPNSE1"
      },
      "source": [
        "# Égalisation d’un histogramme : transformation des niveaux de gris dans le but d'améliorer le contraste d'une image\n",
        "\n",
        "Cet exemple améliore une image à faible contraste, à l'aide de méthodes appelée égalisation d'histogramme, qui permet de mieux répartir les valeurs d'intensité les plus fréquentes dans une image. L'égalisation est intéressante pour les images dont la totalité, ou seulement une partie, est de faible contraste. Ces techniques sont utilisées pour la retouche de photographies.\n",
        "\n",
        "### Égalisation globale d'un histogramme\n",
        "\n",
        "L'égalisation globale de l'histogramme cherche à représenter chaque niveau de gris d'une image par un nombre égal de pixels. Par exemple, soit une image de 128 par 128 pixels qui comporte donc 16 384 pixels et 64 niveaux de gris. L'algorithme d'égalisation global de l'histogramme cherchera à obtenir 16384/64 = 256 pixels par niveau de gris.    \n",
        "\n",
        "### Égalisation locale d'un histogramme\n",
        "\n",
        "L'égalisation locale d'histogramme met l'accent sur les variations locales du niveau de gris. L'égalisation locale d'histogramme répartit les valeurs d'intensité les plus fréquentes dans une image. L'image égalisée a une fonction de distribution cumulative à peu près linéaire pour chaque voisinage de pixels.\n",
        "\n",
        "L’histogramme cumulé $h_c(x) = \\sum_{z\\le x} h_n(z)$ doit être le plus linéaire possible"
      ]
    },
    {
      "cell_type": "code",
      "execution_count": null,
      "metadata": {
        "id": "45KzSBUsNSE2"
      },
      "outputs": [],
      "source": [
        "!pip3 install -U scikit-image\n",
        "!pip3 install -U matplotlib\n",
        "print(\"Attention! Vous devez redémarrer l'exécution du carnet IPython\")"
      ]
    },
    {
      "cell_type": "code",
      "execution_count": null,
      "metadata": {
        "scrolled": true,
        "id": "1KK9sk4-NSE2"
      },
      "outputs": [],
      "source": [
        "# Source: https://scikit-image.org/docs/0.18.x/auto_examples/color_exposure/plot_local_equalize.html#sphx-glr-auto-examples-color-exposure-plot-local-equalize-py\n",
        "\n",
        "import numpy as np\n",
        "import matplotlib\n",
        "import matplotlib.pyplot as plt\n",
        "\n",
        "from skimage import data\n",
        "from skimage.util.dtype import dtype_range\n",
        "from skimage.util import img_as_ubyte\n",
        "from skimage import exposure\n",
        "from skimage.morphology import disk\n",
        "from skimage.morphology import ball\n",
        "from skimage.filters import rank\n",
        "\n",
        "matplotlib.rcParams['font.size'] = 9\n",
        "from matplotlib.patches import Rectangle\n",
        "\n",
        "def plot_img_and_hist(image, axes, bins=256):\n",
        "    \"\"\"Afficher une image accompagnée de son histogramme d'intensité lumineuse\n",
        "       et de son histogramme d'intensité lumineuse cumulé.\n",
        "    \"\"\"\n",
        "    ax_img, ax_hist = axes\n",
        "    ax_cdf = ax_hist.twinx()\n",
        "\n",
        "    # Afficher l'image\n",
        "    ax_img.imshow(image, cmap=plt.cm.gray)\n",
        "    ax_img.set_axis_off()\n",
        "\n",
        "    # Afficher l'histogramme\n",
        "    ax_hist.hist(image.ravel(), bins=bins, label=[\"histogramme\"])\n",
        "    ax_hist.ticklabel_format(axis='y')\n",
        "    ax_hist.set_xlabel('Intensité lumineuse du pixel')\n",
        "\n",
        "    xmin, xmax = dtype_range[image.dtype.type]\n",
        "    ax_hist.set_xlim(xmin, xmax)\n",
        "\n",
        "    # Afficher l'histogramme cumulé\n",
        "    img_cdf, bins = exposure.cumulative_distribution(image, bins)\n",
        "    ax_cdf.plot(bins, img_cdf, 'r')\n",
        "\n",
        "    return ax_img, ax_hist, ax_cdf\n",
        "\n",
        "# Lecture d'une image à faible contraste\n",
        "img = img_as_ubyte(data.moon())\n",
        "\n",
        "# Égalisation globale\n",
        "img_rescale = exposure.equalize_hist(img)\n",
        "\n",
        "# Égalisation locale\n",
        "groupe_de_pixels = disk(30)\n",
        "img_eq = rank.equalize(img, footprint=groupe_de_pixels)\n",
        "\n",
        "# Afficher les résultats\n",
        "fig = plt.figure(figsize=(20, 12))\n",
        "axes = np.zeros((2, 3), dtype=np.object_)\n",
        "axes[0, 0] = plt.subplot(2, 3, 1)\n",
        "axes[0, 1] = plt.subplot(2, 3, 2, sharex=axes[0, 0], sharey=axes[0, 0])\n",
        "axes[0, 2] = plt.subplot(2, 3, 3, sharex=axes[0, 0], sharey=axes[0, 0])\n",
        "axes[1, 0] = plt.subplot(2, 3, 4)\n",
        "axes[1, 1] = plt.subplot(2, 3, 5)\n",
        "axes[1, 2] = plt.subplot(2, 3, 6)\n",
        "\n",
        "# Créer la légende des histogrammes\n",
        "handles = [Rectangle((0,0),1,1,color=c,ec=\"k\") for c in [None,'r']]\n",
        "labels= [\"histogramme\",\"histogramme cumulé\"]\n",
        "\n",
        "ax_img, ax_hist, ax_cdf = plot_img_and_hist(img, axes[:, 0])\n",
        "ax_img.set_title('Image à faible contraste')\n",
        "ax_hist.set_ylabel('Nombre de pixels')\n",
        "ax_cdf.set_ylabel(\"Fraction de l'intensité lumineuse totale\")\n",
        "plt.legend(handles,labels,labelcolor=['#1F77B4','r'], framealpha=0.7, loc='upper left')\n",
        "\n",
        "ax_img, ax_hist, ax_cdf = plot_img_and_hist(img_rescale, axes[:, 1])\n",
        "ax_img.set_title('Égalisation globale')\n",
        "ax_hist.set_ylabel('Nombre de pixels')\n",
        "ax_cdf.set_ylabel(\"Fraction de l'intensité lumineuse totale\")\n",
        "plt.legend(handles,labels,labelcolor=['#1F77B4','r'], framealpha=0.7, loc='upper left')\n",
        "\n",
        "ax_img, ax_hist, ax_cdf = plot_img_and_hist(img_eq, axes[:, 2])\n",
        "ax_img.set_title('Égalisation locale')\n",
        "ax_hist.set_ylabel('Nombre de pixels')\n",
        "ax_cdf.set_ylabel(\"Fraction de l'intensité lumineuse totale\")\n",
        "plt.legend(handles,labels,labelcolor=['#1F77B4','r'], framealpha=0.7, loc='upper left')\n",
        "\n",
        "# Prévenir la superposition des étiquettes pour l'axe des y\n",
        "fig.tight_layout()"
      ]
    },
    {
      "cell_type": "code",
      "execution_count": null,
      "metadata": {
        "id": "KXwAVii7NSE2"
      },
      "outputs": [],
      "source": [
        "print(\"Exécution du carnet web IPython terminée\")"
      ]
    }
  ],
  "metadata": {
    "kernelspec": {
      "display_name": "Python 3",
      "language": "python",
      "name": "python3"
    },
    "language_info": {
      "codemirror_mode": {
        "name": "ipython",
        "version": 3
      },
      "file_extension": ".py",
      "mimetype": "text/x-python",
      "name": "python",
      "nbconvert_exporter": "python",
      "pygments_lexer": "ipython3",
      "version": "3.9.5"
    },
    "colab": {
      "provenance": []
    }
  },
  "nbformat": 4,
  "nbformat_minor": 0
}