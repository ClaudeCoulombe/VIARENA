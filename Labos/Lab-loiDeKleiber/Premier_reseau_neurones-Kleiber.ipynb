{
  "nbformat": 4,
  "nbformat_minor": 0,
  "metadata": {
    "kernelspec": {
      "display_name": "Python 3",
      "language": "python",
      "name": "python3"
    },
    "language_info": {
      "codemirror_mode": {
        "name": "ipython",
        "version": 3
      },
      "file_extension": ".py",
      "mimetype": "text/x-python",
      "name": "python",
      "nbconvert_exporter": "python",
      "pygments_lexer": "ipython3",
      "version": "3.6.5"
    },
    "colab": {
      "name": "Premier_reseau_neurones-Kleiber.ipynb",
      "provenance": []
    }
  },
  "cells": [
    {
      "cell_type": "markdown",
      "metadata": {
        "id": "ze91MJgymtrj"
      },
      "source": [
        "<a href=\"https://colab.research.google.com/github/ClaudeCoulombe/VIARENA/blob/master/Labos/Lab-loiDeKleiber/Premier_reseau_neurones-Kleiber.ipynb\" target=\"_blank\"><img src=\"https://colab.research.google.com/assets/colab-badge.svg\" alt=\"Open In Colab\"/></a>\n",
        "\n",
        "### Rappel - Fonctionnement d'un carnet web iPython\n",
        "\n",
        "* Pour exécuter le code contenu dans une cellule d'un carnet iPython, cliquez dans la cellule et faites (⇧↵, shift-enter) \n",
        "* Le code d'un carnet iPython s'exécute séquentiellement de haut en bas de la page. Souvent, l'importation d'une bibliothèque Python ou l'initialisation d'une variable est préalable à l'exécution d'une cellule située plus bas. Il est donc recommandé d'exécuter les cellules en séquence. Enfin, méfiez-vous des retours en arrière qui peuvent réinitialiser certaines variables."
      ]
    },
    {
      "cell_type": "markdown",
      "metadata": {
        "id": "yrC5dYHWmtrn"
      },
      "source": [
        "# Mon premier réseau de neurones avec Keras\n",
        "\n",
        "## Approximer une étrange loi de la nature directement à partir de données\n",
        "\n",
        "Vous allez créer votre premier réseau de neurones vraiment très simple pour faire de la reconnaissance de formes (pattern matching).\n",
        "\n",
        "Les biologistes ont découvert que certaines caractéristiques des êtres vivants peuvent être décrites par des lois de puissance. Par exemple, dans la nature, il y a plus de souris que d'éléphants et plus de mouches que de souris.  La taille des populations animales suit donc une loi de puissance avec la masse corporelle comme variable explicative.  Il en va de même pour le pouls, la durée de vie, le nombre d'œufs pondus par un oiseau, etc. Parfois, ces lois de puissance peuvent être prédites à partir de la géométrie, mais parfois elles demeurent mystérieuses. \n",
        "\n",
        "Par exemple, la loi de Kleiber, formulée par le biologiste Max Kleiber dans les années 1930, postule que la consommation d'énergie (le métabolisme) des animaux, y compris les humains, varie comme la puissance 3/4 de leur masse corporelle. Cette loi fonctionne des bactéries jusqu'aux baleines mais demeure pour le moment sans explication physique ou géométrique satisfaisante. \n",
        "\n",
        "https://fr.wikipedia.org/wiki/Loi_de_Kleiber\n",
        "\n",
        "On peut légitimenent se questionner sur l'utilité d'un tel exercice? En fait, ce qui est «intéressant» c'est de constater que le réseau de neurones va apprendre «seul» à partir des données à approximer cette étrange loi de la nature. \n",
        "\n",
        "**Note**: Il n'est pas important de comprendre le détail du code informatique pour le moment. Ne vous inquiétez pas, des explications détaillées suivront bientôt.\n"
      ]
    },
    {
      "cell_type": "markdown",
      "metadata": {
        "id": "dY5BxPGGmtro"
      },
      "source": [
        "# Acquisition des données...\n",
        "\n",
        "### Source des données: \n",
        "http://sites.science.oregonstate.edu/~schaferd/Sleuth/data-sets.html\n",
        "\n",
        "Le **Fichier ex0826.csv** contenu dans l'archive **sleuth3csv.zip** a été renommé **LoiDeKleiber.csv** avec une entête en français\n",
        "\n",
        "Ramsey, F., & Schafer, D. (2012). The statistical sleuth: a course in methods of data analysis. Cengage Learning.\n"
      ]
    },
    {
      "cell_type": "code",
      "metadata": {
        "id": "qF78tm-Cmtrw"
      },
      "source": [
        "! mkdir DATA"
      ],
      "execution_count": null,
      "outputs": []
    },
    {
      "cell_type": "code",
      "metadata": {
        "id": "KhlQhleLmtsT"
      },
      "source": [
        "! wget \"https://github.com/ClaudeCoulombe/VIARENA/blob/master/DATA/LoiDeKleiber.csv?raw=True\" -O DATA/LoiDeKleiber.csv"
      ],
      "execution_count": null,
      "outputs": []
    },
    {
      "cell_type": "markdown",
      "metadata": {
        "id": "U4xsS3qJmts1"
      },
      "source": [
        "# Quelques lignes de code..."
      ]
    },
    {
      "cell_type": "code",
      "metadata": {
        "scrolled": false,
        "id": "DbggB1rFmts1"
      },
      "source": [
        "import tensorflow as tf\n",
        "import numpy as np\n",
        "import pandas as pd\n",
        "\n",
        "\n",
        "loi_kleiber_data = pd.read_csv(\"DATA/LoiDeKleiber.csv\")\n",
        "loi_kleiber_data.head()\n",
        "\n",
        "# masse en kg\n",
        "# métabolisme en kJ par jour"
      ],
      "execution_count": null,
      "outputs": []
    },
    {
      "cell_type": "code",
      "metadata": {
        "id": "yPzrgfaBmts2"
      },
      "source": [
        "from sklearn.preprocessing import StandardScaler\n",
        "\n",
        "variable_explicative = loi_kleiber_data['Masse'].values.reshape(-1, 1)\n",
        "scaler_var_expl = StandardScaler()\n",
        "scaler_var_expl.fit(variable_explicative)\n",
        "variable_explicative = scaler_var_expl.transform(variable_explicative)\n",
        "\n",
        "variable_dependante = loi_kleiber_data['Metabolisme'].values.reshape(-1, 1)\n",
        "scaler_var_dep = StandardScaler()\n",
        "scaler_var_dep.fit(variable_dependante)\n",
        "variable_dependante = scaler_var_dep.transform(variable_dependante)\n",
        "\n",
        "reseau_de_neurones = tf.keras.models.Sequential([tf.keras.layers.Dense(units=1, input_shape=[1]),\n",
        "                                                 tf.keras.layers.Dense(units=10, activation='relu'),\n",
        "                                                 tf.keras.layers.Dense(units=1)])\n",
        "reseau_de_neurones.summary()\n",
        "reseau_de_neurones.compile(optimizer=tf.keras.optimizers.Adam(learning_rate=0.001),loss='mean_squared_error')\n",
        "history = reseau_de_neurones.fit(variable_explicative,variable_dependante,epochs=500,verbose=1)\n",
        "history.history['loss'][-1]\n"
      ],
      "execution_count": null,
      "outputs": []
    },
    {
      "cell_type": "markdown",
      "metadata": {
        "id": "PMnBwpDJmts8"
      },
      "source": [
        "### Test du réseau\n",
        "Nous allons valider la fonction que notre réseau a apprise entre la masse corporelle sur des données de test qui ne faisaient pas partie du jeu de données d'entraînement."
      ]
    },
    {
      "cell_type": "code",
      "metadata": {
        "id": "mAhMAOQumts8"
      },
      "source": [
        "# Être humain, Homo sapiens\n",
        "animal = \"être humain\"\n",
        "masse = 6.50E+01\n",
        "masse_normalisee = scaler_var_expl.transform(np.array([masse]).reshape(-1, 1))\n",
        "vraie_valeur_metabolisme = 7.56E+03\n",
        "print(\"\\nAnimal:\",animal,\n",
        "      \", Masse:\",masse,\n",
        "      \", prédiction =>\",\n",
        "      \"Métabolisme:\",scaler_var_dep.inverse_transform(reseau_de_neurones.predict(masse_normalisee))[0][0],\n",
        "      \"Vraie valeur du métabolisme :\",vraie_valeur_metabolisme)\n"
      ],
      "execution_count": null,
      "outputs": []
    },
    {
      "cell_type": "code",
      "metadata": {
        "id": "YbNdvaEOmts_"
      },
      "source": [
        "# Chat, Felis silvestris, 3.00E+00, 5.46E+02, 11\n",
        "animal = \"chat\"\n",
        "masse = 3.00E+00\n",
        "masse_normalisee = scaler_var_expl.transform(np.array([masse]).reshape(-1, 1))\n",
        "vraie_valeur_metabolisme = 5.46E+02\n",
        "print(\"\\nAnimal:\",animal,\n",
        "      \", Masse:\",masse,\n",
        "      \", prédiction =>\",\n",
        "      \"Métabolisme:\",scaler_var_dep.inverse_transform(reseau_de_neurones.predict(masse_normalisee))[0][0],\n",
        "      \"Vraie valeur du métabolisme :\",vraie_valeur_metabolisme)\n",
        "\n"
      ],
      "execution_count": null,
      "outputs": []
    },
    {
      "cell_type": "code",
      "metadata": {
        "id": "gDOCKkxlmts_"
      },
      "source": [
        "# Cheval, Equus cabalus, 4.00E+02, 3.20E+04, 40\n",
        "animal = \"cheval\"\n",
        "masse = 4.00E+02\n",
        "masse_normalisee = scaler_var_expl.transform(np.array([masse]).reshape(-1, 1))\n",
        "vraie_valeur_metabolisme = 3.20E+04\n",
        "print(\"\\nAnimal:\",animal,\n",
        "      \", Masse:\",masse,\n",
        "      \", prédiction =>\",\n",
        "      \"Métabolisme:\",scaler_var_dep.inverse_transform(reseau_de_neurones.predict(masse_normalisee))[0][0],\n",
        "      \"Vraie valeur du métabolisme :\",vraie_valeur_metabolisme)\n"
      ],
      "execution_count": null,
      "outputs": []
    },
    {
      "cell_type": "markdown",
      "metadata": {
        "id": "9rCGb18PmttB"
      },
      "source": [
        "### Conclusion\n",
        "\n",
        "Vous pouvez constater que le réseau de neurones retourne des valeurs assez proches des vraies valeurs données par la loi de Kleiber. Il est important de comprendre que le réseau de neurones n'apprend pas une formule exacte mais bien qu'il calcule itérativement une fonction qui approxime cette formule.  \n",
        "\n",
        "Choses à retenir:\n",
        "\n",
        "* Le réseau de neurones est capable d'apprendre à approximer une fonction directement à partir des données\n",
        "* Le processus d'apprentissage est itératif\n",
        "    "
      ]
    },
    {
      "cell_type": "code",
      "metadata": {
        "id": "Cc553BjImttC"
      },
      "source": [
        "print(\"Fin d'exécution du carnet IPython\")"
      ],
      "execution_count": null,
      "outputs": []
    },
    {
      "cell_type": "code",
      "metadata": {
        "id": "L22oIldf0y0u"
      },
      "source": [
        ""
      ],
      "execution_count": null,
      "outputs": []
    }
  ]
}