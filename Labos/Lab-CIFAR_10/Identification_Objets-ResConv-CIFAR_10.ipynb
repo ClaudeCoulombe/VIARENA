{
 "cells": [
  {
   "cell_type": "markdown",
   "id": "generic-answer",
   "metadata": {},
   "source": [
    "<a href=\"https://colab.research.google.com/github/ClaudeCoulombe/VIARENA/blob/master/Labos/Lab-CIFAR_10/Identification_Objets-ResConv-CIFAR_10.ipynb\" target=\"_blank\"><img src=\"https://colab.research.google.com/assets/colab-badge.svg\" alt=\"Open In Colab\"/></a>\n",
    "\n",
    "### Rappel - Fonctionnement d'un carnet web iPython\n",
    "\n",
    "* Pour exécuter le code contenu dans une cellule d'un carnet iPython, cliquez dans la cellule et faites (⇧↵, shift-enter) \n",
    "* Le code d'un carnet iPython s'exécute séquentiellement de haut en bas de la page. Souvent, l'importation d'une bibliothèque Python ou l'initialisation d'une variable est préalable à l'exécution d'une cellule située plus bas. Il est donc recommandé d'exécuter les cellules en séquence. Enfin, méfiez-vous des retours en arrière qui peuvent réinitialiser certaines variables."
   ]
  },
  {
   "cell_type": "markdown",
   "id": "decent-calculator",
   "metadata": {},
   "source": [
    "# Identification d'objets à partir de photos - jeu de données CIFAR-10\n",
    "## Labo réseau convolutif - architecture de base\n",
    "\n",
    "Inspiration: TensorFlow Tutorial <a href=\"https://www.tensorflow.org/tutorials/images/cnn?hl=fr\" target='_blank'>Tutoriel TensorFlow - Réseau neuronal convolutif</a>\n",
    "\n"
   ]
  },
  {
   "cell_type": "markdown",
   "id": "exposed-ownership",
   "metadata": {},
   "source": [
    "## Jeu de données - photos CIFAR-10\n",
    "L'ensemble de données CIFAR-10 (Canadian Institute For Advanced Research) comporte 60 000 photographies en couleur de 32×32 pixels d'objets de 10 classes différentes. Il est relativement simple d'atteindre une précision de 80 %. On peut obtenir des performances de 90 % avec ces données avec des réseaux neuronaux convolutifs. \n",
    "\n",
    "* 0 : avion\n",
    "* 1 : automobile\n",
    "* 2 : oiseau\n",
    "* 3 : chat\n",
    "* 4 : cerf\n",
    "* 5 : chien\n",
    "* 6 : grenouille\n",
    "* 7 : cheval\n",
    "* 8 : bateau\n",
    "* 9 : camion"
   ]
  },
  {
   "cell_type": "code",
   "execution_count": null,
   "id": "obvious-pittsburgh",
   "metadata": {},
   "outputs": [],
   "source": [
    "import os\n",
    "import matplotlib.pyplot as plt\n",
    "\n",
    "import tensorflow as tf\n",
    "print(\"TensorFlow version:\",tf.__version__)\n",
    "import keras\n",
    "print(\"Keras version:\",keras.__version__)\n",
    "\n",
    "# Importer le jeu de données CIFAR-10\n",
    "from keras.datasets import cifar10\n",
    "\n",
    "dic_noms_classe = { \n",
    "    0 : \"avion\",\n",
    "    1 : \"automobile\",\n",
    "    2 : \"oiseau\",\n",
    "    3 : \"chat\",\n",
    "    4 : \"cerf\",\n",
    "    5 : \"chien\",\n",
    "    6 : \"grenouille\",\n",
    "    7 : \"cheval\",\n",
    "    8 : \"bateau\",\n",
    "    9 : \"camion\",\n",
    "}\n",
    "\n",
    "# Lire le jeu de données CIFAR-10 et le diviser entre\n",
    "# les données d'entrainement et les données de test\n",
    "(attributs_entrainement, classes_cibles_entrainement), (attributs_test, classes_cibles_test) = cifar10.load_data()\n",
    "\n",
    "# résumé des données \n",
    "print()\n",
    "print('Entraînement: attributs=%s, classes-cibles=%s' % (attributs_entrainement.shape, classes_cibles_entrainement.shape))\n",
    "print('Test: attributs=%s, classes-cibles=%s' % (attributs_test.shape, classes_cibles_test.shape))\n",
    "\n",
    "# Afficher les 24 premières images\n",
    "print()\n",
    "print(\"Quelques images avec leur étiquette de classe-cible...\")\n",
    "%matplotlib inline\n",
    "# définir lagrill d'affichage des images\n",
    "fig, axes = plt.subplots(nrows=4,ncols=6,figsize=(10,8))\n",
    "for i_rangee in range(0,4):\n",
    "    for i_colonne in range(0,6):\n",
    "        axes[i_rangee,i_colonne].set_title(dic_noms_classe[int(classes_cibles_entrainement[i_rangee*6+i_colonne])],\n",
    "                                           fontsize=10)\n",
    "        axes[i_rangee,i_colonne].imshow(attributs_entrainement[i_rangee*6+i_colonne])\n",
    "plt.show()"
   ]
  },
  {
   "cell_type": "markdown",
   "id": "difficult-prompt",
   "metadata": {},
   "source": [
    "## Prétraitement des données"
   ]
  },
  {
   "cell_type": "code",
   "execution_count": null,
   "id": "constant-louisiana",
   "metadata": {},
   "outputs": [],
   "source": [
    "# Conversion des classes-cibles en vecteurs binaires à un bit discriminant\n",
    "from tensorflow.keras.utils import to_categorical\n",
    "\n",
    "classes_cibles_entrainement = to_categorical(classes_cibles_entrainement)\n",
    "classes_cibles_test = to_categorical(classes_cibles_test)\n",
    "\n",
    "# Normalisation\n",
    "\n",
    "def normalisation(entrainement, test):\n",
    "    # convertir de nombres entiers à nombres décimaux\n",
    "    entrainement_normalise = entrainement.astype('float32')\n",
    "    test_normalise = test.astype('float32')\n",
    "    # normalisation à un nombre entre 0 et 1\n",
    "    entrainement_normalise = entrainement_normalise / 255.0\n",
    "    test_normalise = test_normalise / 255.0\n",
    "    return entrainement_normalise, test_normalise\n",
    "\n",
    "attributs_entrainement, attributs_test = normalisation(attributs_entrainement, attributs_test)\n",
    "\n",
    "print(\"Normalisation terminée!\")"
   ]
  },
  {
   "cell_type": "markdown",
   "id": "aggressive-brother",
   "metadata": {},
   "source": [
    "## Modèle de base - réseau convolutif"
   ]
  },
  {
   "cell_type": "code",
   "execution_count": null,
   "id": "prerequisite-minutes",
   "metadata": {},
   "outputs": [],
   "source": [
    "## Construction du modèle\n",
    "\n",
    "from keras.models import Sequential\n",
    "from keras.layers import Conv2D\n",
    "from keras.layers import MaxPooling2D\n",
    "from keras.layers import Flatten\n",
    "from keras.layers import Dense\n",
    "\n",
    "print(\"Création d'un modèle de base...\")\n",
    "\n",
    "input_shape = (32, 32, 3)\n",
    "batch_size = 32\n",
    "# ou nombre de classes\n",
    "nombre_classes_cibles = 10\n",
    "\n",
    "modele_de_base = Sequential()\n",
    "\n",
    "# Apprentissage et extraction des attributs\n",
    "modele_de_base.add(Conv2D(32, \n",
    "                          kernel_size=(3,3),\n",
    "                          activation='relu',\n",
    "                          kernel_initializer='glorot_uniform',\n",
    "                          padding='same',\n",
    "                          strides=(1,1),\n",
    "                          input_shape=input_shape))\n",
    "modele_de_base.add(MaxPooling2D(pool_size=(2,2)))\n",
    "\n",
    "# Classification des images\n",
    "# Classificateur perceptron multicouche\n",
    "modele_de_base.add(Flatten())\n",
    "modele_de_base.add(Dense(128,\n",
    "                         activation='relu'))\n",
    "modele_de_base.add(Dense(nombre_classes_cibles, \n",
    "                         activation='softmax'))\n",
    "\n",
    "print()\n",
    "print(\"Description du modèle de base:\")\n",
    "modele_de_base.summary()"
   ]
  },
  {
   "cell_type": "code",
   "execution_count": null,
   "id": "entertaining-classroom",
   "metadata": {},
   "outputs": [],
   "source": [
    "# Compilation du modèle\n",
    "\n",
    "print()\n",
    "print(\"Compilation du modèle de base...\")\n",
    "\n",
    "modele_de_base.compile(loss=\"categorical_crossentropy\", \n",
    "                       optimizer=\"adam\", \n",
    "                       metrics=[\"accuracy\"])"
   ]
  },
  {
   "cell_type": "markdown",
   "id": "third-queens",
   "metadata": {},
   "source": [
    "## Entraînement du modèle"
   ]
  },
  {
   "cell_type": "code",
   "execution_count": null,
   "id": "equipped-situation",
   "metadata": {},
   "outputs": [],
   "source": [
    "# Entraînement du modèle\n",
    "\n",
    "print()\n",
    "print(\"Entraînement du modèle de base...\")\n",
    "\n",
    "batch_size = 128\n",
    "epochs = 15\n",
    "\n",
    "traces_entrainement = modele_de_base.fit(attributs_entrainement,\n",
    "                                         classes_cibles_entrainement,\n",
    "                                         batch_size=batch_size,\n",
    "                                         epochs=epochs,\n",
    "                                         validation_split=0.1)"
   ]
  },
  {
   "cell_type": "markdown",
   "id": "brutal-belief",
   "metadata": {},
   "source": [
    "## Évaluation du modèle"
   ]
  },
  {
   "cell_type": "code",
   "execution_count": null,
   "id": "thirty-economy",
   "metadata": {},
   "outputs": [],
   "source": [
    "# Évaluation du modèle\n",
    "print()\n",
    "print(\"Évaluation du modèle de base...\")\n",
    "\n",
    "resultats = modele_de_base.evaluate(attributs_test, classes_cibles_test, verbose=0)\n",
    "print(\"Exactitude test: {:.2f}%\".format(resultats[1]*100))"
   ]
  },
  {
   "cell_type": "markdown",
   "id": "north-material",
   "metadata": {},
   "source": [
    "## Affichage des courbes d'entraînement\n"
   ]
  },
  {
   "cell_type": "code",
   "execution_count": null,
   "id": "indie-airport",
   "metadata": {
    "scrolled": false
   },
   "outputs": [],
   "source": [
    "# Affichage des courbes d'entraînement\n",
    "hauteur = 8\n",
    "plt.subplots(figsize=(hauteur,1.618*hauteur))\n",
    "plt.subplot(211)\n",
    "plt.title('Erreur entropie croisée')\n",
    "plt.plot(traces_entrainement.history['loss'], color='blue', label='courbe entraînement')\n",
    "plt.plot(traces_entrainement.history['val_loss'], color='orange', label='courbe test')\n",
    "plt.ylabel(\"Erreur\")\n",
    "plt.xlabel(\"Nombre d'époques\")\n",
    "plt.legend()\n",
    "plt.show()\n",
    "# tracer l'exactitude\n",
    "plt.subplots(figsize=(hauteur,1.618*hauteur))\n",
    "plt.subplot(212)\n",
    "plt.title('\\nExactitude de la classification')\n",
    "plt.plot(traces_entrainement.history['accuracy'], color='blue', label='courbe entraînement')\n",
    "plt.plot(traces_entrainement.history['val_accuracy'], color='orange', label='courbe test')\n",
    "plt.ylabel(\"Exactitude\")\n",
    "plt.xlabel(\"Nombre d'époques\")\n",
    "plt.legend()\n",
    "plt.show()\n",
    "# Sauvegarde du graphique en format .png\n",
    "# nom_graphique = \"modele_de_base-courbes_entraînement.png\"\n",
    "# plt.savefig(nom_graphique)\n",
    "# plt.close()"
   ]
  },
  {
   "cell_type": "code",
   "execution_count": null,
   "id": "automated-martial",
   "metadata": {},
   "outputs": [],
   "source": [
    "print(\"Carnet IPython exécution terminée!\")"
   ]
  },
  {
   "cell_type": "code",
   "execution_count": null,
   "id": "fatal-mountain",
   "metadata": {},
   "outputs": [],
   "source": []
  }
 ],
 "metadata": {
  "kernelspec": {
   "display_name": "Python 3",
   "language": "python",
   "name": "python3"
  },
  "language_info": {
   "codemirror_mode": {
    "name": "ipython",
    "version": 3
   },
   "file_extension": ".py",
   "mimetype": "text/x-python",
   "name": "python",
   "nbconvert_exporter": "python",
   "pygments_lexer": "ipython3",
   "version": "3.8.8"
  }
 },
 "nbformat": 4,
 "nbformat_minor": 5
}
