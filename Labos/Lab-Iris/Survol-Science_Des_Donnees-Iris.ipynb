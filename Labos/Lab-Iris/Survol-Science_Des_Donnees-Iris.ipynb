{
 "cells": [
  {
   "cell_type": "markdown",
   "metadata": {},
   "source": [
    "<a style=\"float:left;\" href=\"https://colab.research.google.com/github/ClaudeCoulombe/VIARENA/blob/master/Labos/Lab-Iris/Survol-Science_Des_Donnees-Iris.ipynb\" target=\"_blank\"><img src=\"https://colab.research.google.com/assets/colab-badge.svg\" alt=\"Open In Colab\"/></a>\n",
    "<br/>\n",
    "### Rappel - Fonctionnement d'un carnet web iPython\n",
    "\n",
    "* Pour exécuter le code contenu dans une cellule d'un carnet iPython, cliquez dans la cellule et faites (⇧↵, shift-enter);\n",
    "* Le code d'un carnet iPython s'exécute séquentiellement de haut en bas de la page. Souvent, l'importation d'une bibliothèque Python ou l'initialisation d'une variable est préalable à l'exécution d'une cellule située plus bas. Il est donc recommandé d'exécuter les cellules en séquence. Enfin, méfiez-vous des retours en arrière qui peuvent réinitialiser certaines variables;\n",
    "* Pour obtenir de l'information sur une fonction, utilisez la commande Python `help(`\"nom de la fonction\"`)`"
   ]
  },
  {
   "cell_type": "markdown",
   "metadata": {},
   "source": [
    "<h1 style=\"font-size:250%;text-align:center\">Survol de la science des données</h1>\n",
    "<h1 style=\"font-size:250%;text-align:center\">avec le jeu de données des Iris gaspésiens</h1>\n",
    "<h1 style=\"font-size:250%;text-align:center\">avec pandas</h1>\n",
    "<br/><br/>\n",
    "<img src=\"https://cours.edulib.org/asset-v1:Cegep-Matane+VAERN.1FR+P2021+type@asset+block@ScDo-pandas_logo.png\" width=500 style=\"float:center;\"/>\n",
    "<br/>\n"
   ]
  },
  {
   "cell_type": "code",
   "execution_count": 1,
   "metadata": {},
   "outputs": [],
   "source": [
    "# https://stackoverflow.com/questions/40110540/jupyter-magic-to-handle-notebook-exceptions\n",
    "# Cette fonction sera appelée en cas d'exception\n",
    "# def erreur_execution_cellule(shell, etype, evalue, tb, tb_offset=None):\n",
    "#     print (\"Erreur! Le notebook doit être exécuté de haut en bas. Svp, recommencez!\") # <--- this is the variable with the traceback string\n",
    "\n",
    "# Met en place un gestionnaire d'exception pour le carnet Python en entier\n",
    "# get_ipython().set_custom_exc((Exception,), erreur_execution_cellule)"
   ]
  },
  {
   "cell_type": "code",
   "execution_count": 2,
   "metadata": {},
   "outputs": [],
   "source": [
    "# import os\n",
    "# os.kill(os.getpid(), 9)"
   ]
  },
  {
   "cell_type": "markdown",
   "metadata": {},
   "source": [
    "## Importation des bibliothèques utilisées pour le tutoriel\n"
   ]
  },
  {
   "cell_type": "code",
   "execution_count": 3,
   "metadata": {},
   "outputs": [
    {
     "name": "stdout",
     "output_type": "stream",
     "text": [
      "Bibliothèques Python importées\n"
     ]
    }
   ],
   "source": [
    "# Importer toutes les bibliothèques, classes et fonctions \n",
    "# utilisées pour le tutoriel dans l'espace de travail\n",
    "import scipy # bibliothèque de calcul scientifique \n",
    "import matplotlib # bibliothèque d'affichage graphique\n",
    "import sklearn # bibliothèque d'algorithmes \"classiques\" d'apprentissage automatique \n",
    "\n",
    "# Pour de grosses bibliothèques, vous pouvez importer seulement des parties \n",
    "# avec from <bibliothèque> import <classe/objet>\n",
    "# Note: «import *» importe le code de TOUS les paquets (packages), \n",
    "from numpy import * # bibliothèque de calcul matriciel\n",
    "from pandas import * # bibliothèque de manipulation de tableaux de données\n",
    "from sklearn import * # bibliothèque d'algorithmes \"classiques\" d'apprentissage automatique\n",
    "\n",
    "# Important: pour éviter des conflits dans l'espace de nommage, \n",
    "# vous pouvez renommer les bibliothèques importées\n",
    "\n",
    "# Renommages conventionnels: \n",
    "## import <bibliothèque> as <abréviation>\n",
    "# numpy devient «np»\n",
    "import numpy as np\n",
    "## matplotlib devient «plt»\n",
    "import matplotlib.pyplot as plt\n",
    "# La manière usuelle d'importer Pandas\n",
    "# Importer la biblothèque Pandas et la renommer «pd» \n",
    "import pandas as pd\n",
    "\n",
    "# Pour de grosses bibliothèques, vous pouvez importer seulement des parties \n",
    "# avec from <bibliothèque> import <classe/objet>\n",
    "# Importer les classes «Series» et «DataFrame» de Pandas\n",
    "from pandas import Series, DataFrame\n",
    "\n",
    "# Importer des classes ou fonctions spécifiques d'une bibliothèque \n",
    "# from <bibliotheque> import <fonction>\n",
    "from pandas import DataFrame, read_csv\n",
    "\n",
    "# Activer l'affichage des graphiques dans la page du Notebook iPython\n",
    "%matplotlib inline\n",
    "\n",
    "# Importer IPython afin de pouvoir vérifier sa version et d'afficher des contenus web dans le carnet\n",
    "import IPython\n",
    "\n",
    "# Bibliothèque «sys», utilisée uniquement pour obtenir les numéros de versions\n",
    "import sys \n",
    "\n",
    "print(\"Bibliothèques Python importées\")"
   ]
  },
  {
   "cell_type": "markdown",
   "metadata": {},
   "source": [
    "### Vérification de l'installation"
   ]
  },
  {
   "cell_type": "code",
   "execution_count": 4,
   "metadata": {},
   "outputs": [
    {
     "name": "stdout",
     "output_type": "stream",
     "text": [
      "Version de Python:  3.9.2 (default, Feb 24 2021, 13:30:36) \n",
      "[Clang 12.0.0 (clang-1200.0.32.29)]\n",
      "Version de IPython:  7.21.0\n",
      "Version de NumPy:  1.20.1\n",
      "Version de Matplotlib:  3.3.4\n",
      "Version de SciPy:  1.6.1\n",
      "Version de Pandas:  1.2.3\n",
      "Version de Scikit-Learn:  0.24.1\n"
     ]
    }
   ],
   "source": [
    "# Vérification des versions des bibliothèques Python importées\n",
    "print('Version de Python: ',sys.version)\n",
    "print('Version de IPython: ',IPython.__version__)\n",
    "print('Version de NumPy: ',np.__version__)\n",
    "print('Version de Matplotlib: ',matplotlib.__version__)\n",
    "print('Version de SciPy: ',scipy.__version__)\n",
    "print('Version de Pandas: ',pd.__version__)\n",
    "print('Version de Scikit-Learn: ',sklearn.__version__)"
   ]
  },
  {
   "cell_type": "markdown",
   "metadata": {},
   "source": [
    "## Lecture et chargement des données\n",
    "\n",
    "Nous allons utiliser le célèbre jeu de de données sur les fleurs d'iris de Gaspésie. \n",
    "\n",
    "Rappelons que ce jeu de données contient 150 observations ou exemplaires de fleurs d'iris. Chaque observation comporte quatre attributs (longueur et la largeur des pétales et des sépales) mesurés sur des fleurs d'iris de trois espèces différentes (Iris setosa, Iris versicolor, Iris virginica). \n",
    "\n",
    "Cela donne un tableau de cinq colonnes, les quatre premières colonnes contiennent des mesures des fleurs en centimètres. La cinquième colonne contient l'étiquette de la classe-cible qui est l'espèce de la fleur observée. \n",
    "\n",
    "<ol>\n",
    "    <li>longueur des sépales en cm</li>\n",
    "    <li>largeur des sépales en cm</li>\n",
    "    <li>longueur des pétales en cm</li>\n",
    "    <li>largeur des pétales en cm</li>\n",
    "    <li>espèce (étiquette de la classe-cible): \"Iris-setosa\", ou \"Iris-versicolor\", ou \"Iris-virginica\"</li>\n",
    "</ol>"
   ]
  },
  {
   "cell_type": "markdown",
   "metadata": {},
   "source": [
    "### Téléchargement des données 'iris.data' du site de l'université de Californie à Irvine\n",
    "\n",
    "<a href=\"https://archive.ics.uci.edu/ml/index.php/\" target=\"_blank\">UCI Machine Learning Repository</a>\n",
    "\n",
    "Note: le jeu de données 'iris.data' qui est en format .csv (comma separated value), sera téléchargés dans le répertoire local"
   ]
  },
  {
   "cell_type": "code",
   "execution_count": 5,
   "metadata": {},
   "outputs": [
    {
     "name": "stdout",
     "output_type": "stream",
     "text": [
      "/Users/claudecoulombe/Documents/PERSONNEL/LINGUA_CLOM-Expert/Projet_VIARENA/Lab-Iris\r\n"
     ]
    }
   ],
   "source": [
    "# Commande Linux pour connaître le chemin du répertoire local\n",
    "!pwd"
   ]
  },
  {
   "cell_type": "code",
   "execution_count": 7,
   "metadata": {},
   "outputs": [
    {
     "name": "stdout",
     "output_type": "stream",
     "text": [
      "--2021-03-08 05:10:23--  https://archive.ics.uci.edu/ml/machine-learning-databases/iris/iris.data\n",
      "Resolving archive.ics.uci.edu (archive.ics.uci.edu)... 128.195.10.252\n",
      "Connecting to archive.ics.uci.edu (archive.ics.uci.edu)|128.195.10.252|:443... connected.\n",
      "HTTP request sent, awaiting response... 200 OK\n",
      "Length: 4551 (4.4K) [application/x-httpd-php]\n",
      "Saving to: ‘iris.data.1’\n",
      "\n",
      "iris.data.1         100%[===================>]   4.44K  --.-KB/s    in 0s      \n",
      "\n",
      "2021-03-08 05:10:24 (49.3 MB/s) - ‘iris.data.1’ saved [4551/4551]\n",
      "\n",
      "Données Iris téléchargées\n"
     ]
    }
   ],
   "source": [
    "# Commande Linux pour télécharger un fichier è partir de son URL\n",
    "! wget https://archive.ics.uci.edu/ml/machine-learning-databases/iris/iris.data\n",
    "print(\"Données Iris téléchargées\")"
   ]
  },
  {
   "cell_type": "markdown",
   "metadata": {},
   "source": [
    "### Lecture des données - fonction Pandas `read_csv()`"
   ]
  },
  {
   "cell_type": "code",
   "execution_count": 6,
   "metadata": {},
   "outputs": [
    {
     "name": "stdout",
     "output_type": "stream",
     "text": [
      "Données Iris lues et mémorisées dans la variable 'donnees_iris_df'\n"
     ]
    }
   ],
   "source": [
    "# Création d'une liste de noms d'attributs en français\n",
    "noms_attributs = [\"longueur_sépales\",\"largeur_sépales\",\"longueur_pétales\",\"largeur_pétales\", \"espèce\"]\n",
    "\n",
    "# pd.read_csv(...) cette fonction de Pandas Retourne un Dataframe ou tableau de données analogue à un tableur \n",
    "# où chaque ligne représente un exemplaire de données (observations ou exemples) \n",
    "# et chaque colonne représente la valeur d'un attribut (ou caractéristique).\n",
    "donnees_iris_df = pd.read_csv(\"./iris.data\", names=noms_attributs)\n",
    "print(\"Données Iris lues et mémorisées dans la variable 'donnees_iris_df'\")"
   ]
  },
  {
   "cell_type": "markdown",
   "metadata": {},
   "source": [
    "## Exploration des données\n",
    "\n",
    "L’analyse des données débute généralement par l'exploration et la visualisation des données. On cherche ici à se familiariser, mieux comprendre et détecter des éventuelles anomalies comme les données aberrantes. \n",
    "\n",
    "### Affichage des premières rangées de données - fonction DataFrame `head()`"
   ]
  },
  {
   "cell_type": "code",
   "execution_count": 7,
   "metadata": {},
   "outputs": [
    {
     "data": {
      "text/html": [
       "<div>\n",
       "<style scoped>\n",
       "    .dataframe tbody tr th:only-of-type {\n",
       "        vertical-align: middle;\n",
       "    }\n",
       "\n",
       "    .dataframe tbody tr th {\n",
       "        vertical-align: top;\n",
       "    }\n",
       "\n",
       "    .dataframe thead th {\n",
       "        text-align: right;\n",
       "    }\n",
       "</style>\n",
       "<table border=\"1\" class=\"dataframe\">\n",
       "  <thead>\n",
       "    <tr style=\"text-align: right;\">\n",
       "      <th></th>\n",
       "      <th>longueur_sépales</th>\n",
       "      <th>largeur_sépales</th>\n",
       "      <th>longueur_pétales</th>\n",
       "      <th>largeur_pétales</th>\n",
       "      <th>espèce</th>\n",
       "    </tr>\n",
       "  </thead>\n",
       "  <tbody>\n",
       "    <tr>\n",
       "      <th>0</th>\n",
       "      <td>5.1</td>\n",
       "      <td>3.5</td>\n",
       "      <td>1.4</td>\n",
       "      <td>0.2</td>\n",
       "      <td>Iris-setosa</td>\n",
       "    </tr>\n",
       "    <tr>\n",
       "      <th>1</th>\n",
       "      <td>4.9</td>\n",
       "      <td>3.0</td>\n",
       "      <td>1.4</td>\n",
       "      <td>0.2</td>\n",
       "      <td>Iris-setosa</td>\n",
       "    </tr>\n",
       "    <tr>\n",
       "      <th>2</th>\n",
       "      <td>4.7</td>\n",
       "      <td>3.2</td>\n",
       "      <td>1.3</td>\n",
       "      <td>0.2</td>\n",
       "      <td>Iris-setosa</td>\n",
       "    </tr>\n",
       "    <tr>\n",
       "      <th>3</th>\n",
       "      <td>4.6</td>\n",
       "      <td>3.1</td>\n",
       "      <td>1.5</td>\n",
       "      <td>0.2</td>\n",
       "      <td>Iris-setosa</td>\n",
       "    </tr>\n",
       "    <tr>\n",
       "      <th>4</th>\n",
       "      <td>5.0</td>\n",
       "      <td>3.6</td>\n",
       "      <td>1.4</td>\n",
       "      <td>0.2</td>\n",
       "      <td>Iris-setosa</td>\n",
       "    </tr>\n",
       "  </tbody>\n",
       "</table>\n",
       "</div>"
      ],
      "text/plain": [
       "   longueur_sépales  largeur_sépales  longueur_pétales  largeur_pétales  \\\n",
       "0               5.1              3.5               1.4              0.2   \n",
       "1               4.9              3.0               1.4              0.2   \n",
       "2               4.7              3.2               1.3              0.2   \n",
       "3               4.6              3.1               1.5              0.2   \n",
       "4               5.0              3.6               1.4              0.2   \n",
       "\n",
       "        espèce  \n",
       "0  Iris-setosa  \n",
       "1  Iris-setosa  \n",
       "2  Iris-setosa  \n",
       "3  Iris-setosa  \n",
       "4  Iris-setosa  "
      ]
     },
     "execution_count": 7,
     "metadata": {},
     "output_type": "execute_result"
    }
   ],
   "source": [
    "# La fonction head() affiche les 5 premières lignes ou rangées du DataFrame\n",
    "donnees_iris_df.head()"
   ]
  },
  {
   "cell_type": "markdown",
   "metadata": {},
   "source": [
    "### Affichage des dernières rangées des données - fonction DataFrame `.tail()`"
   ]
  },
  {
   "cell_type": "code",
   "execution_count": 8,
   "metadata": {},
   "outputs": [
    {
     "data": {
      "text/html": [
       "<div>\n",
       "<style scoped>\n",
       "    .dataframe tbody tr th:only-of-type {\n",
       "        vertical-align: middle;\n",
       "    }\n",
       "\n",
       "    .dataframe tbody tr th {\n",
       "        vertical-align: top;\n",
       "    }\n",
       "\n",
       "    .dataframe thead th {\n",
       "        text-align: right;\n",
       "    }\n",
       "</style>\n",
       "<table border=\"1\" class=\"dataframe\">\n",
       "  <thead>\n",
       "    <tr style=\"text-align: right;\">\n",
       "      <th></th>\n",
       "      <th>longueur_sépales</th>\n",
       "      <th>largeur_sépales</th>\n",
       "      <th>longueur_pétales</th>\n",
       "      <th>largeur_pétales</th>\n",
       "      <th>espèce</th>\n",
       "    </tr>\n",
       "  </thead>\n",
       "  <tbody>\n",
       "    <tr>\n",
       "      <th>145</th>\n",
       "      <td>6.7</td>\n",
       "      <td>3.0</td>\n",
       "      <td>5.2</td>\n",
       "      <td>2.3</td>\n",
       "      <td>Iris-virginica</td>\n",
       "    </tr>\n",
       "    <tr>\n",
       "      <th>146</th>\n",
       "      <td>6.3</td>\n",
       "      <td>2.5</td>\n",
       "      <td>5.0</td>\n",
       "      <td>1.9</td>\n",
       "      <td>Iris-virginica</td>\n",
       "    </tr>\n",
       "    <tr>\n",
       "      <th>147</th>\n",
       "      <td>6.5</td>\n",
       "      <td>3.0</td>\n",
       "      <td>5.2</td>\n",
       "      <td>2.0</td>\n",
       "      <td>Iris-virginica</td>\n",
       "    </tr>\n",
       "    <tr>\n",
       "      <th>148</th>\n",
       "      <td>6.2</td>\n",
       "      <td>3.4</td>\n",
       "      <td>5.4</td>\n",
       "      <td>2.3</td>\n",
       "      <td>Iris-virginica</td>\n",
       "    </tr>\n",
       "    <tr>\n",
       "      <th>149</th>\n",
       "      <td>5.9</td>\n",
       "      <td>3.0</td>\n",
       "      <td>5.1</td>\n",
       "      <td>1.8</td>\n",
       "      <td>Iris-virginica</td>\n",
       "    </tr>\n",
       "  </tbody>\n",
       "</table>\n",
       "</div>"
      ],
      "text/plain": [
       "     longueur_sépales  largeur_sépales  longueur_pétales  largeur_pétales  \\\n",
       "145               6.7              3.0               5.2              2.3   \n",
       "146               6.3              2.5               5.0              1.9   \n",
       "147               6.5              3.0               5.2              2.0   \n",
       "148               6.2              3.4               5.4              2.3   \n",
       "149               5.9              3.0               5.1              1.8   \n",
       "\n",
       "             espèce  \n",
       "145  Iris-virginica  \n",
       "146  Iris-virginica  \n",
       "147  Iris-virginica  \n",
       "148  Iris-virginica  \n",
       "149  Iris-virginica  "
      ]
     },
     "execution_count": 8,
     "metadata": {},
     "output_type": "execute_result"
    }
   ],
   "source": [
    "# La fonction tail() affiche les 5 dernières rangées ou lignes du DataFrame\n",
    "donnees_iris_df.tail()"
   ]
  },
  {
   "cell_type": "markdown",
   "metadata": {},
   "source": [
    "### Vues récapitulatives, l'attribut DataFrame `.shape` et les fonctions DataFrame `.info()` et `.describe()`\n",
    "\n",
    "Une seconde étape consiste à explorer chaque attribut (ou caractéristique) pour en connaître la distribution statistique. Par exemple, les différentes valeurs, l’étendue (valeur minimale, valeur maximale), la moyenne, et la variance. "
   ]
  },
  {
   "cell_type": "markdown",
   "metadata": {},
   "source": [
    "#### Format du tableau de données - l'attribut DataFrame `.shape` "
   ]
  },
  {
   "cell_type": "code",
   "execution_count": 9,
   "metadata": {},
   "outputs": [
    {
     "data": {
      "text/plain": [
       "(150, 5)"
      ]
     },
     "execution_count": 9,
     "metadata": {},
     "output_type": "execute_result"
    }
   ],
   "source": [
    "donnees_iris_df.shape"
   ]
  },
  {
   "cell_type": "markdown",
   "metadata": {},
   "source": [
    "On voit que le fichier comporte 150 lignes ou exemplaires et 5 colonnes ou attributs"
   ]
  },
  {
   "cell_type": "markdown",
   "metadata": {},
   "source": [
    "#### Obtenir le nom des colonnes ou attributs du tableau de données - l'attribut DataFframe `.columns` "
   ]
  },
  {
   "cell_type": "code",
   "execution_count": 10,
   "metadata": {},
   "outputs": [
    {
     "data": {
      "text/plain": [
       "Index(['longueur_sépales', 'largeur_sépales', 'longueur_pétales',\n",
       "       'largeur_pétales', 'espèce'],\n",
       "      dtype='object')"
      ]
     },
     "execution_count": 10,
     "metadata": {},
     "output_type": "execute_result"
    }
   ],
   "source": [
    "donnees_iris_df.columns"
   ]
  },
  {
   "cell_type": "markdown",
   "metadata": {},
   "source": [
    "#### Obtenir les types de données associés aux colonnes du tableau de données -  l'attribut DataFrame `.dtypes` "
   ]
  },
  {
   "cell_type": "code",
   "execution_count": 11,
   "metadata": {},
   "outputs": [
    {
     "data": {
      "text/plain": [
       "longueur_sépales    float64\n",
       "largeur_sépales     float64\n",
       "longueur_pétales    float64\n",
       "largeur_pétales     float64\n",
       "espèce               object\n",
       "dtype: object"
      ]
     },
     "execution_count": 11,
     "metadata": {},
     "output_type": "execute_result"
    }
   ],
   "source": [
    "donnees_iris_df.dtypes"
   ]
  },
  {
   "cell_type": "markdown",
   "metadata": {},
   "source": [
    "#### Vue récapitulative du tableau de données - fonction DataFrame `.info()`"
   ]
  },
  {
   "cell_type": "code",
   "execution_count": 12,
   "metadata": {},
   "outputs": [
    {
     "name": "stdout",
     "output_type": "stream",
     "text": [
      "<class 'pandas.core.frame.DataFrame'>\n",
      "RangeIndex: 150 entries, 0 to 149\n",
      "Data columns (total 5 columns):\n",
      " #   Column            Non-Null Count  Dtype  \n",
      "---  ------            --------------  -----  \n",
      " 0   longueur_sépales  150 non-null    float64\n",
      " 1   largeur_sépales   150 non-null    float64\n",
      " 2   longueur_pétales  150 non-null    float64\n",
      " 3   largeur_pétales   150 non-null    float64\n",
      " 4   espèce            150 non-null    object \n",
      "dtypes: float64(4), object(1)\n",
      "memory usage: 6.0+ KB\n"
     ]
    }
   ],
   "source": [
    "donnees_iris_df.info()"
   ]
  },
  {
   "cell_type": "markdown",
   "metadata": {},
   "source": [
    "#### Statistiques descriptives globales du tableau de données - fonction DataFrame `.describe()`\n",
    "\n",
    "Maintenant, examinons notre tableau de données avec la fonction DataFrame `.describe()` \n",
    "\n",
    "La fonction `describe()` retourne plusieurs statistiques sommaires d'un seul coup."
   ]
  },
  {
   "cell_type": "code",
   "execution_count": 13,
   "metadata": {},
   "outputs": [
    {
     "data": {
      "text/html": [
       "<div>\n",
       "<style scoped>\n",
       "    .dataframe tbody tr th:only-of-type {\n",
       "        vertical-align: middle;\n",
       "    }\n",
       "\n",
       "    .dataframe tbody tr th {\n",
       "        vertical-align: top;\n",
       "    }\n",
       "\n",
       "    .dataframe thead th {\n",
       "        text-align: right;\n",
       "    }\n",
       "</style>\n",
       "<table border=\"1\" class=\"dataframe\">\n",
       "  <thead>\n",
       "    <tr style=\"text-align: right;\">\n",
       "      <th></th>\n",
       "      <th>longueur_sépales</th>\n",
       "      <th>largeur_sépales</th>\n",
       "      <th>longueur_pétales</th>\n",
       "      <th>largeur_pétales</th>\n",
       "    </tr>\n",
       "  </thead>\n",
       "  <tbody>\n",
       "    <tr>\n",
       "      <th>count</th>\n",
       "      <td>150.000000</td>\n",
       "      <td>150.000000</td>\n",
       "      <td>150.000000</td>\n",
       "      <td>150.000000</td>\n",
       "    </tr>\n",
       "    <tr>\n",
       "      <th>mean</th>\n",
       "      <td>5.843333</td>\n",
       "      <td>3.054000</td>\n",
       "      <td>3.758667</td>\n",
       "      <td>1.198667</td>\n",
       "    </tr>\n",
       "    <tr>\n",
       "      <th>std</th>\n",
       "      <td>0.828066</td>\n",
       "      <td>0.433594</td>\n",
       "      <td>1.764420</td>\n",
       "      <td>0.763161</td>\n",
       "    </tr>\n",
       "    <tr>\n",
       "      <th>min</th>\n",
       "      <td>4.300000</td>\n",
       "      <td>2.000000</td>\n",
       "      <td>1.000000</td>\n",
       "      <td>0.100000</td>\n",
       "    </tr>\n",
       "    <tr>\n",
       "      <th>25%</th>\n",
       "      <td>5.100000</td>\n",
       "      <td>2.800000</td>\n",
       "      <td>1.600000</td>\n",
       "      <td>0.300000</td>\n",
       "    </tr>\n",
       "    <tr>\n",
       "      <th>50%</th>\n",
       "      <td>5.800000</td>\n",
       "      <td>3.000000</td>\n",
       "      <td>4.350000</td>\n",
       "      <td>1.300000</td>\n",
       "    </tr>\n",
       "    <tr>\n",
       "      <th>75%</th>\n",
       "      <td>6.400000</td>\n",
       "      <td>3.300000</td>\n",
       "      <td>5.100000</td>\n",
       "      <td>1.800000</td>\n",
       "    </tr>\n",
       "    <tr>\n",
       "      <th>max</th>\n",
       "      <td>7.900000</td>\n",
       "      <td>4.400000</td>\n",
       "      <td>6.900000</td>\n",
       "      <td>2.500000</td>\n",
       "    </tr>\n",
       "  </tbody>\n",
       "</table>\n",
       "</div>"
      ],
      "text/plain": [
       "       longueur_sépales  largeur_sépales  longueur_pétales  largeur_pétales\n",
       "count        150.000000       150.000000        150.000000       150.000000\n",
       "mean           5.843333         3.054000          3.758667         1.198667\n",
       "std            0.828066         0.433594          1.764420         0.763161\n",
       "min            4.300000         2.000000          1.000000         0.100000\n",
       "25%            5.100000         2.800000          1.600000         0.300000\n",
       "50%            5.800000         3.000000          4.350000         1.300000\n",
       "75%            6.400000         3.300000          5.100000         1.800000\n",
       "max            7.900000         4.400000          6.900000         2.500000"
      ]
     },
     "execution_count": 13,
     "metadata": {},
     "output_type": "execute_result"
    }
   ],
   "source": [
    "donnees_iris_df.describe()"
   ]
  },
  {
   "cell_type": "markdown",
   "metadata": {},
   "source": [
    "On voit ci-haut que le DataFrame «donnees_iris_df» comporte 150 rangées qui correspondent à autant d'observations ou exemplaires de données sur les fleurs d'Iris. Par exemple, la longueur moyenne des sépales est 5.84 cm, la longueur minimale des sépales est 4.3 cm, la longueur au 1er quartile Q1 (25%) est de 5.1 cm (i.e. 25% des mesures sont < 5.1 cm)  la médiane Q2 (50%) est de 5.8 cm (i.e. 50% des mesures sont < 5.8 cm), la longueur du 3e quartile (75%) est de 6.4 cm (i.e. 75% des mesures sont < 6.4 cm), la longueur maximale des sépales est 7.9 cm,. \n",
    "\n",
    "On remarquera aussi, que les attributs catégoriels comme 'espèce' ne sont pas considérés par la fonction `.describe()`"
   ]
  },
  {
   "cell_type": "markdown",
   "metadata": {},
   "source": [
    "### Vue par attribut - fonction DataFrame `.unique()`\n",
    "\n",
    "Pour lister les différentes valeurs possibles d'un attribut, on utilise la fonction `.unique()`"
   ]
  },
  {
   "cell_type": "code",
   "execution_count": 14,
   "metadata": {},
   "outputs": [
    {
     "data": {
      "text/plain": [
       "array(['Iris-setosa', 'Iris-versicolor', 'Iris-virginica'], dtype=object)"
      ]
     },
     "execution_count": 14,
     "metadata": {},
     "output_type": "execute_result"
    }
   ],
   "source": [
    "donnees_iris_df['espèce'].unique()\n"
   ]
  },
  {
   "cell_type": "code",
   "execution_count": 15,
   "metadata": {},
   "outputs": [
    {
     "data": {
      "text/plain": [
       "array([5.1, 4.9, 4.7, 4.6, 5. , 5.4, 4.4, 4.8, 4.3, 5.8, 5.7, 5.2, 5.5,\n",
       "       4.5, 5.3, 7. , 6.4, 6.9, 6.5, 6.3, 6.6, 5.9, 6. , 6.1, 5.6, 6.7,\n",
       "       6.2, 6.8, 7.1, 7.6, 7.3, 7.2, 7.7, 7.4, 7.9])"
      ]
     },
     "execution_count": 15,
     "metadata": {},
     "output_type": "execute_result"
    }
   ],
   "source": [
    "donnees_iris_df['longueur_sépales'].unique()\n"
   ]
  },
  {
   "cell_type": "markdown",
   "metadata": {},
   "source": [
    "Note: Les valeurs `nan`, `NaN` => Not a Number, dénotent le plus souvent des valeurs manquantes. Ici, il y en a pas."
   ]
  },
  {
   "cell_type": "markdown",
   "metadata": {},
   "source": [
    "### Examen des distributions des attributs numériques et des attributs catégoriels\n",
    "\n",
    "#### Boîte à moustaches\n",
    "Une boîte à moustaches (whisker box) est une méthode d'affichage permettant de représenter graphiquement la distribution des données sur la base de cinq valeurs (le «minimum», le premier quartile (Q1), la médiane (ligne du milieu), le troisième quartile (Q3) et le «maximum»). Un cadre s'étend des valeurs du quartile Q1 au quartile Q3 des données, avec une ligne à la médiane (Q2). Les moustaches s’étendent à partir des bords de la boîte pour indiquer la plage des données.\n",
    "<br/><br/>\n",
    "<img style=\"float:left;\" src=\"https://cours.edulib.org/asset-v1:Cegep-Matane+VAERN.1FR+P2021+type@asset+block@Boi_te_a__moustache.png\" width=300/>\n",
    "<br/><br/><br/>\n",
    "<p> Note: Dans les boîtes à moustaches plus bas, nous avons ajouté une ligne pointillée pour indiquer la moyenne.</p>\n",
    "<p>La boîte à moustaches peut renseigner sur les anomalies ou valeurs aberrantes (outliers). Elle peut également vous indiquer à quel point vos données sont groupées et si vos données sont distribuées symétriquement ou asymétriquement.</p>"
   ]
  },
  {
   "cell_type": "code",
   "execution_count": 16,
   "metadata": {
    "scrolled": false
   },
   "outputs": [
    {
     "name": "stdout",
     "output_type": "stream",
     "text": [
      "------------------------------------------------------------------------------------------\n",
      "Attribut: longueur_sépales , Type: float64\n"
     ]
    },
    {
     "data": {
      "image/png": "[encoded data removed]",
      "text/plain": [
       "<Figure size 864x864 with 2 Axes>"
      ]
     },
     "metadata": {
      "needs_background": "light"
     },
     "output_type": "display_data"
    },
    {
     "name": "stdout",
     "output_type": "stream",
     "text": [
      "\n",
      "------------------------------------------------------------------------------------------\n",
      "Attribut: largeur_sépales , Type: float64\n"
     ]
    },
    {
     "data": {
      "image/png": "[encoded data removed]",
      "text/plain": [
       "<Figure size 864x864 with 2 Axes>"
      ]
     },
     "metadata": {
      "needs_background": "light"
     },
     "output_type": "display_data"
    },
    {
     "name": "stdout",
     "output_type": "stream",
     "text": [
      "\n",
      "------------------------------------------------------------------------------------------\n",
      "Attribut: longueur_pétales , Type: float64\n"
     ]
    },
    {
     "data": {
      "image/png": "[encoded data removed]",
      "text/plain": [
       "<Figure size 864x864 with 2 Axes>"
      ]
     },
     "metadata": {
      "needs_background": "light"
     },
     "output_type": "display_data"
    },
    {
     "name": "stdout",
     "output_type": "stream",
     "text": [
      "\n",
      "------------------------------------------------------------------------------------------\n",
      "Attribut: largeur_pétales , Type: float64\n"
     ]
    },
    {
     "data": {
      "image/png": "[encoded data removed]",
      "text/plain": [
       "<Figure size 864x864 with 2 Axes>"
      ]
     },
     "metadata": {
      "needs_background": "light"
     },
     "output_type": "display_data"
    },
    {
     "name": "stdout",
     "output_type": "stream",
     "text": [
      "\n",
      "------------------------------------------------------------------------------------------\n",
      "Attribut: espèce , Type: object\n",
      "Nombre d'attributs_uniques: 3\n",
      "['Iris-setosa', 'Iris-versicolor', 'Iris-virginica']\n",
      "\n",
      "un_dataframe.groupby('espèce').size()\n",
      " espèce\n",
      "Iris-setosa        50\n",
      "Iris-versicolor    50\n",
      "Iris-virginica     50\n",
      "dtype: int64\n",
      "\n",
      "------------------------------------------------------------------------------------------\n"
     ]
    }
   ],
   "source": [
    "import pandas as pd\n",
    "from matplotlib import pyplot as plt\n",
    "%matplotlib inline\n",
    "from pandas.api.types import is_string_dtype, is_numeric_dtype \n",
    "\n",
    "NBR_MAX_ATTRIBUTS_AFFICHES = 50\n",
    "\n",
    "# Créer une boîte à moustaches ou une listes de valeurs possibles\n",
    "# pour chaque attribut ou colonne d'un tableau de données\n",
    "\n",
    "# Propriétés pour changer le style des boîtes à moustaches\n",
    "boite_props = dict(color='#146496',linestyle='solid', linewidth=2, )\n",
    "anomalies_props = dict(color='red', marker='X', markerfacecolor=None, markersize=8, linewidth=4)\n",
    "mediane_props = dict(color='orange', linestyle='solid', linewidth=2)\n",
    "moyenne_props = dict(color='orange', marker=None, markeredgecolor=None, linestyle='dotted', linewidth=2)\n",
    "moustaches_props=dict(color='#146496', linewidth=2)\n",
    "\n",
    "def examen_distributions_attributs(un_dataframe):\n",
    "    for attribut in un_dataframe.columns:\n",
    "        # Afficher le type d'atribut\n",
    "        print(\"-\"*90)\n",
    "        print(\"Attribut:\",attribut,\", Type:\",un_dataframe.dtypes[attribut])\n",
    "        # Si c'est un attribut catégoriel alors lister toutes les valeurs possibles\n",
    "        if is_string_dtype(un_dataframe[attribut]):\n",
    "            attributs_uniques = list(un_dataframe[attribut].unique())\n",
    "            print(\"Nombre d'attributs_uniques:\",len(attributs_uniques))\n",
    "            if len(attributs_uniques) > NBR_MAX_ATTRIBUTS_AFFICHES:\n",
    "                print(\"Affichage des \" + str(NBR_MAX_ATTRIBUTS_AFFICHES) + \" premières valeurs:\")\n",
    "                print(attributs_uniques[:NBR_MAX_ATTRIBUTS_AFFICHES])\n",
    "            else:\n",
    "                print(attributs_uniques)\n",
    "                print(\"\\nun_dataframe.groupby('\"+attribut+\"').size()\\n\",un_dataframe.groupby(attribut).size())\n",
    "        if is_numeric_dtype(un_dataframe[attribut]):\n",
    "            fig = plt.figure(figsize=(12,12))\n",
    "            plt.subplot(2,2,1)\n",
    "            plt.boxplot(un_dataframe[attribut],\n",
    "                        meanline=True,showmeans=True,\n",
    "                        boxprops=boite_props,\n",
    "                        flierprops=anomalies_props,\n",
    "                        medianprops=mediane_props,\n",
    "                        meanprops=moyenne_props,\n",
    "                        whiskerprops=moustaches_props,\n",
    "                       )\n",
    "            plt.subplot(2,2,2)\n",
    "            plt.hist(un_dataframe[attribut], \n",
    "                     edgecolor='white', \n",
    "                     linewidth=1.0, \n",
    "                     bins=round(len(un_dataframe[attribut])**0.5))\n",
    "            plt.axvline(un_dataframe[attribut].mean(), \n",
    "                        color='orange', \n",
    "                        linestyle='dashed', \n",
    "                        linewidth=2)\n",
    "            plt.axvline(un_dataframe[attribut].median(), \n",
    "                        color='orange', \n",
    "                        linestyle='solid', \n",
    "                        linewidth=2)\n",
    "        plt.show() \n",
    "        print()\n",
    "    print(\"-\"*90)\n",
    "\n",
    "examen_distributions_attributs(donnees_iris_df)"
   ]
  },
  {
   "cell_type": "markdown",
   "metadata": {},
   "source": [
    "### Échantillonnage - fonction Dataframe `.sample()`\n",
    "\n",
    "En utilisant la fonction `.sample()` de DataFrame, nous allons choisir au hasard 12 exemplaires de données. \n",
    "\n",
    "Le paramètre `random_state` fixé arbitrairement à 42 assure que le tirage est reproductible\n",
    "<hr/>\n",
    "Note culture: <a ref=\"https://fr.wikipedia.org/wiki/42_(nombre)#Fiction\">42 est la réponse à la grande question dans 'Le Guide du voyageur galactique'</a>. "
   ]
  },
  {
   "cell_type": "code",
   "execution_count": 17,
   "metadata": {},
   "outputs": [
    {
     "data": {
      "text/html": [
       "<div>\n",
       "<style scoped>\n",
       "    .dataframe tbody tr th:only-of-type {\n",
       "        vertical-align: middle;\n",
       "    }\n",
       "\n",
       "    .dataframe tbody tr th {\n",
       "        vertical-align: top;\n",
       "    }\n",
       "\n",
       "    .dataframe thead th {\n",
       "        text-align: right;\n",
       "    }\n",
       "</style>\n",
       "<table border=\"1\" class=\"dataframe\">\n",
       "  <thead>\n",
       "    <tr style=\"text-align: right;\">\n",
       "      <th></th>\n",
       "      <th>longueur_sépales</th>\n",
       "      <th>largeur_sépales</th>\n",
       "      <th>longueur_pétales</th>\n",
       "      <th>largeur_pétales</th>\n",
       "      <th>espèce</th>\n",
       "    </tr>\n",
       "  </thead>\n",
       "  <tbody>\n",
       "    <tr>\n",
       "      <th>73</th>\n",
       "      <td>6.1</td>\n",
       "      <td>2.8</td>\n",
       "      <td>4.7</td>\n",
       "      <td>1.2</td>\n",
       "      <td>Iris-versicolor</td>\n",
       "    </tr>\n",
       "    <tr>\n",
       "      <th>18</th>\n",
       "      <td>5.7</td>\n",
       "      <td>3.8</td>\n",
       "      <td>1.7</td>\n",
       "      <td>0.3</td>\n",
       "      <td>Iris-setosa</td>\n",
       "    </tr>\n",
       "    <tr>\n",
       "      <th>118</th>\n",
       "      <td>7.7</td>\n",
       "      <td>2.6</td>\n",
       "      <td>6.9</td>\n",
       "      <td>2.3</td>\n",
       "      <td>Iris-virginica</td>\n",
       "    </tr>\n",
       "    <tr>\n",
       "      <th>78</th>\n",
       "      <td>6.0</td>\n",
       "      <td>2.9</td>\n",
       "      <td>4.5</td>\n",
       "      <td>1.5</td>\n",
       "      <td>Iris-versicolor</td>\n",
       "    </tr>\n",
       "    <tr>\n",
       "      <th>76</th>\n",
       "      <td>6.8</td>\n",
       "      <td>2.8</td>\n",
       "      <td>4.8</td>\n",
       "      <td>1.4</td>\n",
       "      <td>Iris-versicolor</td>\n",
       "    </tr>\n",
       "    <tr>\n",
       "      <th>31</th>\n",
       "      <td>5.4</td>\n",
       "      <td>3.4</td>\n",
       "      <td>1.5</td>\n",
       "      <td>0.4</td>\n",
       "      <td>Iris-setosa</td>\n",
       "    </tr>\n",
       "    <tr>\n",
       "      <th>64</th>\n",
       "      <td>5.6</td>\n",
       "      <td>2.9</td>\n",
       "      <td>3.6</td>\n",
       "      <td>1.3</td>\n",
       "      <td>Iris-versicolor</td>\n",
       "    </tr>\n",
       "    <tr>\n",
       "      <th>141</th>\n",
       "      <td>6.9</td>\n",
       "      <td>3.1</td>\n",
       "      <td>5.1</td>\n",
       "      <td>2.3</td>\n",
       "      <td>Iris-virginica</td>\n",
       "    </tr>\n",
       "    <tr>\n",
       "      <th>68</th>\n",
       "      <td>6.2</td>\n",
       "      <td>2.2</td>\n",
       "      <td>4.5</td>\n",
       "      <td>1.5</td>\n",
       "      <td>Iris-versicolor</td>\n",
       "    </tr>\n",
       "    <tr>\n",
       "      <th>82</th>\n",
       "      <td>5.8</td>\n",
       "      <td>2.7</td>\n",
       "      <td>3.9</td>\n",
       "      <td>1.2</td>\n",
       "      <td>Iris-versicolor</td>\n",
       "    </tr>\n",
       "    <tr>\n",
       "      <th>110</th>\n",
       "      <td>6.5</td>\n",
       "      <td>3.2</td>\n",
       "      <td>5.1</td>\n",
       "      <td>2.0</td>\n",
       "      <td>Iris-virginica</td>\n",
       "    </tr>\n",
       "    <tr>\n",
       "      <th>12</th>\n",
       "      <td>4.8</td>\n",
       "      <td>3.0</td>\n",
       "      <td>1.4</td>\n",
       "      <td>0.1</td>\n",
       "      <td>Iris-setosa</td>\n",
       "    </tr>\n",
       "  </tbody>\n",
       "</table>\n",
       "</div>"
      ],
      "text/plain": [
       "     longueur_sépales  largeur_sépales  longueur_pétales  largeur_pétales  \\\n",
       "73                6.1              2.8               4.7              1.2   \n",
       "18                5.7              3.8               1.7              0.3   \n",
       "118               7.7              2.6               6.9              2.3   \n",
       "78                6.0              2.9               4.5              1.5   \n",
       "76                6.8              2.8               4.8              1.4   \n",
       "31                5.4              3.4               1.5              0.4   \n",
       "64                5.6              2.9               3.6              1.3   \n",
       "141               6.9              3.1               5.1              2.3   \n",
       "68                6.2              2.2               4.5              1.5   \n",
       "82                5.8              2.7               3.9              1.2   \n",
       "110               6.5              3.2               5.1              2.0   \n",
       "12                4.8              3.0               1.4              0.1   \n",
       "\n",
       "              espèce  \n",
       "73   Iris-versicolor  \n",
       "18       Iris-setosa  \n",
       "118   Iris-virginica  \n",
       "78   Iris-versicolor  \n",
       "76   Iris-versicolor  \n",
       "31       Iris-setosa  \n",
       "64   Iris-versicolor  \n",
       "141   Iris-virginica  \n",
       "68   Iris-versicolor  \n",
       "82   Iris-versicolor  \n",
       "110   Iris-virginica  \n",
       "12       Iris-setosa  "
      ]
     },
     "execution_count": 17,
     "metadata": {},
     "output_type": "execute_result"
    }
   ],
   "source": [
    "donnees_iris_df.sample(n= 12, random_state=42)"
   ]
  },
  {
   "cell_type": "markdown",
   "metadata": {},
   "source": [
    "### Valeurs manquantes - fonction DataFrame `.isnull()`\n",
    "\n",
    "Rappel - Les valeurs `nan`, `NaN` => Not a Number, dénotent le plus souvent des valeurs manquantes.\n",
    "Plusieurs raisons, données non recueillies, données non pertinentes, données gardées secrètes, erreurs de saisie, etc."
   ]
  },
  {
   "cell_type": "code",
   "execution_count": 18,
   "metadata": {},
   "outputs": [
    {
     "name": "stdout",
     "output_type": "stream",
     "text": [
      "------------------------------------------------------------------------------------------\n",
      "Nombre de valeurs manquantes par attribut (colonne):\n",
      " longueur_sépales    0\n",
      "largeur_sépales     0\n",
      "longueur_pétales    0\n",
      "largeur_pétales     0\n",
      "espèce              0\n",
      "dtype: int64\n",
      "------------------------------------------------------------------------------------------\n",
      "Nombre total de valeurs manquantes: 0\n",
      "------------------------------------------------------------------------------------------\n"
     ]
    }
   ],
   "source": [
    "print(\"-\"*90)\n",
    "print(\"Nombre de valeurs manquantes par attribut (colonne):\\n\",donnees_iris_df.isnull().sum())\n",
    "print(\"-\"*90)\n",
    "print(\"Nombre total de valeurs manquantes:\",donnees_iris_df.isnull().sum().sum())\n",
    "print(\"-\"*90)"
   ]
  },
  {
   "cell_type": "markdown",
   "metadata": {},
   "source": [
    "Nous constatons que dans le cas du jeu de données Iris, il n'y a pas de valeurs manquantes.\n",
    "\n",
    "S'il y avait des valeurs manquante, une fois identifiées, il faudrait décider comment traiter ces valeurs manquantes. En gros on a le choix entre leur retrait ou leur remplacement."
   ]
  },
  {
   "cell_type": "markdown",
   "metadata": {},
   "source": [
    "### Examen direct des valeurs des attributs - fonction DataFrame `.values`"
   ]
  },
  {
   "cell_type": "code",
   "execution_count": 19,
   "metadata": {
    "scrolled": true
   },
   "outputs": [
    {
     "data": {
      "text/plain": [
       "array([[5.1, 3.5, 1.4, 0.2, 'Iris-setosa'],\n",
       "       [4.9, 3.0, 1.4, 0.2, 'Iris-setosa'],\n",
       "       [4.7, 3.2, 1.3, 0.2, 'Iris-setosa'],\n",
       "       [4.6, 3.1, 1.5, 0.2, 'Iris-setosa'],\n",
       "       [5.0, 3.6, 1.4, 0.2, 'Iris-setosa'],\n",
       "       [5.4, 3.9, 1.7, 0.4, 'Iris-setosa'],\n",
       "       [4.6, 3.4, 1.4, 0.3, 'Iris-setosa'],\n",
       "       [5.0, 3.4, 1.5, 0.2, 'Iris-setosa'],\n",
       "       [4.4, 2.9, 1.4, 0.2, 'Iris-setosa'],\n",
       "       [4.9, 3.1, 1.5, 0.1, 'Iris-setosa'],\n",
       "       [5.4, 3.7, 1.5, 0.2, 'Iris-setosa'],\n",
       "       [4.8, 3.4, 1.6, 0.2, 'Iris-setosa'],\n",
       "       [4.8, 3.0, 1.4, 0.1, 'Iris-setosa'],\n",
       "       [4.3, 3.0, 1.1, 0.1, 'Iris-setosa'],\n",
       "       [5.8, 4.0, 1.2, 0.2, 'Iris-setosa'],\n",
       "       [5.7, 4.4, 1.5, 0.4, 'Iris-setosa'],\n",
       "       [5.4, 3.9, 1.3, 0.4, 'Iris-setosa'],\n",
       "       [5.1, 3.5, 1.4, 0.3, 'Iris-setosa'],\n",
       "       [5.7, 3.8, 1.7, 0.3, 'Iris-setosa'],\n",
       "       [5.1, 3.8, 1.5, 0.3, 'Iris-setosa'],\n",
       "       [5.4, 3.4, 1.7, 0.2, 'Iris-setosa'],\n",
       "       [5.1, 3.7, 1.5, 0.4, 'Iris-setosa'],\n",
       "       [4.6, 3.6, 1.0, 0.2, 'Iris-setosa'],\n",
       "       [5.1, 3.3, 1.7, 0.5, 'Iris-setosa'],\n",
       "       [4.8, 3.4, 1.9, 0.2, 'Iris-setosa'],\n",
       "       [5.0, 3.0, 1.6, 0.2, 'Iris-setosa'],\n",
       "       [5.0, 3.4, 1.6, 0.4, 'Iris-setosa'],\n",
       "       [5.2, 3.5, 1.5, 0.2, 'Iris-setosa'],\n",
       "       [5.2, 3.4, 1.4, 0.2, 'Iris-setosa'],\n",
       "       [4.7, 3.2, 1.6, 0.2, 'Iris-setosa'],\n",
       "       [4.8, 3.1, 1.6, 0.2, 'Iris-setosa'],\n",
       "       [5.4, 3.4, 1.5, 0.4, 'Iris-setosa'],\n",
       "       [5.2, 4.1, 1.5, 0.1, 'Iris-setosa'],\n",
       "       [5.5, 4.2, 1.4, 0.2, 'Iris-setosa'],\n",
       "       [4.9, 3.1, 1.5, 0.1, 'Iris-setosa'],\n",
       "       [5.0, 3.2, 1.2, 0.2, 'Iris-setosa'],\n",
       "       [5.5, 3.5, 1.3, 0.2, 'Iris-setosa'],\n",
       "       [4.9, 3.1, 1.5, 0.1, 'Iris-setosa'],\n",
       "       [4.4, 3.0, 1.3, 0.2, 'Iris-setosa'],\n",
       "       [5.1, 3.4, 1.5, 0.2, 'Iris-setosa'],\n",
       "       [5.0, 3.5, 1.3, 0.3, 'Iris-setosa'],\n",
       "       [4.5, 2.3, 1.3, 0.3, 'Iris-setosa'],\n",
       "       [4.4, 3.2, 1.3, 0.2, 'Iris-setosa'],\n",
       "       [5.0, 3.5, 1.6, 0.6, 'Iris-setosa'],\n",
       "       [5.1, 3.8, 1.9, 0.4, 'Iris-setosa'],\n",
       "       [4.8, 3.0, 1.4, 0.3, 'Iris-setosa'],\n",
       "       [5.1, 3.8, 1.6, 0.2, 'Iris-setosa'],\n",
       "       [4.6, 3.2, 1.4, 0.2, 'Iris-setosa'],\n",
       "       [5.3, 3.7, 1.5, 0.2, 'Iris-setosa'],\n",
       "       [5.0, 3.3, 1.4, 0.2, 'Iris-setosa'],\n",
       "       [7.0, 3.2, 4.7, 1.4, 'Iris-versicolor'],\n",
       "       [6.4, 3.2, 4.5, 1.5, 'Iris-versicolor'],\n",
       "       [6.9, 3.1, 4.9, 1.5, 'Iris-versicolor'],\n",
       "       [5.5, 2.3, 4.0, 1.3, 'Iris-versicolor'],\n",
       "       [6.5, 2.8, 4.6, 1.5, 'Iris-versicolor'],\n",
       "       [5.7, 2.8, 4.5, 1.3, 'Iris-versicolor'],\n",
       "       [6.3, 3.3, 4.7, 1.6, 'Iris-versicolor'],\n",
       "       [4.9, 2.4, 3.3, 1.0, 'Iris-versicolor'],\n",
       "       [6.6, 2.9, 4.6, 1.3, 'Iris-versicolor'],\n",
       "       [5.2, 2.7, 3.9, 1.4, 'Iris-versicolor'],\n",
       "       [5.0, 2.0, 3.5, 1.0, 'Iris-versicolor'],\n",
       "       [5.9, 3.0, 4.2, 1.5, 'Iris-versicolor'],\n",
       "       [6.0, 2.2, 4.0, 1.0, 'Iris-versicolor'],\n",
       "       [6.1, 2.9, 4.7, 1.4, 'Iris-versicolor'],\n",
       "       [5.6, 2.9, 3.6, 1.3, 'Iris-versicolor'],\n",
       "       [6.7, 3.1, 4.4, 1.4, 'Iris-versicolor'],\n",
       "       [5.6, 3.0, 4.5, 1.5, 'Iris-versicolor'],\n",
       "       [5.8, 2.7, 4.1, 1.0, 'Iris-versicolor'],\n",
       "       [6.2, 2.2, 4.5, 1.5, 'Iris-versicolor'],\n",
       "       [5.6, 2.5, 3.9, 1.1, 'Iris-versicolor'],\n",
       "       [5.9, 3.2, 4.8, 1.8, 'Iris-versicolor'],\n",
       "       [6.1, 2.8, 4.0, 1.3, 'Iris-versicolor'],\n",
       "       [6.3, 2.5, 4.9, 1.5, 'Iris-versicolor'],\n",
       "       [6.1, 2.8, 4.7, 1.2, 'Iris-versicolor'],\n",
       "       [6.4, 2.9, 4.3, 1.3, 'Iris-versicolor'],\n",
       "       [6.6, 3.0, 4.4, 1.4, 'Iris-versicolor'],\n",
       "       [6.8, 2.8, 4.8, 1.4, 'Iris-versicolor'],\n",
       "       [6.7, 3.0, 5.0, 1.7, 'Iris-versicolor'],\n",
       "       [6.0, 2.9, 4.5, 1.5, 'Iris-versicolor'],\n",
       "       [5.7, 2.6, 3.5, 1.0, 'Iris-versicolor'],\n",
       "       [5.5, 2.4, 3.8, 1.1, 'Iris-versicolor'],\n",
       "       [5.5, 2.4, 3.7, 1.0, 'Iris-versicolor'],\n",
       "       [5.8, 2.7, 3.9, 1.2, 'Iris-versicolor'],\n",
       "       [6.0, 2.7, 5.1, 1.6, 'Iris-versicolor'],\n",
       "       [5.4, 3.0, 4.5, 1.5, 'Iris-versicolor'],\n",
       "       [6.0, 3.4, 4.5, 1.6, 'Iris-versicolor'],\n",
       "       [6.7, 3.1, 4.7, 1.5, 'Iris-versicolor'],\n",
       "       [6.3, 2.3, 4.4, 1.3, 'Iris-versicolor'],\n",
       "       [5.6, 3.0, 4.1, 1.3, 'Iris-versicolor'],\n",
       "       [5.5, 2.5, 4.0, 1.3, 'Iris-versicolor'],\n",
       "       [5.5, 2.6, 4.4, 1.2, 'Iris-versicolor'],\n",
       "       [6.1, 3.0, 4.6, 1.4, 'Iris-versicolor'],\n",
       "       [5.8, 2.6, 4.0, 1.2, 'Iris-versicolor'],\n",
       "       [5.0, 2.3, 3.3, 1.0, 'Iris-versicolor'],\n",
       "       [5.6, 2.7, 4.2, 1.3, 'Iris-versicolor'],\n",
       "       [5.7, 3.0, 4.2, 1.2, 'Iris-versicolor'],\n",
       "       [5.7, 2.9, 4.2, 1.3, 'Iris-versicolor'],\n",
       "       [6.2, 2.9, 4.3, 1.3, 'Iris-versicolor'],\n",
       "       [5.1, 2.5, 3.0, 1.1, 'Iris-versicolor'],\n",
       "       [5.7, 2.8, 4.1, 1.3, 'Iris-versicolor'],\n",
       "       [6.3, 3.3, 6.0, 2.5, 'Iris-virginica'],\n",
       "       [5.8, 2.7, 5.1, 1.9, 'Iris-virginica'],\n",
       "       [7.1, 3.0, 5.9, 2.1, 'Iris-virginica'],\n",
       "       [6.3, 2.9, 5.6, 1.8, 'Iris-virginica'],\n",
       "       [6.5, 3.0, 5.8, 2.2, 'Iris-virginica'],\n",
       "       [7.6, 3.0, 6.6, 2.1, 'Iris-virginica'],\n",
       "       [4.9, 2.5, 4.5, 1.7, 'Iris-virginica'],\n",
       "       [7.3, 2.9, 6.3, 1.8, 'Iris-virginica'],\n",
       "       [6.7, 2.5, 5.8, 1.8, 'Iris-virginica'],\n",
       "       [7.2, 3.6, 6.1, 2.5, 'Iris-virginica'],\n",
       "       [6.5, 3.2, 5.1, 2.0, 'Iris-virginica'],\n",
       "       [6.4, 2.7, 5.3, 1.9, 'Iris-virginica'],\n",
       "       [6.8, 3.0, 5.5, 2.1, 'Iris-virginica'],\n",
       "       [5.7, 2.5, 5.0, 2.0, 'Iris-virginica'],\n",
       "       [5.8, 2.8, 5.1, 2.4, 'Iris-virginica'],\n",
       "       [6.4, 3.2, 5.3, 2.3, 'Iris-virginica'],\n",
       "       [6.5, 3.0, 5.5, 1.8, 'Iris-virginica'],\n",
       "       [7.7, 3.8, 6.7, 2.2, 'Iris-virginica'],\n",
       "       [7.7, 2.6, 6.9, 2.3, 'Iris-virginica'],\n",
       "       [6.0, 2.2, 5.0, 1.5, 'Iris-virginica'],\n",
       "       [6.9, 3.2, 5.7, 2.3, 'Iris-virginica'],\n",
       "       [5.6, 2.8, 4.9, 2.0, 'Iris-virginica'],\n",
       "       [7.7, 2.8, 6.7, 2.0, 'Iris-virginica'],\n",
       "       [6.3, 2.7, 4.9, 1.8, 'Iris-virginica'],\n",
       "       [6.7, 3.3, 5.7, 2.1, 'Iris-virginica'],\n",
       "       [7.2, 3.2, 6.0, 1.8, 'Iris-virginica'],\n",
       "       [6.2, 2.8, 4.8, 1.8, 'Iris-virginica'],\n",
       "       [6.1, 3.0, 4.9, 1.8, 'Iris-virginica'],\n",
       "       [6.4, 2.8, 5.6, 2.1, 'Iris-virginica'],\n",
       "       [7.2, 3.0, 5.8, 1.6, 'Iris-virginica'],\n",
       "       [7.4, 2.8, 6.1, 1.9, 'Iris-virginica'],\n",
       "       [7.9, 3.8, 6.4, 2.0, 'Iris-virginica'],\n",
       "       [6.4, 2.8, 5.6, 2.2, 'Iris-virginica'],\n",
       "       [6.3, 2.8, 5.1, 1.5, 'Iris-virginica'],\n",
       "       [6.1, 2.6, 5.6, 1.4, 'Iris-virginica'],\n",
       "       [7.7, 3.0, 6.1, 2.3, 'Iris-virginica'],\n",
       "       [6.3, 3.4, 5.6, 2.4, 'Iris-virginica'],\n",
       "       [6.4, 3.1, 5.5, 1.8, 'Iris-virginica'],\n",
       "       [6.0, 3.0, 4.8, 1.8, 'Iris-virginica'],\n",
       "       [6.9, 3.1, 5.4, 2.1, 'Iris-virginica'],\n",
       "       [6.7, 3.1, 5.6, 2.4, 'Iris-virginica'],\n",
       "       [6.9, 3.1, 5.1, 2.3, 'Iris-virginica'],\n",
       "       [5.8, 2.7, 5.1, 1.9, 'Iris-virginica'],\n",
       "       [6.8, 3.2, 5.9, 2.3, 'Iris-virginica'],\n",
       "       [6.7, 3.3, 5.7, 2.5, 'Iris-virginica'],\n",
       "       [6.7, 3.0, 5.2, 2.3, 'Iris-virginica'],\n",
       "       [6.3, 2.5, 5.0, 1.9, 'Iris-virginica'],\n",
       "       [6.5, 3.0, 5.2, 2.0, 'Iris-virginica'],\n",
       "       [6.2, 3.4, 5.4, 2.3, 'Iris-virginica'],\n",
       "       [5.9, 3.0, 5.1, 1.8, 'Iris-virginica']], dtype=object)"
      ]
     },
     "execution_count": 19,
     "metadata": {},
     "output_type": "execute_result"
    }
   ],
   "source": [
    "donnees_iris_df.values\n"
   ]
  },
  {
   "cell_type": "markdown",
   "metadata": {},
   "source": [
    "### Recherche des valeurs aberrantes et des cas particuliers (outliers)\n",
    "\n",
    "À cette étape, il est pertinent de rechercher les valeurs aberrantes (en anglais, outliers) et des cas particuliers. \n",
    "\n",
    "Entre autres on jettera un coup d'oeil sur les valeurs `min` et `max` de la fonction `.describe()`\n",
    "\n",
    "Une fois identifiées, il faudra décider comment traiter ces valeurs aberrantes, avec des techniques analogues aux valeurs manquantes, soit leur retrait ou leur remplacement."
   ]
  },
  {
   "cell_type": "markdown",
   "metadata": {},
   "source": [
    "### Retrait d'attributs avec la fonction DataFrame `.drop()`\n",
    "\n",
    "Utilisation de la fonction pandas `drop()` avec en argument une liste des noms d'attributs à enlever, par exemple ici `['espèces']` et l'axe du DataFrame concerné, ici ce sont les colonnes `axis='columns'` ou `axis=1`.\n",
    "\n",
    "On peut affecter le résultat à une nouvelle variable, ici `donnees_iris_sans_especes_df`. On peut également réaffecter le résultat à la même variable `donnees_iris_df` ou en utilisant le paramètre `inplace=True` pour éviter l'opération d'affectation."
   ]
  },
  {
   "cell_type": "code",
   "execution_count": 20,
   "metadata": {},
   "outputs": [
    {
     "data": {
      "text/html": [
       "<div>\n",
       "<style scoped>\n",
       "    .dataframe tbody tr th:only-of-type {\n",
       "        vertical-align: middle;\n",
       "    }\n",
       "\n",
       "    .dataframe tbody tr th {\n",
       "        vertical-align: top;\n",
       "    }\n",
       "\n",
       "    .dataframe thead th {\n",
       "        text-align: right;\n",
       "    }\n",
       "</style>\n",
       "<table border=\"1\" class=\"dataframe\">\n",
       "  <thead>\n",
       "    <tr style=\"text-align: right;\">\n",
       "      <th></th>\n",
       "      <th>longueur_sépales</th>\n",
       "      <th>largeur_sépales</th>\n",
       "      <th>longueur_pétales</th>\n",
       "      <th>largeur_pétales</th>\n",
       "    </tr>\n",
       "  </thead>\n",
       "  <tbody>\n",
       "    <tr>\n",
       "      <th>0</th>\n",
       "      <td>5.1</td>\n",
       "      <td>3.5</td>\n",
       "      <td>1.4</td>\n",
       "      <td>0.2</td>\n",
       "    </tr>\n",
       "    <tr>\n",
       "      <th>1</th>\n",
       "      <td>4.9</td>\n",
       "      <td>3.0</td>\n",
       "      <td>1.4</td>\n",
       "      <td>0.2</td>\n",
       "    </tr>\n",
       "    <tr>\n",
       "      <th>2</th>\n",
       "      <td>4.7</td>\n",
       "      <td>3.2</td>\n",
       "      <td>1.3</td>\n",
       "      <td>0.2</td>\n",
       "    </tr>\n",
       "    <tr>\n",
       "      <th>3</th>\n",
       "      <td>4.6</td>\n",
       "      <td>3.1</td>\n",
       "      <td>1.5</td>\n",
       "      <td>0.2</td>\n",
       "    </tr>\n",
       "    <tr>\n",
       "      <th>4</th>\n",
       "      <td>5.0</td>\n",
       "      <td>3.6</td>\n",
       "      <td>1.4</td>\n",
       "      <td>0.2</td>\n",
       "    </tr>\n",
       "  </tbody>\n",
       "</table>\n",
       "</div>"
      ],
      "text/plain": [
       "   longueur_sépales  largeur_sépales  longueur_pétales  largeur_pétales\n",
       "0               5.1              3.5               1.4              0.2\n",
       "1               4.9              3.0               1.4              0.2\n",
       "2               4.7              3.2               1.3              0.2\n",
       "3               4.6              3.1               1.5              0.2\n",
       "4               5.0              3.6               1.4              0.2"
      ]
     },
     "execution_count": 20,
     "metadata": {},
     "output_type": "execute_result"
    }
   ],
   "source": [
    "donnees_iris_sans_espece_df = donnees_iris_df.drop(['espèce'], \n",
    "                                                    axis='columns')\n",
    "donnees_iris_sans_espece_df.head()"
   ]
  },
  {
   "cell_type": "markdown",
   "metadata": {},
   "source": [
    "## Statistiques\n",
    "\n",
    "* Statistiques de base: compte, fréquence\n",
    "* Statistiques descriptives: moyenne, écart-type, variance\n",
    "* Identification de données aberrantes\n",
    "\n",
    "###  Statistiques primaires - compte / fréquence\n",
    "\n",
    "* Nombre et fréquence\n",
    "* Minimum, maximum\n",
    "\n",
    "#### Note: \n",
    "\n",
    "Les statistiques répondent souvent à des questions que l'on se pose sur les données."
   ]
  },
  {
   "cell_type": "markdown",
   "metadata": {},
   "source": [
    "### Afficher le nombre d'exemplaires de données (lignes dans le tableau de données)\n",
    "\n",
    "#### Le nombre de fleurs dans le fichier de données  "
   ]
  },
  {
   "cell_type": "code",
   "execution_count": 21,
   "metadata": {},
   "outputs": [
    {
     "name": "stdout",
     "output_type": "stream",
     "text": [
      "150\n"
     ]
    }
   ],
   "source": [
    "print(len(donnees_iris_df))"
   ]
  },
  {
   "cell_type": "markdown",
   "metadata": {},
   "source": [
    "#### Le nombre de fleurs regroupés par espèce - fonction DataFrame `.groupby()`"
   ]
  },
  {
   "cell_type": "code",
   "execution_count": 22,
   "metadata": {},
   "outputs": [
    {
     "name": "stdout",
     "output_type": "stream",
     "text": [
      "espèce\n",
      "Iris-setosa        50\n",
      "Iris-versicolor    50\n",
      "Iris-virginica     50\n",
      "dtype: int64\n"
     ]
    }
   ],
   "source": [
    "print(donnees_iris_df.groupby(['espèce']).size())"
   ]
  },
  {
   "cell_type": "markdown",
   "metadata": {},
   "source": [
    "#### Trouver la longueur de pétales la plus petite du jeu de données - fonction `.min()` "
   ]
  },
  {
   "cell_type": "code",
   "execution_count": 23,
   "metadata": {},
   "outputs": [
    {
     "name": "stdout",
     "output_type": "stream",
     "text": [
      "1.0\n"
     ]
    }
   ],
   "source": [
    "print(donnees_iris_df[\"longueur_pétales\"].min())\n"
   ]
  },
  {
   "cell_type": "markdown",
   "metadata": {},
   "source": [
    "#### Trouver la longueur du plus long sépale du jeu de données  - fonction `.max()` "
   ]
  },
  {
   "cell_type": "code",
   "execution_count": 24,
   "metadata": {},
   "outputs": [
    {
     "name": "stdout",
     "output_type": "stream",
     "text": [
      "7.9\n"
     ]
    }
   ],
   "source": [
    "print(donnees_iris_df[\"longueur_sépales\"].max())\n"
   ]
  },
  {
   "cell_type": "markdown",
   "metadata": {},
   "source": [
    "#### Le nombre de fleurs avec des pétales de 5 cm et plus"
   ]
  },
  {
   "cell_type": "code",
   "execution_count": 25,
   "metadata": {},
   "outputs": [
    {
     "name": "stdout",
     "output_type": "stream",
     "text": [
      "46\n"
     ]
    }
   ],
   "source": [
    "print(donnees_iris_df[donnees_iris_df[\"longueur_pétales\"]>= 5]['longueur_pétales'].count())\n"
   ]
  },
  {
   "cell_type": "markdown",
   "metadata": {},
   "source": [
    "### Statistiques descriptives usuelles - moyenne, médiane, écart-type et variance\n",
    "\n",
    "* Mesures de tendances centrales: moyenne et médiane\n",
    "* Mesures de dispersion: variance et écart-type"
   ]
  },
  {
   "cell_type": "markdown",
   "metadata": {},
   "source": [
    "#### Retour sur la fonction `.describe()`"
   ]
  },
  {
   "cell_type": "code",
   "execution_count": 26,
   "metadata": {},
   "outputs": [
    {
     "data": {
      "text/html": [
       "<div>\n",
       "<style scoped>\n",
       "    .dataframe tbody tr th:only-of-type {\n",
       "        vertical-align: middle;\n",
       "    }\n",
       "\n",
       "    .dataframe tbody tr th {\n",
       "        vertical-align: top;\n",
       "    }\n",
       "\n",
       "    .dataframe thead th {\n",
       "        text-align: right;\n",
       "    }\n",
       "</style>\n",
       "<table border=\"1\" class=\"dataframe\">\n",
       "  <thead>\n",
       "    <tr style=\"text-align: right;\">\n",
       "      <th></th>\n",
       "      <th>longueur_sépales</th>\n",
       "      <th>largeur_sépales</th>\n",
       "      <th>longueur_pétales</th>\n",
       "      <th>largeur_pétales</th>\n",
       "    </tr>\n",
       "  </thead>\n",
       "  <tbody>\n",
       "    <tr>\n",
       "      <th>count</th>\n",
       "      <td>150.000000</td>\n",
       "      <td>150.000000</td>\n",
       "      <td>150.000000</td>\n",
       "      <td>150.000000</td>\n",
       "    </tr>\n",
       "    <tr>\n",
       "      <th>mean</th>\n",
       "      <td>5.843333</td>\n",
       "      <td>3.054000</td>\n",
       "      <td>3.758667</td>\n",
       "      <td>1.198667</td>\n",
       "    </tr>\n",
       "    <tr>\n",
       "      <th>std</th>\n",
       "      <td>0.828066</td>\n",
       "      <td>0.433594</td>\n",
       "      <td>1.764420</td>\n",
       "      <td>0.763161</td>\n",
       "    </tr>\n",
       "    <tr>\n",
       "      <th>min</th>\n",
       "      <td>4.300000</td>\n",
       "      <td>2.000000</td>\n",
       "      <td>1.000000</td>\n",
       "      <td>0.100000</td>\n",
       "    </tr>\n",
       "    <tr>\n",
       "      <th>25%</th>\n",
       "      <td>5.100000</td>\n",
       "      <td>2.800000</td>\n",
       "      <td>1.600000</td>\n",
       "      <td>0.300000</td>\n",
       "    </tr>\n",
       "    <tr>\n",
       "      <th>50%</th>\n",
       "      <td>5.800000</td>\n",
       "      <td>3.000000</td>\n",
       "      <td>4.350000</td>\n",
       "      <td>1.300000</td>\n",
       "    </tr>\n",
       "    <tr>\n",
       "      <th>75%</th>\n",
       "      <td>6.400000</td>\n",
       "      <td>3.300000</td>\n",
       "      <td>5.100000</td>\n",
       "      <td>1.800000</td>\n",
       "    </tr>\n",
       "    <tr>\n",
       "      <th>max</th>\n",
       "      <td>7.900000</td>\n",
       "      <td>4.400000</td>\n",
       "      <td>6.900000</td>\n",
       "      <td>2.500000</td>\n",
       "    </tr>\n",
       "  </tbody>\n",
       "</table>\n",
       "</div>"
      ],
      "text/plain": [
       "       longueur_sépales  largeur_sépales  longueur_pétales  largeur_pétales\n",
       "count        150.000000       150.000000        150.000000       150.000000\n",
       "mean           5.843333         3.054000          3.758667         1.198667\n",
       "std            0.828066         0.433594          1.764420         0.763161\n",
       "min            4.300000         2.000000          1.000000         0.100000\n",
       "25%            5.100000         2.800000          1.600000         0.300000\n",
       "50%            5.800000         3.000000          4.350000         1.300000\n",
       "75%            6.400000         3.300000          5.100000         1.800000\n",
       "max            7.900000         4.400000          6.900000         2.500000"
      ]
     },
     "execution_count": 26,
     "metadata": {},
     "output_type": "execute_result"
    }
   ],
   "source": [
    "donnees_iris_df.describe()\n"
   ]
  },
  {
   "cell_type": "markdown",
   "metadata": {},
   "source": [
    "#### Quelle est la longueur moyenne des sépales des fleurs du jeu de données - fonction `.mean()` \n"
   ]
  },
  {
   "cell_type": "code",
   "execution_count": 27,
   "metadata": {},
   "outputs": [
    {
     "name": "stdout",
     "output_type": "stream",
     "text": [
      "La longueur moyenne des sépales: 5.84\n"
     ]
    }
   ],
   "source": [
    "print(\"La longueur moyenne des sépales:\",'{:,.2f}'.format(donnees_iris_df['longueur_sépales'].mean()))"
   ]
  },
  {
   "cell_type": "markdown",
   "metadata": {},
   "source": [
    "#### Quelle est la longueur médiane des sépales des fleurs du jeu de données - fonction `.median()` \n",
    "\n",
    "Note: La médiane partage les données en deux groupes égaux: 50% des fleurs ont des sépales moins longs que la médiane et 50% ont des longueurs au dessus de la médiane."
   ]
  },
  {
   "cell_type": "code",
   "execution_count": 28,
   "metadata": {},
   "outputs": [
    {
     "name": "stdout",
     "output_type": "stream",
     "text": [
      "La longueur médiane des sépales: 5.80\n"
     ]
    }
   ],
   "source": [
    "print(\"La longueur médiane des sépales:\",'{:,.2f}'.format(donnees_iris_df['longueur_sépales'].median()))"
   ]
  },
  {
   "cell_type": "markdown",
   "metadata": {},
   "source": [
    "####  Comment se répartit statistiquement la longueur des sépales? - fonctions `.std()` et `.var()`"
   ]
  },
  {
   "cell_type": "code",
   "execution_count": 29,
   "metadata": {},
   "outputs": [
    {
     "name": "stdout",
     "output_type": "stream",
     "text": [
      "L'écart-type de la longueur des sépales: 0.83\n",
      "La variance de la longueur des sépales: 0.69\n"
     ]
    }
   ],
   "source": [
    "print(\"L'écart-type de la longueur des sépales:\",'{:,.2f}'.format(donnees_iris_df['longueur_sépales'].std()))\n",
    "print(\"La variance de la longueur des sépales:\",'{:,.2f}'.format(donnees_iris_df['longueur_sépales'].var()))\n"
   ]
  },
  {
   "cell_type": "code",
   "execution_count": 30,
   "metadata": {},
   "outputs": [
    {
     "data": {
      "image/png": "[encoded data removed]",
      "text/plain": [
       "<Figure size 288x432 with 1 Axes>"
      ]
     },
     "metadata": {
      "needs_background": "light"
     },
     "output_type": "display_data"
    }
   ],
   "source": [
    "# Avec une boîte à moustaches\n",
    "_ = donnees_iris_df.boxplot('longueur_sépales', figsize=(4, 6))\n"
   ]
  },
  {
   "cell_type": "markdown",
   "metadata": {},
   "source": [
    "## Visualisation des données\n",
    "\n",
    "Le savoir est le pouvoir, mais pour que la connaissance des données devienne puissance, il faut afficher les résultats de l’analyse des données de manière convaincante. C’est là que la visualisation des données entre en jeu. \n",
    "Avec davantage de données disponibles que jamais auparavant, les opportunités de visualisation sont à la fois riches et abondantes.\n",
    "\n",
    "* La capacité de visualiser et faire comprendre des volumes importants de données, souvent pêle-mêle, et d'y faire ressortir des informations importantes est une compétence clé de la science des données\n",
    "* Faire parler visuellement des données, faire que les données racontent une histoire"
   ]
  },
  {
   "cell_type": "markdown",
   "metadata": {},
   "source": [
    "### Motivation - Exemples fameux de visualisation\n",
    "\n",
    "#### La campagne de Russie\n",
    "La fameuse visualisation de la campagne de Russie de Napoléon par <a href=\"https://fr.wikipedia.org/wiki/Charles_Joseph_Minard\">Charles Joseph  Minard</a>\n",
    "<p>Le plus important à savoir est que la largeur du tracé représente le nombre de soldats de la Grande Armée de Napoléon de 1804 à 1814. On la voit rétrécir tout le long de la campagne de Russie à l'aller (en marron) jusqu'à Moscou, pour revenir en France décimée (en noir), sous la forme d'un mince filet.</p>\n",
    "<br/>\n",
    "<figure style=\"text-align:center\">\n",
    "  <img src=\"https://cours.edulib.org/asset-v1:Cegep-Matane+VAERN.1FR+P2021+type@asset+block@ScDo-Minard.png\" width='900' />\n",
    "  <figcaption>Visualisation des pertes de la campagne napoléonienne de Russie 1812-1813 - Source: <a href=\"https://fr.wikipedia.org/wiki/Charles_Joseph_Minard#/media/Fichier:Minard.png\" target=\"_blank\">Wikipédia</a></figcaption>\n",
    "</figure>"
   ]
  },
  {
   "cell_type": "markdown",
   "metadata": {},
   "source": [
    "#### Visualisation de l'évolution de l'économie mondiale depuis 200 ans  \n",
    "\n",
    "Présentation de <a href=\"https://fr.wikipedia.org/wiki/Hans_Rosling\">Hans Rosling</a>, statisticien, médecin spécialiste de la santé publique, conférencier, auteur de <a href=\"https://www.lemonde.fr/m-actu/article/2018/09/13/factfulness-le-livre-qui-demele-le-fait-du-faux_5354297_4497186.html\">Factfulness</a> et fondateur de <a href=\"https://www.gapminder.org/\">Gapminder</a>. Décédé en 2017. M. Rosling réalise des visualisations percutantes de données statistiques sur le développement économique et la santé sur le plan international.\n",
    "Source: YouTube "
   ]
  },
  {
   "cell_type": "code",
   "execution_count": 31,
   "metadata": {},
   "outputs": [
    {
     "data": {
      "image/jpeg": "[encoded data removed]",
      "text/html": [
       "\n",
       "        <iframe\n",
       "            width=\"600\"\n",
       "            height=\"300\"\n",
       "            src=\"https://www.youtube.com/embed/jbkSRLYSojo?hl=fr&cc_lang_pref=fr\"\n",
       "            frameborder=\"0\"\n",
       "            allowfullscreen\n",
       "        ></iframe>\n",
       "        "
      ],
      "text/plain": [
       "<IPython.lib.display.YouTubeVideo at 0x13ecf07c0>"
      ]
     },
     "execution_count": 31,
     "metadata": {},
     "output_type": "execute_result"
    }
   ],
   "source": [
    "from IPython.display import Audio,Image, YouTubeVideo\n",
    "id='jbkSRLYSojo'\n",
    "YouTubeVideo(id=id,width=600,height=300,hl='fr',cc_lang_pref='fr')"
   ]
  },
  {
   "cell_type": "markdown",
   "metadata": {},
   "source": [
    "#### D'autres exemples de visualisation de haute qualité\n",
    "\n",
    "* The year in news - http://bit.ly/2oH9Ayh\n",
    "* Nikon - Universcale - http://bit.ly/2JLyZOp\n",
    "* Échelle de temps - http://hereistoday.com/\n",
    "* D’où vient le café - http://www.bizbrain.org/coffee/\n",
    "* Le commerce mondial - https://viz.ged-project.de/\n",
    "* Les fuites d’information - http://bit.ly/2oKWujA\n",
    "* La circulation des vents - http://bit.ly/34r4Hsh\n",
    "* Les voyages internationaux - http://bit.ly/2qfP744\n",
    "* Acheter ou louer un appartement - NY Times - https://nyti.ms/34vm4IB\n",
    "* Chronologie de la musique - Google - http://bit.ly/2NBkyxD\n",
    "* Les arbres de New-York - Cloudred - http://bit.ly/2WEdrZj\n",
    "* La diversité des générations - https://cnn.it/2qfSloc\n",
    "* Comment réduire les GES - http://bit.ly/2oDIiZs\n",
    "* Le Climatoscope - revue - http://bit.ly/2WEo9it\n",
    "* Les animaux disparus - James Round - http://bit.ly/2N9f2U0\n",
    "* Daily Routines - https://podio.com/site/creative-routines"
   ]
  },
  {
   "cell_type": "markdown",
   "metadata": {},
   "source": [
    "### Visualisation simple - exemples\n"
   ]
  },
  {
   "cell_type": "markdown",
   "metadata": {},
   "source": [
    "#### Tarte / camembert de la distribution des valeurs d'un attribut"
   ]
  },
  {
   "cell_type": "code",
   "execution_count": 32,
   "metadata": {},
   "outputs": [
    {
     "data": {
      "image/png": "[encoded data removed]",
      "text/plain": [
       "<Figure size 360x360 with 1 Axes>"
      ]
     },
     "metadata": {},
     "output_type": "display_data"
    }
   ],
   "source": [
    "from matplotlib import pyplot as plt\n",
    "_ = plt.figure(figsize=(5, 5))\n",
    "(donnees_iris_df.groupby(['espèce']).size()).plot(kind='pie', \n",
    "                                                 colors=['b','g','y'],\n",
    "                                                 title=u\"Tarte - Répartition des espèces\")\n",
    "plt.ylabel(\"\") # to remove None label on y-axis\n",
    "plt.show()"
   ]
  },
  {
   "cell_type": "markdown",
   "metadata": {},
   "source": [
    "#### Histogramme vertical de la distribution des valeurs d'un attribut"
   ]
  },
  {
   "cell_type": "code",
   "execution_count": 33,
   "metadata": {},
   "outputs": [
    {
     "data": {
      "image/png": "[encoded data removed]",
      "text/plain": [
       "<Figure size 216x360 with 1 Axes>"
      ]
     },
     "metadata": {
      "needs_background": "light"
     },
     "output_type": "display_data"
    }
   ],
   "source": [
    "from matplotlib import pyplot as plt\n",
    "plt.figure(figsize=(3, 5))\n",
    "(donnees_iris_df.groupby(['espèce']).size()).plot(kind='bar', \n",
    "                                                 color=['b','g','y'],\n",
    "                                                 title=u\"Histogramme - Répartition des espèces\")\n",
    "plt.show()\n"
   ]
  },
  {
   "cell_type": "markdown",
   "metadata": {},
   "source": [
    "#### Histogramme horizontal de la distribution des valeurs d'un attribut"
   ]
  },
  {
   "cell_type": "code",
   "execution_count": 34,
   "metadata": {
    "scrolled": true
   },
   "outputs": [
    {
     "data": {
      "image/png": "[encoded data removed]",
      "text/plain": [
       "<Figure size 360x216 with 1 Axes>"
      ]
     },
     "metadata": {
      "needs_background": "light"
     },
     "output_type": "display_data"
    }
   ],
   "source": [
    "from matplotlib import pyplot as plt\n",
    "plt.figure(figsize=(5, 3))\n",
    "(donnees_iris_df.groupby(['espèce']).size()).plot(kind='barh', \n",
    "                                                 color=['b','g','y'], \n",
    "                                                 title=u\"Histogramme - Répartition des espèces\")\n",
    "plt.show()\n"
   ]
  },
  {
   "cell_type": "markdown",
   "metadata": {},
   "source": [
    "### Visualisation des relations entre les attributs\n",
    "\n",
    "Une étape importante dans l'analyse des données est la recherche de relations entre des attributs (ou variables) qui caractérisent nos données.\n",
    "\n",
    "Parmi les analyses typiques, nous avons la recherche de corrélations, d'information mutuelle et la covariance.\n"
   ]
  },
  {
   "cell_type": "markdown",
   "metadata": {},
   "source": [
    "#### Analyse des corrélations - fonction `.corr()`\n",
    "\n",
    "Les étapes suivantes de l'analyse des données vont s’attacher à trouver des corrélations, à relever des tendances, identifier des relations, reconnaître des formes, des structures et des comportements et même faire des prédictions.\n",
    "\n",
    "En science des données on utilise principalement la corrélation pour comprendre la relation entre les variables.Par exemple examinons les différentes corrélations entre les attributs du jeu de données des fleurs d'iris.\n",
    "\n",
    "En statistique, la corrélation entre variables dénote une dépendance. Le plus souvent, il s'agit de la corrélation linéaire ou coefficient de corrélation de Pearson toujours compris entre 0 et 1. Un coefficient nul n’implique pas indépendance, car d’autres types de corrélation sont possibles. Attention! Le fait que deux variables soient « fortement corrélées » n'implique pas qu'il y ait une relation de causalité.\n",
    "\n",
    "Les corrélations peuvent être positives (les deux variables croissent), négatives (une variable baisse pendant que l'autre croît) ou nulles (non corrélées). "
   ]
  },
  {
   "cell_type": "markdown",
   "metadata": {},
   "source": [
    "#### Transformation d'un attribut catégoriel en attributs binaires - fonction Pandas `get_dummies()`\n",
    "\n",
    "On peut transformer un attribut catégoriel en n attributs binaires selon un encodage binaire à un seul bit discriminant (en anglais, one-hot encoding)"
   ]
  },
  {
   "cell_type": "code",
   "execution_count": 35,
   "metadata": {},
   "outputs": [
    {
     "data": {
      "text/html": [
       "<div>\n",
       "<style scoped>\n",
       "    .dataframe tbody tr th:only-of-type {\n",
       "        vertical-align: middle;\n",
       "    }\n",
       "\n",
       "    .dataframe tbody tr th {\n",
       "        vertical-align: top;\n",
       "    }\n",
       "\n",
       "    .dataframe thead th {\n",
       "        text-align: right;\n",
       "    }\n",
       "</style>\n",
       "<table border=\"1\" class=\"dataframe\">\n",
       "  <thead>\n",
       "    <tr style=\"text-align: right;\">\n",
       "      <th></th>\n",
       "      <th>longueur_sépales</th>\n",
       "      <th>largeur_sépales</th>\n",
       "      <th>longueur_pétales</th>\n",
       "      <th>largeur_pétales</th>\n",
       "      <th>espèce_Iris-setosa</th>\n",
       "      <th>espèce_Iris-versicolor</th>\n",
       "      <th>espèce_Iris-virginica</th>\n",
       "    </tr>\n",
       "  </thead>\n",
       "  <tbody>\n",
       "    <tr>\n",
       "      <th>0</th>\n",
       "      <td>5.1</td>\n",
       "      <td>3.5</td>\n",
       "      <td>1.4</td>\n",
       "      <td>0.2</td>\n",
       "      <td>1</td>\n",
       "      <td>0</td>\n",
       "      <td>0</td>\n",
       "    </tr>\n",
       "    <tr>\n",
       "      <th>1</th>\n",
       "      <td>4.9</td>\n",
       "      <td>3.0</td>\n",
       "      <td>1.4</td>\n",
       "      <td>0.2</td>\n",
       "      <td>1</td>\n",
       "      <td>0</td>\n",
       "      <td>0</td>\n",
       "    </tr>\n",
       "    <tr>\n",
       "      <th>2</th>\n",
       "      <td>4.7</td>\n",
       "      <td>3.2</td>\n",
       "      <td>1.3</td>\n",
       "      <td>0.2</td>\n",
       "      <td>1</td>\n",
       "      <td>0</td>\n",
       "      <td>0</td>\n",
       "    </tr>\n",
       "    <tr>\n",
       "      <th>3</th>\n",
       "      <td>4.6</td>\n",
       "      <td>3.1</td>\n",
       "      <td>1.5</td>\n",
       "      <td>0.2</td>\n",
       "      <td>1</td>\n",
       "      <td>0</td>\n",
       "      <td>0</td>\n",
       "    </tr>\n",
       "    <tr>\n",
       "      <th>4</th>\n",
       "      <td>5.0</td>\n",
       "      <td>3.6</td>\n",
       "      <td>1.4</td>\n",
       "      <td>0.2</td>\n",
       "      <td>1</td>\n",
       "      <td>0</td>\n",
       "      <td>0</td>\n",
       "    </tr>\n",
       "  </tbody>\n",
       "</table>\n",
       "</div>"
      ],
      "text/plain": [
       "   longueur_sépales  largeur_sépales  longueur_pétales  largeur_pétales  \\\n",
       "0               5.1              3.5               1.4              0.2   \n",
       "1               4.9              3.0               1.4              0.2   \n",
       "2               4.7              3.2               1.3              0.2   \n",
       "3               4.6              3.1               1.5              0.2   \n",
       "4               5.0              3.6               1.4              0.2   \n",
       "\n",
       "   espèce_Iris-setosa  espèce_Iris-versicolor  espèce_Iris-virginica  \n",
       "0                   1                       0                      0  \n",
       "1                   1                       0                      0  \n",
       "2                   1                       0                      0  \n",
       "3                   1                       0                      0  \n",
       "4                   1                       0                      0  "
      ]
     },
     "execution_count": 35,
     "metadata": {},
     "output_type": "execute_result"
    }
   ],
   "source": [
    "donnees_iris_bin_df = pd.get_dummies(donnees_iris_df,prefix=['espèce'], columns = ['espèce'])\n",
    "donnees_iris_bin_df.head()"
   ]
  },
  {
   "cell_type": "code",
   "execution_count": 36,
   "metadata": {},
   "outputs": [
    {
     "data": {
      "text/html": [
       "<div>\n",
       "<style scoped>\n",
       "    .dataframe tbody tr th:only-of-type {\n",
       "        vertical-align: middle;\n",
       "    }\n",
       "\n",
       "    .dataframe tbody tr th {\n",
       "        vertical-align: top;\n",
       "    }\n",
       "\n",
       "    .dataframe thead th {\n",
       "        text-align: right;\n",
       "    }\n",
       "</style>\n",
       "<table border=\"1\" class=\"dataframe\">\n",
       "  <thead>\n",
       "    <tr style=\"text-align: right;\">\n",
       "      <th></th>\n",
       "      <th>longueur_sépales</th>\n",
       "      <th>largeur_sépales</th>\n",
       "      <th>longueur_pétales</th>\n",
       "      <th>largeur_pétales</th>\n",
       "      <th>espèce_Iris-setosa</th>\n",
       "      <th>espèce_Iris-versicolor</th>\n",
       "      <th>espèce_Iris-virginica</th>\n",
       "    </tr>\n",
       "  </thead>\n",
       "  <tbody>\n",
       "    <tr>\n",
       "      <th>longueur_sépales</th>\n",
       "      <td>1.000000</td>\n",
       "      <td>-0.109369</td>\n",
       "      <td>0.871754</td>\n",
       "      <td>0.817954</td>\n",
       "      <td>-0.717416</td>\n",
       "      <td>0.079396</td>\n",
       "      <td>0.638020</td>\n",
       "    </tr>\n",
       "    <tr>\n",
       "      <th>largeur_sépales</th>\n",
       "      <td>-0.109369</td>\n",
       "      <td>1.000000</td>\n",
       "      <td>-0.420516</td>\n",
       "      <td>-0.356544</td>\n",
       "      <td>0.595601</td>\n",
       "      <td>-0.464700</td>\n",
       "      <td>-0.130901</td>\n",
       "    </tr>\n",
       "    <tr>\n",
       "      <th>longueur_pétales</th>\n",
       "      <td>0.871754</td>\n",
       "      <td>-0.420516</td>\n",
       "      <td>1.000000</td>\n",
       "      <td>0.962757</td>\n",
       "      <td>-0.922688</td>\n",
       "      <td>0.201587</td>\n",
       "      <td>0.721102</td>\n",
       "    </tr>\n",
       "    <tr>\n",
       "      <th>largeur_pétales</th>\n",
       "      <td>0.817954</td>\n",
       "      <td>-0.356544</td>\n",
       "      <td>0.962757</td>\n",
       "      <td>1.000000</td>\n",
       "      <td>-0.887510</td>\n",
       "      <td>0.118376</td>\n",
       "      <td>0.769134</td>\n",
       "    </tr>\n",
       "    <tr>\n",
       "      <th>espèce_Iris-setosa</th>\n",
       "      <td>-0.717416</td>\n",
       "      <td>0.595601</td>\n",
       "      <td>-0.922688</td>\n",
       "      <td>-0.887510</td>\n",
       "      <td>1.000000</td>\n",
       "      <td>-0.500000</td>\n",
       "      <td>-0.500000</td>\n",
       "    </tr>\n",
       "    <tr>\n",
       "      <th>espèce_Iris-versicolor</th>\n",
       "      <td>0.079396</td>\n",
       "      <td>-0.464700</td>\n",
       "      <td>0.201587</td>\n",
       "      <td>0.118376</td>\n",
       "      <td>-0.500000</td>\n",
       "      <td>1.000000</td>\n",
       "      <td>-0.500000</td>\n",
       "    </tr>\n",
       "    <tr>\n",
       "      <th>espèce_Iris-virginica</th>\n",
       "      <td>0.638020</td>\n",
       "      <td>-0.130901</td>\n",
       "      <td>0.721102</td>\n",
       "      <td>0.769134</td>\n",
       "      <td>-0.500000</td>\n",
       "      <td>-0.500000</td>\n",
       "      <td>1.000000</td>\n",
       "    </tr>\n",
       "  </tbody>\n",
       "</table>\n",
       "</div>"
      ],
      "text/plain": [
       "                        longueur_sépales  largeur_sépales  longueur_pétales  \\\n",
       "longueur_sépales                1.000000        -0.109369          0.871754   \n",
       "largeur_sépales                -0.109369         1.000000         -0.420516   \n",
       "longueur_pétales                0.871754        -0.420516          1.000000   \n",
       "largeur_pétales                 0.817954        -0.356544          0.962757   \n",
       "espèce_Iris-setosa             -0.717416         0.595601         -0.922688   \n",
       "espèce_Iris-versicolor          0.079396        -0.464700          0.201587   \n",
       "espèce_Iris-virginica           0.638020        -0.130901          0.721102   \n",
       "\n",
       "                        largeur_pétales  espèce_Iris-setosa  \\\n",
       "longueur_sépales               0.817954           -0.717416   \n",
       "largeur_sépales               -0.356544            0.595601   \n",
       "longueur_pétales               0.962757           -0.922688   \n",
       "largeur_pétales                1.000000           -0.887510   \n",
       "espèce_Iris-setosa            -0.887510            1.000000   \n",
       "espèce_Iris-versicolor         0.118376           -0.500000   \n",
       "espèce_Iris-virginica          0.769134           -0.500000   \n",
       "\n",
       "                        espèce_Iris-versicolor  espèce_Iris-virginica  \n",
       "longueur_sépales                      0.079396               0.638020  \n",
       "largeur_sépales                      -0.464700              -0.130901  \n",
       "longueur_pétales                      0.201587               0.721102  \n",
       "largeur_pétales                       0.118376               0.769134  \n",
       "espèce_Iris-setosa                   -0.500000              -0.500000  \n",
       "espèce_Iris-versicolor                1.000000              -0.500000  \n",
       "espèce_Iris-virginica                -0.500000               1.000000  "
      ]
     },
     "execution_count": 36,
     "metadata": {},
     "output_type": "execute_result"
    }
   ],
   "source": [
    "donnees_iris_bin_df.corr()"
   ]
  },
  {
   "cell_type": "markdown",
   "metadata": {},
   "source": [
    "#### Visualisation des corrélations - corrélogramme\n",
    "Maintenant rendons ces résultats plus visibles en ajoutant de la couleur...\n",
    "Ici le rouge indique une corrélation positive, le blanc la neutralité et le bleu une corrélation négative. Évidemment, la diagonale est rouge vif!"
   ]
  },
  {
   "cell_type": "code",
   "execution_count": 37,
   "metadata": {},
   "outputs": [
    {
     "data": {
      "image/png": "[encoded data removed]",
      "text/plain": [
       "<Figure size 504x504 with 2 Axes>"
      ]
     },
     "metadata": {
      "needs_background": "light"
     },
     "output_type": "display_data"
    }
   ],
   "source": [
    "import matplotlib.pyplot as plt\n",
    "import matplotlib.ticker as mticker\n",
    "%matplotlib inline\n",
    "\n",
    "# Une rustine un peu compliquée pour faire correspondre 0.0 à la couleur blanche\n",
    "# https://stackoverflow.com/questions/20144529/shifted-colorbar-matplotlib/20146989#20146989\n",
    "from matplotlib.colors import Normalize\n",
    "\n",
    "class MidpointNormalize(Normalize):\n",
    "\n",
    "    def __init__(self, vmin=None, vmax=None, midpoint=None, clip=False):\n",
    "        self.midpoint = midpoint\n",
    "        Normalize.__init__(self, vmin, vmax, clip)\n",
    "\n",
    "    def __call__(self, value, clip=None):\n",
    "        x, y = [self.vmin, self.midpoint, self.vmax], [0, 0.5, 1]\n",
    "        return np.ma.masked_array(np.interp(value, x, y))\n",
    "\n",
    "norm = MidpointNormalize(midpoint=0)\n",
    "    \n",
    "alpha = [\"longueur_sépales\",\"largeur_sépales\",\"longueur_pétales\",\"largeur_pétales\",\n",
    "         \"espèce_Iris-setosa\",\"espèce_Iris-versicolor\",\"espèce_Iris-virginica\"]\n",
    "\n",
    "fig = plt.figure(figsize=(7,7))\n",
    "ax = fig.add_subplot(111)\n",
    "cax = ax.matshow(donnees_iris_bin_df.corr(), norm=norm, cmap='bwr', interpolation='nearest')\n",
    "fig.colorbar(cax)\n",
    "\n",
    "# 2 lignes suivantes, une rustine pour éviter un avertissement\n",
    "# UserWarning: FixedFormatter should only be used together with FixedLocator\n",
    "# https://stackoverflow.com/questions/63723514/userwarning-fixedformatter-should-only-be-used-together-with-fixedlocator\n",
    "ticks_loc = ax.get_xticks().tolist()[:-1]\n",
    "ax.xaxis.tick_bottom()\n",
    "ax.xaxis.set_major_locator(mticker.FixedLocator(ticks_loc))\n",
    "# Afficher les noms des attributs selon l'axe horizontal\n",
    "ax.set_xticklabels(['']+alpha,rotation=60)\n",
    "\n",
    "# 2 lignes suivantes, une rustine pour éviter un avertissement (voir plus haut)\n",
    "ticks_loc = ax.get_yticks().tolist()[:-1]\n",
    "ax.yaxis.set_major_locator(mticker.FixedLocator(ticks_loc))\n",
    "# Afficher les noms des attributs selon l'axe vertical\n",
    "ax.set_yticklabels(['']+alpha)\n",
    "\n",
    "plt.title(\"Corrélogramme\",fontsize=25)\n",
    "plt.show()"
   ]
  },
  {
   "cell_type": "markdown",
   "metadata": {},
   "source": [
    "##### Résultats\n",
    "\n",
    "On voit que:\n",
    "\n",
    "* \"espèce_Iris-setosa\"\n",
    "    * corrélée moyennement positivement avec largeur_sépales\n",
    "    * corrélée fortement négativement avec longueur_sépales, longueur_pétales, largeur_pétales\n",
    "* \"espèce_Iris-versicolor\"\n",
    "    * corrélée faiblement positivement avec longueur_pétales\n",
    "    * corrélée moyennement négativement avec largeur_sépales\n",
    "* \"espèce_Iris-virginica\"\n",
    "    * corrélée fortement positivement avec largeur_pétales\n",
    "    * corrélée moyennement positivement avec longueur_sépales, longueur_pétales\n",
    "    * corrélée faiblement négativement avec largeur_sépales"
   ]
  },
  {
   "cell_type": "markdown",
   "metadata": {},
   "source": [
    "#### Analyse de l'information mutuelle\n",
    "\n",
    "L'information mutuelle révèle une association, que l'association soit linéaire (ce que mesure la corrélation) ou non, alors que la corrélation peut être nulle et que les variables peuvent encore être stochastiquement dépendantes."
   ]
  },
  {
   "cell_type": "code",
   "execution_count": 38,
   "metadata": {
    "scrolled": true
   },
   "outputs": [
    {
     "data": {
      "text/html": [
       "<div>\n",
       "<style scoped>\n",
       "    .dataframe tbody tr th:only-of-type {\n",
       "        vertical-align: middle;\n",
       "    }\n",
       "\n",
       "    .dataframe tbody tr th {\n",
       "        vertical-align: top;\n",
       "    }\n",
       "\n",
       "    .dataframe thead th {\n",
       "        text-align: right;\n",
       "    }\n",
       "</style>\n",
       "<table border=\"1\" class=\"dataframe\">\n",
       "  <thead>\n",
       "    <tr style=\"text-align: right;\">\n",
       "      <th></th>\n",
       "      <th>longueur_sépales</th>\n",
       "      <th>largeur_sépales</th>\n",
       "      <th>longueur_pétales</th>\n",
       "      <th>largeur_pétales</th>\n",
       "      <th>espèce_Iris-setosa</th>\n",
       "      <th>espèce_Iris-versicolor</th>\n",
       "      <th>espèce_Iris-virginica</th>\n",
       "    </tr>\n",
       "  </thead>\n",
       "  <tbody>\n",
       "    <tr>\n",
       "      <th>longueur_sépales</th>\n",
       "      <td>0.675622</td>\n",
       "      <td>0.016420</td>\n",
       "      <td>0.306132</td>\n",
       "      <td>0.297893</td>\n",
       "      <td>0.229790</td>\n",
       "      <td>0.000046</td>\n",
       "      <td>0.184890</td>\n",
       "    </tr>\n",
       "    <tr>\n",
       "      <th>largeur_sépales</th>\n",
       "      <td>0.016420</td>\n",
       "      <td>0.657158</td>\n",
       "      <td>0.085840</td>\n",
       "      <td>0.068399</td>\n",
       "      <td>0.151876</td>\n",
       "      <td>0.086699</td>\n",
       "      <td>0.012611</td>\n",
       "    </tr>\n",
       "    <tr>\n",
       "      <th>longueur_pétales</th>\n",
       "      <td>0.306132</td>\n",
       "      <td>0.085840</td>\n",
       "      <td>0.675622</td>\n",
       "      <td>0.479054</td>\n",
       "      <td>0.444612</td>\n",
       "      <td>0.037888</td>\n",
       "      <td>0.229790</td>\n",
       "    </tr>\n",
       "    <tr>\n",
       "      <th>largeur_pétales</th>\n",
       "      <td>0.297893</td>\n",
       "      <td>0.068399</td>\n",
       "      <td>0.479054</td>\n",
       "      <td>0.684232</td>\n",
       "      <td>0.402426</td>\n",
       "      <td>0.018512</td>\n",
       "      <td>0.252601</td>\n",
       "    </tr>\n",
       "    <tr>\n",
       "      <th>espèce_Iris-setosa</th>\n",
       "      <td>0.229790</td>\n",
       "      <td>0.151876</td>\n",
       "      <td>0.444612</td>\n",
       "      <td>0.402426</td>\n",
       "      <td>0.636514</td>\n",
       "      <td>0.174416</td>\n",
       "      <td>0.174416</td>\n",
       "    </tr>\n",
       "    <tr>\n",
       "      <th>espèce_Iris-versicolor</th>\n",
       "      <td>0.000046</td>\n",
       "      <td>0.086699</td>\n",
       "      <td>0.037888</td>\n",
       "      <td>0.018512</td>\n",
       "      <td>0.174416</td>\n",
       "      <td>0.636514</td>\n",
       "      <td>0.174416</td>\n",
       "    </tr>\n",
       "    <tr>\n",
       "      <th>espèce_Iris-virginica</th>\n",
       "      <td>0.184890</td>\n",
       "      <td>0.012611</td>\n",
       "      <td>0.229790</td>\n",
       "      <td>0.252601</td>\n",
       "      <td>0.174416</td>\n",
       "      <td>0.174416</td>\n",
       "      <td>0.636514</td>\n",
       "    </tr>\n",
       "  </tbody>\n",
       "</table>\n",
       "</div>"
      ],
      "text/plain": [
       "                        longueur_sépales  largeur_sépales  longueur_pétales  \\\n",
       "longueur_sépales                0.675622         0.016420          0.306132   \n",
       "largeur_sépales                 0.016420         0.657158          0.085840   \n",
       "longueur_pétales                0.306132         0.085840          0.675622   \n",
       "largeur_pétales                 0.297893         0.068399          0.479054   \n",
       "espèce_Iris-setosa              0.229790         0.151876          0.444612   \n",
       "espèce_Iris-versicolor          0.000046         0.086699          0.037888   \n",
       "espèce_Iris-virginica           0.184890         0.012611          0.229790   \n",
       "\n",
       "                        largeur_pétales  espèce_Iris-setosa  \\\n",
       "longueur_sépales               0.297893            0.229790   \n",
       "largeur_sépales                0.068399            0.151876   \n",
       "longueur_pétales               0.479054            0.444612   \n",
       "largeur_pétales                0.684232            0.402426   \n",
       "espèce_Iris-setosa             0.402426            0.636514   \n",
       "espèce_Iris-versicolor         0.018512            0.174416   \n",
       "espèce_Iris-virginica          0.252601            0.174416   \n",
       "\n",
       "                        espèce_Iris-versicolor  espèce_Iris-virginica  \n",
       "longueur_sépales                      0.000046               0.184890  \n",
       "largeur_sépales                       0.086699               0.012611  \n",
       "longueur_pétales                      0.037888               0.229790  \n",
       "largeur_pétales                       0.018512               0.252601  \n",
       "espèce_Iris-setosa                    0.174416               0.174416  \n",
       "espèce_Iris-versicolor                0.636514               0.174416  \n",
       "espèce_Iris-virginica                 0.174416               0.636514  "
      ]
     },
     "execution_count": 38,
     "metadata": {},
     "output_type": "execute_result"
    }
   ],
   "source": [
    "# Code from: Entropy in machine learning - may 06 2019 - Francesco Gadaleta\n",
    "# https://gist.github.com/rlangone/71d93b68d38a89c6722f414fc96f4792\n",
    "\n",
    "# Import libraries\n",
    "import pandas as pd\n",
    "import numpy as np\n",
    "from scipy.stats import iqr\n",
    "from numpy import histogram2d\n",
    "from sklearn.metrics import mutual_info_score\n",
    "\n",
    "# Define mutual information function\n",
    "def mutual_info(x, y):\n",
    "    # Compute mutual information between x and y\n",
    "    bins_x = max(2,int(2*iqr(x)*len(x)**-(1/3))) # use Freedman-Diaconis's Rule of thumb\n",
    "    bins_y = max(2,int(2*iqr(y)*len(y)**-(1/3)))\n",
    "    c_xy = histogram2d(x, y, [bins_x,bins_y])[0]\n",
    "    mi = mutual_info_score(None, None, contingency=c_xy)\n",
    "    return mi\n",
    "\n",
    "# Build MI matrix\n",
    "num_features = donnees_iris_bin_df.shape[1]\n",
    "MI_matrix = np.zeros((num_features,num_features))\n",
    "for i,col_i in enumerate(donnees_iris_bin_df):\n",
    "    for j,col_j in enumerate(donnees_iris_bin_df):\n",
    "        MI_matrix[i,j] = mutual_info(donnees_iris_bin_df[col_i],donnees_iris_bin_df[col_j])\n",
    "MI_df = pd.DataFrame(MI_matrix,columns = donnees_iris_bin_df.columns, index = donnees_iris_bin_df.columns)\n",
    "MI_df"
   ]
  },
  {
   "cell_type": "code",
   "execution_count": 41,
   "metadata": {},
   "outputs": [
    {
     "data": {
      "image/png": "[encoded data removed]",
      "text/plain": [
       "<Figure size 504x504 with 2 Axes>"
      ]
     },
     "metadata": {
      "needs_background": "light"
     },
     "output_type": "display_data"
    }
   ],
   "source": [
    "import matplotlib.pyplot as plt\n",
    "import matplotlib.ticker as mticker\n",
    "%matplotlib inline\n",
    "\n",
    "# Une rustine un peu compliquée pour faire correspondre 0.0 à la couleur blanche\n",
    "# https://stackoverflow.com/questions/20144529/shifted-colorbar-matplotlib/20146989#20146989\n",
    "from matplotlib.colors import Normalize\n",
    "\n",
    "class MidpointNormalize(Normalize):\n",
    "\n",
    "    def __init__(self, vmin=None, vmax=None, midpoint=None, clip=False):\n",
    "        self.midpoint = midpoint\n",
    "        Normalize.__init__(self, vmin, vmax, clip)\n",
    "\n",
    "    def __call__(self, value, clip=None):\n",
    "        x, y = [self.vmin, self.midpoint, self.vmax], [0, 0.5, 1]\n",
    "        return np.ma.masked_array(np.interp(value, x, y))\n",
    "\n",
    "norm = MidpointNormalize(midpoint=0)\n",
    "    \n",
    "alpha = [\"longueur_sépales\",\"largeur_sépales\",\"longueur_pétales\",\"largeur_pétales\",\n",
    "         \"espèce_Iris-setosa\",\"espèce_Iris-versicolor\",\"espèce_Iris-virginica\"]\n",
    "\n",
    "fig = plt.figure(figsize=(7,7))\n",
    "ax = fig.add_subplot(111)\n",
    "cax = ax.matshow(MI_df, norm=norm, cmap='bwr', interpolation='nearest')\n",
    "fig.colorbar(cax)\n",
    "\n",
    "# 2 lignes suivantes, une rustine pour éviter un avertissement\n",
    "# UserWarning: FixedFormatter should only be used together with FixedLocator\n",
    "# https://stackoverflow.com/questions/63723514/userwarning-fixedformatter-should-only-be-used-together-with-fixedlocator\n",
    "ticks_loc = ax.get_xticks().tolist()[:-1]\n",
    "ax.xaxis.tick_bottom()\n",
    "ax.xaxis.set_major_locator(mticker.FixedLocator(ticks_loc))\n",
    "# Afficher les noms des attributs selon l'axe horizontal\n",
    "ax.set_xticklabels(['']+alpha,rotation=60)\n",
    "\n",
    "# 2 lignes suivantes, une rustine pour éviter un avertissement (voir plus haut)\n",
    "ticks_loc = ax.get_yticks().tolist()[:-1]\n",
    "ax.yaxis.set_major_locator(mticker.FixedLocator(ticks_loc))\n",
    "# Afficher les noms des attributs selon l'axe vertical\n",
    "ax.set_yticklabels(['']+alpha)\n",
    "\n",
    "plt.title(\"Information Mutuelle\",fontsize=25)\n",
    "plt.show()"
   ]
  },
  {
   "cell_type": "markdown",
   "metadata": {},
   "source": [
    "#### Visualisation de relations avec une matrice de nuage de points\n",
    "\n",
    "<strong>Matrice de nuage de points</strong>\n",
    "\n",
    "Une matrice de nuage de points (en anglais, scatter plot matrix) montre tous les nuages de points par paire d'attributs (ou variables) dans une seule vue selon une matrice ou grille carrée. Donc, pour K attributs, la matrice de nuage de points comprendra K lignes et K colonnes. Chaque nuage de points représente graphiquement la relation entre deux attributs (ou relation bivariée). La matrice de nuage de points permet donc de visualiser de nombreuses relations dans un seul diagramme.\n",
    "\n",
    "La diagonale de la matrice représente la relation d'un attribut avec lui-même, ce qui n'est pas vraiment intéressant. On la remplace par un histogramme montrant la distribution de l'attribut numérique. \n",
    "\n",
    "<strong>Nuage de points</strong>\n",
    "\n",
    "Un nuage de points (parfois appelé diagramme de dispersion) affiche un ensemble de points selon des coordonnées cartésiennes. La valeur d'un attribut détermine la position du point sur l'axe horizontal (ou axe x, abscisse) et la valeur de l'autre attribut détermine la position sur l'axe vertical (ou axe y, ordonnée). Un nuage de points suggère différents types de relations entre deux attributs (ou relations bivariées). \n",
    "\n",
    "<strong>Interprétation de la forme du nuage de points</strong>\n",
    "\n",
    "Visuellement, si la forme du nuage de points monte du bas à gauche vers le haut à droite, cela indique une corrélation positive entre les attributs étudiées. Si la forme du nuage de points descend du haut à gauche vers le bas à droite, cela indique une corrélation négative. Enfin, si la forme du nuage de points reste plutôt horizontale ou verticale cela signifie une corrélation nulle. \n",
    "\n",
    "La pente plus ou moins forte d'une droite de régression selon l'axe principal du nuage de points nous renseigne sur l'intensité de la corrélation, une pente plus forte étant associée à une corrélation plus forte.\n",
    "\n",
    "Note: On peut également colorer les points, modifier leur formes ou leur taille, selon différents critères dont la classe-cible.\n",
    "\n",
    "* Article de <a href=\"http://benalexkeen.com/scatter-matrices-using-pandas/\">Ben Alex Keen</a> "
   ]
  },
  {
   "cell_type": "code",
   "execution_count": 44,
   "metadata": {},
   "outputs": [
    {
     "data": {
      "image/png": "[encoded data removed]",
      "text/plain": [
       "<Figure size 720x720 with 16 Axes>"
      ]
     },
     "metadata": {
      "needs_background": "light"
     },
     "output_type": "display_data"
    }
   ],
   "source": [
    "import matplotlib.patches as mpatches\n",
    "\n",
    "carte_couleurs = {\"Iris-setosa\":\"red\",\"Iris-versicolor\":\"blue\",\"Iris-virginica\":\"orange\"}\n",
    "liste_couleurs = list(map(lambda x:carte_couleurs.get(x),donnees_iris_df[\"espèce\"]))\n",
    "# diagonal peut être hist (histogramme) ou kde (Kernel Density Estimation) \n",
    "matrice_dispersion = pd.plotting.scatter_matrix(donnees_iris_df, diagonal=\"hist\", c=liste_couleurs, figsize=(10,10))\n",
    "# https://stackoverflow.com/questions/43217174/how-can-the-sizes-and-rotations-of-text-of-a-pandas-scatter-matrix-be-set\n",
    "for ax in matrice_dispersion.ravel():\n",
    "    ax.set_xlabel(ax.get_xlabel(), fontsize = 10, rotation = 0)\n",
    "    ax.set_ylabel(ax.get_ylabel(), fontsize = 10, rotation = 90)\n",
    "# https://stackoverflow.com/questions/26558816/matplotlib-scatter-plot-with-legend\n",
    "legende = []\n",
    "for c in range(0,len(set(liste_couleurs))):\n",
    "    legende.append(mpatches.Rectangle((0,0),1,1,fc=(list(carte_couleurs.values()))[c]))\n",
    "plt.legend(legende,tuple(carte_couleurs.keys()),loc='best')\n",
    "plt.suptitle('Matrice de nuage de points',fontsize=20)\n",
    "plt.show()"
   ]
  },
  {
   "cell_type": "markdown",
   "metadata": {},
   "source": [
    "On constate que les groupes formés par l'Iris sétosa sont facile à séparer des autres. Par contre il y a un léger recouvrement des groupes pour l'Iris versicolor et l'Iris virginica. Enfin, la longueur et la largeur des pétales sont fortement corrélés et permettent de séparer assez bien les trois espèces. "
   ]
  },
  {
   "cell_type": "markdown",
   "metadata": {},
   "source": [
    "## Ressources utiles\n",
    "\n",
    "1) Pandas - https://pandas.pydata.org\n",
    "\n",
    "2) Tutoriels Pandas - https://pandas.pydata.org/pandas-docs/stable/getting_started/tutorials.html\n",
    "\n",
    "3) Aide mémoire Pandas - https://pandas.pydata.org/Pandas_Cheat_Sheet.pdf\n",
    "\n",
    "4) Expressions régulières - http://regex101.com/ - https://www.regular-expressions.info/tutorial.html\n",
    "\n",
    "5) Matplotlib - https://matplotlib.org/\n",
    "\n",
    "6) Tutoriels Matplotlib - https://matplotlib.org/3.1.1/tutorials/index.html\n",
    "\n",
    "7) Aide-mémoire Matplotlib - https://go.aws/2V5J9jz\n",
    "\n",
    "8) Seaborn - (Surcouche graphique à matplotlib) - https://seaborn.pydata.org/\n",
    "\n",
    "9) Pygal - (Bibliothèque graphique Python, surtout pour les cartes géographiques) - http://www.pygal.org/\n",
    "\n",
    "10) StackOverflow - https://stackoverflow.com"
   ]
  },
  {
   "cell_type": "code",
   "execution_count": 42,
   "metadata": {},
   "outputs": [
    {
     "name": "stdout",
     "output_type": "stream",
     "text": [
      "Fin du carnet web\n"
     ]
    }
   ],
   "source": [
    "print(\"Fin du carnet web\")"
   ]
  },
  {
   "cell_type": "code",
   "execution_count": null,
   "metadata": {},
   "outputs": [],
   "source": []
  }
 ],
 "metadata": {
  "kernelspec": {
   "display_name": "Python 3",
   "language": "python",
   "name": "python3"
  },
  "language_info": {
   "codemirror_mode": {
    "name": "ipython",
    "version": 3
   },
   "file_extension": ".py",
   "mimetype": "text/x-python",
   "name": "python",
   "nbconvert_exporter": "python",
   "pygments_lexer": "ipython3",
   "version": "3.9.2"
  }
 },
 "nbformat": 4,
 "nbformat_minor": 4
}
