{
  "cells": [
    {
      "cell_type": "markdown",
      "id": "2168b2b8",
      "metadata": {
        "id": "2168b2b8"
      },
      "source": [
        "<a href=\"https://colab.research.google.com/github/ClaudeCoulombe/VIARENA/blob/master/Labos/Lab-Ecorces_Arbres/IdEcorces-ResConv-Transfert-Colab\" target=\"_blank\"><img src=\"https://colab.research.google.com/assets/colab-badge.svg\" alt=\"Open In Colab\"/></a>\n",
        "\n",
        "### Rappel - Fonctionnement d'un carnet web iPython\n",
        "\n",
        "* Pour exécuter le code contenu dans une cellule d'un carnet iPython, cliquez dans la cellule et faites (⇧↵, shift-enter) \n",
        "* Le code d'un carnet iPython s'exécute séquentiellement de haut en bas de la page. Souvent, l'importation d'une bibliothèque Python ou l'initialisation d'une variable est préalable à l'exécution d'une cellule située plus bas. Il est donc recommandé d'exécuter les cellules en séquence. Enfin, méfiez-vous des retours en arrière qui peuvent réinitialiser certaines variables.\n",
        "\n",
        "SVP, déployez toutes les cellules en sélectionnant l'item « Développer les rubriques » de l'onglet « Affichage »."
      ]
    },
    {
      "cell_type": "markdown",
      "id": "b8a852d1",
      "metadata": {
        "id": "b8a852d1"
      },
      "source": [
        "# Identification d'arbres à partir de leur écorce"
      ]
    },
    {
      "cell_type": "markdown",
      "id": "deadfcb7",
      "metadata": {
        "id": "deadfcb7"
      },
      "source": [
        "## Réseau convolutif avec apprentissage par transfert et peaufinage"
      ]
    },
    {
      "cell_type": "markdown",
      "id": "0eee7836",
      "metadata": {
        "id": "0eee7836"
      },
      "source": [
        "### Inspiration et droits d'auteur\n",
        "\n",
        "Ce laboratoire s'inspire de plusieurs oeuvres en logiciels libres qui ont été transformées dont:\n",
        "\n",
        "<a href=\"https://www.tensorflow.org/tutorials/images/transfer_learning\" target='_blank'>Transfer learning and fine-tuning</a> - site Google / Tutoriels TensorFlow\n",
        "\n",
        "##### Copyright (c) 2017, François Chollet  \n",
        "##### Copyright (c) 2019-2022, The TensorFlow Authors.\n",
        "##### Copyright (c) 2022, Claude Coulombe\n",
        "\n",
        "Le contenu de cette page est sous licence <a href=\"https://creativecommons.org/licenses/by/4.0/deed.fr\" target='_blank'>Creative Commons Attribution 4.0 (CC BY 4.0)</a>,<br/>et les exemples de code sont sous <a href=\"https://www.apache.org/licenses/LICENSE-2.0\" target='_blank'>licence Apache 2.0</a>.\n",
        "\n",
        "#### Données\n",
        "\n",
        "Les données sur les écorces d'arbres proviennent de <a href=\"https://data.mendeley.com/research-data/?search=barknet\">BarkNet</a>, une banque en données ouvertes sous licence MIT de 23 000 photos d'écorces d'arbres en haute résolution prises avec des téléphones intelligents par une équipe d'étudiants et de chercheurs du <a href=\"https://www.sbf.ulaval.ca/\" target='_blank'>Département des sciences du bois et de la forêt de l'Université Laval</a> à Québec.</p>"
      ]
    },
    {
      "cell_type": "markdown",
      "id": "cbb109fa",
      "metadata": {
        "id": "cbb109fa"
      },
      "source": [
        "# Apprentissage par transfert & peaufinage"
      ]
    },
    {
      "cell_type": "markdown",
      "id": "694a1723",
      "metadata": {
        "id": "694a1723"
      },
      "source": [
        "## Fixer le hasard pour la reproductibilité\n",
        "\n",
        "La mise au point de réseaux de neurones implique certains processus aléatoires. Afin de pouvoir reproduire et comparer vos résultats d'expérience, vous fixez temporairement l'état aléatoire grâce à un germe aléatoire unique.\n",
        "\n",
        "Pendant la mise au point, vous fixez temporairement l'état aléatoire pour la reproductibilité mais vous répétez l'expérience avec différents germes ou états aléatoires et prenez la moyenne des résultats.\n",
        "<br/>\n",
        "**Note** : Pour un système en production, vous ravivez simplement l'état  purement aléatoire avec l'instruction `GERME_ALEATOIRE = None`"
      ]
    },
    {
      "cell_type": "code",
      "execution_count": null,
      "id": "9c6e8fbd",
      "metadata": {
        "id": "9c6e8fbd"
      },
      "outputs": [],
      "source": [
        "import os\n",
        "\n",
        "# Définir un germe aléatoire\n",
        "GERME_ALEATOIRE = 42\n",
        "\n",
        "# Définir un état aléatoire pour Python\n",
        "os.environ['PYTHONHASHSEED'] = str(GERME_ALEATOIRE)\n",
        "\n",
        "# Définir un état aléatoire pour Python random\n",
        "import random\n",
        "random.seed(GERME_ALEATOIRE)\n",
        "\n",
        "# Définir un état aléatoire pour NumPy\n",
        "import numpy as np\n",
        "np.random.seed(GERME_ALEATOIRE)\n",
        "\n",
        "# Définir un état aléatoire pour TensorFlow\n",
        "import tensorflow as tf\n",
        "tf.random.set_seed(GERME_ALEATOIRE)\n",
        "\n",
        "# Note: Retrait du comportement déterministe\n",
        "# à cause de keras.layers.RandomContrast(...)\n",
        "# dont il n'existe pas de version déterministe\n",
        "# os.environ['TF_DETERMINISTIC_OPS'] = '1'\n",
        "# os.environ['TF_CUDNN_DETERMINISTIC'] = '1'\n",
        "\n",
        "print(\"Germe aléatoire fixé\")"
      ]
    },
    {
      "cell_type": "markdown",
      "id": "a5a2497b",
      "metadata": {
        "id": "a5a2497b"
      },
      "source": [
        "## Acquisition des données"
      ]
    },
    {
      "cell_type": "markdown",
      "id": "30dd9493",
      "metadata": {
        "id": "30dd9493"
      },
      "source": [
        "Les <a href=\"https://www.kaggle.com/claudecoulombe/barknet\" target='_blank'>données de BarkNet</a>  sont téléchargeables à partir du site de Kaggle.\n"
      ]
    },
    {
      "cell_type": "code",
      "execution_count": null,
      "id": "99ea030b",
      "metadata": {
        "id": "99ea030b"
      },
      "outputs": [],
      "source": [
        "dict_arbres = {\n",
        "    'BOJ' : \"Betula alleghaniensis - Bouleau jaune - Yellow birch\",\n",
        "    'BOP' : \"Betula papyrifera - Bouleau à papier - White birch\",\n",
        "    'CHR' : \"Quercus rubra - Chêne rouge - Northern red oak\",\n",
        "    'EPB' : \"Picea glauca - Épinette blanche - White spruce\",\n",
        "    'EPN' : \" Picea mariana - Épinette noire - Black spruce\",\n",
        "    'EPO' : \"Picea abies - Épinette de Norvège - Norway spruce\",\n",
        "    'EPR' : \"Picea rubens - Épinette rouge - Red spruce\",\n",
        "    'ERB' : \"Acer platanoides - Érable de Norvège - Norway maple\",\n",
        "    'ERR' : \"Acer rubrum - Érable rouge - Red maple\",\n",
        "    'ERS' : \"Acer saccharum - Érable à sucre - Sugar maple\",\n",
        "    'FRA' : \"Fraxinus americana - Frêne d'Amérique - White ash\",\n",
        "    'HEG' : \"Fagus grandifolia - Hêtre à grandes feuilles - American beech\",\n",
        "    'MEL' : \"Larix laricina - Mélèze - Tamarack\",\n",
        "    'ORA' : \"Ulmus americana - Orme d'Amérique - American elm\",\n",
        "    'OSV' : \"Ostrya virginiana - Ostryer de Virginie - American hophornbeam\",\n",
        "    'PEG' : \"Populus grandidentata - Peuplier à grandes dents - Big-tooth aspen\",\n",
        "    'PET' : \"Populus tremuloides - Peuplier faux tremble - Quaking aspen\",\n",
        "    'PIB' : \"Pinus strobus - Pin blanc - Eastern white pine\",\n",
        "    'PID' : \"Pinus rigida - Pin rigide - Pitch pine\",\n",
        "    'PIR' : \"Pinus resinosa - Pin rouge - Red pine\",\n",
        "    'PRU' : \"Tsuga canadensis - Pruche du Canada - Eastern Hemlock\",\n",
        "    'SAB' : \"Abies balsamea - Sapin Baumier - Balsam fir\",\n",
        "    'THO' : \"Thuja occidentalis - Thuya occidental - Northern white cedar\",\n",
        "}\n",
        "print(\"Dictionnaire mémorisé\")"
      ]
    },
    {
      "cell_type": "markdown",
      "id": "48583306",
      "metadata": {
        "id": "48583306"
      },
      "source": [
        "### Création des répertoires de données\n",
        "\n",
        "Nous allons créer un répertoire de base `donnees`, un répertoire `lab_ecorces` où les données seront réparties en données d'entraînement, de validation et de test pour chaque classe cible.\n",
        "\n",
        "Enfin, un répertoire `modeles` pour mémoriser les modèles une fois entraînés."
      ]
    },
    {
      "cell_type": "code",
      "execution_count": null,
      "id": "fe117e37",
      "metadata": {
        "id": "fe117e37"
      },
      "outputs": [],
      "source": [
        "try:\n",
        "    os.mkdir(\"/content/donnees/\")\n",
        "except OSError:\n",
        "    pass\n",
        "try:\n",
        "    os.mkdir(\"/content/lab_ecorces/\")\n",
        "except OSError:\n",
        "    pass\n",
        "try:\n",
        "    os.mkdir(\"/content/modeles/\")\n",
        "except OSError:\n",
        "    pass"
      ]
    },
    {
      "cell_type": "markdown",
      "source": [
        "### Utilisation de l'IPA (<i>API</i>) de Kaggle pour l'importation directe du jeu de données BarkNet\n",
        "\n",
        "1. Commencez par installer la bibliothèque Python `kaggle`"
      ],
      "metadata": {
        "id": "etRiJW0lUGf5"
      },
      "id": "etRiJW0lUGf5"
    },
    {
      "cell_type": "code",
      "source": [
        "!pip3 install kaggle"
      ],
      "metadata": {
        "id": "MHVM3w_5Ua-G"
      },
      "id": "MHVM3w_5Ua-G",
      "execution_count": null,
      "outputs": []
    },
    {
      "cell_type": "markdown",
      "id": "f36fc887",
      "metadata": {
        "id": "f36fc887"
      },
      "source": [
        "2. Si ce n'est déjà fait, devenez membre de Kaggle avec votre adresse de courriel GMail:<br/>\n",
        "\n",
        "<img src=\"https://cours.edulib.org/asset-v1:Cegep-Matane+VAERN.1FR+P2021+type@asset+block@Kaggle_API-1.png\"/>\n"
      ]
    },
    {
      "cell_type": "markdown",
      "source": [
        "3. Maintenant, vous devez télécharger votre clé privée pour utiliser l'IPA de Kaggle.\n",
        "\n",
        "4. Cliquez sur l'onglet « account » de votre profil Kaggle\n",
        "\n",
        "<img src=\"https://cours.edulib.org/asset-v1:Cegep-Matane+VAERN.1FR+P2021+type@asset+block@Kaggle_API-2.png\"/>\n",
        "\n",
        "5. Sur la page « Account » cliquez sur le bouton « Create New API Token ».\n",
        "    \n",
        "<img style=\"margin-left:40px;\" src=\"https://cours.edulib.org/asset-v1:Cegep-Matane+VAERN.1FR+P2021+type@asset+block@Kaggle_API-3.png\"/>\n",
        "\n",
        "6. Téléchargez votre clé privée « kaggle.json » pour l'IPA Kaggle dans un endroit temporaire sur votre poste de travail.\n",
        "\n",
        "<img style=\"margin-left:40px;\" src=\"https://cours.edulib.org/asset-v1:Cegep-Matane+VAERN.1FR+P2021+type@asset+block@Kaggle_API-5.png\"/>\n",
        "\n",
        "7. Maintenant, transférez (téléversez) votre clé privée « kaggle.json » dans votre environnement Colab.\n",
        "\n",
        "La fenêtre de l'outil de fichiers de votre ordinateur s'ouvre alors. Allez chercher votre clé privée « kaggle.json » que vous avez sauvegardé sur votre  ordinateur.\n",
        "\n",
        "<img style=\"margin-left:40px;\" src=\"https://cours.edulib.org/asset-v1:Cegep-Matane+VAERN.1FR+P2021+type@asset+block@Colab_Importer_Fichier.png\"/>\n",
        "\n"
      ],
      "metadata": {
        "id": "Aaiad-TEU6kv"
      },
      "id": "Aaiad-TEU6kv"
    },
    {
      "cell_type": "markdown",
      "source": [
        "8. Créer à la racine un répertoire .kaggle et déplacez votre clé privée « kaggle.json » dans ce répertoire."
      ],
      "metadata": {
        "id": "C44kZUNrhzs2"
      },
      "id": "C44kZUNrhzs2"
    },
    {
      "cell_type": "code",
      "source": [
        "!mkdir ~/.kaggle\n",
        "!cp /content/kaggle.json ~/.kaggle/\n",
        "!chmod 600 /root/.kaggle/kaggle.json\n",
        "!ls ~/.kaggle -all"
      ],
      "metadata": {
        "id": "gyhdXF6iiQEE"
      },
      "id": "gyhdXF6iiQEE",
      "execution_count": null,
      "outputs": []
    },
    {
      "cell_type": "markdown",
      "source": [
        "9. Maintenant téléchargez le jeu de données « barknet » avec la commande suivante:"
      ],
      "metadata": {
        "id": "TSKaq8XGgBFS"
      },
      "id": "TSKaq8XGgBFS"
    },
    {
      "cell_type": "code",
      "source": [
        "# !kaggle datasets download claudecoulombe/barknet --unzip -p /content/donnees/"
      ],
      "metadata": {
        "id": "oOBbnxVBgY6k"
      },
      "id": "oOBbnxVBgY6k",
      "execution_count": null,
      "outputs": []
    },
    {
      "cell_type": "code",
      "source": [
        "!kaggle datasets download claudecoulombe/barknet"
      ],
      "metadata": {
        "id": "kNxw7vzNkDH7"
      },
      "id": "kNxw7vzNkDH7",
      "execution_count": null,
      "outputs": []
    },
    {
      "cell_type": "markdown",
      "id": "3141d7e4",
      "metadata": {
        "id": "3141d7e4"
      },
      "source": [
        "### Répartition des données"
      ]
    },
    {
      "cell_type": "code",
      "execution_count": null,
      "id": "215afd95",
      "metadata": {
        "id": "215afd95"
      },
      "outputs": [],
      "source": [
        "# Installation des bibliothèques Python `split-folders` et `tqdm`\n",
        "!pip3 install split-folders tqdm"
      ]
    },
    {
      "cell_type": "code",
      "execution_count": null,
      "id": "6f841896",
      "metadata": {
        "id": "6f841896"
      },
      "outputs": [],
      "source": [
        "# Répartition des données d'entraînement, de validation et de tests\n",
        "import splitfolders\n",
        "import pathlib\n",
        "\n",
        "#### répertoire des données en entrée et des données une fois réparties\n",
        "repertoire_entree = \"/content/data/ecorces_arbres_qc_donnees_reduites\"\n",
        "repertoire_donnees_reparties = \"/content/lab_ecorces\"\n",
        "# => train, val, test\n",
        "\n",
        "nombre_images = len(list(pathlib.Path(repertoire_entree).glob('*/*.jpg')))\n",
        "print(\"Nombre total d'images:\",nombre_images)\n",
        "\n",
        "splitfolders.ratio(repertoire_entree, \n",
        "                   output=repertoire_donnees_reparties, \n",
        "                   seed=42, \n",
        "                   ratio = (0.80, 0.15, 0.05))\n",
        "\n",
        "print(\"\\nRépartition des données terminée!\")\n"
      ]
    },
    {
      "cell_type": "markdown",
      "id": "1b103e4e",
      "metadata": {
        "id": "1b103e4e"
      },
      "source": [
        "### Visualisation d'un échantillon des données"
      ]
    },
    {
      "cell_type": "code",
      "execution_count": null,
      "id": "4c7cf92e",
      "metadata": {
        "id": "4c7cf92e"
      },
      "outputs": [],
      "source": [
        "%matplotlib inline\n",
        "\n",
        "import matplotlib.pyplot as plt\n",
        "import matplotlib.image as mpimg\n",
        "\n",
        "pic_index = 4\n",
        "\n",
        "REPERTOIRE_ENTRAINEMENT = \"/content/lab_ecorces/train/\"\n",
        "\n",
        "for arbre_id in dict_arbres.keys():\n",
        "    try:\n",
        "        dir_path = os.path.join(REPERTOIRE_ENTRAINEMENT,arbre_id+os.sep)\n",
        "        liste_fichiers = os.listdir(os.path.join(REPERTOIRE_ENTRAINEMENT,arbre_id+os.sep))\n",
        "        next_two_pics = [os.path.join(dir_path, fname) for fname in liste_fichiers[0:pic_index]]\n",
        "        fig = plt.figure(figsize=(12,4))\n",
        "        print(\"_\"*90)\n",
        "        print(arbre_id,dict_arbres[arbre_id].split('-')[1])\n",
        "        for i, img_path in enumerate(next_two_pics):\n",
        "            print(img_path)\n",
        "            img = mpimg.imread(img_path)\n",
        "            plt.subplot(1,pic_index,i+1)\n",
        "            plt.imshow(img)\n",
        "            plt.axis('Off')\n",
        "        plt.show()\n",
        "    except:\n",
        "        continue\n"
      ]
    },
    {
      "cell_type": "markdown",
      "id": "4bed605b",
      "metadata": {
        "id": "4bed605b"
      },
      "source": [
        "### Création de flux de lots de données pour l'entraînement\n",
        "\n",
        "Chargeons ces images en mémoire en créant des `tf.data.dataset` à l'aide de l'utilitaire `tf.keras.utils.image_dataset_from_directory`. \n",
        "\n",
        "tf.data.Dataset prend en charge l'écriture de chaîne de traitement de données efficaces. L'itération se produit dans un flux continu, de sorte que l'ensemble complet de données  n'a pas besoin de tenir dans la mémoire."
      ]
    },
    {
      "cell_type": "code",
      "execution_count": null,
      "id": "f98f57ba",
      "metadata": {
        "id": "f98f57ba"
      },
      "outputs": [],
      "source": [
        "import os\n",
        "import numpy as np\n",
        "import keras\n",
        "print(\"Version de Keras:\",keras.__version__)\n",
        "import tensorflow as tf\n",
        "print(\"Version de TensorFlow :\",tf.__version__)"
      ]
    },
    {
      "cell_type": "code",
      "execution_count": null,
      "id": "e3724b5e",
      "metadata": {
        "id": "e3724b5e"
      },
      "outputs": [],
      "source": [
        "REPERTOIRE_ENTRAINEMENT = \"/content/lab_ecorces/train/\"\n",
        "REPERTOIRE_VALIDATION = \"/content/lab_ecorces/val\"\n",
        "REPERTOIRE_TEST = \"/content/lab_ecorces/test/\"\n",
        "\n",
        "TAILLE_LOT = 32\n",
        "HAUTEUR_IMAGE = 150\n",
        "LARGEUR_IMAGE = 150\n",
        "TAILLE_IMAGE = (HAUTEUR_IMAGE, LARGEUR_IMAGE)\n",
        "NOMBRE_CANAUX = 3\n",
        "\n",
        "donnees_entrainement = tf.keras.utils.image_dataset_from_directory(REPERTOIRE_ENTRAINEMENT,\n",
        "                                                                   batch_size=TAILLE_LOT,\n",
        "                                                                   image_size=TAILLE_IMAGE)"
      ]
    },
    {
      "cell_type": "code",
      "execution_count": null,
      "id": "37c35bdc",
      "metadata": {
        "id": "37c35bdc"
      },
      "outputs": [],
      "source": [
        "print(\"Type Python de donnees_entrainement):\",type(donnees_entrainement))\n",
        "flux_images, flux_etiquettes = next(iter(donnees_entrainement))\n",
        "print(\"Dimensions du flux d'images:\",flux_images.shape)\n",
        "print(\"Nombre d'images):\",len(flux_images))\n",
        "print(\"Dimensions du flux d'étiquettes:\",flux_etiquettes.shape)\n",
        "print(\"Nombre d'étiquettes):\",len(flux_etiquettes))"
      ]
    },
    {
      "cell_type": "code",
      "execution_count": null,
      "id": "208847ab",
      "metadata": {
        "id": "208847ab"
      },
      "outputs": [],
      "source": [
        "liste_noms_classes = donnees_entrainement.class_names\n",
        "print(liste_noms_classes)\n",
        "nombre_de_classes = len(liste_noms_classes)\n",
        "print('Nombre de classes:',nombre_de_classes)"
      ]
    },
    {
      "cell_type": "code",
      "execution_count": null,
      "id": "14b3fc8a",
      "metadata": {
        "id": "14b3fc8a"
      },
      "outputs": [],
      "source": [
        "donnees_validation = tf.keras.utils.image_dataset_from_directory(REPERTOIRE_VALIDATION,\n",
        "                                                                 batch_size=TAILLE_LOT,\n",
        "                                                                 image_size=TAILLE_IMAGE)"
      ]
    },
    {
      "cell_type": "code",
      "execution_count": null,
      "id": "2b975215",
      "metadata": {
        "id": "2b975215"
      },
      "outputs": [],
      "source": [
        "donnees_test = tf.keras.utils.image_dataset_from_directory(REPERTOIRE_TEST,\n",
        "                                                           batch_size=TAILLE_LOT,\n",
        "                                                           image_size=TAILLE_IMAGE)"
      ]
    },
    {
      "cell_type": "code",
      "execution_count": null,
      "id": "c9bbe6c4",
      "metadata": {
        "id": "c9bbe6c4"
      },
      "outputs": [],
      "source": [
        "print(\"Nombre de lots de données d'entraînement: %d\" % tf.data.experimental.cardinality(donnees_entrainement))\n",
        "print(\"Nombre de lots de données de validation: %d\" % tf.data.experimental.cardinality(donnees_validation))\n",
        "print('Nombre de lots de données de test: %d' % tf.data.experimental.cardinality(donnees_test))\n"
      ]
    },
    {
      "cell_type": "markdown",
      "id": "f58a755f",
      "metadata": {
        "id": "f58a755f"
      },
      "source": [
        "## Prétraitement des données"
      ]
    },
    {
      "cell_type": "markdown",
      "id": "ff55dd94",
      "metadata": {
        "id": "ff55dd94"
      },
      "source": [
        "### Normalisation des données"
      ]
    },
    {
      "cell_type": "code",
      "execution_count": null,
      "id": "612600b9",
      "metadata": {
        "id": "612600b9"
      },
      "outputs": [],
      "source": [
        "couches_normalisation = keras.Sequential([\n",
        "    keras.layers.Resizing(HAUTEUR_IMAGE,LARGEUR_IMAGE),\n",
        "    keras.layers.Rescaling(1./255)\n",
        "])"
      ]
    },
    {
      "cell_type": "code",
      "execution_count": null,
      "id": "811d0b99",
      "metadata": {
        "id": "811d0b99"
      },
      "outputs": [],
      "source": [
        "AUTOTUNE = tf.data.AUTOTUNE\n",
        "\n",
        "def pretraitement(jeu_donnees, melanger=False, normaliser=False):\n",
        "\n",
        "    if melanger:\n",
        "        jeu_donnees = jeu_donnees.shuffle(1000)\n",
        "            \n",
        "    # Normaliser les jeux de données\n",
        "    if normaliser:\n",
        "        jeu_donnees = jeu_donnees.map(lambda x, y: (couches_normalisation(x), y),\n",
        "                                    num_parallel_calls=AUTOTUNE\n",
        "                                    )\n",
        "    \n",
        "    # Utiliser des tampons de préextraction sur tous les jeux de données\n",
        "    return jeu_donnees.prefetch(buffer_size=AUTOTUNE)\n",
        "\n",
        "print(\"Fonction de prétraitement prête!\")"
      ]
    },
    {
      "cell_type": "markdown",
      "id": "e7355370",
      "metadata": {
        "id": "e7355370"
      },
      "source": [
        "#### Normalisation des données d'entraînement"
      ]
    },
    {
      "cell_type": "code",
      "execution_count": null,
      "id": "1e01a083",
      "metadata": {
        "id": "1e01a083"
      },
      "outputs": [],
      "source": [
        "print(\"Type Python de donnees_entrainement):\",type(donnees_entrainement))\n",
        "donnees_entrainement_normalisees = pretraitement(donnees_entrainement,\n",
        "                                                 melanger=True,\n",
        "                                                 normaliser=True)\n",
        "print(\"Type Python donnees_entrainement_normalisees):\",type(donnees_entrainement_normalisees))\n",
        "lot_images, lot_etiquettes = next(iter(donnees_entrainement_normalisees))\n",
        "premiere_image = lot_images[0]\n",
        "# Notez que les valeurs des pixels sont maintenant dans l'intervalle `[0,1]`\n",
        "print(np.min(premiere_image), np.max(premiere_image))\n"
      ]
    },
    {
      "cell_type": "code",
      "execution_count": null,
      "id": "f9e2538c",
      "metadata": {
        "id": "f9e2538c"
      },
      "outputs": [],
      "source": [
        "images, etiquettes = next(iter(donnees_entrainement_normalisees))\n",
        "print(\"Dimensions flux d'images:\",images.shape)\n",
        "print(\"Nombre d'images:\",len(images))\n",
        "print(\"Dimensions flux d'étiquette:\",etiquettes.shape)\n",
        "print(\"Nombre d'étiquettes:\",len(images))\n"
      ]
    },
    {
      "cell_type": "markdown",
      "id": "c5e32416",
      "metadata": {
        "id": "c5e32416"
      },
      "source": [
        "#### Normalisation des données de validation"
      ]
    },
    {
      "cell_type": "code",
      "execution_count": null,
      "id": "bdb3eaa1",
      "metadata": {
        "id": "bdb3eaa1"
      },
      "outputs": [],
      "source": [
        "print(\"Type Python de donnees_validation):\",type(donnees_validation))\n",
        "donnees_validation_normalisees = pretraitement(donnees_validation,\n",
        "                                               melanger=False,\n",
        "                                               normaliser=True)\n",
        "print(\"Type Python donnees_validation_normalisees):\",type(donnees_validation_normalisees))\n",
        "lot_images, lot_etiquettes = next(iter(donnees_validation_normalisees))\n",
        "premiere_image = lot_images[0]\n",
        "# Notez que les valeurs des pixels sont maintenant dans l'intervalle `[0,1]`\n",
        "print(np.min(premiere_image), np.max(premiere_image))\n"
      ]
    },
    {
      "cell_type": "code",
      "execution_count": null,
      "id": "4016e51e",
      "metadata": {
        "id": "4016e51e"
      },
      "outputs": [],
      "source": [
        "images, etiquettes = next(iter(donnees_validation_normalisees))\n",
        "print(\"Dimensions flux d'images:\",images.shape)\n",
        "print(\"Nombre d'images:\",len(images))\n",
        "print(\"Dimensions flux d'étiquette:\",etiquettes.shape)\n",
        "print(\"Nombre d'étiquettes:\",len(images))\n"
      ]
    },
    {
      "cell_type": "markdown",
      "id": "5b37b8b4",
      "metadata": {
        "id": "5b37b8b4"
      },
      "source": [
        "#### Normalisation des données de test"
      ]
    },
    {
      "cell_type": "code",
      "execution_count": null,
      "id": "c37fce59",
      "metadata": {
        "id": "c37fce59"
      },
      "outputs": [],
      "source": [
        "print(\"Type Python de donnees_test):\",type(donnees_test))\n",
        "AUTOTUNE = tf.data.AUTOTUNE\n",
        "donnees_test = donnees_test.cache().prefetch(buffer_size=AUTOTUNE)\n",
        "print(\"Type Python de donnees_test):\",type(donnees_test))\n",
        "donnees_test_normalisees = donnees_test.map(lambda x, y: (couches_normalisation(x), y))\n",
        "print(\"Type Python de donnees_test_normalisees:\",type(donnees_test_normalisees))\n",
        "lot_images, lot_etiquettes = next(iter(donnees_test_normalisees))\n",
        "premiere_image = lot_images[0]\n",
        "# Notez que les valeurs des pixels sont maintenant dans l'intervalle `[0,1]`\n",
        "print(np.min(premiere_image), np.max(premiere_image))\n"
      ]
    },
    {
      "cell_type": "code",
      "execution_count": null,
      "id": "97392d31",
      "metadata": {
        "id": "97392d31"
      },
      "outputs": [],
      "source": [
        "images, etiquettes = next(iter(donnees_test_normalisees))\n",
        "print(\"Dimensions flux d'images:\",images.shape)\n",
        "print(\"Nombre d'images:\",len(images))\n",
        "print(\"Dimensions flux d'étiquette:\",etiquettes.shape)\n",
        "print(\"Nombre d'étiquettes:\",len(images))\n"
      ]
    },
    {
      "cell_type": "markdown",
      "id": "dd161c26",
      "metadata": {
        "id": "dd161c26"
      },
      "source": [
        "## Création d'un modèle d'apprentissage par transfert"
      ]
    },
    {
      "cell_type": "markdown",
      "id": "31ae9c7f",
      "metadata": {
        "id": "31ae9c7f"
      },
      "source": [
        "### Importation d'un modèle `inception` pré-entraîné sur `ImageNet`"
      ]
    },
    {
      "cell_type": "code",
      "execution_count": null,
      "id": "2b578bbd",
      "metadata": {
        "id": "2b578bbd"
      },
      "outputs": [],
      "source": [
        "!wget --no-check-certificate \\\n",
        "    https://storage.googleapis.com/mledu-datasets/inception_v3_weights_tf_dim_ordering_tf_kernels_notop.h5 \\\n",
        "    -O /tmp/inception_v3_weights_tf_dim_ordering_tf_kernels_notop.h5\n",
        "    "
      ]
    },
    {
      "cell_type": "code",
      "execution_count": null,
      "id": "4f5f19a2",
      "metadata": {
        "id": "4f5f19a2"
      },
      "outputs": [],
      "source": [
        "from tensorflow.keras import layers\n",
        "from tensorflow.keras import Model\n",
        "\n",
        "from tensorflow.keras.applications.inception_v3 import InceptionV3\n",
        "\n",
        "# Charger les paramètres ou poids du modèle InceptionV3 pré-entraîné sur ImageNet\n",
        "modele_preentraine = InceptionV3(weights='imagenet',\n",
        "                                 input_shape = (HAUTEUR_IMAGE,LARGEUR_IMAGE,NOMBRE_CANAUX),\n",
        "                                 include_top = False)\n"
      ]
    },
    {
      "cell_type": "code",
      "execution_count": null,
      "id": "fe32c779",
      "metadata": {
        "id": "fe32c779"
      },
      "outputs": [],
      "source": [
        "print(\"Architecture du modèle préentraîné\")\n",
        "modele_preentraine.summary()"
      ]
    },
    {
      "cell_type": "markdown",
      "id": "8ae30608",
      "metadata": {
        "id": "8ae30608"
      },
      "source": [
        "### Module d'extraction d'attributs visuels"
      ]
    },
    {
      "cell_type": "markdown",
      "id": "afc0427f",
      "metadata": {
        "id": "afc0427f"
      },
      "source": [
        "#### Détermination de la couche de sortie et de la couche où débute le peaufinage"
      ]
    },
    {
      "cell_type": "code",
      "execution_count": null,
      "id": "e24a3d8f",
      "metadata": {
        "id": "e24a3d8f"
      },
      "outputs": [],
      "source": [
        "modele_preentraine.trainable = True\n",
        "\n",
        "# Combien de couches se trouvent dans le modèle pré-entraîné\n",
        "nbr_couches_modele_preentraine = len(modele_preentraine.layers)\n",
        "print(\"Nombre de couches dans le modèle pré-entraîné d'origine: \", nbr_couches_modele_preentraine)\n",
        "\n",
        "# Comment obtenir l'index de la couche à partir de l'identifiant de la couche \n",
        "# https://www.thetopsites.net/article/50151157.shtml\n",
        "liste_noms_de_couche = [couche.name for couche in modele_preentraine.layers]\n",
        "nom_derniere_couche = liste_noms_de_couche[-1]\n",
        "print(\"Nom de la dernière couche du modèle pré-entraîné complet:\",nom_derniere_couche)\n",
        "index_derniere_couche = liste_noms_de_couche.index(nom_derniere_couche)\n",
        "print(\"Index de la dernière couche du modèle pré-entraîné complet:\",index_derniere_couche)\n",
        "\n",
        "# Choix d'une nouvelle couche de sortie par essai / erreur\n",
        "# cette étape assez laborieuse a été réalisée pour vous simplifier la tâche\n",
        "nom_derniere_couche = 'mixed5'\n",
        "print(\"Choix empirique de la dernière couche du modèle pré-entraîné:\",nom_derniere_couche)\n",
        "index_derniere_couche = liste_noms_de_couche.index(nom_derniere_couche)\n",
        "print(\"Index de la dernière couche du modèle pré-entraîné choisie empiriquement:\",index_derniere_couche)\n",
        "\n",
        "# Choix de la dernière couche non-entraînable ou dernière couche « gelée » du modèle pré-entraîné\n",
        "nom_derniere_couche_gelee = 'mixed3'\n",
        "print(\"Choix empirique de la dernière couche non-entraînable:\",nom_derniere_couche_gelee)\n",
        "index_derniere_couche_gelee = liste_noms_de_couche.index(nom_derniere_couche_gelee)\n",
        "print(\"Index de la dernière couche non-entraînable:\",index_derniere_couche_gelee)\n",
        "# Paufiner l'entraînement à partir de la dernière couche non-entraînable\n",
        "debut_paufinage = index_derniere_couche_gelee\n",
        "print(\"Nombre de couches gelées (non entraînables) dans le modèle préentraîné: \", debut_paufinage )\n",
        "# Geler tous les couches avant la couche `debut_paufinage`\n",
        "for couche in modele_preentraine.layers[:debut_paufinage]:\n",
        "    couche.trainable =  False\n",
        "\n",
        "print(\"Nombre de couches entraînables dans le modèle préentraîné: \", index_derniere_couche-debut_paufinage)\n",
        "derniere_couche = modele_preentraine.get_layer(nom_derniere_couche)\n",
        "print('Dimensions de la dernière couche: ', derniere_couche.output_shape)\n",
        "sortie_derniere_couche = derniere_couche.output\n"
      ]
    },
    {
      "cell_type": "markdown",
      "id": "8769889a",
      "metadata": {
        "id": "8769889a"
      },
      "source": [
        "### Ajout d'un module de *classification*"
      ]
    },
    {
      "cell_type": "markdown",
      "id": "b81c219c",
      "metadata": {
        "id": "b81c219c"
      },
      "source": [
        "#### Perceptron multicouche"
      ]
    },
    {
      "cell_type": "code",
      "execution_count": null,
      "id": "fabb8665",
      "metadata": {
        "id": "fabb8665"
      },
      "outputs": [],
      "source": [
        "# Ajouter une couche de régularisation par extinction de neurones (dropout)\n",
        "sorties = layers.Dropout(0.1)(sortie_derniere_couche)\n",
        "# Aplatir la couche de sortie en un vecteur (i.e. une dimension)\n",
        "sorties = layers.Flatten()(sorties)\n",
        "# Ajouter une couche entièrement connectée avec 1024 neurones cachés et l'activation ReLU\n",
        "sorties = layers.Dense(1024, activation='relu')(sorties)\n",
        "# Ajouter une couche de régularisation par extinction (dropout)\n",
        "sorties = layers.Dropout(0.2)(sorties)      \n",
        "# Ajouter une couche de sortie entièrement connectée de 20 neurones \n",
        "# avec l'activation softmax (exponentielle normalisée)\n",
        "# *** IMPORTANT *** 20 classes => 20 neurones de sortie\n",
        "sorties = layers.Dense(nombre_de_classes, activation='softmax')(sorties)           \n",
        "modele_de_transfert = Model(modele_preentraine.input, sorties) \n",
        "print(\"Nombre de couches dans le modèle d'apprentissage par transfert: \", len(modele_de_transfert.layers))\n"
      ]
    },
    {
      "cell_type": "code",
      "execution_count": null,
      "id": "272fae1d",
      "metadata": {
        "id": "272fae1d"
      },
      "outputs": [],
      "source": [
        "print(\"Architecture complète\")\n",
        "modele_de_transfert.summary()"
      ]
    },
    {
      "cell_type": "code",
      "execution_count": null,
      "id": "edecd77f",
      "metadata": {
        "id": "edecd77f"
      },
      "outputs": [],
      "source": [
        "print(\"Nombre de paramètres entraînables dans le modèle de transfert: \",len(modele_de_transfert.trainable_variables))\n"
      ]
    },
    {
      "cell_type": "markdown",
      "id": "7e34ec69",
      "metadata": {
        "id": "7e34ec69"
      },
      "source": [
        "## Compilation du modèle"
      ]
    },
    {
      "cell_type": "code",
      "execution_count": null,
      "id": "e98dedba",
      "metadata": {
        "id": "e98dedba"
      },
      "outputs": [],
      "source": [
        "from tensorflow.keras.optimizers import RMSprop\n",
        "\n",
        "# D'après la documentation, tf.keras.utils.image_dataset_from_directory, encodera par défaut \n",
        "# un ensemble d'étiquettes de classes sous forme d'entiers allant de 1 au nombre de classes.\n",
        "# Dans ce cas, le modèle doit être compilé avec une fonction d'erreur 'sparse_categorical_crossentropy'\n",
        "\n",
        "modele_de_transfert.compile(optimizer = RMSprop(learning_rate=0.0001),\n",
        "                            loss = 'sparse_categorical_crossentropy',\n",
        "                            metrics = ['accuracy'])\n",
        "\n",
        "print(\"Modèle compilé!\")\n"
      ]
    },
    {
      "cell_type": "markdown",
      "id": "c3652fb1",
      "metadata": {
        "id": "c3652fb1"
      },
      "source": [
        "## Entraînement du modèle"
      ]
    },
    {
      "cell_type": "code",
      "execution_count": null,
      "id": "e3dcabb0",
      "metadata": {
        "id": "e3dcabb0"
      },
      "outputs": [],
      "source": [
        "nombre_iterations_de_base = 10\n",
        "nombre_iterations_peaufinage = 30\n",
        "nombre_total_iterations =  nombre_iterations_de_base + nombre_iterations_peaufinage\n",
        "\n",
        "# Les fonctions de rappels sont passées au modèle via l'argument callbacks de .fit(...), \n",
        "# qui prend une liste de fonctions de rappels. \n",
        "liste_fonctions_rappels = [\n",
        "    # Mémoriser le meilleur modèle\n",
        "    keras.callbacks.ModelCheckpoint(\n",
        "        filepath=\"IdEcorces_ResConv_TransAmpl.keras\",\n",
        "        save_best_only=True,\n",
        "        # Surveiller l'erreur de validation\n",
        "        monitor=\"val_loss\"),\n",
        "    # Arrêter l'entraînement quand son amélioration stagne\n",
        "    keras.callbacks.EarlyStopping(\n",
        "        # Surveiller l'exactitude de validation\n",
        "        monitor='val_accuracy',\n",
        "        # Arrêter l'entraînement quand l'exactitude stagne\n",
        "        # depuis plus de 10 itérations (i.e., 11 itérations)\n",
        "        patience=10,\n",
        "        verbose=2),\n",
        "    # Ajuster le taux taux d'apprentissage ou gain du gradient\n",
        "    keras.callbacks.ReduceLROnPlateau(\n",
        "        # Surveiller l'erreur de validation\n",
        "        monitor='val_loss',\n",
        "        # Diviser le taux d'apprentissage par 2 \n",
        "        # lorsque la fonction de rappel est déclenchée\n",
        "        factor=0.5,\n",
        "        # La fonction de rappel est déclenchée quand l'erreur de validation \n",
        "        # a cessé de s'améliorer depuis 3 itérations\n",
        "        patience=3,\n",
        "        verbose=2) \n",
        "]\n",
        "\n",
        "traces_entrainement = modele_de_transfert.fit(donnees_entrainement_normalisees,\n",
        "                                              validation_data = donnees_validation_normalisees,\n",
        "                                              epochs = nombre_total_iterations,\n",
        "                                              callbacks=liste_fonctions_rappels,\n",
        "                                              verbose = 2)\n"
      ]
    },
    {
      "cell_type": "markdown",
      "id": "17f4de94",
      "metadata": {
        "id": "17f4de94"
      },
      "source": [
        "### Affichage des courbes d'entraînement"
      ]
    },
    {
      "cell_type": "code",
      "execution_count": null,
      "id": "b31ffea9",
      "metadata": {
        "id": "b31ffea9"
      },
      "outputs": [],
      "source": [
        "# Dernière couche 'mixed5', dernière couche gelée 'mixed3'\n",
        "# 40 itérations & amplification\n",
        "# exactitude sur les données de test: de 80 à 85%\n",
        "import matplotlib.pyplot as plt\n",
        "exactitude_entrainement = traces_entrainement.history['accuracy']\n",
        "exactitude_validation = traces_entrainement.history['val_accuracy']\n",
        "erreur_entrainement = traces_entrainement.history['loss']\n",
        "erreur_validation = traces_entrainement.history['val_loss']\n",
        "nombre_iterations = range(len(exactitude_entrainement))\n",
        "nombre_dor = 1.618\n",
        "hauteur = 6\n",
        "longueur = int(nombre_dor * hauteur)\n",
        "plt.figure(figsize=(longueur,hauteur))\n",
        "plt.plot(nombre_iterations, exactitude_entrainement, 'r', label='Exactitude entraînement')\n",
        "plt.plot(nombre_iterations, exactitude_validation, 'b', label='Exactitude validation')\n",
        "plt.title(\"Exactitude en entraînement & validation - apprentissage par transfert & amplification des données\")\n",
        "plt.legend(loc=0)\n",
        "plt.xlabel(\"Nombre d'itérations\")\n",
        "plt.ylabel(\"Exactitude\")\n",
        "plt.show()\n"
      ]
    },
    {
      "cell_type": "markdown",
      "id": "c8889e01",
      "metadata": {
        "id": "c8889e01"
      },
      "source": [
        "### Évaluation du modèle avec les données de test"
      ]
    },
    {
      "cell_type": "code",
      "execution_count": null,
      "id": "647a252d",
      "metadata": {
        "id": "647a252d"
      },
      "outputs": [],
      "source": [
        "erreur_test, exactitude_test = modele_de_transfert.evaluate(donnees_test_normalisees)\n",
        "print(\"Exactitude sur les données de test: %0.2f\" % exactitude_test)\n"
      ]
    },
    {
      "cell_type": "markdown",
      "id": "bee55856",
      "metadata": {
        "id": "bee55856"
      },
      "source": [
        "### Résultats"
      ]
    },
    {
      "cell_type": "markdown",
      "id": "2aa1aa29",
      "metadata": {
        "id": "2aa1aa29"
      },
      "source": [
        "Les résultats obtenus se situent dans une fourchette de 75 à 80%, ce qui est un bon départ considérant l'emploi de 1.5 Go de données (21 fois moins de données) que le jeu de données original de 32 Go."
      ]
    },
    {
      "cell_type": "markdown",
      "id": "791ab88d",
      "metadata": {
        "id": "791ab88d"
      },
      "source": [
        "### Analyse des résultats sur les données de test"
      ]
    },
    {
      "cell_type": "markdown",
      "id": "867d5aab",
      "metadata": {
        "id": "867d5aab"
      },
      "source": [
        "#### Prédictions sur les données de test"
      ]
    },
    {
      "cell_type": "markdown",
      "id": "15bef088",
      "metadata": {
        "id": "15bef088"
      },
      "source": [
        "Extraction des étiquettes prédites"
      ]
    },
    {
      "cell_type": "code",
      "execution_count": null,
      "id": "3949c24c",
      "metadata": {
        "id": "3949c24c"
      },
      "outputs": [],
      "source": [
        "predictions = modele_de_transfert.predict(donnees_test_normalisees)\n",
        "index_predictions = np.argmax(predictions, axis=1)\n",
        "liste_etiquettes_predites = [(etiquette+1) for etiquette in index_predictions]\n",
        "print(liste_etiquettes_predites)\n"
      ]
    },
    {
      "cell_type": "markdown",
      "id": "fea4522d",
      "metadata": {
        "id": "fea4522d"
      },
      "source": [
        "Extraction des vraies étiquettes"
      ]
    },
    {
      "cell_type": "code",
      "execution_count": null,
      "id": "a25948df",
      "metadata": {
        "id": "a25948df"
      },
      "outputs": [],
      "source": [
        "index_vraies_etiquettes = list(np.concatenate([etiquette for image, etiquette in donnees_test_normalisees], axis=0))\n",
        "liste_vraies_etiquettes = [(etiquette+1) for etiquette in index_vraies_etiquettes]\n",
        "print(liste_vraies_etiquettes)\n"
      ]
    },
    {
      "cell_type": "markdown",
      "id": "acacdde5",
      "metadata": {
        "id": "acacdde5"
      },
      "source": [
        "Calcul de l'exactitude sur les données de test"
      ]
    },
    {
      "cell_type": "code",
      "execution_count": null,
      "id": "c16073a3",
      "metadata": {
        "id": "c16073a3"
      },
      "outputs": [],
      "source": [
        "from sklearn import metrics\n",
        "\n",
        "exactitude_test = metrics.accuracy_score(liste_vraies_etiquettes, liste_etiquettes_predites)\n",
        "print(\"Exactitude:   %0.2f\" % exactitude_test)\n"
      ]
    },
    {
      "cell_type": "markdown",
      "id": "4921561f",
      "metadata": {
        "id": "4921561f"
      },
      "source": [
        "#### Affichage d'une matrice de confusion"
      ]
    },
    {
      "cell_type": "code",
      "execution_count": null,
      "id": "7022ae51",
      "metadata": {
        "id": "7022ae51"
      },
      "outputs": [],
      "source": [
        "# https://stackoverflow.com/questions/65618137/confusion-matrix-for-multiple-classes-in-python\n",
        "\n",
        "import itertools\n",
        "\n",
        "def afficher_matrice_de_confusion(matrice_confusion_brute, classes,\n",
        "                          normalisation=False,\n",
        "                          titre='Matrice de confusion',\n",
        "                          carte_des_couleurs=plt.cm.Blues):\n",
        "    plt.figure(figsize=(14,12))\n",
        "    plt.imshow(matrice_confusion_brute, interpolation='nearest', cmap=carte_des_couleurs)\n",
        "    plt.title(titre)\n",
        "    plt.colorbar()\n",
        "    tick_marks = np.arange(len(classes))\n",
        "    plt.xticks(tick_marks, classes, rotation=45)\n",
        "    plt.yticks(tick_marks, classes)\n",
        "\n",
        "    if normalisation:\n",
        "        matrice_confusion_brute = matrice_confusion_brute.astype('float') / matrice_confusion_brute.sum(axis=1)[:, np.newaxis]\n",
        "        print(\"Matrice de confusion normalisée\")\n",
        "    else:\n",
        "        print('Matrice de confusion non normalisée')\n",
        "\n",
        "    seuil = matrice_confusion_brute.max() / 2.\n",
        "    for i, j in itertools.product(range(matrice_confusion_brute.shape[0]), range(matrice_confusion_brute.shape[1])):\n",
        "        plt.text(j, i, matrice_confusion_brute[i, j],\n",
        "                 horizontalalignment=\"center\",\n",
        "                 color=\"white\" if matrice_confusion_brute[i, j] > seuil else \"black\")\n",
        "\n",
        "    plt.tight_layout()\n",
        "    plt.ylabel('Vraies étiquettes')\n",
        "    plt.xlabel('Étiquettes prédites')\n",
        "\n",
        "    \n",
        "print(\"Code affichage matrice de confusion\")\n"
      ]
    },
    {
      "cell_type": "code",
      "execution_count": null,
      "id": "61256fa3",
      "metadata": {
        "id": "61256fa3"
      },
      "outputs": [],
      "source": [
        "matrice_confusion_brute = metrics.confusion_matrix(liste_vraies_etiquettes, liste_etiquettes_predites)\n",
        "afficher_matrice_de_confusion(matrice_confusion_brute, classes=liste_noms_classes)\n"
      ]
    },
    {
      "cell_type": "markdown",
      "id": "49c1641f",
      "metadata": {
        "id": "49c1641f"
      },
      "source": [
        "#### Rapport de classification"
      ]
    },
    {
      "cell_type": "code",
      "execution_count": null,
      "id": "4eaf59ed",
      "metadata": {
        "id": "4eaf59ed"
      },
      "outputs": [],
      "source": [
        "from sklearn.metrics import classification_report\n",
        "\n",
        "print(classification_report(liste_vraies_etiquettes, liste_etiquettes_predites, target_names=liste_noms_classes))\n"
      ]
    },
    {
      "cell_type": "code",
      "execution_count": null,
      "id": "2127a8b6",
      "metadata": {
        "id": "2127a8b6"
      },
      "outputs": [],
      "source": [
        "print(\"Fin de l'exécution du carnet IPython\")"
      ]
    }
  ],
  "metadata": {
    "kernelspec": {
      "display_name": "Python 3",
      "language": "python",
      "name": "python3"
    },
    "language_info": {
      "codemirror_mode": {
        "name": "ipython",
        "version": 3
      },
      "file_extension": ".py",
      "mimetype": "text/x-python",
      "name": "python",
      "nbconvert_exporter": "python",
      "pygments_lexer": "ipython3",
      "version": "3.9.5"
    },
    "colab": {
      "name": "IdEcorces-ResConv-TransfertPeaufinage-Colab.ipynb",
      "provenance": []
    }
  },
  "nbformat": 4,
  "nbformat_minor": 5
}
