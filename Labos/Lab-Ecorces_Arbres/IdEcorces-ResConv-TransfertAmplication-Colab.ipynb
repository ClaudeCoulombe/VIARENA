{
  "cells": [
    {
      "cell_type": "markdown",
      "id": "5ead8870",
      "metadata": {
        "id": "5ead8870"
      },
      "source": [
        "<a href=\"https://colab.research.google.com/github/ClaudeCoulombe/VIARENA/blob/master/Labos/Lab-Ecorces_Arbres/IdEcorces-ResConv-TransfertAmplification-Colab.ipynb\" target=\"_blank\"><img src=\"https://colab.research.google.com/assets/colab-badge.svg\" alt=\"Open In Colab\"/></a>\n",
        "\n",
        "### Rappel - Fonctionnement d'un carnet web iPython\n",
        "\n",
        "* Pour exécuter le code contenu dans une cellule d'un carnet iPython, cliquez dans la cellule et faites (⇧↵, shift-enter) \n",
        "* Le code d'un carnet iPython s'exécute séquentiellement de haut en bas de la page. Souvent, l'importation d'une bibliothèque Python ou l'initialisation d'une variable est préalable à l'exécution d'une cellule située plus bas. Il est donc recommandé d'exécuter les cellules en séquence. Enfin, méfiez-vous des retours en arrière qui peuvent réinitialiser certaines variables.\n",
        "\n",
        "SVP, déployez toutes les cellules en sélectionnant l'item « Développer les rubriques » de l'onglet « Affichage »."
      ]
    },
    {
      "cell_type": "markdown",
      "id": "f869b621",
      "metadata": {
        "id": "f869b621"
      },
      "source": [
        "# Identification d'arbres à partir de leur écorce"
      ]
    },
    {
      "cell_type": "markdown",
      "id": "1184590d",
      "metadata": {
        "id": "1184590d"
      },
      "source": [
        "## Réseau convolutif avec apprentissage par transfert et peaufinage"
      ]
    },
    {
      "cell_type": "markdown",
      "id": "ced72dce",
      "metadata": {
        "id": "ced72dce"
      },
      "source": [
        "### Inspiration et droits d'auteur\n",
        "\n",
        "Ce laboratoire s'inspire de plusieurs oeuvres en logiciels libres qui ont été transformées dont:\n",
        "\n",
        "<a href=\"https://www.tensorflow.org/tutorials/images/transfer_learning\" target='_blank'>Transfer learning and fine-tuning</a> - site Google / Tutoriels TensorFlow\n",
        "\n",
        "<a href=\"https://www.tensorflow.org/tutorials/images/data_augmentation\" target='_blank'>Data augmentation</a> - site Google / Tutoriels TensorFlow\n",
        "\n",
        "##### Copyright (c) 2017, François Chollet  \n",
        "##### Copyright (c) 2019-2022, The TensorFlow Authors.\n",
        "##### Copyright (c) 2022, Claude Coulombe\n",
        "\n",
        "Le contenu de cette page est sous licence <a href=\"https://creativecommons.org/licenses/by/4.0/deed.fr\" target='_blank'>Creative Commons Attribution 4.0 (CC BY 4.0)</a>,<br/>et les exemples de code sont sous <a href=\"https://www.apache.org/licenses/LICENSE-2.0\" target='_blank'>licence Apache 2.0</a>.\n",
        "\n",
        "#### Données\n",
        "\n",
        "Les données sur les écorces d'arbres proviennent de <a href=\"https://data.mendeley.com/research-data/?search=barknet\">BarkNet</a>, une banque en données ouvertes sous licence MIT de 23 000 photos d'écorces d'arbres en haute résolution prises avec des téléphones intelligents par une équipe d'étudiants et de chercheurs du <a href=\"https://www.sbf.ulaval.ca/\" target='_blank'>Département des sciences du bois et de la forêt de l'Université Laval</a> à Québec.</p>"
      ]
    },
    {
      "cell_type": "markdown",
      "id": "652a6b7d",
      "metadata": {
        "id": "652a6b7d"
      },
      "source": [
        "# Apprentissage par transfert & amplification des données"
      ]
    },
    {
      "cell_type": "markdown",
      "id": "b8b85818",
      "metadata": {
        "id": "b8b85818"
      },
      "source": [
        "## Fixer le hasard pour la reproductibilité\n",
        "\n",
        "La mise au point de réseaux de neurones implique certains processus aléatoires. Afin de pouvoir reproduire et comparer vos résultats d'expérience, vous fixez temporairement l'état aléatoire grâce à un germe aléatoire unique.\n",
        "\n",
        "Pendant la mise au point, vous fixez temporairement l'état aléatoire pour la reproductibilité mais vous répétez l'expérience avec différents germes ou états aléatoires et prenez la moyenne des résultats.\n",
        "<br/>\n",
        "**Note** : Pour un système en production, vous ravivez simplement l'état  purement aléatoire avec l'instruction `GERME_ALEATOIRE = None`"
      ]
    },
    {
      "cell_type": "code",
      "execution_count": null,
      "id": "7021d5d4",
      "metadata": {
        "id": "7021d5d4"
      },
      "outputs": [],
      "source": [
        "import os\n",
        "\n",
        "# Définir un germe aléatoire\n",
        "GERME_ALEATOIRE = 42\n",
        "\n",
        "# Définir un état aléatoire pour Python\n",
        "os.environ['PYTHONHASHSEED'] = str(GERME_ALEATOIRE)\n",
        "\n",
        "# Définir un état aléatoire pour Python random\n",
        "import random\n",
        "random.seed(GERME_ALEATOIRE)\n",
        "\n",
        "# Définir un état aléatoire pour NumPy\n",
        "import numpy as np\n",
        "np.random.seed(GERME_ALEATOIRE)\n",
        "\n",
        "# Définir un état aléatoire pour TensorFlow\n",
        "import tensorflow as tf\n",
        "tf.random.set_seed(GERME_ALEATOIRE)\n",
        "\n",
        "# Note: Retrait du comportement déterministe\n",
        "# à cause de keras.layers.RandomContrast(...)\n",
        "# dont il n'existe pas de version déterministe\n",
        "# os.environ['TF_DETERMINISTIC_OPS'] = '1'\n",
        "# os.environ['TF_CUDNN_DETERMINISTIC'] = '1'\n",
        "\n",
        "print(\"Germe aléatoire fixé\")"
      ]
    },
    {
      "cell_type": "markdown",
      "id": "94de51c6",
      "metadata": {
        "id": "94de51c6"
      },
      "source": [
        "## Acquisition des données"
      ]
    },
    {
      "cell_type": "markdown",
      "id": "4f43c011",
      "metadata": {
        "id": "4f43c011"
      },
      "source": [
        "Les <a href=\"https://www.kaggle.com/claudecoulombe/barknet\" target='_blank'>données de BarkNet</a>  sont téléchargeables à partir du site de Kaggle. Mais vous allez utiliser l'IPA (<i>API</i>) de Kaggle pour accélérer les transferts de données."
      ]
    },
    {
      "cell_type": "code",
      "execution_count": null,
      "id": "2ee82b9f",
      "metadata": {
        "id": "2ee82b9f"
      },
      "outputs": [],
      "source": [
        "dict_arbres = {\n",
        "    'BOJ' : \"Betula alleghaniensis - Bouleau jaune - Yellow birch\",\n",
        "    'BOP' : \"Betula papyrifera - Bouleau à papier - White birch\",\n",
        "    'CHR' : \"Quercus rubra - Chêne rouge - Northern red oak\",\n",
        "    'EPB' : \"Picea glauca - Épinette blanche - White spruce\",\n",
        "    'EPN' : \" Picea mariana - Épinette noire - Black spruce\",\n",
        "    'EPO' : \"Picea abies - Épinette de Norvège - Norway spruce\",\n",
        "    'EPR' : \"Picea rubens - Épinette rouge - Red spruce\",\n",
        "    'ERB' : \"Acer platanoides - Érable de Norvège - Norway maple\",\n",
        "    'ERR' : \"Acer rubrum - Érable rouge - Red maple\",\n",
        "    'ERS' : \"Acer saccharum - Érable à sucre - Sugar maple\",\n",
        "    'FRA' : \"Fraxinus americana - Frêne d'Amérique - White ash\",\n",
        "    'HEG' : \"Fagus grandifolia - Hêtre à grandes feuilles - American beech\",\n",
        "    'MEL' : \"Larix laricina - Mélèze - Tamarack\",\n",
        "    'ORA' : \"Ulmus americana - Orme d'Amérique - American elm\",\n",
        "    'OSV' : \"Ostrya virginiana - Ostryer de Virginie - American hophornbeam\",\n",
        "    'PEG' : \"Populus grandidentata - Peuplier à grandes dents - Big-tooth aspen\",\n",
        "    'PET' : \"Populus tremuloides - Peuplier faux tremble - Quaking aspen\",\n",
        "    'PIB' : \"Pinus strobus - Pin blanc - Eastern white pine\",\n",
        "    'PID' : \"Pinus rigida - Pin rigide - Pitch pine\",\n",
        "    'PIR' : \"Pinus resinosa - Pin rouge - Red pine\",\n",
        "    'PRU' : \"Tsuga canadensis - Pruche du Canada - Eastern Hemlock\",\n",
        "    'SAB' : \"Abies balsamea - Sapin Baumier - Balsam fir\",\n",
        "    'THO' : \"Thuja occidentalis - Thuya occidental - Northern white cedar\",\n",
        "}\n",
        "\n",
        "print(\"Dictionnaire mémorisé\")"
      ]
    },
    {
      "cell_type": "markdown",
      "id": "092bb6de",
      "metadata": {
        "id": "092bb6de"
      },
      "source": [
        "### Création des répertoires de données\n",
        "\n",
        "Nous allons créer un répertoire de base `donnees`, un répertoire `lab_ecorces` où les données seront réparties en données d'entraînement, de validation et de test pour chaque classe cible.\n",
        "\n",
        "Enfin, un répertoire `modeles` pour mémoriser les modèles une fois entraînés."
      ]
    },
    {
      "cell_type": "code",
      "execution_count": null,
      "id": "d20fb538",
      "metadata": {
        "id": "d20fb538"
      },
      "outputs": [],
      "source": [
        "try:\n",
        "    os.mkdir(\"/content/donnees/\")\n",
        "except OSError:\n",
        "    pass\n",
        "try:\n",
        "    os.mkdir(\"/content/lab_ecorces/\")\n",
        "except OSError:\n",
        "    pass\n",
        "try:\n",
        "    os.mkdir(\"/content/modeles/\")\n",
        "except OSError:\n",
        "    pass"
      ]
    },
    {
      "cell_type": "markdown",
      "id": "9bc3815d",
      "metadata": {
        "id": "9bc3815d"
      },
      "source": [
        "### Utilisation de l'IPA (<i>API</i>) de Kaggle pour l'importation directe du jeu de données BarkNet\n",
        "\n",
        "1. Commencez par installer la bibliothèque Python `kaggle`"
      ]
    },
    {
      "cell_type": "code",
      "execution_count": null,
      "id": "67497a23",
      "metadata": {
        "id": "67497a23"
      },
      "outputs": [],
      "source": [
        "!pip3 install kaggle"
      ]
    },
    {
      "cell_type": "markdown",
      "id": "7abbfc3e",
      "metadata": {
        "id": "7abbfc3e"
      },
      "source": [
        "2. Si ce n'est déjà fait, devenez membre de Kaggle avec votre adresse de courriel GMail:<br/>\n",
        "\n",
        "<img src=\"https://cours.edulib.org/asset-v1:Cegep-Matane+VAERN.1FR+P2021+type@asset+block@Kaggle_API-1.png\"/>"
      ]
    },
    {
      "cell_type": "markdown",
      "id": "365c1060",
      "metadata": {
        "id": "365c1060"
      },
      "source": [
        "3. Maintenant, vous devez télécharger votre clé privée pour utiliser l'IPA de Kaggle.\n",
        "\n",
        "4. Cliquez sur l'onglet « account » de votre profil Kaggle\n",
        "\n",
        "<img src=\"https://cours.edulib.org/asset-v1:Cegep-Matane+VAERN.1FR+P2021+type@asset+block@Kaggle_API-2.png\"/>\n",
        "\n",
        "5. Sur la page « Account » cliquez sur le bouton « Create New API Token ».\n",
        "    \n",
        "<img style=\"margin-left:40px;\" src=\"https://cours.edulib.org/asset-v1:Cegep-Matane+VAERN.1FR+P2021+type@asset+block@Kaggle_API-3.png\"/>\n",
        "\n",
        "6. Téléchargez votre clé privée « kaggle.json » pour l'IPA Kaggle dans un endroit temporaire sur votre poste de travail.\n",
        "\n",
        "<img style=\"margin-left:40px;\" src=\"https://cours.edulib.org/asset-v1:Cegep-Matane+VAERN.1FR+P2021+type@asset+block@Kaggle_API-5.png\"/>\n",
        "\n",
        "7. Maintenant, transférez (téléversez) votre clé privée « kaggle.json » dans votre environnement Colab.\n",
        "\n",
        "La fenêtre de l'outil de fichiers de votre ordinateur s'ouvre alors. Allez chercher votre clé privée « kaggle.json » que vous avez sauvegardée sur votre  ordinateur.\n",
        "\n",
        "<img style=\"margin-left:40px;\" src=\"https://cours.edulib.org/asset-v1:Cegep-Matane+VAERN.1FR+P2021+type@asset+block@Colab_Importer_Fichier.png\"/>\n"
      ]
    },
    {
      "cell_type": "markdown",
      "id": "efa17105",
      "metadata": {
        "id": "efa17105"
      },
      "source": [
        "8. Créer à la racine un répertoire .kaggle et déplacez votre clé privée « kaggle.json » dans ce répertoire."
      ]
    },
    {
      "cell_type": "code",
      "execution_count": null,
      "id": "af482b81",
      "metadata": {
        "id": "af482b81"
      },
      "outputs": [],
      "source": [
        "!mkdir ~/.kaggle\n",
        "!cp /content/kaggle.json ~/.kaggle/\n",
        "!chmod 600 ~/.kaggle/kaggle.json\n",
        "!ls ~/.kaggle -all"
      ]
    },
    {
      "cell_type": "markdown",
      "id": "65c718ea",
      "metadata": {
        "id": "65c718ea"
      },
      "source": [
        "9. Maintenant téléchargez le jeu de données réduit « barknet-mini » de 1.6 Go avec la commande suivante:"
      ]
    },
    {
      "cell_type": "code",
      "execution_count": null,
      "id": "4fad87a8",
      "metadata": {
        "id": "4fad87a8"
      },
      "outputs": [],
      "source": [
        "# Attention! Jeu réduit de données 1.5 Go - plus rapide à télécharger et à traiter\n",
        "!kaggle datasets download claudecoulombe/barknet-mini --unzip -p /content/donnees/\n",
        "repertoire_entree = \"/content/donnees/BarkNet-mini\""
      ]
    },
    {
      "cell_type": "markdown",
      "id": "b50670b0",
      "metadata": {
        "id": "b50670b0"
      },
      "source": [
        "### Répartition des données"
      ]
    },
    {
      "cell_type": "code",
      "execution_count": null,
      "id": "497d3e2d",
      "metadata": {
        "id": "497d3e2d"
      },
      "outputs": [],
      "source": [
        "# Installation des bibliothèques Python `split-folders` et `tqdm`\n",
        "!pip3 install split-folders tqdm"
      ]
    },
    {
      "cell_type": "code",
      "execution_count": null,
      "id": "0fdfbe44",
      "metadata": {
        "id": "0fdfbe44"
      },
      "outputs": [],
      "source": [
        "# Répartition des données d'entraînement, de validation et de tests\n",
        "import splitfolders\n",
        "import pathlib\n",
        "\n",
        "#### répertoire des données une fois réparties\n",
        "repertoire_donnees_reparties = \"/content/lab_ecorces\"\n",
        "# => train, val, test\n",
        "\n",
        "nombre_images = len(list(pathlib.Path(repertoire_entree).glob('*/*.jpg')))\n",
        "print(\"Nombre total d'images:\",nombre_images)\n",
        "\n",
        "splitfolders.ratio(repertoire_entree, \n",
        "                   output=repertoire_donnees_reparties, \n",
        "                   seed=42, \n",
        "                   ratio = (0.65, 0.15, 0.20)\n",
        "                   )\n",
        "\n",
        "print(\"\\nRépartition des données terminée!\")"
      ]
    },
    {
      "cell_type": "markdown",
      "id": "f0a4f7dd",
      "metadata": {
        "id": "f0a4f7dd"
      },
      "source": [
        "### Visualisation d'un échantillon des données"
      ]
    },
    {
      "cell_type": "code",
      "execution_count": null,
      "id": "472b4e21",
      "metadata": {
        "id": "472b4e21"
      },
      "outputs": [],
      "source": [
        "%matplotlib inline\n",
        "\n",
        "import matplotlib.pyplot as plt\n",
        "import matplotlib.image as mpimg\n",
        "\n",
        "pic_index = 4\n",
        "\n",
        "REPERTOIRE_ENTRAINEMENT = \"/content/lab_ecorces/train/\"\n",
        "\n",
        "for arbre_id in dict_arbres.keys():\n",
        "    try:\n",
        "        dir_path = os.path.join(REPERTOIRE_ENTRAINEMENT,arbre_id+os.sep)\n",
        "        liste_fichiers = os.listdir(os.path.join(REPERTOIRE_ENTRAINEMENT,arbre_id+os.sep))\n",
        "        next_two_pics = [os.path.join(dir_path, fname) for fname in liste_fichiers[0:pic_index]]\n",
        "        fig = plt.figure(figsize=(12,4))\n",
        "        print(\"_\"*90)\n",
        "        print(arbre_id,dict_arbres[arbre_id].split('-')[1])\n",
        "        for i, img_path in enumerate(next_two_pics):\n",
        "            print(img_path)\n",
        "            img = mpimg.imread(img_path)\n",
        "            plt.subplot(1,pic_index,i+1)\n",
        "            plt.imshow(img)\n",
        "            plt.axis('Off')\n",
        "        plt.show()\n",
        "    except:\n",
        "        continue\n"
      ]
    },
    {
      "cell_type": "markdown",
      "id": "bd91c3b0",
      "metadata": {
        "id": "bd91c3b0"
      },
      "source": [
        "### Création de flux de lots de données\n",
        "\n",
        "Chargeons ces images en mémoire en créant des `tf.data.dataset` à l'aide de l'utilitaire `tf.keras.utils.image_dataset_from_directory`. \n",
        "\n",
        "tf.data.Dataset prend en charge l'écriture de chaîne de traitement de données efficaces. L'itération se produit dans un flux continu, de sorte que l'ensemble complet de données  n'a pas besoin de tenir dans la mémoire."
      ]
    },
    {
      "cell_type": "code",
      "execution_count": null,
      "id": "baded2d4",
      "metadata": {
        "id": "baded2d4"
      },
      "outputs": [],
      "source": [
        "import os\n",
        "import numpy as np\n",
        "import keras\n",
        "print(\"Version de Keras:\",keras.__version__)\n",
        "import tensorflow as tf\n",
        "print(\"Version de TensorFlow :\",tf.__version__)\n",
        "\n",
        "REPERTOIRE_ENTRAINEMENT = \"/content/lab_ecorces/train/\"\n",
        "REPERTOIRE_VALIDATION = \"/content/lab_ecorces/val\"\n",
        "REPERTOIRE_TEST = \"/content/lab_ecorces/test/\"\n",
        "\n",
        "TAILLE_LOT = 32\n",
        "HAUTEUR_IMAGE = 150\n",
        "LARGEUR_IMAGE = 150\n",
        "TAILLE_IMAGE = (HAUTEUR_IMAGE, LARGEUR_IMAGE)\n",
        "NOMBRE_CANAUX = 3"
      ]
    },
    {
      "cell_type": "code",
      "execution_count": null,
      "id": "1e8e8457",
      "metadata": {
        "id": "1e8e8457"
      },
      "outputs": [],
      "source": [
        "# Création d'un flux de données pour l'entraînement\n",
        "donnees_entrainement = tf.keras.utils.image_dataset_from_directory(REPERTOIRE_ENTRAINEMENT,\n",
        "                                                                   batch_size=TAILLE_LOT,\n",
        "                                                                   image_size=TAILLE_IMAGE)"
      ]
    },
    {
      "cell_type": "code",
      "execution_count": null,
      "id": "cd3189a4",
      "metadata": {
        "id": "cd3189a4"
      },
      "outputs": [],
      "source": [
        "print(\"Type Python de donnees_entrainement):\",type(donnees_entrainement))\n",
        "flux_images, flux_etiquettes = next(iter(donnees_entrainement))\n",
        "print(\"Dimensions du flux d'images:\",flux_images.shape)\n",
        "print(\"Nombre d'images):\",len(flux_images))\n",
        "print(\"Dimensions du flux d'étiquettes:\",flux_etiquettes.shape)\n",
        "print(\"Nombre d'étiquettes):\",len(flux_etiquettes))"
      ]
    },
    {
      "cell_type": "code",
      "execution_count": null,
      "id": "a62e58e7",
      "metadata": {
        "id": "a62e58e7"
      },
      "outputs": [],
      "source": [
        "# Récupération des noms ou étiquettes de classes\n",
        "liste_noms_classes = donnees_entrainement.class_names\n",
        "print(liste_noms_classes)\n",
        "# Calcul du nombre de classes\n",
        "nombre_de_classes = len(liste_noms_classes)\n",
        "print('Nombre de classes:',nombre_de_classes)"
      ]
    },
    {
      "cell_type": "code",
      "execution_count": null,
      "id": "11ab8b22",
      "metadata": {
        "id": "11ab8b22"
      },
      "outputs": [],
      "source": [
        "# Création d'un flux de données pour la validation\n",
        "donnees_validation = tf.keras.utils.image_dataset_from_directory(REPERTOIRE_VALIDATION,\n",
        "                                                                 batch_size=TAILLE_LOT,\n",
        "                                                                 image_size=TAILLE_IMAGE)"
      ]
    },
    {
      "cell_type": "code",
      "execution_count": null,
      "id": "7878c7f4",
      "metadata": {
        "id": "7878c7f4"
      },
      "outputs": [],
      "source": [
        "# Création d'un flux de données pour les tests\n",
        "donnees_test = tf.keras.utils.image_dataset_from_directory(REPERTOIRE_TEST,\n",
        "                                                           batch_size=TAILLE_LOT,\n",
        "                                                           image_size=TAILLE_IMAGE)"
      ]
    },
    {
      "cell_type": "code",
      "execution_count": null,
      "id": "7cae665b",
      "metadata": {
        "id": "7cae665b"
      },
      "outputs": [],
      "source": [
        "print(\"Nombre de lots de données d'entraînement: %d\" % tf.data.experimental.cardinality(donnees_entrainement))\n",
        "print(\"Nombre de lots de données de validation: %d\" % tf.data.experimental.cardinality(donnees_validation))\n",
        "print('Nombre de lots de données de test: %d' % tf.data.experimental.cardinality(donnees_test))\n"
      ]
    },
    {
      "cell_type": "markdown",
      "id": "da9e8190",
      "metadata": {
        "id": "da9e8190"
      },
      "source": [
        "## Prétraitement des données"
      ]
    },
    {
      "cell_type": "markdown",
      "id": "c1e45044",
      "metadata": {
        "id": "c1e45044"
      },
      "source": [
        "### Amplification des données"
      ]
    },
    {
      "cell_type": "code",
      "execution_count": null,
      "id": "cd8508bb",
      "metadata": {
        "id": "cd8508bb"
      },
      "outputs": [],
      "source": [
        "couches_amplification = tf.keras.Sequential([\n",
        "    # Retournement horizontal - gauche / droite\n",
        "    keras.layers.RandomFlip(\"horizontal\"),\n",
        "    # Retournement vertical - haut / bas\n",
        "    keras.layers.RandomFlip(\"vertical\"),\n",
        "    # Rotation\n",
        "    keras.layers.RandomRotation(0.1),\n",
        "    # Agrandissement / zoom\n",
        "    # keras.layers.RandomZoom,\n",
        "    keras.layers.RandomZoom(0.3),\n",
        "    # Variation du contraste de l'image\n",
        "    keras.layers.RandomContrast(0.3),\n",
        "])"
      ]
    },
    {
      "cell_type": "markdown",
      "id": "2ad07f3b",
      "metadata": {
        "id": "2ad07f3b"
      },
      "source": [
        "### Normalisation des données"
      ]
    },
    {
      "cell_type": "code",
      "execution_count": null,
      "id": "aefcb410",
      "metadata": {
        "id": "aefcb410"
      },
      "outputs": [],
      "source": [
        "couches_normalisation = keras.Sequential([\n",
        "    # Redimensionnement de l'image\n",
        "    keras.layers.Resizing(HAUTEUR_IMAGE,LARGEUR_IMAGE),\n",
        "    # Changement d'échelle de luminosité\n",
        "    keras.layers.Rescaling(1./255)\n",
        "])"
      ]
    },
    {
      "cell_type": "code",
      "execution_count": null,
      "id": "9c7e6636",
      "metadata": {
        "id": "9c7e6636"
      },
      "outputs": [],
      "source": [
        "# Réglage pour optimiser les flux d'images
        "AUTOTUNE = tf.data.AUTOTUNE\n",
        "\n",
        "def pretraitement(jeu_donnees, melanger=False, normaliser=False, amplifier=False):\n",
        "    if melanger:\n",
        "        jeu_donnees = jeu_donnees.shuffle(1000)\n",
        "                \n",
        "    # Normaliser les jeux de données\n",
        "    if normaliser:\n",
        "        jeu_donnees = jeu_donnees.map(lambda x, y: (couches_normalisation(x), y),\n",
        "                                    num_parallel_calls=AUTOTUNE\n",
        "                                    )\n",
        "    # Amplifier seulement les données d'entraînement\n",
        "    if amplifier:\n",
        "        jeu_donnees = jeu_donnees.map(lambda x, y: (couches_amplification(x,training=True), y),\n",
        "                                      num_parallel_calls=AUTOTUNE\n",
        "                                     )\n",
        "    # Utiliser des tampons de préextraction sur tous les jeux de données\n",
        "    return jeu_donnees.prefetch(buffer_size=AUTOTUNE)\n",
        "\n",
        "print(\"Fonction de prétraitement prête!\")"
      ]
    },
    {
      "cell_type": "markdown",
      "id": "3e92be1d",
      "metadata": {
        "id": "3e92be1d"
      },
      "source": [
        "#### Visualisation d'un échantillon de données amplifiées"
      ]
    },
    {
      "cell_type": "code",
      "execution_count": null,
      "id": "2fa907f1",
      "metadata": {
        "id": "2fa907f1"
      },
      "outputs": [],
      "source": [
        "fig = plt.figure(figsize=(10, 10))\n",
        "for images, _ in donnees_entrainement.take(1):\n",
        "    fig.clear()\n",
        "    for i in range(9):\n",
        "        images_augmentees = couches_amplification(images)\n",
        "        plt.subplot(3, 3, i + 1)\n",
        "        plt.imshow(images_augmentees[0].numpy().astype(\"uint8\"))\n",
        "        # plt.imshow(augmented_images[0], cmap=\"gray\")"
      ]
    },
    {
      "cell_type": "markdown",
      "id": "ba8a2031",
      "metadata": {
        "id": "ba8a2031"
      },
      "source": [
        "#### Amplification et normalisation des données d'entraînement"
      ]
    },
    {
      "cell_type": "code",
      "execution_count": null,
      "id": "b730c427",
      "metadata": {
        "id": "b730c427"
      },
      "outputs": [],
      "source": [
        "print(\"Type Python de donnees_entrainement):\",type(donnees_entrainement))\n",
        "donnees_entrainement_normalisees = pretraitement(donnees_entrainement,\n",
        "                                                 melanger=True,\n",
        "                                                 normaliser=True,\n",
        "                                                 amplifier=True)\n",
        "print(\"Type Python donnees_entrainement_normalisees):\",type(donnees_entrainement_normalisees))\n",
        "# Vérification (lent...)\n",
        "# lot_images, lot_etiquettes = next(iter(donnees_entrainement_normalisees))\n",
        "# premiere_image = lot_images[0]\n",
        "# # Notez que les valeurs des pixels sont maintenant dans l'intervalle `[0,1]`\n",
        "# print(\"Valeur min et max des pixels:\",np.min(premiere_image), np.max(premiere_image))\n",
        "# print(\"Dimensions flux d'images:\",lot_images.shape)\n",
        "# print(\"Nombre d'images:\",len(lot_images))\n",
        "# print(\"Dimensions flux d'étiquette:\",lot_etiquettes.shape)\n",
        "# print(\"Nombre d'étiquettes:\",len(lot_etiquettes))"
      ]
    },
    {
      "cell_type": "markdown",
      "id": "8a06a024",
      "metadata": {
        "id": "8a06a024"
      },
      "source": [
        "#### Normalisation des données de validation"
      ]
    },
    {
      "cell_type": "code",
      "execution_count": null,
      "id": "6869761a",
      "metadata": {
        "id": "6869761a"
      },
      "outputs": [],
      "source": [
        "print(\"Type Python de donnees_validation):\",type(donnees_validation))\n",
        "donnees_validation_normalisees = pretraitement(donnees_validation,\n",
        "                                               melanger=False,\n",
        "                                               normaliser=True,\n",
        "                                               amplifier=False)\n",
        "print(\"Type Python donnees_validation_normalisees):\",type(donnees_validation_normalisees))\n",
        "# Vérification (lent...)\n",
        "# lot_images, lot_etiquettes = next(iter(donnees_validation_normalisees))\n",
        "# premiere_image = lot_images[0]\n",
        "# # Notez que les valeurs des pixels sont maintenant dans l'intervalle `[0,1]`\n",
        "# print(\"Valeur min et max des pixels:\",np.min(premiere_image), np.max(premiere_image))\n",
        "# print(\"Dimensions flux d'images:\",lot_images.shape)\n",
        "# print(\"Nombre d'images:\",len(lot_images))\n",
        "# print(\"Dimensions flux d'étiquette:\",lot_etiquettes.shape)\n",
        "# print(\"Nombre d'étiquettes:\",len(lot_etiquettes))"
      ]
    },
    {
      "cell_type": "markdown",
      "id": "454c3f48",
      "metadata": {
        "id": "454c3f48"
      },
      "source": [
        "#### Normalisation des données de test"
      ]
    },
    {
      "cell_type": "code",
      "execution_count": null,
      "id": "6348ce64",
      "metadata": {
        "id": "6348ce64"
      },
      "outputs": [],
      "source": [
        "print(\"Type Python de donnees_test):\",type(donnees_test))\n",
        "AUTOTUNE = tf.data.AUTOTUNE\n",
        "donnees_test = donnees_test.cache().prefetch(buffer_size=AUTOTUNE)\n",
        "print(\"Type Python de donnees_test):\",type(donnees_test))\n",
        "donnees_test_normalisees = donnees_test.map(lambda x, y: (couches_normalisation(x), y))\n",
        "print(\"Type Python de donnees_test_normalisees:\",type(donnees_test_normalisees))\n",
        "# Vérification (lent...)\n",
        "# lot_images, lot_etiquettes = next(iter(donnees_test_normalisees))\n",
        "# premiere_image = lot_images[0]\n",
        "# # Notez que les valeurs des pixels sont maintenant dans l'intervalle `[0,1]`\n",
        "# print(\"Valeur min et max des pixels:\",np.min(premiere_image), np.max(premiere_image))\n",
        "# print(\"Dimensions flux d'images:\",lot_images.shape)\n",
        "# print(\"Nombre d'images:\",len(lot_images))\n",
        "# print(\"Dimensions flux d'étiquette:\",lot_etiquettes.shape)\n",
        "# print(\"Nombre d'étiquettes:\",len(lot_etiquettes))"
      ]
    },
    {
      "cell_type": "markdown",
      "id": "f47d53ea",
      "metadata": {
        "id": "f47d53ea"
      },
      "source": [
        "## Création d'un modèle d'apprentissage par transfert"
      ]
    },
    {
      "cell_type": "markdown",
      "id": "9c535f08",
      "metadata": {
        "id": "9c535f08"
      },
      "source": [
        "### Importation d'un modèle `inception` pré-entraîné sur `ImageNet`"
      ]
    },
    {
      "cell_type": "code",
      "execution_count": null,
      "id": "689fea14",
      "metadata": {
        "id": "689fea14"
      },
      "outputs": [],
      "source": [
        "!wget --no-check-certificate \\\n",
        "    https://storage.googleapis.com/mledu-datasets/inception_v3_weights_tf_dim_ordering_tf_kernels_notop.h5 \\\n",
        "    -O /tmp/inception_v3_weights_tf_dim_ordering_tf_kernels_notop.h5\n"
      ]
    },
    {
      "cell_type": "code",
      "execution_count": null,
      "id": "bd867d09",
      "metadata": {
        "id": "bd867d09"
      },
      "outputs": [],
      "source": [
        "from tensorflow.keras import layers\n",
        "from tensorflow.keras import Model\n",
        "from tensorflow.keras.applications.inception_v3 import InceptionV3\n",
        "\n",
        "# Charger les paramètres ou poids du modèle InceptionV3 pré-entraîné sur ImageNet\n",
        "modele_preentraine = InceptionV3(weights='imagenet',\n",
        "                                 input_shape = (HAUTEUR_IMAGE,LARGEUR_IMAGE,NOMBRE_CANAUX),\n",
        "                                 include_top = False)\n"
      ]
    },
    {
      "cell_type": "code",
      "execution_count": null,
      "id": "3bd83dca",
      "metadata": {
        "id": "3bd83dca"
      },
      "outputs": [],
      "source": [
        "print(\"Architecture du modèle préentraîné\")\n",
        "modele_preentraine.summary()"
      ]
    },
    {
      "cell_type": "markdown",
      "id": "78f8fcb0",
      "metadata": {
        "id": "78f8fcb0"
      },
      "source": [
        "### Module d'extraction d'attributs visuels"
      ]
    },
    {
      "cell_type": "markdown",
      "id": "7fa0a511",
      "metadata": {
        "id": "7fa0a511"
      },
      "source": [
        "#### Détermination de la couche de sortie et de la couche où débute le peaufinage"
      ]
    },
    {
      "cell_type": "code",
      "execution_count": null,
      "id": "4c1c5faf",
      "metadata": {
        "id": "4c1c5faf"
      },
      "outputs": [],
      "source": [
        "modele_preentraine.trainable = True\n",
        "\n",
        "# Combien de couches se trouvent dans le modèle pré-entraîné\n",
        "nbr_couches_modele_preentraine = len(modele_preentraine.layers)\n",
        "print(\"Nombre de couches dans le modèle pré-entraîné d'origine: \", nbr_couches_modele_preentraine)\n",
        "\n",
        "# Comment obtenir l'index de la couche à partir de l'identifiant de la couche \n",
        "# https://www.thetopsites.net/article/50151157.shtml\n",
        "liste_noms_de_couche = [couche.name for couche in modele_preentraine.layers]\n",
        "nom_derniere_couche = liste_noms_de_couche[-1]\n",
        "print(\"Nom de la dernière couche du modèle pré-entraîné complet:\",nom_derniere_couche)\n",
        "index_derniere_couche = liste_noms_de_couche.index(nom_derniere_couche)\n",
        "print(\"Index de la dernière couche du modèle pré-entraîné complet:\",index_derniere_couche)\n",
        "\n",
        "# Choix d'une nouvelle couche de sortie par essai / erreur\n",
        "# cette étape assez laborieuse a été réalisée pour vous simplifier la tâche\n",
        "nom_derniere_couche = 'mixed5'\n",
        "print(\"Choix empirique de la dernière couche du modèle pré-entraîné:\",nom_derniere_couche)\n",
        "index_derniere_couche = liste_noms_de_couche.index(nom_derniere_couche)\n",
        "print(\"Index de la dernière couche du modèle pré-entraîné choisie empiriquement:\",index_derniere_couche)\n",
        "\n",
        "# Choix de la dernière couche non-entraînable ou dernière couche « gelée » du modèle pré-entraîné\n",
        "nom_derniere_couche_gelee = 'mixed3'\n",
        "print(\"Choix empirique de la dernière couche non-entraînable:\",nom_derniere_couche_gelee)\n",
        "index_derniere_couche_gelee = liste_noms_de_couche.index(nom_derniere_couche_gelee)\n",
        "print(\"Index de la dernière couche non-entraînable:\",index_derniere_couche_gelee)\n",
        "# Paufiner l'entraînement à partir de la dernière couche non-entraînable\n",
        "debut_paufinage = index_derniere_couche_gelee\n",
        "print(\"Nombre de couches gelées (non entraînables) dans le modèle préentraîné: \", debut_paufinage )\n",
        "# Geler tous les couches avant la couche `debut_paufinage`\n",
        "for couche in modele_preentraine.layers[:debut_paufinage]:\n",
        "    couche.trainable =  False\n",
        "\n",
        "print(\"Nombre de couches entraînables dans le modèle préentraîné: \", index_derniere_couche-debut_paufinage)\n",
        "derniere_couche = modele_preentraine.get_layer(nom_derniere_couche)\n",
        "print('Dimensions de la dernière couche: ', derniere_couche.output_shape)\n",
        "sortie_derniere_couche = derniere_couche.output\n"
      ]
    },
    {
      "cell_type": "markdown",
      "id": "e0a120f5",
      "metadata": {
        "id": "e0a120f5"
      },
      "source": [
        "### Ajout d'un module de *classification*"
      ]
    },
    {
      "cell_type": "markdown",
      "id": "07245e73",
      "metadata": {
        "id": "07245e73"
      },
      "source": [
        "#### Perceptron multicouche"
      ]
    },
    {
      "cell_type": "code",
      "execution_count": null,
      "id": "70a9e60f",
      "metadata": {
        "id": "70a9e60f"
      },
      "outputs": [],
      "source": [
        "# Ajouter une couche de régularisation par extinction de neurones (dropout)\n",
        "sorties = layers.Dropout(0.2)(sortie_derniere_couche)\n",
        "# Aplatir la couche de sortie en un vecteur (i.e. une dimension)\n",
        "sorties = layers.Flatten()(sorties)\n",
        "# Ajouter une couche entièrement connectée avec 1024 neurones cachés et l'activation ReLU\n",
        "sorties = layers.Dense(1024, activation='relu')(sorties)\n",
        "# Ajouter une couche de régularisation par extinction (dropout)\n",
        "sorties = layers.Dropout(0.2)(sorties)      \n",
        "# Ajouter une couche de sortie entièrement connectée de 20 neurones \n",
        "# avec l'activation softmax (exponentielle normalisée)\n",
        "# *** IMPORTANT *** N classes => N neurones de sortie\n",
        "sorties = layers.Dense(nombre_de_classes, activation='softmax')(sorties)           \n",
        "modele_de_transfert = Model(modele_preentraine.input, sorties) \n",
        "print(\"Nombre de couches dans le modèle d'apprentissage par transfert: \", len(modele_de_transfert.layers))\n"
      ]
    },
    {
      "cell_type": "code",
      "execution_count": null,
      "id": "6ae3aa82",
      "metadata": {
        "id": "6ae3aa82"
      },
      "outputs": [],
      "source": [
        "print(\"Architecture complète\")\n",
        "modele_de_transfert.summary()\n"
      ]
    },
    {
      "cell_type": "code",
      "execution_count": null,
      "id": "64a295b3",
      "metadata": {
        "id": "64a295b3"
      },
      "outputs": [],
      "source": [
        "print(\"Nombre de paramètres entraînables dans le modèle de transfert: \",len(modele_de_transfert.trainable_variables))\n"
      ]
    },
    {
      "cell_type": "markdown",
      "id": "0bbe101e",
      "metadata": {
        "id": "0bbe101e"
      },
      "source": [
        "## Compilation du modèle"
      ]
    },
    {
      "cell_type": "code",
      "execution_count": null,
      "id": "c34d2570",
      "metadata": {
        "id": "c34d2570"
      },
      "outputs": [],
      "source": [
        "from tensorflow.keras.optimizers import RMSprop\n",
        "\n",
        "# D'après la documentation, tf.keras.utils.image_dataset_from_directory, encodera par défaut \n",
        "# un ensemble d'étiquettes de classes sous forme d'entiers allant de 1 au nombre de classes.\n",
        "# Dans ce cas, le modèle doit être compilé avec une fonction d'erreur 'sparse_categorical_crossentropy'\n",
        "\n",
        "modele_de_transfert.compile(optimizer = RMSprop(learning_rate=0.0001),\n",
        "                            loss = 'sparse_categorical_crossentropy',\n",
        "                            metrics = ['accuracy'])\n",
        "\n",
        "print(\"Modèle compilé!\")\n"
      ]
    },
    {
      "cell_type": "markdown",
      "id": "cfe944fd",
      "metadata": {
        "id": "cfe944fd"
      },
      "source": [
        "## Entraînement du modèle"
      ]
    },
    {
      "cell_type": "code",
      "execution_count": null,
      "id": "e18c1cd6",
      "metadata": {
        "id": "e18c1cd6"
      },
      "outputs": [],
      "source": [
        "nombre_iterations_de_base = 10\n",
        "nombre_iterations_peaufinage = 30\n",
        "nombre_total_iterations =  nombre_iterations_de_base + nombre_iterations_peaufinage\n",
        "\n",
        "# Les fonctions de rappels sont passées au modèle via l'argument callbacks de .fit(...), \n",
        "# qui prend une liste de fonctions de rappels. \n",
        "liste_fonctions_rappels = [\n",
        "    # Mémoriser le meilleur modèle\n",
        "    keras.callbacks.ModelCheckpoint(\n",
        "        filepath=\"IdEcorces_ResConv_TransAmpl.keras\",\n",
        "        save_best_only=True,\n",
        "        # Surveiller l'erreur de validation\n",
        "        monitor=\"val_loss\"),\n",
        "    # Arrêter l'entraînement quand son amélioration stagne\n",
        "    keras.callbacks.EarlyStopping(\n",
        "        # Surveiller l'exactitude de validation\n",
        "        monitor='val_accuracy',\n",
        "        # Arrêter l'entraînement quand l'exactitude stagne\n",
        "        # depuis plus de 10 itérations (i.e., 11 itérations)\n",
        "        patience=10,\n",
        "        verbose=2),\n",
        "    # Ajuster le taux taux d'apprentissage ou gain du gradient\n",
        "    keras.callbacks.ReduceLROnPlateau(\n",
        "        # Surveiller l'erreur de validation\n",
        "        monitor='val_loss',\n",
        "        # Diviser le taux d'apprentissage par 2 \n",
        "        # lorsque la fonction de rappel est déclenchée\n",
        "        factor=0.5,\n",
        "        # La fonction de rappel est déclenchée quand l'erreur de validation \n",
        "        # a cessé de s'améliorer depuis 3 itérations\n",
        "        patience=3,\n",
        "        verbose=2) \n",
        "]\n",
        "\n",
        "traces_entrainement = modele_de_transfert.fit(donnees_entrainement_normalisees,\n",
        "                                              validation_data = donnees_validation_normalisees,\n",
        "                                              epochs = nombre_total_iterations,\n",
        "                                              callbacks=liste_fonctions_rappels,\n",
        "                                              verbose = 2)\n"
      ]
    },
    {
      "cell_type": "markdown",
      "id": "29649ddc",
      "metadata": {
        "id": "29649ddc"
      },
      "source": [
        "### Affichage des courbes d'entraînement"
      ]
    },
    {
      "cell_type": "code",
      "execution_count": null,
      "id": "efa99289",
      "metadata": {
        "id": "efa99289"
      },
      "outputs": [],
      "source": [
        "import matplotlib.pyplot as plt\n",
        "exactitude_entrainement = traces_entrainement.history['accuracy']\n",
        "exactitude_validation = traces_entrainement.history['val_accuracy']\n",
        "erreur_entrainement = traces_entrainement.history['loss']\n",
        "erreur_validation = traces_entrainement.history['val_loss']\n",
        "nombre_iterations = range(len(exactitude_entrainement))\n",
        "nombre_dor = 1.62 \n",
        "hauteur = 6\n",
        "longueur = int(nombre_dor * hauteur)\n",
        "plt.figure(figsize=(longueur,hauteur))\n",
        "plt.plot(nombre_iterations, exactitude_entrainement, 'r', label='Exactitude entraînement')\n",
        "plt.plot(nombre_iterations, exactitude_validation, 'b', label='Exactitude validation')\n",
        "plt.title(\"Exactitude en entraînement & validation - apprentissage par transfert & amplification des données\")\n",
        "plt.legend(loc=0)\n",
        "plt.xlabel(\"Nombre d'itérations\")\n",
        "plt.ylabel(\"Exactitude\")\n",
        "plt.show()\n"
      ]
    },
    {
      "cell_type": "markdown",
      "id": "42e3b517",
      "metadata": {
        "id": "42e3b517"
      },
      "source": [
        "### Évaluation du modèle avec les données de test"
      ]
    },
    {
      "cell_type": "code",
      "execution_count": null,
      "id": "6e15ebf9",
      "metadata": {
        "id": "6e15ebf9"
      },
      "outputs": [],
      "source": [
        "erreur_test, exactitude_test = modele_de_transfert.evaluate(donnees_test_normalisees)\n",
        "print(\"Exactitude sur les données de test: %0.2f\" % exactitude_test)\n"
      ]
    },
    {
      "cell_type": "markdown",
      "id": "c3170987",
      "metadata": {
        "id": "c3170987"
      },
      "source": [
        "### Résultats"
      ]
    },
    {
      "cell_type": "markdown",
      "id": "d951b06d",
      "metadata": {
        "id": "d951b06d"
      },
      "source": [
        "Les résultats obtenus se situent dans une fourchette de 80 à 85% pour le jeu de données mini-BarkNet. En gros, l'amplification de données améliore d'environ 5% l'exactitude du modèle."
      ]
    },
    {
      "cell_type": "markdown",
      "id": "a06baf8e",
      "metadata": {
        "id": "a06baf8e"
      },
      "source": [
        "### Analyse des résultats sur les données de test"
      ]
    },
    {
      "cell_type": "markdown",
      "id": "992ef56b",
      "metadata": {
        "id": "992ef56b"
      },
      "source": [
        "#### Prédictions sur les données de test"
      ]
    },
    {
      "cell_type": "markdown",
      "id": "b92a3c69",
      "metadata": {
        "id": "b92a3c69"
      },
      "source": [
        "Extraction des étiquettes prédites"
      ]
    },
    {
      "cell_type": "code",
      "execution_count": null,
      "id": "c0095d84",
      "metadata": {
        "id": "c0095d84"
      },
      "outputs": [],
      "source": [
        "predictions = modele_de_transfert.predict(donnees_test_normalisees)\n",
        "index_predictions = np.argmax(predictions, axis=1)\n",
        "liste_etiquettes_predites = [(etiquette+1) for etiquette in index_predictions]\n",
        "print(liste_etiquettes_predites)\n"
      ]
    },
    {
      "cell_type": "markdown",
      "id": "503018e9",
      "metadata": {
        "id": "503018e9"
      },
      "source": [
        "Extraction des vraies étiquettes"
      ]
    },
    {
      "cell_type": "code",
      "execution_count": null,
      "id": "0c547cdc",
      "metadata": {
        "id": "0c547cdc"
      },
      "outputs": [],
      "source": [
        "index_vraies_etiquettes = list(np.concatenate([etiquette for image, etiquette in donnees_test_normalisees], axis=0))\n",
        "liste_vraies_etiquettes = [(etiquette+1) for etiquette in index_vraies_etiquettes]\n",
        "print(liste_vraies_etiquettes)\n"
      ]
    },
    {
      "cell_type": "markdown",
      "id": "3730feba",
      "metadata": {
        "id": "3730feba"
      },
      "source": [
        "Calcul de l'exactitude sur les données de test"
      ]
    },
    {
      "cell_type": "code",
      "execution_count": null,
      "id": "aa54a505",
      "metadata": {
        "id": "aa54a505"
      },
      "outputs": [],
      "source": [
        "from sklearn import metrics\n",
        "\n",
        "exactitude_test = metrics.accuracy_score(liste_vraies_etiquettes, liste_etiquettes_predites)\n",
        "print(\"Exactitude:   %0.2f\" % exactitude_test)\n"
      ]
    },
    {
      "cell_type": "markdown",
      "id": "274970dd",
      "metadata": {
        "id": "274970dd"
      },
      "source": [
        "#### Affichage d'une matrice de confusion"
      ]
    },
    {
      "cell_type": "code",
      "execution_count": null,
      "id": "ba46f0b1",
      "metadata": {
        "id": "ba46f0b1"
      },
      "outputs": [],
      "source": [
        "# https://stackoverflow.com/questions/65618137/confusion-matrix-for-multiple-classes-in-python\n",
        "\n",
        "import itertools\n",
        "\n",
        "def afficher_matrice_de_confusion(matrice_confusion_brute, classes,\n",
        "                          normalisation=False,\n",
        "                          titre='Matrice de confusion',\n",
        "                          carte_des_couleurs=plt.cm.Blues):\n",
        "    plt.figure(figsize=(14,12))\n",
        "    plt.imshow(matrice_confusion_brute, interpolation='nearest', cmap=carte_des_couleurs)\n",
        "    plt.title(titre)\n",
        "    plt.colorbar()\n",
        "    tick_marks = np.arange(len(classes))\n",
        "    plt.xticks(tick_marks, classes, rotation=45)\n",
        "    plt.yticks(tick_marks, classes)\n",
        "\n",
        "    if normalisation:\n",
        "        matrice_confusion_brute = matrice_confusion_brute.astype('float') / matrice_confusion_brute.sum(axis=1)[:, np.newaxis]\n",
        "        print(\"Matrice de confusion normalisée\")\n",
        "    else:\n",
        "        print('Matrice de confusion non normalisée')\n",
        "\n",
        "    seuil = matrice_confusion_brute.max() / 2.\n",
        "    for i, j in itertools.product(range(matrice_confusion_brute.shape[0]), range(matrice_confusion_brute.shape[1])):\n",
        "        plt.text(j, i, matrice_confusion_brute[i, j],\n",
        "                 horizontalalignment=\"center\",\n",
        "                 color=\"white\" if matrice_confusion_brute[i, j] > seuil else \"black\")\n",
        "\n",
        "    plt.tight_layout()\n",
        "    plt.ylabel('Vraies étiquettes')\n",
        "    plt.xlabel('Étiquettes prédites')\n",
        "\n",
        "print(\"Code affichage matrice de confusion\")\n"
      ]
    },
    {
      "cell_type": "code",
      "execution_count": null,
      "id": "226b5b94",
      "metadata": {
        "id": "226b5b94"
      },
      "outputs": [],
      "source": [
        "matrice_confusion_brute = metrics.confusion_matrix(liste_vraies_etiquettes, liste_etiquettes_predites)\n",
        "afficher_matrice_de_confusion(matrice_confusion_brute, classes=liste_noms_classes)\n"
      ]
    },
    {
      "cell_type": "markdown",
      "id": "2bae9954",
      "metadata": {
        "id": "2bae9954"
      },
      "source": [
        "#### Rapport de classification"
      ]
    },
    {
      "cell_type": "code",
      "execution_count": null,
      "id": "18325b11",
      "metadata": {
        "id": "18325b11"
      },
      "outputs": [],
      "source": [
        "from sklearn.metrics import classification_report\n",
        "\n",
        "print(classification_report(liste_vraies_etiquettes, liste_etiquettes_predites, target_names=liste_noms_classes))"
      ]
    },
    {
      "cell_type": "markdown",
      "id": "50d5482d",
      "metadata": {
        "id": "50d5482d"
      },
      "source": [
        "## Sauvegarde du modèle entraîné"
      ]
    },
    {
      "cell_type": "code",
      "execution_count": null,
      "id": "f9e08369",
      "metadata": {
        "id": "f9e08369"
      },
      "outputs": [],
      "source": [
        "import os\n",
        "import time\n",
        "\n",
        "chemin_sauvegarde = \"/content/modeles/\"\n",
        "\n",
        "# Ajouter une estampille temporelle (timestamp)\n",
        "estampille_temporelle = str(int(time.time()))\n",
        "chemin_modele_sauvegarde = os.path.join(chemin_sauvegarde, estampille_temporelle)\n",
        "modele_de_transfert.save(chemin_modele_sauvegarde,\n",
        "                         include_optimizer=True,\n",
        "                         save_format='tf')"
      ]
    },
    {
      "cell_type": "markdown",
      "id": "93042971",
      "metadata": {
        "id": "93042971"
      },
      "source": [
        "## Télécharger le modèle entraîné\n",
        "\n",
        "Ici, vous pouvez télécharger le modèle entraîné sur votre poste de travail local.\n",
        "\n",
        "Comme le modèle comporte plusieurs répertoires et fichiers, vous allez d'abord les compresser dans une archive .zip."
      ]
    },
    {
      "cell_type": "code",
      "execution_count": null,
      "id": "47e0ce99",
      "metadata": {
        "id": "47e0ce99"
      },
      "outputs": [],
      "source": [
        "import shutil\n",
        "\n",
        "shutil.make_archive(\"modele_\"+estampille_temporelle,'zip', chemin_modele_sauvegarde)"
      ]
    },
    {
      "cell_type": "markdown",
      "id": "e26e45d0",
      "metadata": {
        "id": "e26e45d0"
      },
      "source": [
        "Maintenant, vous allez télécharger le modèle compressé grâce à l'utilitaire `files` de Colab "
      ]
    },
    {
      "cell_type": "code",
      "execution_count": null,
      "id": "31d83b7c",
      "metadata": {
        "id": "31d83b7c"
      },
      "outputs": [],
      "source": [
        "from google.colab import files\n",
        "\n",
        "files.download(\"modele_\"+estampille_temporelle+\".zip\")"
      ]
    },
    {
      "cell_type": "markdown",
      "id": "4ad45063",
      "metadata": {
        "id": "4ad45063"
      },
      "source": [
        "Conserver le modèle pour éventuellement faire l'analyse des erreurs ou déployer le modèle en inférence."
      ]
    },
    {
      "cell_type": "code",
      "execution_count": null,
      "id": "ddf98ac1",
      "metadata": {
        "id": "ddf98ac1"
      },
      "outputs": [],
      "source": [
        "print(\"Fin de l'exécution du carnet IPython\")"
      ]
    },
    {
      "cell_type": "code",
      "execution_count": null,
      "id": "d9dab478",
      "metadata": {
        "id": "d9dab478"
      },
      "outputs": [],
      "source": [
        ""
      ]
    }
  ],
  "metadata": {
    "kernelspec": {
      "display_name": "Python 3",
      "language": "python",
      "name": "python3"
    },
    "language_info": {
      "codemirror_mode": {
        "name": "ipython",
        "version": 3
      },
      "file_extension": ".py",
      "mimetype": "text/x-python",
      "name": "python",
      "nbconvert_exporter": "python",
      "pygments_lexer": "ipython3",
      "version": "3.9.5"
    },
    "colab": {
      "name": "IdEcorces-ResConv-TransfertAmplication-Colab.ipynb",
      "provenance": []
    },
    "accelerator": "GPU"
  },
  "nbformat": 4,
  "nbformat_minor": 5
}
