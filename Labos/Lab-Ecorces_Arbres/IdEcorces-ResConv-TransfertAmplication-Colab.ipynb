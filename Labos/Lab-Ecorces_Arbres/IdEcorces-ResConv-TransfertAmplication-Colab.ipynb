{
 "cells": [
  {
   "cell_type": "markdown",
   "id": "4bbf41cd",
   "metadata": {},
   "source": [
    "<a href=\"https://colab.research.google.com/github/ClaudeCoulombe/VIARENA/blob/master/Labos/Lab-Ecorces_Arbres/IdEcorces-ResConv-TransfertAmplification-Colab.ipynb\" target=\"_blank\"><img src=\"https://colab.research.google.com/assets/colab-badge.svg\" alt=\"Open In Colab\"/></a>\n",
    "\n",
    "### Rappel - Fonctionnement d'un carnet web iPython\n",
    "\n",
    "* Pour exécuter le code contenu dans une cellule d'un carnet iPython, cliquez dans la cellule et faites (⇧↵, shift-enter) \n",
    "* Le code d'un carnet iPython s'exécute séquentiellement de haut en bas de la page. Souvent, l'importation d'une bibliothèque Python ou l'initialisation d'une variable est préalable à l'exécution d'une cellule située plus bas. Il est donc recommandé d'exécuter les cellules en séquence. Enfin, méfiez-vous des retours en arrière qui peuvent réinitialiser certaines variables.\n",
    "\n",
    "SVP, déployez toutes les cellules en sélectionnant l'item « Développer les rubriques » de l'onglet « Affichage »."
   ]
  },
  {
   "cell_type": "markdown",
   "id": "9f96cb7b",
   "metadata": {},
   "source": [
    "# Identification d'arbres à partir de leur écorce"
   ]
  },
  {
   "cell_type": "markdown",
   "id": "da2c8138",
   "metadata": {},
   "source": [
    "## Réseau convolutif avec apprentissage par transfert et peaufinage"
   ]
  },
  {
   "cell_type": "markdown",
   "id": "592223e3",
   "metadata": {},
   "source": [
    "### Inspiration et droits d'auteur\n",
    "\n",
    "Ce laboratoire s'inspire de plusieurs oeuvres en logiciels libres qui ont été transformées dont:\n",
    "\n",
    "<a href=\"https://www.tensorflow.org/tutorials/images/transfer_learning\" target='_blank'>Transfer learning and fine-tuning</a> - site Google / Tutoriels TensorFlow\n",
    "\n",
    "<a href=\"https://www.tensorflow.org/tutorials/images/data_augmentation\" target='_blank'>Data augmentation</a> - site Google / Tutoriels TensorFlow\n",
    "\n",
    "##### Copyright (c) 2017, François Chollet  \n",
    "##### Copyright (c) 2019-2022, The TensorFlow Authors.\n",
    "##### Copyright (c) 2022, Claude Coulombe\n",
    "\n",
    "Le contenu de cette page est sous licence <a href=\"https://creativecommons.org/licenses/by/4.0/deed.fr\" target='_blank'>Creative Commons Attribution 4.0 (CC BY 4.0)</a>,<br/>et les exemples de code sont sous <a href=\"https://www.apache.org/licenses/LICENSE-2.0\" target='_blank'>licence Apache 2.0</a>.\n",
    "\n",
    "#### Données\n",
    "\n",
    "Les données sur les écorces d'arbres proviennent de <a href=\"https://data.mendeley.com/research-data/?search=barknet\">BarkNet</a>, une banque en données ouvertes sous licence MIT de 23 000 photos d'écorces d'arbres en haute résolution prises avec des téléphones intelligents par une équipe d'étudiants et de chercheurs du <a href=\"https://www.sbf.ulaval.ca/\" target='_blank'>Département des sciences du bois et de la forêt de l'Université Laval</a> à Québec.</p>"
   ]
  },
  {
   "cell_type": "markdown",
   "id": "f54f4ae6",
   "metadata": {},
   "source": [
    "# Apprentissage par transfert & amplification des données"
   ]
  },
  {
   "cell_type": "markdown",
   "id": "6dbace2c",
   "metadata": {},
   "source": [
    "## Fixer le hasard pour la reproductibilité\n",
    "\n",
    "La mise au point de réseaux de neurones implique certains processus aléatoires. Afin de pouvoir reproduire et comparer vos résultats d'expérience, vous fixez temporairement l'état aléatoire grâce à un germe aléatoire unique.\n",
    "\n",
    "Pendant la mise au point, vous fixez temporairement l'état aléatoire pour la reproductibilité mais vous répétez l'expérience avec différents germes ou états aléatoires et prenez la moyenne des résultats.\n",
    "<br/>\n",
    "**Note** : Pour un système en production, vous ravivez simplement l'état  purement aléatoire avec l'instruction `GERME_ALEATOIRE = None`"
   ]
  },
  {
   "cell_type": "code",
   "execution_count": null,
   "id": "9a7f2b2d",
   "metadata": {},
   "outputs": [],
   "source": [
    "import os\n",
    "\n",
    "# Définir un germe aléatoire\n",
    "GERME_ALEATOIRE = 42\n",
    "\n",
    "# Définir un état aléatoire pour Python\n",
    "os.environ['PYTHONHASHSEED'] = str(GERME_ALEATOIRE)\n",
    "\n",
    "# Définir un état aléatoire pour Python random\n",
    "import random\n",
    "random.seed(GERME_ALEATOIRE)\n",
    "\n",
    "# Définir un état aléatoire pour NumPy\n",
    "import numpy as np\n",
    "np.random.seed(GERME_ALEATOIRE)\n",
    "\n",
    "# Définir un état aléatoire pour TensorFlow\n",
    "import tensorflow as tf\n",
    "tf.random.set_seed(GERME_ALEATOIRE)\n",
    "\n",
    "# Note: Retrait du comportement déterministe\n",
    "# à cause de keras.layers.RandomContrast(...)\n",
    "# dont il n'existe pas de version déterministe\n",
    "# os.environ['TF_DETERMINISTIC_OPS'] = '1'\n",
    "# os.environ['TF_CUDNN_DETERMINISTIC'] = '1'\n",
    "\n",
    "print(\"Germe aléatoire fixé\")"
   ]
  },
  {
   "cell_type": "markdown",
   "id": "baf61010",
   "metadata": {},
   "source": [
    "## Acquisition des données"
   ]
  },
  {
   "cell_type": "markdown",
   "id": "b98b0d5b",
   "metadata": {},
   "source": [
    "Les <a href=\"https://www.kaggle.com/claudecoulombe/barknet\" target='_blank'>données de BarkNet</a>  peuvent être téléchargées à partir du site de Kaggle. Mais vous allez utiliser l'IPA (<i>API</i>) de Kaggle pour accélérer les transferts de données."
   ]
  },
  {
   "cell_type": "code",
   "execution_count": null,
   "id": "271d141c",
   "metadata": {},
   "outputs": [],
   "source": [
    "dict_arbres = {\n",
    "    'BOJ' : \"Betula alleghaniensis - Bouleau jaune - Yellow birch\",\n",
    "    'BOP' : \"Betula papyrifera - Bouleau à papier - White birch\",\n",
    "    'CHR' : \"Quercus rubra - Chêne rouge - Northern red oak\",\n",
    "    'EPB' : \"Picea glauca - Épinette blanche - White spruce\",\n",
    "    'EPN' : \" Picea mariana - Épinette noire - Black spruce\",\n",
    "    'EPO' : \"Picea abies - Épinette de Norvège - Norway spruce\",\n",
    "    'EPR' : \"Picea rubens - Épinette rouge - Red spruce\",\n",
    "    'ERB' : \"Acer platanoides - Érable de Norvège - Norway maple\",\n",
    "    'ERR' : \"Acer rubrum - Érable rouge - Red maple\",\n",
    "    'ERS' : \"Acer saccharum - Érable à sucre - Sugar maple\",\n",
    "    'FRA' : \"Fraxinus americana - Frêne d'Amérique - White ash\",\n",
    "    'HEG' : \"Fagus grandifolia - Hêtre à grandes feuilles - American beech\",\n",
    "    'MEL' : \"Larix laricina - Mélèze - Tamarack\",\n",
    "    'ORA' : \"Ulmus americana - Orme d'Amérique - American elm\",\n",
    "    'OSV' : \"Ostrya virginiana - Ostryer de Virginie - American hophornbeam\",\n",
    "    'PEG' : \"Populus grandidentata - Peuplier à grandes dents - Big-tooth aspen\",\n",
    "    'PET' : \"Populus tremuloides - Peuplier faux tremble - Quaking aspen\",\n",
    "    'PIB' : \"Pinus strobus - Pin blanc - Eastern white pine\",\n",
    "    'PID' : \"Pinus rigida - Pin rigide - Pitch pine\",\n",
    "    'PIR' : \"Pinus resinosa - Pin rouge - Red pine\",\n",
    "    'PRU' : \"Tsuga canadensis - Pruche du Canada - Eastern Hemlock\",\n",
    "    'SAB' : \"Abies balsamea - Sapin Baumier - Balsam fir\",\n",
    "    'THO' : \"Thuja occidentalis - Thuya occidental - Northern white cedar\",\n",
    "}\n",
    "\n",
    "print(\"Dictionnaire mémorisé\")"
   ]
  },
  {
   "cell_type": "markdown",
   "id": "141ca1db",
   "metadata": {},
   "source": [
    "### Création des répertoires de données\n",
    "\n",
    "Nous allons créer un répertoire de base `donnees`, un répertoire `lab_ecorces` où les données seront réparties en données d'entraînement, de validation et de test pour chaque classe cible.\n",
    "\n",
    "Enfin, un répertoire `modeles` pour mémoriser les modèles une fois entraînés."
   ]
  },
  {
   "cell_type": "code",
   "execution_count": null,
   "id": "407545f6",
   "metadata": {},
   "outputs": [],
   "source": [
    "try:\n",
    "    os.mkdir(\"/content/donnees/\")\n",
    "except OSError:\n",
    "    pass\n",
    "try:\n",
    "    os.mkdir(\"/content/lab_ecorces/\")\n",
    "except OSError:\n",
    "    pass\n",
    "try:\n",
    "    os.mkdir(\"/content/modeles/\")\n",
    "except OSError:\n",
    "    pass"
   ]
  },
  {
   "cell_type": "markdown",
   "id": "65bcb2ac",
   "metadata": {},
   "source": [
    "### Utilisation de l'IPA (<i>API</i>) de Kaggle pour l'importation directe du jeu de données BarkNet\n",
    "\n",
    "1. Commencez par installer la bibliothèque Python `kaggle`"
   ]
  },
  {
   "cell_type": "code",
   "execution_count": null,
   "id": "413f0c9b",
   "metadata": {},
   "outputs": [],
   "source": [
    "!pip3 install kaggle"
   ]
  },
  {
   "cell_type": "markdown",
   "id": "927b1cd5",
   "metadata": {},
   "source": [
    "2. Si ce n'est déjà fait, devenez membre de Kaggle avec votre adresse de courriel GMail:<br/>\n",
    "\n",
    "<img src=\"https://cours.edulib.org/asset-v1:Cegep-Matane+VAERN.1FR+P2021+type@asset+block@Kaggle_API-1.png\"/>"
   ]
  },
  {
   "cell_type": "markdown",
   "id": "5bb621f6",
   "metadata": {},
   "source": [
    "3. Maintenant, vous devez télécharger votre clé privée pour utiliser l'IPA de Kaggle.\n",
    "\n",
    "4. Cliquez sur l'onglet « account » de votre profil Kaggle\n",
    "\n",
    "<img src=\"https://cours.edulib.org/asset-v1:Cegep-Matane+VAERN.1FR+P2021+type@asset+block@Kaggle_API-2.png\"/>\n",
    "\n",
    "5. Sur la page « Account » cliquez sur le bouton « Create New API Token ».\n",
    "    \n",
    "<img style=\"margin-left:40px;\" src=\"https://cours.edulib.org/asset-v1:Cegep-Matane+VAERN.1FR+P2021+type@asset+block@Kaggle_API-3.png\"/>\n",
    "\n",
    "6. Téléchargez votre clé privée « kaggle.json » pour l'IPA Kaggle dans un endroit temporaire sur votre poste de travail.\n",
    "\n",
    "<img style=\"margin-left:40px;\" src=\"https://cours.edulib.org/asset-v1:Cegep-Matane+VAERN.1FR+P2021+type@asset+block@Kaggle_API-5.png\"/>\n",
    "\n",
    "7. Maintenant, transférez (téléversez) votre clé privée « kaggle.json » dans votre environnement Colab.\n",
    "\n",
    "La fenêtre de l'outil de fichiers de votre ordinateur s'ouvre alors. Allez chercher votre clé privée « kaggle.json » que vous avez sauvegardé sur votre  ordinateur.\n",
    "\n",
    "<img style=\"margin-left:40px;\" src=\"https://cours.edulib.org/asset-v1:Cegep-Matane+VAERN.1FR+P2021+type@asset+block@Colab_Importer_Fichier.png\"/>\n"
   ]
  },
  {
   "cell_type": "markdown",
   "id": "67a30df8",
   "metadata": {},
   "source": [
    "8. Créer à la racine un répertoire .kaggle et déplacez votre clé privée « kaggle.json » dans ce répertoire."
   ]
  },
  {
   "cell_type": "code",
   "execution_count": null,
   "id": "02a83d92",
   "metadata": {},
   "outputs": [],
   "source": [
    "!mkdir ~/.kaggle\n",
    "!cp /content/kaggle.json ~/.kaggle/\n",
    "!chmod 600 ~/.kaggle/kaggle.json\n",
    "!ls ~/.kaggle -all"
   ]
  },
  {
   "cell_type": "markdown",
   "id": "54a3ea4e",
   "metadata": {},
   "source": [
    "9. Maintenant téléchargez le jeu de données réduit « barknet-mini » de 1.6 Go ou le jeu de données « barknet » complet de 32 Go avec la commande suivante:"
   ]
  },
  {
   "cell_type": "code",
   "execution_count": null,
   "id": "9600ab3c",
   "metadata": {},
   "outputs": [],
   "source": [
    "# Attention! Jeu réduit de données 1.5 Go - plus rapide à télécharger et à traiter\n",
    "!kaggle datasets download claudecoulombe/barknet-mini --unzip -p /content/donnees/\n",
    "repertoire_entree = \"/content/donnees/BarkNet-mini\""
   ]
  },
  {
   "cell_type": "code",
   "execution_count": null,
   "id": "e7295f8b",
   "metadata": {},
   "outputs": [],
   "source": [
    "# Attention! Jeu complet de données 32 Go - plus long à télécharger et à traiter\n",
    "# retirer les commentaires ci-dessous pour activer le code  \n",
    "# !kaggle datasets download claudecoulombe/barknet --unzip -p /content/donnees/\n",
    "# repertoire_entree = \"/content/donnees/BarkNet\""
   ]
  },
  {
   "cell_type": "markdown",
   "id": "af7c1658",
   "metadata": {},
   "source": [
    "### Répartition des données"
   ]
  },
  {
   "cell_type": "code",
   "execution_count": null,
   "id": "85539899",
   "metadata": {},
   "outputs": [],
   "source": [
    "# Installation des bibliothèques Python `split-folders` et `tqdm`\n",
    "!pip3 install split-folders tqdm"
   ]
  },
  {
   "cell_type": "code",
   "execution_count": null,
   "id": "26e8ddfa",
   "metadata": {},
   "outputs": [],
   "source": [
    "# Répartition des données d'entraînement, de validation et de tests\n",
    "import splitfolders\n",
    "import pathlib\n",
    "\n",
    "#### répertoire des données une fois réparties\n",
    "repertoire_donnees_reparties = \"/content/lab_ecorces\"\n",
    "# => train, val, test\n",
    "\n",
    "nombre_images = len(list(pathlib.Path(repertoire_entree).glob('*/*.jpg')))\n",
    "print(\"Nombre total d'images:\",nombre_images)\n",
    "\n",
    "splitfolders.ratio(repertoire_entree, \n",
    "                   output=repertoire_donnees_reparties, \n",
    "                   seed=42, \n",
    "                   ratio = (0.65, 0.15, 0.20)\n",
    "                   )\n",
    "\n",
    "print(\"\\nRépartition des données terminée!\")"
   ]
  },
  {
   "cell_type": "markdown",
   "id": "bbdd56d3",
   "metadata": {},
   "source": [
    "### Visualisation d'un échantillon des données"
   ]
  },
  {
   "cell_type": "code",
   "execution_count": null,
   "id": "bb4e300c",
   "metadata": {},
   "outputs": [],
   "source": [
    "%matplotlib inline\n",
    "\n",
    "import matplotlib.pyplot as plt\n",
    "import matplotlib.image as mpimg\n",
    "\n",
    "pic_index = 4\n",
    "\n",
    "REPERTOIRE_ENTRAINEMENT = \"/content/lab_ecorces/train/\"\n",
    "\n",
    "for arbre_id in dict_arbres.keys():\n",
    "    try:\n",
    "        dir_path = os.path.join(REPERTOIRE_ENTRAINEMENT,arbre_id+os.sep)\n",
    "        liste_fichiers = os.listdir(os.path.join(REPERTOIRE_ENTRAINEMENT,arbre_id+os.sep))\n",
    "        next_two_pics = [os.path.join(dir_path, fname) for fname in liste_fichiers[0:pic_index]]\n",
    "        fig = plt.figure(figsize=(12,4))\n",
    "        print(\"_\"*90)\n",
    "        print(arbre_id,dict_arbres[arbre_id].split('-')[1])\n",
    "        for i, img_path in enumerate(next_two_pics):\n",
    "            print(img_path)\n",
    "            img = mpimg.imread(img_path)\n",
    "            plt.subplot(1,pic_index,i+1)\n",
    "            plt.imshow(img)\n",
    "            plt.axis('Off')\n",
    "        plt.show()\n",
    "    except:\n",
    "        continue\n"
   ]
  },
  {
   "cell_type": "markdown",
   "id": "20590360",
   "metadata": {},
   "source": [
    "### Création de flux de lots de données\n",
    "\n",
    "Chargeons ces images en mémoire en créant des `tf.data.dataset` à l'aide de l'utilitaire `tf.keras.utils.image_dataset_from_directory`. \n",
    "\n",
    "tf.data.Dataset prend en charge l'écriture de chaîne de traitement de données efficaces. L'itération se produit dans un flux continu, de sorte que l'ensemble complet de données  n'a pas besoin de tenir dans la mémoire."
   ]
  },
  {
   "cell_type": "code",
   "execution_count": null,
   "id": "2fdc6ce5",
   "metadata": {},
   "outputs": [],
   "source": [
    "import os\n",
    "import numpy as np\n",
    "import keras\n",
    "print(\"Version de Keras:\",keras.__version__)\n",
    "import tensorflow as tf\n",
    "print(\"Version de TensorFlow :\",tf.__version__)\n",
    "\n",
    "REPERTOIRE_ENTRAINEMENT = \"/content/lab_ecorces/train/\"\n",
    "REPERTOIRE_VALIDATION = \"/content/lab_ecorces/val\"\n",
    "REPERTOIRE_TEST = \"/content/lab_ecorces/test/\"\n",
    "\n",
    "TAILLE_LOT = 32\n",
    "HAUTEUR_IMAGE = 150\n",
    "LARGEUR_IMAGE = 150\n",
    "TAILLE_IMAGE = (HAUTEUR_IMAGE, LARGEUR_IMAGE)\n",
    "NOMBRE_CANAUX = 3"
   ]
  },
  {
   "cell_type": "code",
   "execution_count": null,
   "id": "5ef5ef24",
   "metadata": {},
   "outputs": [],
   "source": [
    "# Création d'un flux de données pour l'entraînement\n",
    "donnees_entrainement = tf.keras.utils.image_dataset_from_directory(REPERTOIRE_ENTRAINEMENT,\n",
    "                                                                   batch_size=TAILLE_LOT,\n",
    "                                                                   image_size=TAILLE_IMAGE)"
   ]
  },
  {
   "cell_type": "code",
   "execution_count": null,
   "id": "da5b58ae",
   "metadata": {},
   "outputs": [],
   "source": [
    "print(\"Type Python de donnees_entrainement):\",type(donnees_entrainement))\n",
    "flux_images, flux_etiquettes = next(iter(donnees_entrainement))\n",
    "print(\"Dimensions du flux d'images:\",flux_images.shape)\n",
    "print(\"Nombre d'images):\",len(flux_images))\n",
    "print(\"Dimensions du flux d'étiquettes:\",flux_etiquettes.shape)\n",
    "print(\"Nombre d'étiquettes):\",len(flux_etiquettes))"
   ]
  },
  {
   "cell_type": "code",
   "execution_count": null,
   "id": "6d58b144",
   "metadata": {},
   "outputs": [],
   "source": [
    "# Récupération des noms ou étiquettes de classes\n",
    "liste_noms_classes = donnees_entrainement.class_names\n",
    "print(liste_noms_classes)\n",
    "# Calcul du nombre de classes\n",
    "nombre_de_classes = len(liste_noms_classes)\n",
    "print('Nombre de classes:',nombre_de_classes)"
   ]
  },
  {
   "cell_type": "code",
   "execution_count": null,
   "id": "d8fd204f",
   "metadata": {},
   "outputs": [],
   "source": [
    "# Création d'un flux de données pour la validation\n",
    "donnees_validation = tf.keras.utils.image_dataset_from_directory(REPERTOIRE_VALIDATION,\n",
    "                                                                 batch_size=TAILLE_LOT,\n",
    "                                                                 image_size=TAILLE_IMAGE)"
   ]
  },
  {
   "cell_type": "code",
   "execution_count": null,
   "id": "243e87cf",
   "metadata": {},
   "outputs": [],
   "source": [
    "# Création d'un flux de données pour les tests\n",
    "donnees_test = tf.keras.utils.image_dataset_from_directory(REPERTOIRE_TEST,\n",
    "                                                           batch_size=TAILLE_LOT,\n",
    "                                                           image_size=TAILLE_IMAGE)"
   ]
  },
  {
   "cell_type": "code",
   "execution_count": null,
   "id": "26cf59f3",
   "metadata": {},
   "outputs": [],
   "source": [
    "print(\"Nombre de lots de données d'entraînement: %d\" % tf.data.experimental.cardinality(donnees_entrainement))\n",
    "print(\"Nombre de lots de données de validation: %d\" % tf.data.experimental.cardinality(donnees_validation))\n",
    "print('Nombre de lots de données de test: %d' % tf.data.experimental.cardinality(donnees_test))\n"
   ]
  },
  {
   "cell_type": "markdown",
   "id": "fd768efc",
   "metadata": {},
   "source": [
    "## Prétraitement des données"
   ]
  },
  {
   "cell_type": "markdown",
   "id": "23285d43",
   "metadata": {},
   "source": [
    "### Amplification des données"
   ]
  },
  {
   "cell_type": "code",
   "execution_count": null,
   "id": "1998c829",
   "metadata": {},
   "outputs": [],
   "source": [
    "couches_amplification = tf.keras.Sequential([\n",
    "    # Retournement horizontal - gauche / droite\n",
    "    keras.layers.RandomFlip(\"horizontal\"),\n",
    "    # Retournement vertical - haut / bas\n",
    "    keras.layers.RandomFlip(\"vertical\"),\n",
    "    # Rotation\n",
    "    keras.layers.RandomRotation(0.1),\n",
    "    # Agrandissement / zoom\n",
    "    keras.layers.RandomZoom(0.3),\n",
    "    # Variation du contraste de l'image\n",
    "    keras.layers.RandomContrast(0.3),\n",
    "])"
   ]
  },
  {
   "cell_type": "markdown",
   "id": "06ac3382",
   "metadata": {},
   "source": [
    "### Normalisation des données"
   ]
  },
  {
   "cell_type": "code",
   "execution_count": null,
   "id": "6eb9bf37",
   "metadata": {},
   "outputs": [],
   "source": [
    "couches_normalisation = keras.Sequential([\n",
    "    # Redimensionnement de l'image\n",
    "    keras.layers.Resizing(HAUTEUR_IMAGE,LARGEUR_IMAGE),\n",
    "    # Changement d'échelle de luminosité\n",
    "    keras.layers.Rescaling(1./255)\n",
    "])"
   ]
  },
  {
   "cell_type": "code",
   "execution_count": null,
   "id": "cb6f66c9",
   "metadata": {},
   "outputs": [],
   "source": [
    "AUTOTUNE = tf.data.AUTOTUNE\n",
    "\n",
    "def pretraitement(jeu_donnees, melanger=False, normaliser=False, amplifier=False):\n",
    "    if melanger:\n",
    "        jeu_donnees = jeu_donnees.shuffle(1000)\n",
    "                \n",
    "    # Normaliser les jeux de données\n",
    "    if normaliser:\n",
    "        jeu_donnees = jeu_donnees.map(lambda x, y: (couches_normalisation(x), y),\n",
    "                                    num_parallel_calls=AUTOTUNE\n",
    "                                    )\n",
    "    # Amplifier seulement les données d'entraînement\n",
    "    if amplifier:\n",
    "        jeu_donnees = jeu_donnees.map(lambda x, y: (couches_amplification(x,training=True), y),\n",
    "                                      num_parallel_calls=AUTOTUNE\n",
    "                                     )\n",
    "    # Utiliser des tampons de préextraction sur tous les jeux de données\n",
    "    return jeu_donnees.prefetch(buffer_size=AUTOTUNE)\n",
    "\n",
    "print(\"Fonction de prétraitement prête!\")"
   ]
  },
  {
   "cell_type": "markdown",
   "id": "2119d1dc",
   "metadata": {},
   "source": [
    "#### Visualisation d'un échantillon de données amplifiées"
   ]
  },
  {
   "cell_type": "code",
   "execution_count": null,
   "id": "96ea9dd6",
   "metadata": {},
   "outputs": [],
   "source": [
    "fig = plt.figure(figsize=(10, 10))\n",
    "for images, _ in donnees_entrainement.take(1):\n",
    "    fig.clear()\n",
    "    for i in range(9):\n",
    "        images_augmentees = couches_amplification(images)\n",
    "        plt.subplot(3, 3, i + 1)\n",
    "        plt.imshow(images_augmentees[0].numpy().astype(\"uint8\"))\n",
    "        # plt.imshow(augmented_images[0], cmap=\"gray\")"
   ]
  },
  {
   "cell_type": "markdown",
   "id": "191b73c3",
   "metadata": {},
   "source": [
    "#### Amplification et normalisation des données d'entraînement"
   ]
  },
  {
   "cell_type": "code",
   "execution_count": null,
   "id": "de1b138b",
   "metadata": {},
   "outputs": [],
   "source": [
    "print(\"Type Python de donnees_entrainement):\",type(donnees_entrainement))\n",
    "donnees_entrainement_normalisees = pretraitement(donnees_entrainement,\n",
    "                                                 melanger=True,\n",
    "                                                 normaliser=True,\n",
    "                                                 amplifier=True)\n",
    "print(\"Type Python donnees_entrainement_normalisees):\",type(donnees_entrainement_normalisees))\n",
    "# Vérification (lent...)\n",
    "# lot_images, lot_etiquettes = next(iter(donnees_entrainement_normalisees))\n",
    "# premiere_image = lot_images[0]\n",
    "# # Notez que les valeurs des pixels sont maintenant dans l'intervalle `[0,1]`\n",
    "# print(\"Valeur min et max des pixels:\",np.min(premiere_image), np.max(premiere_image))\n",
    "# print(\"Dimensions flux d'images:\",lot_images.shape)\n",
    "# print(\"Nombre d'images:\",len(lot_images))\n",
    "# print(\"Dimensions flux d'étiquette:\",lot_etiquettes.shape)\n",
    "# print(\"Nombre d'étiquettes:\",len(lot_etiquettes))"
   ]
  },
  {
   "cell_type": "markdown",
   "id": "02ff01c7",
   "metadata": {},
   "source": [
    "#### Normalisation des données de validation"
   ]
  },
  {
   "cell_type": "code",
   "execution_count": null,
   "id": "5e700cf9",
   "metadata": {},
   "outputs": [],
   "source": [
    "print(\"Type Python de donnees_validation):\",type(donnees_validation))\n",
    "donnees_validation_normalisees = pretraitement(donnees_validation,\n",
    "                                               melanger=False,\n",
    "                                               normaliser=True,\n",
    "                                               amplifier=False)\n",
    "print(\"Type Python donnees_validation_normalisees):\",type(donnees_validation_normalisees))\n",
    "# Vérification (lent...)\n",
    "# lot_images, lot_etiquettes = next(iter(donnees_validation_normalisees))\n",
    "# premiere_image = lot_images[0]\n",
    "# # Notez que les valeurs des pixels sont maintenant dans l'intervalle `[0,1]`\n",
    "# print(\"Valeur min et max des pixels:\",np.min(premiere_image), np.max(premiere_image))\n",
    "# print(\"Dimensions flux d'images:\",lot_images.shape)\n",
    "# print(\"Nombre d'images:\",len(lot_images))\n",
    "# print(\"Dimensions flux d'étiquette:\",lot_etiquettes.shape)\n",
    "# print(\"Nombre d'étiquettes:\",len(lot_etiquettes))"
   ]
  },
  {
   "cell_type": "markdown",
   "id": "7ccbd961",
   "metadata": {},
   "source": [
    "#### Normalisation des données de test"
   ]
  },
  {
   "cell_type": "code",
   "execution_count": null,
   "id": "58bd193c",
   "metadata": {},
   "outputs": [],
   "source": [
    "print(\"Type Python de donnees_test):\",type(donnees_test))\n",
    "AUTOTUNE = tf.data.AUTOTUNE\n",
    "donnees_test = donnees_test.cache().prefetch(buffer_size=AUTOTUNE)\n",
    "print(\"Type Python de donnees_test):\",type(donnees_test))\n",
    "donnees_test_normalisees = donnees_test.map(lambda x, y: (couches_normalisation(x), y))\n",
    "print(\"Type Python de donnees_test_normalisees:\",type(donnees_test_normalisees))\n",
    "# Vérification (lent...)\n",
    "# lot_images, lot_etiquettes = next(iter(donnees_test_normalisees))\n",
    "# premiere_image = lot_images[0]\n",
    "# # Notez que les valeurs des pixels sont maintenant dans l'intervalle `[0,1]`\n",
    "# print(\"Valeur min et max des pixels:\",np.min(premiere_image), np.max(premiere_image))\n",
    "# print(\"Dimensions flux d'images:\",lot_images.shape)\n",
    "# print(\"Nombre d'images:\",len(lot_images))\n",
    "# print(\"Dimensions flux d'étiquette:\",lot_etiquettes.shape)\n",
    "# print(\"Nombre d'étiquettes:\",len(lot_etiquettes))"
   ]
  },
  {
   "cell_type": "markdown",
   "id": "313fbde5",
   "metadata": {},
   "source": [
    "## Création d'un modèle d'apprentissage par transfert"
   ]
  },
  {
   "cell_type": "markdown",
   "id": "f8cfc730",
   "metadata": {},
   "source": [
    "### Importation d'un modèle `inception` pré-entraîné sur `ImageNet`"
   ]
  },
  {
   "cell_type": "code",
   "execution_count": null,
   "id": "7dd421ba",
   "metadata": {},
   "outputs": [],
   "source": [
    "!wget --no-check-certificate \\\n",
    "    https://storage.googleapis.com/mledu-datasets/inception_v3_weights_tf_dim_ordering_tf_kernels_notop.h5 \\\n",
    "    -O /tmp/inception_v3_weights_tf_dim_ordering_tf_kernels_notop.h5\n"
   ]
  },
  {
   "cell_type": "code",
   "execution_count": null,
   "id": "c6f10c8d",
   "metadata": {},
   "outputs": [],
   "source": [
    "from tensorflow.keras import layers\n",
    "from tensorflow.keras import Model\n",
    "from tensorflow.keras.applications.inception_v3 import InceptionV3\n",
    "\n",
    "# Charger les paramètres ou poids du modèle InceptionV3 pré-entraîné sur ImageNet\n",
    "modele_preentraine = InceptionV3(weights='imagenet',\n",
    "                                 input_shape = (HAUTEUR_IMAGE,LARGEUR_IMAGE,NOMBRE_CANAUX),\n",
    "                                 include_top = False)\n"
   ]
  },
  {
   "cell_type": "code",
   "execution_count": null,
   "id": "652e36c3",
   "metadata": {},
   "outputs": [],
   "source": [
    "print(\"Architecture du modèle préentraîné\")\n",
    "modele_preentraine.summary()"
   ]
  },
  {
   "cell_type": "markdown",
   "id": "7c521a54",
   "metadata": {},
   "source": [
    "### Module d'extraction d'attributs visuels"
   ]
  },
  {
   "cell_type": "markdown",
   "id": "d3ca0113",
   "metadata": {},
   "source": [
    "#### Détermination de la couche de sortie et de la couche où débute le peaufinage"
   ]
  },
  {
   "cell_type": "code",
   "execution_count": null,
   "id": "c38752bd",
   "metadata": {},
   "outputs": [],
   "source": [
    "modele_preentraine.trainable = True\n",
    "\n",
    "# Combien de couches se trouvent dans le modèle pré-entraîné\n",
    "nbr_couches_modele_preentraine = len(modele_preentraine.layers)\n",
    "print(\"Nombre de couches dans le modèle pré-entraîné d'origine: \", nbr_couches_modele_preentraine)\n",
    "\n",
    "# Comment obtenir l'index de la couche à partir de l'identifiant de la couche \n",
    "# https://www.thetopsites.net/article/50151157.shtml\n",
    "liste_noms_de_couche = [couche.name for couche in modele_preentraine.layers]\n",
    "nom_derniere_couche = liste_noms_de_couche[-1]\n",
    "print(\"Nom de la dernière couche du modèle pré-entraîné complet:\",nom_derniere_couche)\n",
    "index_derniere_couche = liste_noms_de_couche.index(nom_derniere_couche)\n",
    "print(\"Index de la dernière couche du modèle pré-entraîné complet:\",index_derniere_couche)\n",
    "\n",
    "# Choix d'une nouvelle couche de sortie par essai / erreur\n",
    "# cette étape assez laborieuse a été réalisée pour vous simplifier la tâche\n",
    "nom_derniere_couche = 'mixed5'\n",
    "print(\"Choix empirique de la dernière couche du modèle pré-entraîné:\",nom_derniere_couche)\n",
    "index_derniere_couche = liste_noms_de_couche.index(nom_derniere_couche)\n",
    "print(\"Index de la dernière couche du modèle pré-entraîné choisie empiriquement:\",index_derniere_couche)\n",
    "\n",
    "# Choix de la dernière couche non-entraînable ou dernière couche « gelée » du modèle pré-entraîné\n",
    "nom_derniere_couche_gelee = 'mixed3'\n",
    "print(\"Choix empirique de la dernière couche non-entraînable:\",nom_derniere_couche_gelee)\n",
    "index_derniere_couche_gelee = liste_noms_de_couche.index(nom_derniere_couche_gelee)\n",
    "print(\"Index de la dernière couche non-entraînable:\",index_derniere_couche_gelee)\n",
    "# Paufiner l'entraînement à partir de la dernière couche non-entraînable\n",
    "debut_paufinage = index_derniere_couche_gelee\n",
    "print(\"Nombre de couches gelées (non entraînables) dans le modèle préentraîné: \", debut_paufinage )\n",
    "# Geler tous les couches avant la couche `debut_paufinage`\n",
    "for couche in modele_preentraine.layers[:debut_paufinage]:\n",
    "    couche.trainable =  False\n",
    "\n",
    "print(\"Nombre de couches entraînables dans le modèle préentraîné: \", index_derniere_couche-debut_paufinage)\n",
    "derniere_couche = modele_preentraine.get_layer(nom_derniere_couche)\n",
    "print('Dimensions de la dernière couche: ', derniere_couche.output_shape)\n",
    "sortie_derniere_couche = derniere_couche.output\n"
   ]
  },
  {
   "cell_type": "markdown",
   "id": "eb395d22",
   "metadata": {},
   "source": [
    "### Ajout d'un module de *classification*"
   ]
  },
  {
   "cell_type": "markdown",
   "id": "1e9a4bad",
   "metadata": {},
   "source": [
    "#### Perceptron multicouche"
   ]
  },
  {
   "cell_type": "code",
   "execution_count": null,
   "id": "e00d8e8e",
   "metadata": {},
   "outputs": [],
   "source": [
    "# Ajouter une couche de régularisation par extinction de neurones (dropout)\n",
    "sorties = layers.Dropout(0.1)(sortie_derniere_couche)\n",
    "# Aplatir la couche de sortie en un vecteur (i.e. une dimension)\n",
    "sorties = layers.Flatten()(sorties)\n",
    "# Ajouter une couche entièrement connectée avec 1024 neurones cachés et l'activation ReLU\n",
    "sorties = layers.Dense(1024, activation='relu')(sorties)\n",
    "# Ajouter une couche de régularisation par extinction (dropout)\n",
    "sorties = layers.Dropout(0.2)(sorties)      \n",
    "# Ajouter une couche de sortie entièrement connectée de 20 neurones \n",
    "# avec l'activation softmax (exponentielle normalisée)\n",
    "# *** IMPORTANT *** N classes => N neurones de sortie\n",
    "sorties = layers.Dense(nombre_de_classes, activation='softmax')(sorties)           \n",
    "modele_de_transfert = Model(modele_preentraine.input, sorties) \n",
    "print(\"Nombre de couches dans le modèle d'apprentissage par transfert: \", len(modele_de_transfert.layers))\n"
   ]
  },
  {
   "cell_type": "code",
   "execution_count": null,
   "id": "13d13887",
   "metadata": {},
   "outputs": [],
   "source": [
    "print(\"Architecture complète\")\n",
    "modele_de_transfert.summary()\n"
   ]
  },
  {
   "cell_type": "code",
   "execution_count": null,
   "id": "80148990",
   "metadata": {},
   "outputs": [],
   "source": [
    "print(\"Nombre de paramètres entraînables dans le modèle de transfert: \",len(modele_de_transfert.trainable_variables))\n"
   ]
  },
  {
   "cell_type": "markdown",
   "id": "f743b872",
   "metadata": {},
   "source": [
    "## Compilation du modèle"
   ]
  },
  {
   "cell_type": "code",
   "execution_count": null,
   "id": "4efc3a47",
   "metadata": {},
   "outputs": [],
   "source": [
    "from tensorflow.keras.optimizers import RMSprop\n",
    "\n",
    "# D'après la documentation, tf.keras.utils.image_dataset_from_directory, encodera par défaut \n",
    "# un ensemble d'étiquettes de classes sous forme d'entiers allant de 1 au nombre de classes.\n",
    "# Dans ce cas, le modèle doit être compilé avec une fonction d'erreur 'sparse_categorical_crossentropy'\n",
    "\n",
    "modele_de_transfert.compile(optimizer = RMSprop(learning_rate=0.0001),\n",
    "                            loss = 'sparse_categorical_crossentropy',\n",
    "                            metrics = ['accuracy'])\n",
    "\n",
    "print(\"Modèle compilé!\")\n"
   ]
  },
  {
   "cell_type": "markdown",
   "id": "69b40354",
   "metadata": {},
   "source": [
    "## Entraînement du modèle"
   ]
  },
  {
   "cell_type": "code",
   "execution_count": null,
   "id": "a9be1b44",
   "metadata": {},
   "outputs": [],
   "source": [
    "nombre_iterations_de_base = 5\n",
    "nombre_iterations_peaufinage = 15\n",
    "nombre_total_iterations =  nombre_iterations_de_base + nombre_iterations_peaufinage\n",
    "\n",
    "# Les fonctions de rappels sont passées au modèle via l'argument callbacks de .fit(...), \n",
    "# qui prend une liste de fonctions de rappels. \n",
    "liste_fonctions_rappels = [\n",
    "    # Mémoriser le meilleur modèle\n",
    "    keras.callbacks.ModelCheckpoint(\n",
    "        filepath=\"IdEcorces_ResConv_TransAmpl.keras\",\n",
    "        save_best_only=True,\n",
    "        # Surveiller l'erreur de validation\n",
    "        monitor=\"val_loss\"),\n",
    "    # Arrêter l'entraînement quand son amélioration stagne\n",
    "    keras.callbacks.EarlyStopping(\n",
    "        # Surveiller l'exactitude de validation\n",
    "        monitor='val_accuracy',\n",
    "        # Arrêter l'entraînement quand l'exactitude stagne\n",
    "        # depuis plus de 5 itérations (i.e., 6 itérations)\n",
    "        patience=5,\n",
    "        verbose=2),\n",
    "    # Ajuster le taux taux d'apprentissage ou gain du gradient\n",
    "    keras.callbacks.ReduceLROnPlateau(\n",
    "        # Surveiller l'erreur de validation\n",
    "        monitor='val_loss',\n",
    "        # Diviser le taux d'apprentissage par 2 \n",
    "        # lorsque la fonction de rappel est déclenchée\n",
    "        factor=0.5,\n",
    "        # La fonction de rappel est déclenchée quand l'erreur de validation \n",
    "        # a cessé de s'améliorer depuis 3 itérations\n",
    "        patience=3,\n",
    "        verbose=2) \n",
    "]\n",
    "\n",
    "traces_entrainement = modele_de_transfert.fit(donnees_entrainement_normalisees,\n",
    "                                              validation_data = donnees_validation_normalisees,\n",
    "                                              epochs = nombre_total_iterations,\n",
    "                                              callbacks=liste_fonctions_rappels,\n",
    "                                              verbose = 2)\n"
   ]
  },
  {
   "cell_type": "markdown",
   "id": "16ed5e4f",
   "metadata": {},
   "source": [
    "### Affichage des courbes d'entraînement"
   ]
  },
  {
   "cell_type": "code",
   "execution_count": null,
   "id": "ce2a4983",
   "metadata": {},
   "outputs": [],
   "source": [
    "import matplotlib.pyplot as plt\n",
    "exactitude_entrainement = traces_entrainement.history['accuracy']\n",
    "exactitude_validation = traces_entrainement.history['val_accuracy']\n",
    "erreur_entrainement = traces_entrainement.history['loss']\n",
    "erreur_validation = traces_entrainement.history['val_loss']\n",
    "nombre_iterations = range(len(exactitude_entrainement))\n",
    "nombre_dor = 1.618\n",
    "hauteur = 6\n",
    "longueur = int(nombre_dor * hauteur)\n",
    "plt.figure(figsize=(longueur,hauteur))\n",
    "plt.plot(nombre_iterations, exactitude_entrainement, 'r', label='Exactitude entraînement')\n",
    "plt.plot(nombre_iterations, exactitude_validation, 'b', label='Exactitude validation')\n",
    "plt.title(\"Exactitude en entraînement & validation - apprentissage par transfert & amplification des données\")\n",
    "plt.legend(loc=0)\n",
    "plt.xlabel(\"Nombre d'itérations\")\n",
    "plt.ylabel(\"Exactitude\")\n",
    "plt.show()\n"
   ]
  },
  {
   "cell_type": "markdown",
   "id": "7559825d",
   "metadata": {},
   "source": [
    "### Évaluation du modèle avec les données de test"
   ]
  },
  {
   "cell_type": "code",
   "execution_count": null,
   "id": "4dffb993",
   "metadata": {},
   "outputs": [],
   "source": [
    "erreur_test, exactitude_test = modele_de_transfert.evaluate(donnees_test_normalisees)\n",
    "print(\"Exactitude sur les données de test: %0.2f\" % exactitude_test)\n"
   ]
  },
  {
   "cell_type": "markdown",
   "id": "d869591a",
   "metadata": {},
   "source": [
    "### Résultats"
   ]
  },
  {
   "cell_type": "markdown",
   "id": "ecdd4b22",
   "metadata": {},
   "source": [
    "Les résultats obtenus se situent dans une fourchette de 80 à 85% pour le jeu de données mini-BarkNet, ce qui est un bon départ considérant l'emploi de 1.5 Go de données (21 fois moins de données) que le jeu de données BarkNet original de 32 Go où l'on obtient un résultat entre 90% et 95%."
   ]
  },
  {
   "cell_type": "markdown",
   "id": "c77ea702",
   "metadata": {},
   "source": [
    "### Analyse des résultats sur les données de test"
   ]
  },
  {
   "cell_type": "markdown",
   "id": "21227113",
   "metadata": {},
   "source": [
    "#### Prédictions sur les données de test"
   ]
  },
  {
   "cell_type": "markdown",
   "id": "6ebea840",
   "metadata": {},
   "source": [
    "Extraction des étiquettes prédites"
   ]
  },
  {
   "cell_type": "code",
   "execution_count": null,
   "id": "36050126",
   "metadata": {},
   "outputs": [],
   "source": [
    "predictions = modele_de_transfert.predict(donnees_test_normalisees)\n",
    "index_predictions = np.argmax(predictions, axis=1)\n",
    "liste_etiquettes_predites = [(etiquette+1) for etiquette in index_predictions]\n",
    "print(liste_etiquettes_predites)\n"
   ]
  },
  {
   "cell_type": "markdown",
   "id": "c1be8cd8",
   "metadata": {},
   "source": [
    "Extraction des vraies étiquettes"
   ]
  },
  {
   "cell_type": "code",
   "execution_count": null,
   "id": "f0449e9d",
   "metadata": {},
   "outputs": [],
   "source": [
    "index_vraies_etiquettes = list(np.concatenate([etiquette for image, etiquette in donnees_test_normalisees], axis=0))\n",
    "liste_vraies_etiquettes = [(etiquette+1) for etiquette in index_vraies_etiquettes]\n",
    "print(liste_vraies_etiquettes)\n"
   ]
  },
  {
   "cell_type": "markdown",
   "id": "b43938c9",
   "metadata": {},
   "source": [
    "Calcul de l'exactitude sur les données de test"
   ]
  },
  {
   "cell_type": "code",
   "execution_count": null,
   "id": "fb8809aa",
   "metadata": {},
   "outputs": [],
   "source": [
    "from sklearn import metrics\n",
    "\n",
    "exactitude_test = metrics.accuracy_score(liste_vraies_etiquettes, liste_etiquettes_predites)\n",
    "print(\"Exactitude:   %0.2f\" % exactitude_test)\n"
   ]
  },
  {
   "cell_type": "markdown",
   "id": "c13cc3fe",
   "metadata": {},
   "source": [
    "#### Affichage d'une matrice de confusion"
   ]
  },
  {
   "cell_type": "code",
   "execution_count": null,
   "id": "ff4d4cc5",
   "metadata": {},
   "outputs": [],
   "source": [
    "# https://stackoverflow.com/questions/65618137/confusion-matrix-for-multiple-classes-in-python\n",
    "\n",
    "import itertools\n",
    "\n",
    "def afficher_matrice_de_confusion(matrice_confusion_brute, classes,\n",
    "                          normalisation=False,\n",
    "                          titre='Matrice de confusion',\n",
    "                          carte_des_couleurs=plt.cm.Blues):\n",
    "    plt.figure(figsize=(14,12))\n",
    "    plt.imshow(matrice_confusion_brute, interpolation='nearest', cmap=carte_des_couleurs)\n",
    "    plt.title(titre)\n",
    "    plt.colorbar()\n",
    "    tick_marks = np.arange(len(classes))\n",
    "    plt.xticks(tick_marks, classes, rotation=45)\n",
    "    plt.yticks(tick_marks, classes)\n",
    "\n",
    "    if normalisation:\n",
    "        matrice_confusion_brute = matrice_confusion_brute.astype('float') / matrice_confusion_brute.sum(axis=1)[:, np.newaxis]\n",
    "        print(\"Matrice de confusion normalisée\")\n",
    "    else:\n",
    "        print('Matrice de confusion non normalisée')\n",
    "\n",
    "    seuil = matrice_confusion_brute.max() / 2.\n",
    "    for i, j in itertools.product(range(matrice_confusion_brute.shape[0]), range(matrice_confusion_brute.shape[1])):\n",
    "        plt.text(j, i, matrice_confusion_brute[i, j],\n",
    "                 horizontalalignment=\"center\",\n",
    "                 color=\"white\" if matrice_confusion_brute[i, j] > seuil else \"black\")\n",
    "\n",
    "    plt.tight_layout()\n",
    "    plt.ylabel('Vraies étiquettes')\n",
    "    plt.xlabel('Étiquettes prédites')\n",
    "\n",
    "print(\"Code affichage matrice de confusion\")\n"
   ]
  },
  {
   "cell_type": "code",
   "execution_count": null,
   "id": "96d5a175",
   "metadata": {},
   "outputs": [],
   "source": [
    "matrice_confusion_brute = metrics.confusion_matrix(liste_vraies_etiquettes, liste_etiquettes_predites)\n",
    "afficher_matrice_de_confusion(matrice_confusion_brute, classes=liste_noms_classes)\n"
   ]
  },
  {
   "cell_type": "markdown",
   "id": "c333458c",
   "metadata": {},
   "source": [
    "#### Rapport de classification"
   ]
  },
  {
   "cell_type": "code",
   "execution_count": null,
   "id": "bdb60c94",
   "metadata": {},
   "outputs": [],
   "source": [
    "from sklearn.metrics import classification_report\n",
    "\n",
    "print(classification_report(liste_vraies_etiquettes, liste_etiquettes_predites, target_names=liste_noms_classes))"
   ]
  },
  {
   "cell_type": "markdown",
   "id": "1ab66cb1",
   "metadata": {},
   "source": [
    "## Sauvegarde du modèle entraîné"
   ]
  },
  {
   "cell_type": "code",
   "execution_count": null,
   "id": "72bde1e4",
   "metadata": {},
   "outputs": [],
   "source": [
    "import os\n",
    "import time\n",
    "\n",
    "chemin_sauvegarde = \"/content/modeles/\"\n",
    "\n",
    "# Ajouter une estampille temporelle (timestamp)\n",
    "estampille_temporelle = str(int(time.time()))\n",
    "chemin_modele_sauvegarde = os.path.join(chemin_sauvegarde, estampille_temporelle)\n",
    "modele_de_transfert.save(chemin_modele_sauvegarde)"
   ]
  },
  {
   "cell_type": "markdown",
   "id": "a8a5a461",
   "metadata": {},
   "source": [
    "## Télécharger le modèle entraîné\n",
    "\n",
    "Ici, vous pouvez télécharger le modèle entraîné sur votre poste de travail local.\n",
    "\n",
    "Comme le modèle comporte plusieurs répertoires et fichiers, vous allez d'abord les compresser dans une archive .zip."
   ]
  },
  {
   "cell_type": "code",
   "execution_count": null,
   "id": "e1e5fe7c",
   "metadata": {},
   "outputs": [],
   "source": [
    "import shutil\n",
    "\n",
    "shutil.make_archive(\"modele_\"+estampille_temporelle,'zip', chemin_modele_sauvegarde)"
   ]
  },
  {
   "cell_type": "markdown",
   "id": "d6a8d041",
   "metadata": {},
   "source": [
    "Maintenant, vous allez télécharger le modèle compressé grâce à l'utilitaire `files` de Colab "
   ]
  },
  {
   "cell_type": "code",
   "execution_count": null,
   "id": "2e484379",
   "metadata": {},
   "outputs": [],
   "source": [
    "from google.colab import files\n",
    "\n",
    "files.download(\"modele_\"+estampille_temporelle+\".zip\")"
   ]
  },
  {
   "cell_type": "markdown",
   "id": "eb972575",
   "metadata": {},
   "source": [
    "Conserver le modèle pour éventuellement le déployer en inférence."
   ]
  },
  {
   "cell_type": "code",
   "execution_count": null,
   "id": "7f8df6bc",
   "metadata": {},
   "outputs": [],
   "source": [
    "print(\"Fin de l'exécution du carnet IPython\")"
   ]
  },
  {
   "cell_type": "code",
   "execution_count": null,
   "id": "c35beeeb",
   "metadata": {},
   "outputs": [],
   "source": []
  }
 ],
 "metadata": {
  "kernelspec": {
   "display_name": "Python 3",
   "language": "python",
   "name": "python3"
  },
  "language_info": {
   "codemirror_mode": {
    "name": "ipython",
    "version": 3
   },
   "file_extension": ".py",
   "mimetype": "text/x-python",
   "name": "python",
   "nbconvert_exporter": "python",
   "pygments_lexer": "ipython3",
   "version": "3.9.5"
  }
 },
 "nbformat": 4,
 "nbformat_minor": 5
}
