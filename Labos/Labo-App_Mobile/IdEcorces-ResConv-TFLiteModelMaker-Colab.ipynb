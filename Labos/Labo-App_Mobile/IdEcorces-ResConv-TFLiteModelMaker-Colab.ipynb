{
 "cells": [
  {
   "cell_type": "markdown",
   "id": "da364714",
   "metadata": {},
   "source": [
    "<a href=\"https://colab.research.google.com/github/ClaudeCoulombe/VIARENA/blob/master/Labos/Labo-App_Mobile/IdEcorces-ResConv-TFLiteModelMaker-Colab.ipynb\" target=\"_blank\"><img src=\"https://colab.research.google.com/assets/colab-badge.svg\" alt=\"Open In Colab\"/></a>\n",
    "\n",
    "### Rappel - Fonctionnement d'un carnet web iPython\n",
    "\n",
    "* Pour exécuter le code contenu dans une cellule d'un carnet iPython, cliquez dans la cellule et faites (⇧↵, shift-enter) \n",
    "* Le code d'un carnet iPython s'exécute séquentiellement de haut en bas de la page. Souvent, l'importation d'une bibliothèque Python ou l'initialisation d'une variable est préalable à l'exécution d'une cellule située plus bas. Il est donc recommandé d'exécuter les cellules en séquence. Enfin, méfiez-vous des retours en arrière qui peuvent réinitialiser certaines variables.\n",
    "\n",
    "SVP, déployez toutes les cellules en sélectionnant l'item « Développer les rubriques » de l'onglet « Affichage »."
   ]
  },
  {
   "cell_type": "markdown",
   "id": "5ff4a76a",
   "metadata": {},
   "source": [
    "#  Identification d'arbres à partir de leur écorce"
   ]
  },
  {
   "cell_type": "markdown",
   "id": "181d18a3",
   "metadata": {},
   "source": [
    "## Création et entraînement d'un modèle pour application mobile"
   ]
  },
  {
   "cell_type": "markdown",
   "id": "328e792d",
   "metadata": {},
   "source": [
    "### Réseau convolutif avec apprentissage par transfert et amplification des données"
   ]
  },
  {
   "cell_type": "markdown",
   "id": "3f4485ee",
   "metadata": {},
   "source": [
    "### Utilisation de `TensorFlow Lite Model Maker` avec `TensorFlow 2.0`"
   ]
  },
  {
   "cell_type": "markdown",
   "id": "f07250ce",
   "metadata": {},
   "source": [
    "### Inspiration et droits d'auteur\n",
    "\n",
    "Ce laboratoire s'inspire de plusieurs oeuvres en logiciels libres qui ont été transformées dont:\n",
    "\n",
    "<a href=\"https://www.tensorflow.org/lite/guide/model_maker\" target='_blank'>TensorFlow Lite Model Maker</a> - site Google / Guide TensorFlow pour mobile et objet connecté \n",
    "\n",
    "##### Copyright (c) 2017, François Chollet  \n",
    "##### Copyright (c) 2019-2022, The TensorFlow Authors.\n",
    "##### Copyright (c) 2022, Claude Coulombe\n",
    "\n",
    "Le contenu de cette page est sous licence <a href=\"https://creativecommons.org/licenses/by/4.0/deed.fr\" target='_blank'>Creative Commons Attribution 4.0 (CC BY 4.0)</a>,<br/>et les exemples de code sont sous <a href=\"https://www.apache.org/licenses/LICENSE-2.0\" target='_blank'>licence Apache 2.0</a>.\n",
    "\n",
    "#### Données\n",
    "\n",
    "Les données sur les écorces d'arbres proviennent de <a href=\"https://data.mendeley.com/research-data/?search=barknet\">BarkNet</a>, une banque en données ouvertes sous licence MIT de 23 000 photos d'écorces d'arbres en haute résolution prises avec des téléphones intelligents par une équipe d'étudiants et de chercheurs du <a href=\"https://www.sbf.ulaval.ca/\" target='_blank'>Département des sciences du bois et de la forêt de l'Université Laval</a> à Québec.</p>"
   ]
  },
  {
   "cell_type": "markdown",
   "id": "51139a56",
   "metadata": {},
   "source": [
    "## Chargement des bibliothèques Python"
   ]
  },
  {
   "cell_type": "markdown",
   "id": "3c68971c",
   "metadata": {},
   "source": [
    "La bibliothèque `TensorFlow Lite Model Maker` simplifie le processus d'entraînement d'un modèle TensorFlow pour une solution embarquée comme un appareil mobile ou un objet connecté. Pour cela, `TensorFlow Lite Model Maker` utilise l'apprentissage par transfert avec un réseau convolutif de type `EfficientNet` pour réduire la quantité de données d'entraînement requises, raccourcir le temps d'entraînement et produire un modèle de faible taille."
   ]
  },
  {
   "cell_type": "code",
   "execution_count": null,
   "id": "b67a64a3",
   "metadata": {},
   "outputs": [],
   "source": [
    "from tflite_model_maker import image_classifier\n",
    "from tflite_model_maker.image_classifier import DataLoader\n",
    "import tensorflow as tf\n",
    "assert tf.__version__.startswith('2')\n",
    "\n",
    "import matplotlib.pyplot as plt\n",
    "import numpy as np"
   ]
  },
  {
   "cell_type": "markdown",
   "id": "6fe54423",
   "metadata": {},
   "source": [
    "## Fixer le hasard pour la reproductibilité\n",
    "\n",
    "La mise au point de réseaux de neurones implique certains processus aléatoires. Afin de pouvoir reproduire et comparer vos résultats d'expérience, vous fixez temporairement l'état aléatoire grâce à un germe aléatoire unique.\n",
    "\n",
    "Pendant la mise au point, vous fixez temporairement l'état aléatoire pour la reproductibilité mais vous répétez l'expérience avec différents germes ou états aléatoires et prenez la moyenne des résultats.\n",
    "<br/>\n",
    "\n",
    "**Note** : Pour un système en production, vous ravivez simplement l'état  purement aléatoire avec l'instruction `GERME_ALEATOIRE = None`"
   ]
  },
  {
   "cell_type": "code",
   "execution_count": null,
   "id": "3e622266",
   "metadata": {},
   "outputs": [],
   "source": [
    "import os\n",
    "\n",
    "# Définir un germe aléatoire\n",
    "GERME_ALEATOIRE = 42\n",
    "\n",
    "# Définir un état aléatoire pour Python\n",
    "os.environ['PYTHONHASHSEED'] = str(GERME_ALEATOIRE)\n",
    "\n",
    "# Définir un état aléatoire pour Python random\n",
    "import random\n",
    "random.seed(GERME_ALEATOIRE)\n",
    "\n",
    "# Définir un état aléatoire pour NumPy\n",
    "import numpy as np\n",
    "np.random.seed(GERME_ALEATOIRE)\n",
    "\n",
    "# Définir un état aléatoire pour TensorFlow\n",
    "tf.random.set_seed(GERME_ALEATOIRE)\n",
    "\n",
    "# Note: Retrait du comportement déterministe\n",
    "# à cause de keras.layers.RandomContrast(...)\n",
    "# dont il n'existe pas de version déterministe\n",
    "# os.environ['TF_DETERMINISTIC_OPS'] = '1'\n",
    "# os.environ['TF_CUDNN_DETERMINISTIC'] = '1'\n",
    "\n",
    "print(\"Germe aléatoire fixé\")"
   ]
  },
  {
   "cell_type": "markdown",
   "id": "e0fbcc96",
   "metadata": {},
   "source": [
    "## Acquisition des données"
   ]
  },
  {
   "cell_type": "code",
   "execution_count": 2,
   "id": "e961c9d8",
   "metadata": {},
   "outputs": [
    {
     "name": "stdout",
     "output_type": "stream",
     "text": [
      "Dictionnaire mémorisé\n"
     ]
    }
   ],
   "source": [
    "dict_arbres = {\n",
    "    'BOJ' : \"Betula alleghaniensis - Bouleau jaune - Yellow birch\",\n",
    "    'BOP' : \"Betula papyrifera - Bouleau à papier - White birch\",\n",
    "    'CHR' : \"Quercus rubra - Chêne rouge - Northern red oak\",\n",
    "    'EPB' : \"Picea glauca - Épinette blanche - White spruce\",\n",
    "    'EPN' : \" Picea mariana - Épinette noire - Black spruce\",\n",
    "    'EPO' : \"Picea abies - Épinette de Norvège - Norway spruce\",\n",
    "    'EPR' : \"Picea rubens - Épinette rouge - Red spruce\",\n",
    "    'ERB' : \"Acer platanoides - Érable de Norvège - Norway maple\",\n",
    "    'ERR' : \"Acer rubrum - Érable rouge - Red maple\",\n",
    "    'ERS' : \"Acer saccharum - Érable à sucre - Sugar maple\",\n",
    "    'FRA' : \"Fraxinus americana - Frêne d'Amérique - White ash\",\n",
    "    'HEG' : \"Fagus grandifolia - Hêtre à grandes feuilles - American beech\",\n",
    "    'MEL' : \"Larix laricina - Mélèze - Tamarack\",\n",
    "    'ORA' : \"Ulmus americana - Orme d'Amérique - American elm\",\n",
    "    'OSV' : \"Ostrya virginiana - Ostryer de Virginie - American hophornbeam\",\n",
    "    'PEG' : \"Populus grandidentata - Peuplier à grandes dents - Big-tooth aspen\",\n",
    "    'PET' : \"Populus tremuloides - Peuplier faux tremble - Quaking aspen\",\n",
    "    'PIB' : \"Pinus strobus - Pin blanc - Eastern white pine\",\n",
    "    'PID' : \"Pinus rigida - Pin rigide - Pitch pine\",\n",
    "    'PIR' : \"Pinus resinosa - Pin rouge - Red pine\",\n",
    "    'PRU' : \"Tsuga canadensis - Pruche du Canada - Eastern Hemlock\",\n",
    "    'SAB' : \"Abies balsamea - Sapin Baumier - Balsam fir\",\n",
    "    'THO' : \"Thuja occidentalis - Thuya occidental - Northern white cedar\",\n",
    "}\n",
    "\n",
    "print(\"Dictionnaire mémorisé\")"
   ]
  },
  {
   "cell_type": "markdown",
   "id": "fef875cd",
   "metadata": {},
   "source": [
    "### Création des répertoires de données\n",
    "\n",
    "Nous allons créer un répertoire de base `donnees`, un répertoire `lab_ecorces` où les données seront réparties en données d'entraînement, de validation et de test pour chaque classe cible.\n",
    "\n",
    "Enfin, un répertoire `modeles` pour mémoriser les modèles une fois entraînés."
   ]
  },
  {
   "cell_type": "code",
   "execution_count": null,
   "id": "a4f0e88d",
   "metadata": {},
   "outputs": [],
   "source": [
    "try:\n",
    "    os.mkdir(\"/content/donnees/\")\n",
    "except OSError:\n",
    "    pass\n",
    "try:\n",
    "    os.mkdir(\"/content/modeles/\")\n",
    "except OSError:\n",
    "    pass"
   ]
  },
  {
   "cell_type": "markdown",
   "id": "9375475c",
   "metadata": {},
   "source": [
    "### Utilisation de l'IPA (<i>API</i>) de Kaggle pour l'importation directe du jeu de données BarkNet\n",
    "\n",
    "1. Commencez par installer la bibliothèque Python `kaggle`"
   ]
  },
  {
   "cell_type": "code",
   "execution_count": null,
   "id": "6a9027de",
   "metadata": {},
   "outputs": [],
   "source": [
    "!pip3 install kaggle"
   ]
  },
  {
   "cell_type": "markdown",
   "id": "55f815d5",
   "metadata": {},
   "source": [
    "2. Si ce n'est déjà fait, devenez membre de Kaggle avec votre adresse de courriel GMail:<br/>\n",
    "\n",
    "<img src=\"https://cours.edulib.org/asset-v1:Cegep-Matane+VAERN.1FR+P2021+type@asset+block@Kaggle_API-1.png\"/>"
   ]
  },
  {
   "cell_type": "markdown",
   "id": "91bd03f4",
   "metadata": {},
   "source": [
    "3. Maintenant, vous devez télécharger votre clé privée pour utiliser l'IPA de Kaggle.\n",
    "\n",
    "4. Cliquez sur l'onglet « account » de votre profil Kaggle\n",
    "\n",
    "<img src=\"https://cours.edulib.org/asset-v1:Cegep-Matane+VAERN.1FR+P2021+type@asset+block@Kaggle_API-2.png\"/>\n",
    "\n",
    "5. Sur la page « Account » cliquez sur le bouton « Create New API Token ».\n",
    "    \n",
    "<img style=\"margin-left:40px;\" src=\"https://cours.edulib.org/asset-v1:Cegep-Matane+VAERN.1FR+P2021+type@asset+block@Kaggle_API-3.png\"/>\n",
    "\n",
    "6. Téléchargez votre clé privée « kaggle.json » pour l'IPA Kaggle dans un endroit temporaire sur votre poste de travail.\n",
    "\n",
    "<img style=\"margin-left:40px;\" src=\"https://cours.edulib.org/asset-v1:Cegep-Matane+VAERN.1FR+P2021+type@asset+block@Kaggle_API-5.png\"/>\n",
    "\n",
    "7. Maintenant, transférez (téléversez) votre clé privée « kaggle.json » dans votre environnement Colab.\n",
    "\n",
    "La fenêtre de l'outil de fichiers de votre ordinateur s'ouvre alors. Allez chercher votre clé privée « kaggle.json » que vous avez sauvegardée sur votre  ordinateur.\n",
    "\n",
    "<img style=\"margin-left:40px;\" src=\"https://cours.edulib.org/asset-v1:Cegep-Matane+VAERN.1FR+P2021+type@asset+block@Colab_Importer_Fichier.png\"/>\n"
   ]
  },
  {
   "cell_type": "markdown",
   "id": "8aa37e2e",
   "metadata": {},
   "source": [
    "8. Créer à la racine un répertoire .kaggle et déplacez votre clé privée « kaggle.json » dans ce répertoire."
   ]
  },
  {
   "cell_type": "code",
   "execution_count": null,
   "id": "f4040c4e",
   "metadata": {},
   "outputs": [],
   "source": [
    "!mkdir ~/.kaggle\n",
    "!cp /content/kaggle.json ~/.kaggle/\n",
    "!chmod 600 ~/.kaggle/kaggle.json\n",
    "!ls ~/.kaggle -all"
   ]
  },
  {
   "cell_type": "markdown",
   "id": "b811b1e4",
   "metadata": {},
   "source": [
    "9. Maintenant téléchargez le jeu de données réduit « barknet-mini » de 1.5 Go avec la commande suivante:"
   ]
  },
  {
   "cell_type": "code",
   "execution_count": null,
   "id": "60024b15",
   "metadata": {},
   "outputs": [],
   "source": [
    "# Attention! Jeu réduit de données 1.5 Go - plus rapide à télécharger et à traiter\n",
    "!kaggle datasets download claudecoulombe/barknet-mini --unzip -p /content/donnees/\n",
    "repertoire_donnees = \"/content/donnees/BarkNet-mini\""
   ]
  },
  {
   "cell_type": "markdown",
   "id": "8bf6b790",
   "metadata": {},
   "source": [
    "#### Retrait des données sur l'érable de Norvège, le Peuplier à grandes dents et le Pin rigide\n",
    "\n",
    "Il n'y a qu'un seul spécimen d'érable de Norvège (Acer platanoides), 3 spécimens de Peuplier à grandes dents (Populus grandidentata) et 4 spécimens de Pin rigide (Pinus rigida). La solution simple est de supprimer ces trois classes."
   ]
  },
  {
   "cell_type": "code",
   "execution_count": null,
   "id": "1ad22e18",
   "metadata": {},
   "outputs": [],
   "source": [
    "!rm -r \"/content/donnees/BarkNet/ERB\"\n",
    "!rm -r \"/content/donnees/BarkNet/PEG\"\n",
    "!rm -r \"/content/donnees/BarkNet/PIR\""
   ]
  },
  {
   "cell_type": "markdown",
   "id": "17df2bb1",
   "metadata": {},
   "source": [
    "### Lecture / chargement des données"
   ]
  },
  {
   "cell_type": "code",
   "execution_count": null,
   "id": "0f969d97",
   "metadata": {},
   "outputs": [],
   "source": [
    "donnees = DataLoader.from_folder(repertoire_donnees)"
   ]
  },
  {
   "cell_type": "markdown",
   "id": "360bfdc9",
   "metadata": {},
   "source": [
    "### Découpage des données entre données d'entraînement et données de test"
   ]
  },
  {
   "cell_type": "code",
   "execution_count": null,
   "id": "be2ed926",
   "metadata": {},
   "outputs": [],
   "source": [
    "donnees_entrainement, donnees_test = donnees.split(0.9)"
   ]
  },
  {
   "cell_type": "markdown",
   "id": "14371174",
   "metadata": {},
   "source": [
    "## Création & entraînement d'un modèle d'apprentissage par transfert"
   ]
  },
  {
   "cell_type": "code",
   "execution_count": null,
   "id": "bfcb538a",
   "metadata": {},
   "outputs": [],
   "source": [
    "modele_de_transfert = image_classifier.create(donnees_entrainement,\n",
    "                                              use_augmentation=True,\n",
    "                                              epochs=50,\n",
    "                                              dropout_rate=0.2)"
   ]
  },
  {
   "cell_type": "markdown",
   "id": "d6f0bafe",
   "metadata": {},
   "source": [
    "### Évaluation du modèle avec les données de test"
   ]
  },
  {
   "cell_type": "code",
   "execution_count": null,
   "id": "f22791f5",
   "metadata": {},
   "outputs": [],
   "source": [
    "erreur, exactitude = modele_de_transfert.evaluate(donnees_test)\n",
    "print(\"Exactitude données de test:   %0.2f\" % exactitude)"
   ]
  },
  {
   "cell_type": "code",
   "execution_count": null,
   "id": "51bcaaae",
   "metadata": {},
   "outputs": [],
   "source": [
    "liste_noms_classes = donnees_entrainement.index_to_label\n",
    "liste_noms_classes"
   ]
  },
  {
   "cell_type": "code",
   "execution_count": null,
   "id": "d1977752",
   "metadata": {},
   "outputs": [],
   "source": [
    "predictions = modele_de_transfert.predict_top_k(donnees_test)\n",
    "etiquettes_predites = [resultat[0][0] for resultat in predictions]\n",
    "print(etiquettes_predites)"
   ]
  },
  {
   "cell_type": "code",
   "execution_count": null,
   "id": "d02de8fe",
   "metadata": {},
   "outputs": [],
   "source": [
    "len(etiquettes_predites)"
   ]
  },
  {
   "cell_type": "code",
   "execution_count": null,
   "id": "9bc724ab",
   "metadata": {},
   "outputs": [],
   "source": [
    "def obtenir_classes_du_tfdataset(tfdataset, batched=False):\n",
    "    etiquettes = list(map(lambda x: x[1], tfdataset)) \n",
    "    if not batched:\n",
    "        return tf.concat(etiquettes, axis=0)\n",
    "    return etiquettes"
   ]
  },
  {
   "cell_type": "code",
   "execution_count": null,
   "id": "7e259bb5",
   "metadata": {},
   "outputs": [],
   "source": [
    "listes_numeros_arbres = obtenir_classes_du_tfdataset(donnees_test)._numpy().tolist()\n",
    "print(listes_numeros_arbres)\n",
    "vraies_etiquettes = [liste_noms_de_classes[no_arbres] for no_arbres in listes_numeros_arbres]\n",
    "print(vraies_etiquettes)\n"
   ]
  },
  {
   "cell_type": "code",
   "execution_count": null,
   "id": "af7562ec",
   "metadata": {},
   "outputs": [],
   "source": [
    "from sklearn import metrics\n",
    "score = metrics.accuracy_score(vraies_etiquettes, etiquettes_predites)\n",
    "print(\"Exactitude:   %0.2f\" % score)\n"
   ]
  },
  {
   "cell_type": "markdown",
   "id": "5b31e22c",
   "metadata": {},
   "source": [
    "### Matrice de confusion"
   ]
  },
  {
   "cell_type": "code",
   "execution_count": null,
   "id": "de7a8ebb",
   "metadata": {},
   "outputs": [],
   "source": [
    "# https://stackoverflow.com/questions/65618137/confusion-matrix-for-multiple-classes-in-python\n",
    "\n",
    "import itertools\n",
    "\n",
    "def afficher_matrice_de_confusion(matrice_confusion_brute, classes,\n",
    "                          normalisation=False,\n",
    "                          titre='Matrice de confusion',\n",
    "                          carte_des_couleurs=plt.cm.Blues):\n",
    "    plt.figure(figsize=(14,12))\n",
    "    plt.imshow(matrice_confusion_brute, interpolation='nearest', cmap=carte_des_couleurs)\n",
    "    plt.title(titre)\n",
    "    plt.colorbar()\n",
    "    tick_marks = np.arange(len(classes))\n",
    "    plt.xticks(tick_marks, classes, rotation=45)\n",
    "    plt.yticks(tick_marks, classes)\n",
    "\n",
    "    if normalisation:\n",
    "        matrice_confusion_brute = matrice_confusion_brute.astype('float') / matrice_confusion_brute.sum(axis=1)[:, np.newaxis]\n",
    "        print(\"Matrice de confusion normalisée\")\n",
    "    else:\n",
    "        print('Matrice de confusion non normalisée')\n",
    "\n",
    "    seuil = matrice_confusion_brute.max() / 2.\n",
    "    for i, j in itertools.product(range(matrice_confusion_brute.shape[0]), range(matrice_confusion_brute.shape[1])):\n",
    "        plt.text(j, i, matrice_confusion_brute[i, j],\n",
    "                 horizontalalignment=\"center\",\n",
    "                 color=\"white\" if matrice_confusion_brute[i, j] > seuil else \"black\")\n",
    "\n",
    "    plt.tight_layout()\n",
    "    plt.ylabel('Vraies étiquettes')\n",
    "    plt.xlabel('Étiquettes prédites')\n",
    "\n",
    "print(\"Code affichage matrice de confusion\")"
   ]
  },
  {
   "cell_type": "code",
   "execution_count": null,
   "id": "b795e7fa",
   "metadata": {},
   "outputs": [],
   "source": [
    "cm = metrics.confusion_matrix(vraies_etiquettes_index, predictions_index)\n",
    "class_names = list(train_data.class_names)\n",
    "plot_confusion_matrix(cm, classes=class_names)\n",
    "\n",
    "matrice_confusion_brute = metrics.confusion_matrix(vraies_etiquettes,etiquettes_predites)\n",
    "afficher_matrice_de_confusion(matrice_confusion_brute, classes=liste_noms_classes)\n"
   ]
  },
  {
   "cell_type": "markdown",
   "id": "108d8918",
   "metadata": {},
   "source": [
    "### Rapport de classification"
   ]
  },
  {
   "cell_type": "code",
   "execution_count": null,
   "id": "9342909c",
   "metadata": {},
   "outputs": [],
   "source": [
    "from sklearn.metrics import classification_report\n",
    "\n",
    "print(classification_report(vraies_etiquettes, etiquettes_predites, target_names=liste_noms_classes))"
   ]
  },
  {
   "cell_type": "markdown",
   "id": "b7aee78f",
   "metadata": {},
   "source": [
    "## Compresser et exporter le modèle en format `TensorFlow Lite`"
   ]
  },
  {
   "cell_type": "code",
   "execution_count": null,
   "id": "e6df37f0",
   "metadata": {},
   "outputs": [],
   "source": [
    "repertoire_modeles = \"/content/modeles/\" \n",
    "model.export(export_dir=repertoire_modeles+\"ModeleEcorcIA.tflite\")\n"
   ]
  },
  {
   "cell_type": "markdown",
   "id": "96a86600",
   "metadata": {},
   "source": [
    "## Télécharger le modèle en format `TensorFlow Lite`"
   ]
  },
  {
   "cell_type": "code",
   "execution_count": null,
   "id": "5e9613e0",
   "metadata": {},
   "outputs": [],
   "source": [
    "from google.colab import files\n",
    "files.download(repertoire_modeles+\"ModeleEcorceIA.tflite\") \n"
   ]
  },
  {
   "cell_type": "code",
   "execution_count": null,
   "id": "56900187",
   "metadata": {},
   "outputs": [],
   "source": [
    "print(\"Fin de l'exécution du carnet IPython\")"
   ]
  }
 ],
 "metadata": {
  "kernelspec": {
   "display_name": "Python 3",
   "language": "python",
   "name": "python3"
  },
  "language_info": {
   "codemirror_mode": {
    "name": "ipython",
    "version": 3
   },
   "file_extension": ".py",
   "mimetype": "text/x-python",
   "name": "python",
   "nbconvert_exporter": "python",
   "pygments_lexer": "ipython3",
   "version": "3.9.5"
  }
 },
 "nbformat": 4,
 "nbformat_minor": 5
}
