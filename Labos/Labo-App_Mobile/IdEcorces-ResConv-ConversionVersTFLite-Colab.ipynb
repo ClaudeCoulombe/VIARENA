{
  "cells": [
    {
      "cell_type": "markdown",
      "id": "39faa9c8",
      "metadata": {
        "id": "39faa9c8"
      },
      "source": [
        "<a href=\"https://colab.research.google.com/github/ClaudeCoulombe/VIARENA/blob/master/Labos/Labo-App_Mobile/IdEcorces-ResConv-ConversionVersTFLite-Colab.ipynb\" target=\"_blank\"><img src=\"https://colab.research.google.com/assets/colab-badge.svg\" alt=\"Open In Colab\"/></a>\n",
        "\n",
        "### Rappel - Fonctionnement d'un carnet web iPython\n",
        "\n",
        "* Pour exécuter le code contenu dans une cellule d'un carnet iPython, cliquez dans la cellule et faites (⇧↵, shift-enter) \n",
        "* Le code d'un carnet iPython s'exécute séquentiellement de haut en bas de la page. Souvent, l'importation d'une bibliothèque Python ou l'initialisation d'une variable est préalable à l'exécution d'une cellule située plus bas. Il est donc recommandé d'exécuter les cellules en séquence. Enfin, méfiez-vous des retours en arrière qui peuvent réinitialiser certaines variables.\n",
        "\n",
        "\n",
        "SVP, déployez toutes les cellules en sélectionnant l'item « Développer les rubriques » de l'onglet « Affichage »."
      ]
    },
    {
      "cell_type": "markdown",
      "id": "59a7a765",
      "metadata": {
        "id": "59a7a765"
      },
      "source": [
        "#  Conversion vers un modèle TensorFlow Lite"
      ]
    },
    {
      "cell_type": "markdown",
      "id": "d8ebef56",
      "metadata": {
        "id": "d8ebef56"
      },
      "source": [
        "Comme son nom l'indique, le convertisseur TensorFlow Lite, <code>tf.lite.TFLiteConverter</code>, convertit un modèle TensorFlow Keras en un modèle TensorFlow Lite plus compact. Identifié par l'extension de fichier .tflite, le format TensorFlow Lite.\n",
        "\n"
      ]
    },
    {
      "cell_type": "markdown",
      "source": [
        "### Inspiration et droits d'auteur\n",
        "\n",
        "Ce laboratoire s'inspire de plusieurs oeuvres en logiciels libres qui ont été transformées dont:\n",
        "\n",
        "<a href=\"https://www.tensorflow.org/lite/convert\" target='_blank'>TensorFlow Lite converter</a> - site Google / Guide TensorFlow pour mobile et objet connecté \n",
        "\n",
        "##### Copyright (c) 2019-2022, The TensorFlow Authors.\n",
        "##### Copyright (c) 2022, Claude Coulombe\n",
        "\n",
        "Le contenu de cette page est sous licence <a href=\"https://creativecommons.org/licenses/by/4.0/deed.fr\" target='_blank'>Creative Commons Attribution 4.0 (CC BY 4.0)</a>,<br/>et les exemples de code sont sous <a href=\"https://www.apache.org/licenses/LICENSE-2.0\" target='_blank'>licence Apache 2.0</a>.\n",
        "\n",
        "#### Données\n",
        "\n",
        "Les données sur les écorces d'arbres proviennent de <a href=\"https://data.mendeley.com/research-data/?search=barknet\">BarkNet</a>, une banque en données ouvertes sous licence MIT de 23 000 photos d'écorces d'arbres en haute résolution prises avec des téléphones intelligents par une équipe d'étudiants et de chercheurs du <a href=\"https://www.sbf.ulaval.ca/\" target='_blank'>Département des sciences du bois et de la forêt de l'Université Laval</a> à Québec.</p>"
      ],
      "metadata": {
        "id": "hIgR48ulcaT0"
      },
      "id": "hIgR48ulcaT0"
    },
    {
      "cell_type": "markdown",
      "id": "fJQRQgoELtci",
      "metadata": {
        "id": "fJQRQgoELtci"
      },
      "source": [
        "## Installation des bibliothèques Python"
      ]
    },
    {
      "cell_type": "code",
      "execution_count": 1,
      "id": "8d2b5f59",
      "metadata": {
        "id": "8d2b5f59"
      },
      "outputs": [],
      "source": [
        "# !pip3 install --upgrade tensorflow"
      ]
    },
    {
      "cell_type": "code",
      "execution_count": 2,
      "id": "05229049",
      "metadata": {
        "id": "05229049",
        "outputId": "2d500ae1-2f3e-4544-c1a0-82aa8ee86d90",
        "colab": {
          "base_uri": "https://localhost:8080/"
        }
      },
      "outputs": [
        {
          "output_type": "stream",
          "name": "stdout",
          "text": [
            "Version de TensorFlow : 2.8.0\n",
            "Bibliothèques Python chargées\n"
          ]
        }
      ],
      "source": [
        "import os\n",
        "\n",
        "import tensorflow as tf\n",
        "print(\"Version de TensorFlow :\",tf.__version__)\n",
        "\n",
        "print(\"Bibliothèques Python chargées\")"
      ]
    },
    {
      "cell_type": "markdown",
      "id": "D_G9CatqLnbh",
      "metadata": {
        "id": "D_G9CatqLnbh"
      },
      "source": [
        "## Création des répertoires"
      ]
    },
    {
      "cell_type": "code",
      "execution_count": 3,
      "id": "WHMhq896Lljq",
      "metadata": {
        "id": "WHMhq896Lljq"
      },
      "outputs": [],
      "source": [
        "try:\n",
        "    os.mkdir(\"/content/donnees/\")\n",
        "except OSError:\n",
        "    pass\n",
        "try:\n",
        "    os.mkdir(\"/content/lab_ecorces/\")\n",
        "except OSError:\n",
        "    pass\n",
        "try:\n",
        "    os.mkdir(\"/content/modele_keras/\")\n",
        "except OSError:\n",
        "    pass\n",
        "try:\n",
        "    os.mkdir(\"/content/modele_TFlite/\")\n",
        "except OSError:\n",
        "    pass"
      ]
    },
    {
      "cell_type": "markdown",
      "id": "RQITG8Z2Mgw1",
      "metadata": {
        "id": "RQITG8Z2Mgw1"
      },
      "source": [
        "## Téléversement et décompression d'un modèle Keras sauvegardé sur un poste local"
      ]
    },
    {
      "cell_type": "markdown",
      "id": "JvF-2uTuM0aB",
      "metadata": {
        "id": "JvF-2uTuM0aB"
      },
      "source": [
        "1. & 2. Vous allez téléverser le modèle Keras entraîné précédemment.\n",
        "\n",
        "<img src=\"https://cours.edulib.org/asset-v1:Cegep-Matane+VAERN.1FR+P2021+type@asset+block@Colab_Importer_Fichier.png\"/>\n",
        "\n",
        "3. La fenêtre de l'outil de fichiers de votre ordinateur s'ouvre alors. Allez chercher le modèle Keras compressé, modele_....zip que vous avez sauvegardé précédemment sur votre ordinateur local.\n",
        "\n",
        "Attention! Le téléchargement peut prendre plusieurs minutes. Assurez-vous que le fichier est entièrement téléversé et que l'icône d'état du téléversement (un cercle jaune, comme ci-dessous) disparaisse. \n",
        "\n",
        "<img style=\"margin-left:0px\" src=\"https://cours.edulib.org/asset-v1:Cegep-Matane+VAERN.1FR+P2021+type@asset+block@Colab_Importer_Fichier-3.png\"/>\n"
      ]
    },
    {
      "cell_type": "markdown",
      "id": "kS3ij-S_Rhyi",
      "metadata": {
        "id": "kS3ij-S_Rhyi"
      },
      "source": [
        "4. Décompressez le fichier modele_....zip en exécutant la commande ci-dessous:<br/>"
      ]
    },
    {
      "cell_type": "code",
      "execution_count": 4,
      "id": "4sRSrKEYNN8M",
      "metadata": {
        "id": "4sRSrKEYNN8M",
        "outputId": "6b450e47-5ff7-412e-ca95-0ab224b729b1",
        "colab": {
          "base_uri": "https://localhost:8080/"
        }
      },
      "outputs": [
        {
          "output_type": "stream",
          "name": "stdout",
          "text": [
            "unzip:  cannot find or open /content/modele_*.zip, /content/modele_*.zip.zip or /content/modele_*.zip.ZIP.\n",
            "\n",
            "No zipfiles found.\n"
          ]
        }
      ],
      "source": [
        "!unzip /content/modele_*.zip -d /content/modele_keras && rm /content/modele_*.zip"
      ]
    },
    {
      "cell_type": "code",
      "execution_count": 5,
      "id": "ZfhcN6eQPKoL",
      "metadata": {
        "id": "ZfhcN6eQPKoL",
        "outputId": "0f1624de-9550-48dc-e286-8416d7d86fc6",
        "colab": {
          "base_uri": "https://localhost:8080/"
        }
      },
      "outputs": [
        {
          "output_type": "stream",
          "name": "stdout",
          "text": [
            "Taille du modèle Keras: 343.0 Mo\n"
          ]
        }
      ],
      "source": [
        "# Chemin vers modèles \n",
        "chemin_vers_modele_keras = \"/content/modele_keras/\"\n",
        "# Taille du modèle Keras\n",
        "taille_totale = 0\n",
        "for chemin, repertoires, fichiers in os.walk(chemin_vers_modele_keras):\n",
        "    for fichier in fichiers:\n",
        "        chemin_fichier = os.path.join(chemin, fichier)\n",
        "        taille_totale += os.path.getsize(chemin_fichier)\n",
        "taille_modele_keras = taille_totale\n",
        "print(\"Taille du modèle Keras: \" + str(taille_modele_keras//1.0E+06) + \" Mo\")"
      ]
    },
    {
      "cell_type": "markdown",
      "id": "-TZkHafcKWxI",
      "metadata": {
        "id": "-TZkHafcKWxI"
      },
      "source": [
        "## Chargement du modèle"
      ]
    },
    {
      "cell_type": "code",
      "execution_count": 6,
      "id": "a6853a0c",
      "metadata": {
        "id": "a6853a0c",
        "outputId": "c802bd97-6d97-4307-c16a-e9b11b5fb500",
        "colab": {
          "base_uri": "https://localhost:8080/"
        }
      },
      "outputs": [
        {
          "output_type": "stream",
          "name": "stdout",
          "text": [
            "Architecture du modèle entraîné\n",
            "Model: \"model_4\"\n",
            "__________________________________________________________________________________________________\n",
            " Layer (type)                   Output Shape         Param #     Connected to                     \n",
            "==================================================================================================\n",
            " input_5 (InputLayer)           [(None, 150, 150, 3  0           []                               \n",
            "                                )]                                                                \n",
            "                                                                                                  \n",
            " conv2d_376 (Conv2D)            (None, 74, 74, 32)   864         ['input_5[0][0]']                \n",
            "                                                                                                  \n",
            " batch_normalization_376 (Batch  (None, 74, 74, 32)  96          ['conv2d_376[0][0]']             \n",
            " Normalization)                                                                                   \n",
            "                                                                                                  \n",
            " activation_376 (Activation)    (None, 74, 74, 32)   0           ['batch_normalization_376[0][0]']\n",
            "                                                                                                  \n",
            " conv2d_377 (Conv2D)            (None, 72, 72, 32)   9216        ['activation_376[0][0]']         \n",
            "                                                                                                  \n",
            " batch_normalization_377 (Batch  (None, 72, 72, 32)  96          ['conv2d_377[0][0]']             \n",
            " Normalization)                                                                                   \n",
            "                                                                                                  \n",
            " activation_377 (Activation)    (None, 72, 72, 32)   0           ['batch_normalization_377[0][0]']\n",
            "                                                                                                  \n",
            " conv2d_378 (Conv2D)            (None, 72, 72, 64)   18432       ['activation_377[0][0]']         \n",
            "                                                                                                  \n",
            " batch_normalization_378 (Batch  (None, 72, 72, 64)  192         ['conv2d_378[0][0]']             \n",
            " Normalization)                                                                                   \n",
            "                                                                                                  \n",
            " activation_378 (Activation)    (None, 72, 72, 64)   0           ['batch_normalization_378[0][0]']\n",
            "                                                                                                  \n",
            " max_pooling2d_16 (MaxPooling2D  (None, 35, 35, 64)  0           ['activation_378[0][0]']         \n",
            " )                                                                                                \n",
            "                                                                                                  \n",
            " conv2d_379 (Conv2D)            (None, 35, 35, 80)   5120        ['max_pooling2d_16[0][0]']       \n",
            "                                                                                                  \n",
            " batch_normalization_379 (Batch  (None, 35, 35, 80)  240         ['conv2d_379[0][0]']             \n",
            " Normalization)                                                                                   \n",
            "                                                                                                  \n",
            " activation_379 (Activation)    (None, 35, 35, 80)   0           ['batch_normalization_379[0][0]']\n",
            "                                                                                                  \n",
            " conv2d_380 (Conv2D)            (None, 33, 33, 192)  138240      ['activation_379[0][0]']         \n",
            "                                                                                                  \n",
            " batch_normalization_380 (Batch  (None, 33, 33, 192)  576        ['conv2d_380[0][0]']             \n",
            " Normalization)                                                                                   \n",
            "                                                                                                  \n",
            " activation_380 (Activation)    (None, 33, 33, 192)  0           ['batch_normalization_380[0][0]']\n",
            "                                                                                                  \n",
            " max_pooling2d_17 (MaxPooling2D  (None, 16, 16, 192)  0          ['activation_380[0][0]']         \n",
            " )                                                                                                \n",
            "                                                                                                  \n",
            " conv2d_384 (Conv2D)            (None, 16, 16, 64)   12288       ['max_pooling2d_17[0][0]']       \n",
            "                                                                                                  \n",
            " batch_normalization_384 (Batch  (None, 16, 16, 64)  192         ['conv2d_384[0][0]']             \n",
            " Normalization)                                                                                   \n",
            "                                                                                                  \n",
            " activation_384 (Activation)    (None, 16, 16, 64)   0           ['batch_normalization_384[0][0]']\n",
            "                                                                                                  \n",
            " conv2d_382 (Conv2D)            (None, 16, 16, 48)   9216        ['max_pooling2d_17[0][0]']       \n",
            "                                                                                                  \n",
            " conv2d_385 (Conv2D)            (None, 16, 16, 96)   55296       ['activation_384[0][0]']         \n",
            "                                                                                                  \n",
            " batch_normalization_382 (Batch  (None, 16, 16, 48)  144         ['conv2d_382[0][0]']             \n",
            " Normalization)                                                                                   \n",
            "                                                                                                  \n",
            " batch_normalization_385 (Batch  (None, 16, 16, 96)  288         ['conv2d_385[0][0]']             \n",
            " Normalization)                                                                                   \n",
            "                                                                                                  \n",
            " activation_382 (Activation)    (None, 16, 16, 48)   0           ['batch_normalization_382[0][0]']\n",
            "                                                                                                  \n",
            " activation_385 (Activation)    (None, 16, 16, 96)   0           ['batch_normalization_385[0][0]']\n",
            "                                                                                                  \n",
            " average_pooling2d_36 (AverageP  (None, 16, 16, 192)  0          ['max_pooling2d_17[0][0]']       \n",
            " ooling2D)                                                                                        \n",
            "                                                                                                  \n",
            " conv2d_381 (Conv2D)            (None, 16, 16, 64)   12288       ['max_pooling2d_17[0][0]']       \n",
            "                                                                                                  \n",
            " conv2d_383 (Conv2D)            (None, 16, 16, 64)   76800       ['activation_382[0][0]']         \n",
            "                                                                                                  \n",
            " conv2d_386 (Conv2D)            (None, 16, 16, 96)   82944       ['activation_385[0][0]']         \n",
            "                                                                                                  \n",
            " conv2d_387 (Conv2D)            (None, 16, 16, 32)   6144        ['average_pooling2d_36[0][0]']   \n",
            "                                                                                                  \n",
            " batch_normalization_381 (Batch  (None, 16, 16, 64)  192         ['conv2d_381[0][0]']             \n",
            " Normalization)                                                                                   \n",
            "                                                                                                  \n",
            " batch_normalization_383 (Batch  (None, 16, 16, 64)  192         ['conv2d_383[0][0]']             \n",
            " Normalization)                                                                                   \n",
            "                                                                                                  \n",
            " batch_normalization_386 (Batch  (None, 16, 16, 96)  288         ['conv2d_386[0][0]']             \n",
            " Normalization)                                                                                   \n",
            "                                                                                                  \n",
            " batch_normalization_387 (Batch  (None, 16, 16, 32)  96          ['conv2d_387[0][0]']             \n",
            " Normalization)                                                                                   \n",
            "                                                                                                  \n",
            " activation_381 (Activation)    (None, 16, 16, 64)   0           ['batch_normalization_381[0][0]']\n",
            "                                                                                                  \n",
            " activation_383 (Activation)    (None, 16, 16, 64)   0           ['batch_normalization_383[0][0]']\n",
            "                                                                                                  \n",
            " activation_386 (Activation)    (None, 16, 16, 96)   0           ['batch_normalization_386[0][0]']\n",
            "                                                                                                  \n",
            " activation_387 (Activation)    (None, 16, 16, 32)   0           ['batch_normalization_387[0][0]']\n",
            "                                                                                                  \n",
            " mixed0 (Concatenate)           (None, 16, 16, 256)  0           ['activation_381[0][0]',         \n",
            "                                                                  'activation_383[0][0]',         \n",
            "                                                                  'activation_386[0][0]',         \n",
            "                                                                  'activation_387[0][0]']         \n",
            "                                                                                                  \n",
            " conv2d_391 (Conv2D)            (None, 16, 16, 64)   16384       ['mixed0[0][0]']                 \n",
            "                                                                                                  \n",
            " batch_normalization_391 (Batch  (None, 16, 16, 64)  192         ['conv2d_391[0][0]']             \n",
            " Normalization)                                                                                   \n",
            "                                                                                                  \n",
            " activation_391 (Activation)    (None, 16, 16, 64)   0           ['batch_normalization_391[0][0]']\n",
            "                                                                                                  \n",
            " conv2d_389 (Conv2D)            (None, 16, 16, 48)   12288       ['mixed0[0][0]']                 \n",
            "                                                                                                  \n",
            " conv2d_392 (Conv2D)            (None, 16, 16, 96)   55296       ['activation_391[0][0]']         \n",
            "                                                                                                  \n",
            " batch_normalization_389 (Batch  (None, 16, 16, 48)  144         ['conv2d_389[0][0]']             \n",
            " Normalization)                                                                                   \n",
            "                                                                                                  \n",
            " batch_normalization_392 (Batch  (None, 16, 16, 96)  288         ['conv2d_392[0][0]']             \n",
            " Normalization)                                                                                   \n",
            "                                                                                                  \n",
            " activation_389 (Activation)    (None, 16, 16, 48)   0           ['batch_normalization_389[0][0]']\n",
            "                                                                                                  \n",
            " activation_392 (Activation)    (None, 16, 16, 96)   0           ['batch_normalization_392[0][0]']\n",
            "                                                                                                  \n",
            " average_pooling2d_37 (AverageP  (None, 16, 16, 256)  0          ['mixed0[0][0]']                 \n",
            " ooling2D)                                                                                        \n",
            "                                                                                                  \n",
            " conv2d_388 (Conv2D)            (None, 16, 16, 64)   16384       ['mixed0[0][0]']                 \n",
            "                                                                                                  \n",
            " conv2d_390 (Conv2D)            (None, 16, 16, 64)   76800       ['activation_389[0][0]']         \n",
            "                                                                                                  \n",
            " conv2d_393 (Conv2D)            (None, 16, 16, 96)   82944       ['activation_392[0][0]']         \n",
            "                                                                                                  \n",
            " conv2d_394 (Conv2D)            (None, 16, 16, 64)   16384       ['average_pooling2d_37[0][0]']   \n",
            "                                                                                                  \n",
            " batch_normalization_388 (Batch  (None, 16, 16, 64)  192         ['conv2d_388[0][0]']             \n",
            " Normalization)                                                                                   \n",
            "                                                                                                  \n",
            " batch_normalization_390 (Batch  (None, 16, 16, 64)  192         ['conv2d_390[0][0]']             \n",
            " Normalization)                                                                                   \n",
            "                                                                                                  \n",
            " batch_normalization_393 (Batch  (None, 16, 16, 96)  288         ['conv2d_393[0][0]']             \n",
            " Normalization)                                                                                   \n",
            "                                                                                                  \n",
            " batch_normalization_394 (Batch  (None, 16, 16, 64)  192         ['conv2d_394[0][0]']             \n",
            " Normalization)                                                                                   \n",
            "                                                                                                  \n",
            " activation_388 (Activation)    (None, 16, 16, 64)   0           ['batch_normalization_388[0][0]']\n",
            "                                                                                                  \n",
            " activation_390 (Activation)    (None, 16, 16, 64)   0           ['batch_normalization_390[0][0]']\n",
            "                                                                                                  \n",
            " activation_393 (Activation)    (None, 16, 16, 96)   0           ['batch_normalization_393[0][0]']\n",
            "                                                                                                  \n",
            " activation_394 (Activation)    (None, 16, 16, 64)   0           ['batch_normalization_394[0][0]']\n",
            "                                                                                                  \n",
            " mixed1 (Concatenate)           (None, 16, 16, 288)  0           ['activation_388[0][0]',         \n",
            "                                                                  'activation_390[0][0]',         \n",
            "                                                                  'activation_393[0][0]',         \n",
            "                                                                  'activation_394[0][0]']         \n",
            "                                                                                                  \n",
            " conv2d_398 (Conv2D)            (None, 16, 16, 64)   18432       ['mixed1[0][0]']                 \n",
            "                                                                                                  \n",
            " batch_normalization_398 (Batch  (None, 16, 16, 64)  192         ['conv2d_398[0][0]']             \n",
            " Normalization)                                                                                   \n",
            "                                                                                                  \n",
            " activation_398 (Activation)    (None, 16, 16, 64)   0           ['batch_normalization_398[0][0]']\n",
            "                                                                                                  \n",
            " conv2d_396 (Conv2D)            (None, 16, 16, 48)   13824       ['mixed1[0][0]']                 \n",
            "                                                                                                  \n",
            " conv2d_399 (Conv2D)            (None, 16, 16, 96)   55296       ['activation_398[0][0]']         \n",
            "                                                                                                  \n",
            " batch_normalization_396 (Batch  (None, 16, 16, 48)  144         ['conv2d_396[0][0]']             \n",
            " Normalization)                                                                                   \n",
            "                                                                                                  \n",
            " batch_normalization_399 (Batch  (None, 16, 16, 96)  288         ['conv2d_399[0][0]']             \n",
            " Normalization)                                                                                   \n",
            "                                                                                                  \n",
            " activation_396 (Activation)    (None, 16, 16, 48)   0           ['batch_normalization_396[0][0]']\n",
            "                                                                                                  \n",
            " activation_399 (Activation)    (None, 16, 16, 96)   0           ['batch_normalization_399[0][0]']\n",
            "                                                                                                  \n",
            " average_pooling2d_38 (AverageP  (None, 16, 16, 288)  0          ['mixed1[0][0]']                 \n",
            " ooling2D)                                                                                        \n",
            "                                                                                                  \n",
            " conv2d_395 (Conv2D)            (None, 16, 16, 64)   18432       ['mixed1[0][0]']                 \n",
            "                                                                                                  \n",
            " conv2d_397 (Conv2D)            (None, 16, 16, 64)   76800       ['activation_396[0][0]']         \n",
            "                                                                                                  \n",
            " conv2d_400 (Conv2D)            (None, 16, 16, 96)   82944       ['activation_399[0][0]']         \n",
            "                                                                                                  \n",
            " conv2d_401 (Conv2D)            (None, 16, 16, 64)   18432       ['average_pooling2d_38[0][0]']   \n",
            "                                                                                                  \n",
            " batch_normalization_395 (Batch  (None, 16, 16, 64)  192         ['conv2d_395[0][0]']             \n",
            " Normalization)                                                                                   \n",
            "                                                                                                  \n",
            " batch_normalization_397 (Batch  (None, 16, 16, 64)  192         ['conv2d_397[0][0]']             \n",
            " Normalization)                                                                                   \n",
            "                                                                                                  \n",
            " batch_normalization_400 (Batch  (None, 16, 16, 96)  288         ['conv2d_400[0][0]']             \n",
            " Normalization)                                                                                   \n",
            "                                                                                                  \n",
            " batch_normalization_401 (Batch  (None, 16, 16, 64)  192         ['conv2d_401[0][0]']             \n",
            " Normalization)                                                                                   \n",
            "                                                                                                  \n",
            " activation_395 (Activation)    (None, 16, 16, 64)   0           ['batch_normalization_395[0][0]']\n",
            "                                                                                                  \n",
            " activation_397 (Activation)    (None, 16, 16, 64)   0           ['batch_normalization_397[0][0]']\n",
            "                                                                                                  \n",
            " activation_400 (Activation)    (None, 16, 16, 96)   0           ['batch_normalization_400[0][0]']\n",
            "                                                                                                  \n",
            " activation_401 (Activation)    (None, 16, 16, 64)   0           ['batch_normalization_401[0][0]']\n",
            "                                                                                                  \n",
            " mixed2 (Concatenate)           (None, 16, 16, 288)  0           ['activation_395[0][0]',         \n",
            "                                                                  'activation_397[0][0]',         \n",
            "                                                                  'activation_400[0][0]',         \n",
            "                                                                  'activation_401[0][0]']         \n",
            "                                                                                                  \n",
            " conv2d_403 (Conv2D)            (None, 16, 16, 64)   18432       ['mixed2[0][0]']                 \n",
            "                                                                                                  \n",
            " batch_normalization_403 (Batch  (None, 16, 16, 64)  192         ['conv2d_403[0][0]']             \n",
            " Normalization)                                                                                   \n",
            "                                                                                                  \n",
            " activation_403 (Activation)    (None, 16, 16, 64)   0           ['batch_normalization_403[0][0]']\n",
            "                                                                                                  \n",
            " conv2d_404 (Conv2D)            (None, 16, 16, 96)   55296       ['activation_403[0][0]']         \n",
            "                                                                                                  \n",
            " batch_normalization_404 (Batch  (None, 16, 16, 96)  288         ['conv2d_404[0][0]']             \n",
            " Normalization)                                                                                   \n",
            "                                                                                                  \n",
            " activation_404 (Activation)    (None, 16, 16, 96)   0           ['batch_normalization_404[0][0]']\n",
            "                                                                                                  \n",
            " conv2d_402 (Conv2D)            (None, 7, 7, 384)    995328      ['mixed2[0][0]']                 \n",
            "                                                                                                  \n",
            " conv2d_405 (Conv2D)            (None, 7, 7, 96)     82944       ['activation_404[0][0]']         \n",
            "                                                                                                  \n",
            " batch_normalization_402 (Batch  (None, 7, 7, 384)   1152        ['conv2d_402[0][0]']             \n",
            " Normalization)                                                                                   \n",
            "                                                                                                  \n",
            " batch_normalization_405 (Batch  (None, 7, 7, 96)    288         ['conv2d_405[0][0]']             \n",
            " Normalization)                                                                                   \n",
            "                                                                                                  \n",
            " activation_402 (Activation)    (None, 7, 7, 384)    0           ['batch_normalization_402[0][0]']\n",
            "                                                                                                  \n",
            " activation_405 (Activation)    (None, 7, 7, 96)     0           ['batch_normalization_405[0][0]']\n",
            "                                                                                                  \n",
            " max_pooling2d_18 (MaxPooling2D  (None, 7, 7, 288)   0           ['mixed2[0][0]']                 \n",
            " )                                                                                                \n",
            "                                                                                                  \n",
            " mixed3 (Concatenate)           (None, 7, 7, 768)    0           ['activation_402[0][0]',         \n",
            "                                                                  'activation_405[0][0]',         \n",
            "                                                                  'max_pooling2d_18[0][0]']       \n",
            "                                                                                                  \n",
            " conv2d_410 (Conv2D)            (None, 7, 7, 128)    98304       ['mixed3[0][0]']                 \n",
            "                                                                                                  \n",
            " batch_normalization_410 (Batch  (None, 7, 7, 128)   384         ['conv2d_410[0][0]']             \n",
            " Normalization)                                                                                   \n",
            "                                                                                                  \n",
            " activation_410 (Activation)    (None, 7, 7, 128)    0           ['batch_normalization_410[0][0]']\n",
            "                                                                                                  \n",
            " conv2d_411 (Conv2D)            (None, 7, 7, 128)    114688      ['activation_410[0][0]']         \n",
            "                                                                                                  \n",
            " batch_normalization_411 (Batch  (None, 7, 7, 128)   384         ['conv2d_411[0][0]']             \n",
            " Normalization)                                                                                   \n",
            "                                                                                                  \n",
            " activation_411 (Activation)    (None, 7, 7, 128)    0           ['batch_normalization_411[0][0]']\n",
            "                                                                                                  \n",
            " conv2d_407 (Conv2D)            (None, 7, 7, 128)    98304       ['mixed3[0][0]']                 \n",
            "                                                                                                  \n",
            " conv2d_412 (Conv2D)            (None, 7, 7, 128)    114688      ['activation_411[0][0]']         \n",
            "                                                                                                  \n",
            " batch_normalization_407 (Batch  (None, 7, 7, 128)   384         ['conv2d_407[0][0]']             \n",
            " Normalization)                                                                                   \n",
            "                                                                                                  \n",
            " batch_normalization_412 (Batch  (None, 7, 7, 128)   384         ['conv2d_412[0][0]']             \n",
            " Normalization)                                                                                   \n",
            "                                                                                                  \n",
            " activation_407 (Activation)    (None, 7, 7, 128)    0           ['batch_normalization_407[0][0]']\n",
            "                                                                                                  \n",
            " activation_412 (Activation)    (None, 7, 7, 128)    0           ['batch_normalization_412[0][0]']\n",
            "                                                                                                  \n",
            " conv2d_408 (Conv2D)            (None, 7, 7, 128)    114688      ['activation_407[0][0]']         \n",
            "                                                                                                  \n",
            " conv2d_413 (Conv2D)            (None, 7, 7, 128)    114688      ['activation_412[0][0]']         \n",
            "                                                                                                  \n",
            " batch_normalization_408 (Batch  (None, 7, 7, 128)   384         ['conv2d_408[0][0]']             \n",
            " Normalization)                                                                                   \n",
            "                                                                                                  \n",
            " batch_normalization_413 (Batch  (None, 7, 7, 128)   384         ['conv2d_413[0][0]']             \n",
            " Normalization)                                                                                   \n",
            "                                                                                                  \n",
            " activation_408 (Activation)    (None, 7, 7, 128)    0           ['batch_normalization_408[0][0]']\n",
            "                                                                                                  \n",
            " activation_413 (Activation)    (None, 7, 7, 128)    0           ['batch_normalization_413[0][0]']\n",
            "                                                                                                  \n",
            " average_pooling2d_39 (AverageP  (None, 7, 7, 768)   0           ['mixed3[0][0]']                 \n",
            " ooling2D)                                                                                        \n",
            "                                                                                                  \n",
            " conv2d_406 (Conv2D)            (None, 7, 7, 192)    147456      ['mixed3[0][0]']                 \n",
            "                                                                                                  \n",
            " conv2d_409 (Conv2D)            (None, 7, 7, 192)    172032      ['activation_408[0][0]']         \n",
            "                                                                                                  \n",
            " conv2d_414 (Conv2D)            (None, 7, 7, 192)    172032      ['activation_413[0][0]']         \n",
            "                                                                                                  \n",
            " conv2d_415 (Conv2D)            (None, 7, 7, 192)    147456      ['average_pooling2d_39[0][0]']   \n",
            "                                                                                                  \n",
            " batch_normalization_406 (Batch  (None, 7, 7, 192)   576         ['conv2d_406[0][0]']             \n",
            " Normalization)                                                                                   \n",
            "                                                                                                  \n",
            " batch_normalization_409 (Batch  (None, 7, 7, 192)   576         ['conv2d_409[0][0]']             \n",
            " Normalization)                                                                                   \n",
            "                                                                                                  \n",
            " batch_normalization_414 (Batch  (None, 7, 7, 192)   576         ['conv2d_414[0][0]']             \n",
            " Normalization)                                                                                   \n",
            "                                                                                                  \n",
            " batch_normalization_415 (Batch  (None, 7, 7, 192)   576         ['conv2d_415[0][0]']             \n",
            " Normalization)                                                                                   \n",
            "                                                                                                  \n",
            " activation_406 (Activation)    (None, 7, 7, 192)    0           ['batch_normalization_406[0][0]']\n",
            "                                                                                                  \n",
            " activation_409 (Activation)    (None, 7, 7, 192)    0           ['batch_normalization_409[0][0]']\n",
            "                                                                                                  \n",
            " activation_414 (Activation)    (None, 7, 7, 192)    0           ['batch_normalization_414[0][0]']\n",
            "                                                                                                  \n",
            " activation_415 (Activation)    (None, 7, 7, 192)    0           ['batch_normalization_415[0][0]']\n",
            "                                                                                                  \n",
            " mixed4 (Concatenate)           (None, 7, 7, 768)    0           ['activation_406[0][0]',         \n",
            "                                                                  'activation_409[0][0]',         \n",
            "                                                                  'activation_414[0][0]',         \n",
            "                                                                  'activation_415[0][0]']         \n",
            "                                                                                                  \n",
            " conv2d_420 (Conv2D)            (None, 7, 7, 160)    122880      ['mixed4[0][0]']                 \n",
            "                                                                                                  \n",
            " batch_normalization_420 (Batch  (None, 7, 7, 160)   480         ['conv2d_420[0][0]']             \n",
            " Normalization)                                                                                   \n",
            "                                                                                                  \n",
            " activation_420 (Activation)    (None, 7, 7, 160)    0           ['batch_normalization_420[0][0]']\n",
            "                                                                                                  \n",
            " conv2d_421 (Conv2D)            (None, 7, 7, 160)    179200      ['activation_420[0][0]']         \n",
            "                                                                                                  \n",
            " batch_normalization_421 (Batch  (None, 7, 7, 160)   480         ['conv2d_421[0][0]']             \n",
            " Normalization)                                                                                   \n",
            "                                                                                                  \n",
            " activation_421 (Activation)    (None, 7, 7, 160)    0           ['batch_normalization_421[0][0]']\n",
            "                                                                                                  \n",
            " conv2d_417 (Conv2D)            (None, 7, 7, 160)    122880      ['mixed4[0][0]']                 \n",
            "                                                                                                  \n",
            " conv2d_422 (Conv2D)            (None, 7, 7, 160)    179200      ['activation_421[0][0]']         \n",
            "                                                                                                  \n",
            " batch_normalization_417 (Batch  (None, 7, 7, 160)   480         ['conv2d_417[0][0]']             \n",
            " Normalization)                                                                                   \n",
            "                                                                                                  \n",
            " batch_normalization_422 (Batch  (None, 7, 7, 160)   480         ['conv2d_422[0][0]']             \n",
            " Normalization)                                                                                   \n",
            "                                                                                                  \n",
            " activation_417 (Activation)    (None, 7, 7, 160)    0           ['batch_normalization_417[0][0]']\n",
            "                                                                                                  \n",
            " activation_422 (Activation)    (None, 7, 7, 160)    0           ['batch_normalization_422[0][0]']\n",
            "                                                                                                  \n",
            " conv2d_418 (Conv2D)            (None, 7, 7, 160)    179200      ['activation_417[0][0]']         \n",
            "                                                                                                  \n",
            " conv2d_423 (Conv2D)            (None, 7, 7, 160)    179200      ['activation_422[0][0]']         \n",
            "                                                                                                  \n",
            " batch_normalization_418 (Batch  (None, 7, 7, 160)   480         ['conv2d_418[0][0]']             \n",
            " Normalization)                                                                                   \n",
            "                                                                                                  \n",
            " batch_normalization_423 (Batch  (None, 7, 7, 160)   480         ['conv2d_423[0][0]']             \n",
            " Normalization)                                                                                   \n",
            "                                                                                                  \n",
            " activation_418 (Activation)    (None, 7, 7, 160)    0           ['batch_normalization_418[0][0]']\n",
            "                                                                                                  \n",
            " activation_423 (Activation)    (None, 7, 7, 160)    0           ['batch_normalization_423[0][0]']\n",
            "                                                                                                  \n",
            " average_pooling2d_40 (AverageP  (None, 7, 7, 768)   0           ['mixed4[0][0]']                 \n",
            " ooling2D)                                                                                        \n",
            "                                                                                                  \n",
            " conv2d_416 (Conv2D)            (None, 7, 7, 192)    147456      ['mixed4[0][0]']                 \n",
            "                                                                                                  \n",
            " conv2d_419 (Conv2D)            (None, 7, 7, 192)    215040      ['activation_418[0][0]']         \n",
            "                                                                                                  \n",
            " conv2d_424 (Conv2D)            (None, 7, 7, 192)    215040      ['activation_423[0][0]']         \n",
            "                                                                                                  \n",
            " conv2d_425 (Conv2D)            (None, 7, 7, 192)    147456      ['average_pooling2d_40[0][0]']   \n",
            "                                                                                                  \n",
            " batch_normalization_416 (Batch  (None, 7, 7, 192)   576         ['conv2d_416[0][0]']             \n",
            " Normalization)                                                                                   \n",
            "                                                                                                  \n",
            " batch_normalization_419 (Batch  (None, 7, 7, 192)   576         ['conv2d_419[0][0]']             \n",
            " Normalization)                                                                                   \n",
            "                                                                                                  \n",
            " batch_normalization_424 (Batch  (None, 7, 7, 192)   576         ['conv2d_424[0][0]']             \n",
            " Normalization)                                                                                   \n",
            "                                                                                                  \n",
            " batch_normalization_425 (Batch  (None, 7, 7, 192)   576         ['conv2d_425[0][0]']             \n",
            " Normalization)                                                                                   \n",
            "                                                                                                  \n",
            " activation_416 (Activation)    (None, 7, 7, 192)    0           ['batch_normalization_416[0][0]']\n",
            "                                                                                                  \n",
            " activation_419 (Activation)    (None, 7, 7, 192)    0           ['batch_normalization_419[0][0]']\n",
            "                                                                                                  \n",
            " activation_424 (Activation)    (None, 7, 7, 192)    0           ['batch_normalization_424[0][0]']\n",
            "                                                                                                  \n",
            " activation_425 (Activation)    (None, 7, 7, 192)    0           ['batch_normalization_425[0][0]']\n",
            "                                                                                                  \n",
            " mixed5 (Concatenate)           (None, 7, 7, 768)    0           ['activation_416[0][0]',         \n",
            "                                                                  'activation_419[0][0]',         \n",
            "                                                                  'activation_424[0][0]',         \n",
            "                                                                  'activation_425[0][0]']         \n",
            "                                                                                                  \n",
            " dropout_8 (Dropout)            (None, 7, 7, 768)    0           ['mixed5[0][0]']                 \n",
            "                                                                                                  \n",
            " flatten_4 (Flatten)            (None, 37632)        0           ['dropout_8[0][0]']              \n",
            "                                                                                                  \n",
            " dense_8 (Dense)                (None, 1024)         38536192    ['flatten_4[0][0]']              \n",
            "                                                                                                  \n",
            " dropout_9 (Dropout)            (None, 1024)         0           ['dense_8[0][0]']                \n",
            "                                                                                                  \n",
            " dense_9 (Dense)                (None, 20)           20500       ['dropout_9[0][0]']              \n",
            "                                                                                                  \n",
            "==================================================================================================\n",
            "Total params: 43,695,348\n",
            "Trainable params: 41,541,844\n",
            "Non-trainable params: 2,153,504\n",
            "__________________________________________________________________________________________________\n"
          ]
        }
      ],
      "source": [
        "modele_keras = tf.keras.models.load_model(chemin_vers_modele_keras)\n",
        "\n",
        "print(\"Architecture du modèle entraîné\")\n",
        "modele_keras.summary()\n"
      ]
    },
    {
      "cell_type": "markdown",
      "id": "ad384fa0",
      "metadata": {
        "id": "ad384fa0"
      },
      "source": [
        "##  Conversion du modèle"
      ]
    },
    {
      "cell_type": "markdown",
      "id": "K8G1_IxTmQib",
      "metadata": {
        "id": "K8G1_IxTmQib"
      },
      "source": [
        "L'examen d'un échantillon représentatif des données est requis pour réaliser une quantification (<i>quantization</i>), en fait une réduction de la précision des calculs avec des entiers à 8 bits (INT8 ou TFLITE_BUILTINS_INT8)."
      ]
    },
    {
      "cell_type": "markdown",
      "id": "KwEN-RLVpFB4",
      "metadata": {
        "id": "KwEN-RLVpFB4"
      },
      "source": [
        "### Chargement des données"
      ]
    },
    {
      "cell_type": "markdown",
      "id": "Qky5hOJenyzJ",
      "metadata": {
        "id": "Qky5hOJenyzJ"
      },
      "source": [
        "#### Utilisation de l'IPA (<i>API</i>) de Kaggle pour l'importation directe du jeu de données BarkNet\n",
        "\n",
        "1. Commencez par installer la bibliothèque Python `kaggle`"
      ]
    },
    {
      "cell_type": "code",
      "execution_count": 7,
      "id": "XxpsnymwmPI8",
      "metadata": {
        "id": "XxpsnymwmPI8",
        "outputId": "3eed6f79-b7ce-4f82-c3ef-079c8142f0a0",
        "colab": {
          "base_uri": "https://localhost:8080/"
        }
      },
      "outputs": [
        {
          "output_type": "stream",
          "name": "stdout",
          "text": [
            "Requirement already satisfied: kaggle in /usr/local/lib/python3.7/dist-packages (1.5.12)\n",
            "Requirement already satisfied: tqdm in /usr/local/lib/python3.7/dist-packages (from kaggle) (4.64.0)\n",
            "Requirement already satisfied: python-slugify in /usr/local/lib/python3.7/dist-packages (from kaggle) (6.1.1)\n",
            "Requirement already satisfied: python-dateutil in /usr/local/lib/python3.7/dist-packages (from kaggle) (2.8.2)\n",
            "Requirement already satisfied: urllib3 in /usr/local/lib/python3.7/dist-packages (from kaggle) (1.24.3)\n",
            "Requirement already satisfied: requests in /usr/local/lib/python3.7/dist-packages (from kaggle) (2.23.0)\n",
            "Requirement already satisfied: certifi in /usr/local/lib/python3.7/dist-packages (from kaggle) (2021.10.8)\n",
            "Requirement already satisfied: six>=1.10 in /usr/local/lib/python3.7/dist-packages (from kaggle) (1.15.0)\n",
            "Requirement already satisfied: text-unidecode>=1.3 in /usr/local/lib/python3.7/dist-packages (from python-slugify->kaggle) (1.3)\n",
            "Requirement already satisfied: idna<3,>=2.5 in /usr/local/lib/python3.7/dist-packages (from requests->kaggle) (2.10)\n",
            "Requirement already satisfied: chardet<4,>=3.0.2 in /usr/local/lib/python3.7/dist-packages (from requests->kaggle) (3.0.4)\n"
          ]
        }
      ],
      "source": [
        "!pip3 install kaggle"
      ]
    },
    {
      "cell_type": "markdown",
      "id": "DBtEZtWsn6Y8",
      "metadata": {
        "id": "DBtEZtWsn6Y8"
      },
      "source": [
        "2. Si ce n'est déjà fait, devenez membre de Kaggle avec votre adresse de courriel GMail:<br/>\n",
        "\n",
        "<img src=\"https://cours.edulib.org/asset-v1:Cegep-Matane+VAERN.1FR+P2021+type@asset+block@Kaggle_API-1.png\"/>"
      ]
    },
    {
      "cell_type": "markdown",
      "id": "iZF6eg-KoCtc",
      "metadata": {
        "id": "iZF6eg-KoCtc"
      },
      "source": [
        "3. Maintenant, vous devez télécharger votre clé privée pour utiliser l'IPA de Kaggle.\n",
        "\n",
        "4. Cliquez sur l'onglet « account » de votre profil Kaggle\n",
        "\n",
        "<img src=\"https://cours.edulib.org/asset-v1:Cegep-Matane+VAERN.1FR+P2021+type@asset+block@Kaggle_API-2.png\"/>\n",
        "\n",
        "5. Sur la page « Account » cliquez sur le bouton « Create New API Token ».\n",
        "    \n",
        "<img style=\"margin-left:40px;\" src=\"https://cours.edulib.org/asset-v1:Cegep-Matane+VAERN.1FR+P2021+type@asset+block@Kaggle_API-3.png\"/>\n",
        "\n",
        "6. Téléchargez votre clé privée « kaggle.json » pour l'IPA Kaggle dans un endroit temporaire sur votre poste de travail.\n",
        "\n",
        "<img style=\"margin-left:40px;\" src=\"https://cours.edulib.org/asset-v1:Cegep-Matane+VAERN.1FR+P2021+type@asset+block@Kaggle_API-5.png\"/>\n",
        "\n",
        "7. Maintenant, transférez (téléversez) votre clé privée « kaggle.json » dans votre environnement Colab.\n",
        "\n",
        "La fenêtre de l'outil de fichiers de votre ordinateur s'ouvre alors. Allez chercher votre clé privée « kaggle.json » que vous avez sauvegardée sur votre  ordinateur.\n",
        "\n",
        "<img style=\"margin-left:40px;\" src=\"https://cours.edulib.org/asset-v1:Cegep-Matane+VAERN.1FR+P2021+type@asset+block@Colab_Importer_Fichier.png\"/>\n"
      ]
    },
    {
      "cell_type": "markdown",
      "id": "LxAGn3tBobRO",
      "metadata": {
        "id": "LxAGn3tBobRO"
      },
      "source": [
        "8. Créer à la racine un répertoire .kaggle et déplacez votre clé privée « kaggle.json » dans ce répertoire."
      ]
    },
    {
      "cell_type": "code",
      "execution_count": 8,
      "id": "EvItGiwmod00",
      "metadata": {
        "id": "EvItGiwmod00",
        "outputId": "3f48bd6f-b805-4ad4-87c3-6f6277ef5bc8",
        "colab": {
          "base_uri": "https://localhost:8080/"
        }
      },
      "outputs": [
        {
          "output_type": "stream",
          "name": "stdout",
          "text": [
            "mkdir: cannot create directory ‘/root/.kaggle’: File exists\n",
            "total 16\n",
            "drwxr-xr-x 2 root root 4096 Apr 15 19:45 .\n",
            "drwx------ 1 root root 4096 Apr 15 19:45 ..\n",
            "-rw------- 1 root root   70 Apr 15 20:22 kaggle.json\n"
          ]
        }
      ],
      "source": [
        "!mkdir ~/.kaggle\n",
        "!cp /content/kaggle.json ~/.kaggle/\n",
        "!chmod 600 ~/.kaggle/kaggle.json\n",
        "!ls ~/.kaggle -all"
      ]
    },
    {
      "cell_type": "markdown",
      "id": "Zp7N4gn6oq4y",
      "metadata": {
        "id": "Zp7N4gn6oq4y"
      },
      "source": [
        "9. Maintenant téléchargez le jeu de données réduit « barknet-mini » de 1.6 Go avec la commande suivante:"
      ]
    },
    {
      "cell_type": "code",
      "execution_count": 9,
      "id": "uN4M5IAroneQ",
      "metadata": {
        "collapsed": true,
        "id": "uN4M5IAroneQ",
        "outputId": "d662a1c6-10ab-4721-fbc6-9b20362181d8",
        "colab": {
          "base_uri": "https://localhost:8080/"
        }
      },
      "outputs": [
        {
          "output_type": "stream",
          "name": "stdout",
          "text": [
            "Downloading barknet-mini.zip to /content/donnees\n",
            " 99% 1.45G/1.46G [00:12<00:00, 107MB/s]\n",
            "100% 1.46G/1.46G [00:12<00:00, 129MB/s]\n"
          ]
        }
      ],
      "source": [
        "# Attention! Jeu réduit de données 1.5 Go - plus rapide à télécharger et à traiter\n",
        "!kaggle datasets download claudecoulombe/barknet-mini --unzip -p /content/donnees/\n",
        "repertoire_entree = \"/content/donnees/BarkNet-mini\""
      ]
    },
    {
      "cell_type": "markdown",
      "id": "7JNTy51MoyrN",
      "metadata": {
        "id": "7JNTy51MoyrN"
      },
      "source": [
        "### Répartition des données"
      ]
    },
    {
      "cell_type": "code",
      "execution_count": 10,
      "id": "bDwXq311pbvq",
      "metadata": {
        "id": "bDwXq311pbvq",
        "outputId": "8d425769-b8b2-449b-869e-1d2c9f8d49af",
        "colab": {
          "base_uri": "https://localhost:8080/"
        }
      },
      "outputs": [
        {
          "output_type": "stream",
          "name": "stdout",
          "text": [
            "Requirement already satisfied: split-folders in /usr/local/lib/python3.7/dist-packages (0.5.1)\n",
            "Requirement already satisfied: tqdm in /usr/local/lib/python3.7/dist-packages (4.64.0)\n"
          ]
        }
      ],
      "source": [
        "# Installation des bibliothèques Python `split-folders` et `tqdm`\n",
        "!pip3 install split-folders tqdm"
      ]
    },
    {
      "cell_type": "code",
      "execution_count": 11,
      "id": "kxZlSFuJpfCk",
      "metadata": {
        "id": "kxZlSFuJpfCk",
        "outputId": "143be31c-c3b3-49fe-c793-45fbd60c0a4b",
        "colab": {
          "base_uri": "https://localhost:8080/"
        }
      },
      "outputs": [
        {
          "output_type": "stream",
          "name": "stdout",
          "text": [
            "Nombre total d'images: 3981\n"
          ]
        },
        {
          "output_type": "stream",
          "name": "stderr",
          "text": [
            "Copying files: 3981 files [00:07, 547.92 files/s]"
          ]
        },
        {
          "output_type": "stream",
          "name": "stdout",
          "text": [
            "\n",
            "Répartition des données terminée!\n"
          ]
        },
        {
          "output_type": "stream",
          "name": "stderr",
          "text": [
            "\n"
          ]
        }
      ],
      "source": [
        "# Répartition des données d'entraînement, de validation et de tests\n",
        "import splitfolders\n",
        "import pathlib\n",
        "\n",
        "#### répertoire des données une fois réparties\n",
        "repertoire_donnees_reparties = \"/content/lab_ecorces\"\n",
        "# => train, val, test\n",
        "\n",
        "nombre_images = len(list(pathlib.Path(repertoire_entree).glob('*/*.jpg')))\n",
        "print(\"Nombre total d'images:\",nombre_images)\n",
        "\n",
        "splitfolders.ratio(repertoire_entree, \n",
        "                   output=repertoire_donnees_reparties, \n",
        "                   seed=42, \n",
        "                   ratio = (0.65, 0.15, 0.20)\n",
        "                   )\n",
        "\n",
        "print(\"\\nRépartition des données terminée!\")"
      ]
    },
    {
      "cell_type": "markdown",
      "id": "IAk--80qohqA",
      "metadata": {
        "id": "IAk--80qohqA"
      },
      "source": [
        "## Conversion du modèle proprement dite"
      ]
    },
    {
      "cell_type": "code",
      "execution_count": 12,
      "id": "27def61a",
      "metadata": {
        "id": "27def61a"
      },
      "outputs": [],
      "source": [
        "TAILLE_LOT = 32\n",
        "HAUTEUR_IMAGE = 150\n",
        "LARGEUR_IMAGE = 150\n",
        "TAILLE_IMAGE = (HAUTEUR_IMAGE, LARGEUR_IMAGE)\n",
        "REPERTOIRE_VALIDATION = \"/content/lab_ecorces/val\"\n",
        "chemin_vers_modele_TFlite = \"/content/modele_TFlite/\"\n",
        "nom_modele_TFlite = \"modele.tflite\""
      ]
    },
    {
      "cell_type": "code",
      "execution_count": 13,
      "id": "32hGGyHmg92K",
      "metadata": {
        "id": "32hGGyHmg92K",
        "outputId": "84d55789-fd5a-4e86-f4f2-25724fd3451f",
        "colab": {
          "base_uri": "https://localhost:8080/"
        }
      },
      "outputs": [
        {
          "output_type": "stream",
          "name": "stdout",
          "text": [
            "Images présentes\n",
            "Code de génération prêt\n"
          ]
        }
      ],
      "source": [
        "# Source: Convert Keras models to TensorFlow Lite - David Cochard - 2 juin 2021\n",
        "# https://medium.com/axinc-ai/convert-keras-models-to-tensorflow-lite-e654994fb93c\n",
        "\n",
        "import numpy as np\n",
        "import cv2\n",
        "import glob\n",
        "import sys\n",
        "\n",
        "image_folder = REPERTOIRE_VALIDATION\n",
        "img_path = glob.glob(image_folder+\"/*/*\")\n",
        "if len(img_path)==0:\n",
        "    print(\"Images absentes\")\n",
        "    sys.exit(1)\n",
        "else:\n",
        "    print(\"Images présentes\")\n",
        "\n",
        "validation_data_set=[]\n",
        "for file_name in img_path:\n",
        "    img = cv2.imread(file_name) #BGR\n",
        "    img = cv2.resize(img,(150, 150))\n",
        "    ary = np.asarray(img, dtype=np.float32)\n",
        "    ary = np.expand_dims(ary, axis=0)\n",
        "    ary = ary/255.0\n",
        "    validation_data_set.append(ary)\n",
        "\n",
        "def representative_dataset_gen():\n",
        "    for i in range(len(validation_data_set)):\n",
        "        yield [validation_data_set[i]]\n",
        "\n",
        "print(\"Code de génération prêt\")"
      ]
    },
    {
      "cell_type": "code",
      "execution_count": 14,
      "id": "yvjgjaY3KWvp",
      "metadata": {
        "id": "yvjgjaY3KWvp",
        "outputId": "6baaa3a7-3922-49c5-aa11-ad46819af505",
        "colab": {
          "base_uri": "https://localhost:8080/"
        }
      },
      "outputs": [
        {
          "output_type": "stream",
          "name": "stdout",
          "text": [
            "INFO:tensorflow:Assets written to: /tmp/tmpps789xe1/assets\n"
          ]
        },
        {
          "output_type": "stream",
          "name": "stderr",
          "text": [
            "/usr/local/lib/python3.7/dist-packages/tensorflow/lite/python/convert.py:746: UserWarning: Statistics for quantized inputs were expected, but not specified; continuing anyway.\n",
            "  warnings.warn(\"Statistics for quantized inputs were expected, but not \"\n"
          ]
        },
        {
          "output_type": "stream",
          "name": "stdout",
          "text": [
            "Conversion terminée!\n"
          ]
        }
      ],
      "source": [
        "# Conversion et quantification\n",
        "convertisseur = tf.lite.TFLiteConverter.from_keras_model(modele_keras) \n",
        "convertisseur.optimizations = [tf.lite.Optimize.DEFAULT]\n",
        "convertisseur.representative_dataset = representative_dataset_gen\n",
        "convertisseur.target_spec.supported_ops = [tf.lite.OpsSet.TFLITE_BUILTINS_INT8]\n",
        "convertisseur.inference_input_type = tf.uint8\n",
        "convertisseur.inference_output_type = tf.uint8\n",
        "modele_tflite = convertisseur.convert()\n",
        "\n",
        "# Sauvegarde du modèle TFlite\n",
        "with open(chemin_vers_modele_TFlite+nom_modele_TFlite, 'wb') as fichier:\n",
        "    fichier.write(modele_tflite)\n",
        "    \n",
        "print(\"Conversion terminée!\")"
      ]
    },
    {
      "cell_type": "code",
      "execution_count": 15,
      "id": "8MQyvLW_PxEq",
      "metadata": {
        "id": "8MQyvLW_PxEq",
        "outputId": "dbb28c23-a3d0-477f-e876-e032570a2447",
        "colab": {
          "base_uri": "https://localhost:8080/"
        }
      },
      "outputs": [
        {
          "output_type": "stream",
          "name": "stdout",
          "text": [
            "La taille du fichier compact TFlite:  43.0 Mo\n"
          ]
        }
      ],
      "source": [
        "# Taille du modèle TFlite\n",
        "taille_modele_TFlite = os.path.getsize(chemin_vers_modele_TFlite+nom_modele_TFlite)\n",
        "print(\"La taille du fichier compact TFlite: \",str(taille_modele_TFlite//1.0E+06) + \" Mo\")"
      ]
    },
    {
      "cell_type": "code",
      "source": [
        "etiquettes = ['BOJ',\n",
        "              'BOP',\n",
        "              'CHR',\n",
        "              'EPB',\n",
        "              'EPN',\n",
        "              'EPO',\n",
        "              'EPR',\n",
        "              'ERR',\n",
        "              'ERS',\n",
        "              'FRA',\n",
        "              'HEG',\n",
        "              'MEL',\n",
        "              'ORA',\n",
        "              'OSV',\n",
        "              'PET',\n",
        "              'PIB',\n",
        "              'PIR',\n",
        "              'PRU',\n",
        "              'SAB',\n",
        "              'THO'\n",
        "              ]\n",
        "len(etiquettes)\n",
        "\n",
        "fichier_etiquettes = open(\"etiquettes.txt\", \"w\")\n",
        "for etiquette in etiquettes:\n",
        "  fichier_etiquettes. write(etiquette + \"\\n\")\n",
        "fichier_etiquettes. close()\n"
      ],
      "metadata": {
        "id": "uRiMby0i0nWS"
      },
      "id": "uRiMby0i0nWS",
      "execution_count": 16,
      "outputs": []
    },
    {
      "cell_type": "code",
      "source": [
        "!ls"
      ],
      "metadata": {
        "id": "Ak-3lEfja22N",
        "outputId": "21c4534b-0cbc-4217-ccd8-08409843856e",
        "colab": {
          "base_uri": "https://localhost:8080/"
        }
      },
      "id": "Ak-3lEfja22N",
      "execution_count": 17,
      "outputs": [
        {
          "output_type": "stream",
          "name": "stdout",
          "text": [
            "donnees\t\t\t\t\t modele_keras\n",
            "etiquettes.txt\t\t\t\t modele_TFlite\n",
            "kaggle.json\t\t\t\t modele_TFlite_avec_metadonnees\n",
            "lab_ecorces\t\t\t\t sample_data\n",
            "metadata_writer_for_image_classifier.py\n"
          ]
        }
      ]
    },
    {
      "cell_type": "code",
      "source": [
        "try:\n",
        "    os.mkdir(\"/content/modele_TFlite_avec_metadonnees/\")\n",
        "except OSError:\n",
        "    pass\n",
        "modele_avec_metadonnees = \"/content/modele_TFlite_avec_metadonnees/\""
      ],
      "metadata": {
        "id": "5VFr5S-o3YO2"
      },
      "id": "5VFr5S-o3YO2",
      "execution_count": 18,
      "outputs": []
    },
    {
      "cell_type": "code",
      "source": [
        "!pip3 install tflite-support"
      ],
      "metadata": {
        "id": "dYZonkxW4p9r",
        "outputId": "366bc7b4-46f8-4394-b394-7578ef556b1d",
        "colab": {
          "base_uri": "https://localhost:8080/"
        }
      },
      "id": "dYZonkxW4p9r",
      "execution_count": 19,
      "outputs": [
        {
          "output_type": "stream",
          "name": "stdout",
          "text": [
            "Requirement already satisfied: tflite-support in /usr/local/lib/python3.7/dist-packages (0.3.1)\n",
            "Requirement already satisfied: numpy>=1.19.2 in /usr/local/lib/python3.7/dist-packages (from tflite-support) (1.21.5)\n",
            "Requirement already satisfied: flatbuffers<2,>=1.12 in /usr/local/lib/python3.7/dist-packages (from tflite-support) (1.12)\n",
            "Requirement already satisfied: absl-py>=0.7.0 in /usr/local/lib/python3.7/dist-packages (from tflite-support) (1.0.0)\n",
            "Requirement already satisfied: pybind11>=2.6.0 in /usr/local/lib/python3.7/dist-packages (from tflite-support) (2.9.2)\n",
            "Requirement already satisfied: six in /usr/local/lib/python3.7/dist-packages (from absl-py>=0.7.0->tflite-support) (1.15.0)\n"
          ]
        }
      ]
    },
    {
      "cell_type": "code",
      "source": [
        "!python3 ./metadata_writer_for_image_classifier.py \\\n",
        "    --model_file= \"/content/modele_TFlite/modele.tflite\" \\\n",
        "    --label_file= \"etiquettes.txt\" \\\n",
        "    --export_directory=modele_avec_metadonnees"
      ],
      "metadata": {
        "id": "rQR_3o3Sawwc",
        "outputId": "f8641f2f-71a6-451c-f8e4-0993e1226726",
        "colab": {
          "base_uri": "https://localhost:8080/"
        }
      },
      "id": "rQR_3o3Sawwc",
      "execution_count": 29,
      "outputs": [
        {
          "output_type": "stream",
          "name": "stdout",
          "text": [
            "2022-04-15 20:53:46.022116: E tensorflow/stream_executor/cuda/cuda_driver.cc:271] failed call to cuInit: CUDA_ERROR_NO_DEVICE: no CUDA-capable device is detected\n",
            "Traceback (most recent call last):\n",
            "  File \"./metadata_writer_for_image_classifier.py\", line 210, in <module>\n",
            "    app.run(main)\n",
            "  File \"/usr/local/lib/python3.7/dist-packages/absl/app.py\", line 312, in run\n",
            "    _run_main(main, args)\n",
            "  File \"/usr/local/lib/python3.7/dist-packages/absl/app.py\", line 258, in _run_main\n",
            "    sys.exit(main(argv))\n",
            "  File \"./metadata_writer_for_image_classifier.py\", line 178, in main\n",
            "    \"The model info for, {0}, is not defined yet.\".format(model_basename))\n",
            "ValueError: The model info for, , is not defined yet.\n"
          ]
        }
      ]
    },
    {
      "cell_type": "code",
      "source": [
        "!ls /content/modele_TFlite/"
      ],
      "metadata": {
        "id": "MvJ5UnQl-1Xa",
        "outputId": "0233c449-7b41-45f3-cd00-f5f537cd37c0",
        "colab": {
          "base_uri": "https://localhost:8080/"
        }
      },
      "id": "MvJ5UnQl-1Xa",
      "execution_count": 24,
      "outputs": [
        {
          "output_type": "stream",
          "name": "stdout",
          "text": [
            "modele.tflite\n"
          ]
        }
      ]
    },
    {
      "cell_type": "markdown",
      "id": "HEp8w_oxOikj",
      "metadata": {
        "id": "HEp8w_oxOikj"
      },
      "source": [
        "## Télécharger le modèle TFlite sur son poste local"
      ]
    },
    {
      "cell_type": "code",
      "execution_count": 21,
      "id": "WiZ7vtIxOhr0",
      "metadata": {
        "id": "WiZ7vtIxOhr0",
        "outputId": "e01d8c2e-d9a8-4347-ad77-de138b53ce95",
        "colab": {
          "base_uri": "https://localhost:8080/",
          "height": 17
        }
      },
      "outputs": [
        {
          "output_type": "display_data",
          "data": {
            "text/plain": [
              "<IPython.core.display.Javascript object>"
            ],
            "application/javascript": [
              "\n",
              "    async function download(id, filename, size) {\n",
              "      if (!google.colab.kernel.accessAllowed) {\n",
              "        return;\n",
              "      }\n",
              "      const div = document.createElement('div');\n",
              "      const label = document.createElement('label');\n",
              "      label.textContent = `Downloading \"${filename}\": `;\n",
              "      div.appendChild(label);\n",
              "      const progress = document.createElement('progress');\n",
              "      progress.max = size;\n",
              "      div.appendChild(progress);\n",
              "      document.body.appendChild(div);\n",
              "\n",
              "      const buffers = [];\n",
              "      let downloaded = 0;\n",
              "\n",
              "      const channel = await google.colab.kernel.comms.open(id);\n",
              "      // Send a message to notify the kernel that we're ready.\n",
              "      channel.send({})\n",
              "\n",
              "      for await (const message of channel.messages) {\n",
              "        // Send a message to notify the kernel that we're ready.\n",
              "        channel.send({})\n",
              "        if (message.buffers) {\n",
              "          for (const buffer of message.buffers) {\n",
              "            buffers.push(buffer);\n",
              "            downloaded += buffer.byteLength;\n",
              "            progress.value = downloaded;\n",
              "          }\n",
              "        }\n",
              "      }\n",
              "      const blob = new Blob(buffers, {type: 'application/binary'});\n",
              "      const a = document.createElement('a');\n",
              "      a.href = window.URL.createObjectURL(blob);\n",
              "      a.download = filename;\n",
              "      div.appendChild(a);\n",
              "      a.click();\n",
              "      div.remove();\n",
              "    }\n",
              "  "
            ]
          },
          "metadata": {}
        },
        {
          "output_type": "display_data",
          "data": {
            "text/plain": [
              "<IPython.core.display.Javascript object>"
            ],
            "application/javascript": [
              "download(\"download_1bd65fbb-c064-4efd-a17b-68ce8929b626\", \"modele.tflite\", 43876128)"
            ]
          },
          "metadata": {}
        }
      ],
      "source": [
        "from google.colab import files\n",
        "\n",
        "files.download(chemin_vers_modele_TFlite+nom_modele_TFlite)"
      ]
    },
    {
      "cell_type": "code",
      "execution_count": 22,
      "id": "M61F2MSuLvzj",
      "metadata": {
        "id": "M61F2MSuLvzj",
        "outputId": "ec3b4e96-63b4-4783-f59d-7d59713e55f0",
        "colab": {
          "base_uri": "https://localhost:8080/"
        }
      },
      "outputs": [
        {
          "output_type": "stream",
          "name": "stdout",
          "text": [
            "Fin de l'exécution du carnet IPython\n"
          ]
        }
      ],
      "source": [
        "print(\"Fin de l'exécution du carnet IPython\")"
      ]
    }
  ],
  "metadata": {
    "colab": {
      "name": "IdEcorces-ResConv-ConversionVersTFLite-Colab.ipynb",
      "provenance": []
    },
    "kernelspec": {
      "display_name": "Python 3",
      "language": "python",
      "name": "python3"
    },
    "language_info": {
      "codemirror_mode": {
        "name": "ipython",
        "version": 3
      },
      "file_extension": ".py",
      "mimetype": "text/x-python",
      "name": "python",
      "nbconvert_exporter": "python",
      "pygments_lexer": "ipython3",
      "version": "3.9.5"
    }
  },
  "nbformat": 4,
  "nbformat_minor": 5
}