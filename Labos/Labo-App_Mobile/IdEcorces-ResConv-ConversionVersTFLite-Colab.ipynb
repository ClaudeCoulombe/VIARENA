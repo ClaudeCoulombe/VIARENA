{
 "cells": [
  {
   "cell_type": "markdown",
   "id": "39faa9c8",
   "metadata": {
    "id": "39faa9c8"
   },
   "source": [
    "<a href=\"https://colab.research.google.com/github/ClaudeCoulombe/VIARENA/blob/master/Labos/Labo-App_Mobile/IdEcorces-ResConv-ConversionVersTFLite-Colab.ipynb\" target=\"_blank\"><img src=\"https://colab.research.google.com/assets/colab-badge.svg\" alt=\"Open In Colab\"/></a>\n",
    "\n",
    "### Rappel - Fonctionnement d'un carnet web iPython\n",
    "\n",
    "* Pour exécuter le code contenu dans une cellule d'un carnet iPython, cliquez dans la cellule et faites (⇧↵, shift-enter) \n",
    "* Le code d'un carnet iPython s'exécute séquentiellement de haut en bas de la page. Souvent, l'importation d'une bibliothèque Python ou l'initialisation d'une variable est préalable à l'exécution d'une cellule située plus bas. Il est donc recommandé d'exécuter les cellules en séquence. Enfin, méfiez-vous des retours en arrière qui peuvent réinitialiser certaines variables.\n",
    "\n",
    "\n",
    "SVP, déployez toutes les cellules en sélectionnant l'item « Développer les rubriques » de l'onglet « Affichage »."
   ]
  },
  {
   "cell_type": "markdown",
   "id": "59a7a765",
   "metadata": {
    "id": "59a7a765"
   },
   "source": [
    "#  Conversion vers un modèle TensorFlow Lite"
   ]
  },
  {
   "cell_type": "markdown",
   "id": "d8ebef56",
   "metadata": {
    "id": "d8ebef56"
   },
   "source": [
    "Comme son nom l'indique, le convertisseur TensorFlow Lite, <code>tf.lite.TFLiteConverter</code>, convertit un modèle TensorFlow Keras en un modèle TensorFlow Lite plus compact. Identifié par l'extension de fichier .tflite, le format TensorFlow Lite.\n",
    "\n"
   ]
  },
  {
   "cell_type": "markdown",
   "id": "fJQRQgoELtci",
   "metadata": {
    "id": "fJQRQgoELtci"
   },
   "source": [
    "## Installation des bibliothèques Python"
   ]
  },
  {
   "cell_type": "code",
   "execution_count": null,
   "id": "8d2b5f59",
   "metadata": {
    "id": "8d2b5f59"
   },
   "outputs": [],
   "source": [
    "# !pip3 install --upgrade tensorflow"
   ]
  },
  {
   "cell_type": "code",
   "execution_count": null,
   "id": "05229049",
   "metadata": {
    "id": "05229049"
   },
   "outputs": [],
   "source": [
    "import os\n",
    "\n",
    "import tensorflow as tf\n",
    "print(\"Version de TensorFlow :\",tf.__version__)\n",
    "\n",
    "print(\"Bibliothèques Python chargées\")"
   ]
  },
  {
   "cell_type": "markdown",
   "id": "D_G9CatqLnbh",
   "metadata": {
    "id": "D_G9CatqLnbh"
   },
   "source": [
    "## Création des répertoires"
   ]
  },
  {
   "cell_type": "code",
   "execution_count": null,
   "id": "WHMhq896Lljq",
   "metadata": {
    "id": "WHMhq896Lljq"
   },
   "outputs": [],
   "source": [
    "try:\n",
    "    os.mkdir(\"/content/modele_keras/\")\n",
    "except OSError:\n",
    "    pass\n",
    "try:\n",
    "    os.mkdir(\"/content/modele_TFlite\")\n",
    "except OSError:\n",
    "    pass"
   ]
  },
  {
   "cell_type": "code",
   "execution_count": null,
   "id": "eJWFlVtIUpnA",
   "metadata": {
    "id": "eJWFlVtIUpnA"
   },
   "outputs": [],
   "source": [
    "!rm -r \"/content/\""
   ]
  },
  {
   "cell_type": "markdown",
   "id": "RQITG8Z2Mgw1",
   "metadata": {
    "id": "RQITG8Z2Mgw1"
   },
   "source": [
    "## Téléversement et décompression d'un modèle Keras sauvegardé sur un poste local"
   ]
  },
  {
   "cell_type": "markdown",
   "id": "JvF-2uTuM0aB",
   "metadata": {
    "id": "JvF-2uTuM0aB"
   },
   "source": [
    "1. & 2. Vous allez téléverser le modèle Keras entraîné précédemment.\n",
    "\n",
    "<img src=\"https://cours.edulib.org/asset-v1:Cegep-Matane+VAERN.1FR+P2021+type@asset+block@Colab_Importer_Fichier.png\"/>\n",
    "\n",
    "3. La fenêtre de l'outil de fichiers de votre ordinateur s'ouvre alors. Allez chercher le modèle Keras compressé, modele_....zip que vous avez sauvegardé précédemment sur votre ordinateur local.\n",
    "\n",
    "Attention! Le téléchargement peut prendre plusieurs minutes. Assurez-vous que le fichier est entièrement téléversé et que l'icône d'état du téléversement (un cercle jaune, comme ci-dessous) disparaisse. \n",
    "\n",
    "<img style=\"margin-left:0px\" src=\"https://cours.edulib.org/asset-v1:Cegep-Matane+VAERN.1FR+P2021+type@asset+block@Colab_Importer_Fichier-3.png\"/>\n"
   ]
  },
  {
   "cell_type": "markdown",
   "id": "kS3ij-S_Rhyi",
   "metadata": {
    "id": "kS3ij-S_Rhyi"
   },
   "source": [
    "4. Décompressez le fichier modele_....zip en exécutant la commande ci-dessous:<br/>"
   ]
  },
  {
   "cell_type": "code",
   "execution_count": null,
   "id": "4sRSrKEYNN8M",
   "metadata": {
    "id": "4sRSrKEYNN8M"
   },
   "outputs": [],
   "source": [
    "!unzip /content/modele_*.zip -d /content/modele_keras && rm /content/modele_*.zip"
   ]
  },
  {
   "cell_type": "code",
   "execution_count": null,
   "id": "ZfhcN6eQPKoL",
   "metadata": {
    "id": "ZfhcN6eQPKoL"
   },
   "outputs": [],
   "source": [
    "# Chemin vers modèles \n",
    "chemin_vers_modele_keras = \"/content/modele_keras/\"\n",
    "# Taille du modèle Keras\n",
    "taille_totale = 0\n",
    "for chemin, repertoires, fichiers in os.walk(chemin_vers_modele_keras):\n",
    "    for fichier in fichiers:\n",
    "        chemin_fichier = os.path.join(chemin, fichier)\n",
    "        taille_totale += os.path.getsize(chemin_fichier)\n",
    "taille_modele_keras = taille_totale\n",
    "print(\"Taille du modèle Keras: \" + str(taille_modele_keras//1.0E+06) + \" Mo\")"
   ]
  },
  {
   "cell_type": "markdown",
   "id": "ad384fa0",
   "metadata": {
    "id": "ad384fa0"
   },
   "source": [
    "##  Conversion du modèle"
   ]
  },
  {
   "cell_type": "code",
   "execution_count": null,
   "id": "a6853a0c",
   "metadata": {
    "id": "a6853a0c"
   },
   "outputs": [],
   "source": [
    "# Chargement du modèle\n",
    "modele_keras = tf.keras.models.load_model(chemin_vers_modele_keras)\n",
    "\n",
    "print(\"Architecture du modèle entraîné\")\n",
    "modele_keras.summary()\n"
   ]
  },
  {
   "cell_type": "code",
   "execution_count": null,
   "id": "27def61a",
   "metadata": {
    "id": "27def61a"
   },
   "outputs": [],
   "source": [
    "chemin_vers_modele_TFlite = \"/content/modele_TFlite/\"\n",
    "nom_modele_TFlite = \"modele.tflite\""
   ]
  },
  {
   "cell_type": "code",
   "execution_count": null,
   "id": "yvjgjaY3KWvp",
   "metadata": {
    "id": "yvjgjaY3KWvp"
   },
   "outputs": [],
   "source": [
    "# Conversion \n",
    "convertisseur = tf.lite.TFLiteConverter.from_keras_model(modele_keras) \n",
    "modele_tflite = convertisseur.convert()\n",
    "\n",
    "# Sauvegarde du modèle TFlite\n",
    "with open(chemin_vers_modele_TFlite+nom_modele_TFlite, 'wb') as fichier:\n",
    "    fichier.write(modele_tflite)\n",
    "    \n",
    "print(\"Conversion terminée!\")"
   ]
  },
  {
   "cell_type": "code",
   "execution_count": null,
   "id": "8MQyvLW_PxEq",
   "metadata": {
    "id": "8MQyvLW_PxEq"
   },
   "outputs": [],
   "source": [
    "# Taille du modèle TFlite\n",
    "taille_modele_TFlite = os.path.getsize(chemin_vers_modele_TFlite+nom_modele_TFlite)\n",
    "print(\"La taille du fichier compact TFlite: \",str(taille_modele_TFlite//1.0E+06) + \" Mo\")"
   ]
  },
  {
   "cell_type": "markdown",
   "id": "HEp8w_oxOikj",
   "metadata": {
    "id": "HEp8w_oxOikj"
   },
   "source": [
    "## Télécharger le modèle TFlite sur son poste local"
   ]
  },
  {
   "cell_type": "code",
   "execution_count": null,
   "id": "WiZ7vtIxOhr0",
   "metadata": {
    "id": "WiZ7vtIxOhr0"
   },
   "outputs": [],
   "source": [
    "from google.colab import files\n",
    "\n",
    "files.download(chemin_vers_modele_TFlite+nom_modele_TFlite)"
   ]
  }
 ],
 "metadata": {
  "colab": {
   "name": "IdEcorces-ResConv-ConversionVersTFLite-Colab.ipynb",
   "provenance": []
  },
  "kernelspec": {
   "display_name": "Python 3",
   "language": "python",
   "name": "python3"
  },
  "language_info": {
   "codemirror_mode": {
    "name": "ipython",
    "version": 3
   },
   "file_extension": ".py",
   "mimetype": "text/x-python",
   "name": "python",
   "nbconvert_exporter": "python",
   "pygments_lexer": "ipython3",
   "version": "3.9.5"
  }
 },
 "nbformat": 4,
 "nbformat_minor": 5
}
