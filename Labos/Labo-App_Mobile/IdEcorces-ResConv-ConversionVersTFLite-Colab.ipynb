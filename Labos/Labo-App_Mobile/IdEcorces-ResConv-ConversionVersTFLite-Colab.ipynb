{
  "cells": [
    {
      "cell_type": "markdown",
      "id": "39faa9c8",
      "metadata": {
        "id": "39faa9c8"
      },
      "source": [
        "<a href=\"https://colab.research.google.com/github/ClaudeCoulombe/VIARENA/blob/master/Labos/Labo-App_Mobile/IdEcorces-ResConv-ConversionVersTFLite-Colab.ipynb\" target=\"_blank\"><img src=\"https://colab.research.google.com/assets/colab-badge.svg\" alt=\"Open In Colab\"/></a>\n",
        "\n",
        "### Rappel - Fonctionnement d'un carnet web iPython\n",
        "\n",
        "* Pour exécuter le code contenu dans une cellule d'un carnet iPython, cliquez dans la cellule et faites (⇧↵, shift-enter) \n",
        "* Le code d'un carnet iPython s'exécute séquentiellement de haut en bas de la page. Souvent, l'importation d'une bibliothèque Python ou l'initialisation d'une variable est préalable à l'exécution d'une cellule située plus bas. Il est donc recommandé d'exécuter les cellules en séquence. Enfin, méfiez-vous des retours en arrière qui peuvent réinitialiser certaines variables.\n",
        "\n",
        "\n",
        "SVP, déployez toutes les cellules en sélectionnant l'item « Développer les rubriques » de l'onglet « Affichage »."
      ]
    },
    {
      "cell_type": "markdown",
      "id": "59a7a765",
      "metadata": {
        "id": "59a7a765"
      },
      "source": [
        "#  Conversion vers un modèle TensorFlow Lite"
      ]
    },
    {
      "cell_type": "markdown",
      "id": "d8ebef56",
      "metadata": {
        "id": "d8ebef56"
      },
      "source": [
        "Comme son nom l'indique, le convertisseur TensorFlow Lite, <code>tf.lite.TFLiteConverter</code>, convertit un modèle TensorFlow Keras en un modèle TensorFlow Lite plus compact. Identifié par l'extension de fichier .tflite, le format TensorFlow Lite.\n",
        "\n"
      ]
    },
    {
      "cell_type": "markdown",
      "id": "fJQRQgoELtci",
      "metadata": {
        "id": "fJQRQgoELtci"
      },
      "source": [
        "## Installation des bibliothèques Python"
      ]
    },
    {
      "cell_type": "code",
      "execution_count": null,
      "id": "8d2b5f59",
      "metadata": {
        "id": "8d2b5f59"
      },
      "outputs": [],
      "source": [
        "# !pip3 install --upgrade tensorflow"
      ]
    },
    {
      "cell_type": "code",
      "execution_count": null,
      "id": "05229049",
      "metadata": {
        "id": "05229049"
      },
      "outputs": [],
      "source": [
        "import os\n",
        "\n",
        "import tensorflow as tf\n",
        "print(\"Version de TensorFlow :\",tf.__version__)\n",
        "\n",
        "print(\"Bibliothèques Python chargées\")"
      ]
    },
    {
      "cell_type": "markdown",
      "id": "D_G9CatqLnbh",
      "metadata": {
        "id": "D_G9CatqLnbh"
      },
      "source": [
        "## Création des répertoires"
      ]
    },
    {
      "cell_type": "code",
      "execution_count": null,
      "id": "WHMhq896Lljq",
      "metadata": {
        "id": "WHMhq896Lljq"
      },
      "outputs": [],
      "source": [
        "try:\n",
        "    os.mkdir(\"/content/donnees/\")\n",
        "except OSError:\n",
        "    pass\n",
        "try:\n",
        "    os.mkdir(\"/content/lab_ecorces/\")\n",
        "except OSError:\n",
        "    pass\n",
        "try:\n",
        "    os.mkdir(\"/content/modele_keras/\")\n",
        "except OSError:\n",
        "    pass\n",
        "try:\n",
        "    os.mkdir(\"/content/modele_TFlite\")\n",
        "except OSError:\n",
        "    pass"
      ]
    },
    {
      "cell_type": "markdown",
      "id": "RQITG8Z2Mgw1",
      "metadata": {
        "id": "RQITG8Z2Mgw1"
      },
      "source": [
        "## Téléversement et décompression d'un modèle Keras sauvegardé sur un poste local"
      ]
    },
    {
      "cell_type": "markdown",
      "id": "JvF-2uTuM0aB",
      "metadata": {
        "id": "JvF-2uTuM0aB"
      },
      "source": [
        "1. & 2. Vous allez téléverser le modèle Keras entraîné précédemment.\n",
        "\n",
        "<img src=\"https://cours.edulib.org/asset-v1:Cegep-Matane+VAERN.1FR+P2021+type@asset+block@Colab_Importer_Fichier.png\"/>\n",
        "\n",
        "3. La fenêtre de l'outil de fichiers de votre ordinateur s'ouvre alors. Allez chercher le modèle Keras compressé, modele_....zip que vous avez sauvegardé précédemment sur votre ordinateur local.\n",
        "\n",
        "Attention! Le téléchargement peut prendre plusieurs minutes. Assurez-vous que le fichier est entièrement téléversé et que l'icône d'état du téléversement (un cercle jaune, comme ci-dessous) disparaisse. \n",
        "\n",
        "<img style=\"margin-left:0px\" src=\"https://cours.edulib.org/asset-v1:Cegep-Matane+VAERN.1FR+P2021+type@asset+block@Colab_Importer_Fichier-3.png\"/>\n"
      ]
    },
    {
      "cell_type": "markdown",
      "id": "kS3ij-S_Rhyi",
      "metadata": {
        "id": "kS3ij-S_Rhyi"
      },
      "source": [
        "4. Décompressez le fichier modele_....zip en exécutant la commande ci-dessous:<br/>"
      ]
    },
    {
      "cell_type": "code",
      "execution_count": null,
      "id": "4sRSrKEYNN8M",
      "metadata": {
        "id": "4sRSrKEYNN8M"
      },
      "outputs": [],
      "source": [
        "!unzip /content/modele_*.zip -d /content/modele_keras && rm /content/modele_*.zip"
      ]
    },
    {
      "cell_type": "code",
      "execution_count": null,
      "id": "ZfhcN6eQPKoL",
      "metadata": {
        "id": "ZfhcN6eQPKoL"
      },
      "outputs": [],
      "source": [
        "# Chemin vers modèles \n",
        "chemin_vers_modele_keras = \"/content/modele_keras/\"\n",
        "# Taille du modèle Keras\n",
        "taille_totale = 0\n",
        "for chemin, repertoires, fichiers in os.walk(chemin_vers_modele_keras):\n",
        "    for fichier in fichiers:\n",
        "        chemin_fichier = os.path.join(chemin, fichier)\n",
        "        taille_totale += os.path.getsize(chemin_fichier)\n",
        "taille_modele_keras = taille_totale\n",
        "print(\"Taille du modèle Keras: \" + str(taille_modele_keras//1.0E+06) + \" Mo\")"
      ]
    },
    {
      "cell_type": "markdown",
      "source": [
        "## Chargement du modèle"
      ],
      "metadata": {
        "id": "-TZkHafcKWxI"
      },
      "id": "-TZkHafcKWxI"
    },
    {
      "cell_type": "code",
      "execution_count": null,
      "id": "a6853a0c",
      "metadata": {
        "id": "a6853a0c"
      },
      "outputs": [],
      "source": [
        "modele_keras = tf.keras.models.load_model(chemin_vers_modele_keras)\n",
        "\n",
        "print(\"Architecture du modèle entraîné\")\n",
        "modele_keras.summary()\n"
      ]
    },
    {
      "cell_type": "markdown",
      "id": "ad384fa0",
      "metadata": {
        "id": "ad384fa0"
      },
      "source": [
        "##  Conversion du modèle"
      ]
    },
    {
      "cell_type": "markdown",
      "source": [
        "L'examen d'un échantillon représentatif des données est requis pour réaliser une quantification (<i>quantization</i>), en fait une réduction de la précision des calculs avec des entiers à 8 bits (INT8 ou TFLITE_BUILTINS_INT8)."
      ],
      "metadata": {
        "id": "K8G1_IxTmQib"
      },
      "id": "K8G1_IxTmQib"
    },
    {
      "cell_type": "markdown",
      "source": [
        "### Chargement des données"
      ],
      "metadata": {
        "id": "KwEN-RLVpFB4"
      },
      "id": "KwEN-RLVpFB4"
    },
    {
      "cell_type": "markdown",
      "source": [
        "#### Utilisation de l'IPA (<i>API</i>) de Kaggle pour l'importation directe du jeu de données BarkNet\n",
        "\n",
        "1. Commencez par installer la bibliothèque Python `kaggle`"
      ],
      "metadata": {
        "id": "Qky5hOJenyzJ"
      },
      "id": "Qky5hOJenyzJ"
    },
    {
      "cell_type": "code",
      "source": [
        "!pip3 install kaggle"
      ],
      "metadata": {
        "id": "XxpsnymwmPI8"
      },
      "id": "XxpsnymwmPI8",
      "execution_count": null,
      "outputs": []
    },
    {
      "cell_type": "markdown",
      "source": [
        "2. Si ce n'est déjà fait, devenez membre de Kaggle avec votre adresse de courriel GMail:<br/>\n",
        "\n",
        "<img src=\"https://cours.edulib.org/asset-v1:Cegep-Matane+VAERN.1FR+P2021+type@asset+block@Kaggle_API-1.png\"/>"
      ],
      "metadata": {
        "id": "DBtEZtWsn6Y8"
      },
      "id": "DBtEZtWsn6Y8"
    },
    {
      "cell_type": "markdown",
      "source": [
        "3. Maintenant, vous devez télécharger votre clé privée pour utiliser l'IPA de Kaggle.\n",
        "\n",
        "4. Cliquez sur l'onglet « account » de votre profil Kaggle\n",
        "\n",
        "<img src=\"https://cours.edulib.org/asset-v1:Cegep-Matane+VAERN.1FR+P2021+type@asset+block@Kaggle_API-2.png\"/>\n",
        "\n",
        "5. Sur la page « Account » cliquez sur le bouton « Create New API Token ».\n",
        "    \n",
        "<img style=\"margin-left:40px;\" src=\"https://cours.edulib.org/asset-v1:Cegep-Matane+VAERN.1FR+P2021+type@asset+block@Kaggle_API-3.png\"/>\n",
        "\n",
        "6. Téléchargez votre clé privée « kaggle.json » pour l'IPA Kaggle dans un endroit temporaire sur votre poste de travail.\n",
        "\n",
        "<img style=\"margin-left:40px;\" src=\"https://cours.edulib.org/asset-v1:Cegep-Matane+VAERN.1FR+P2021+type@asset+block@Kaggle_API-5.png\"/>\n",
        "\n",
        "7. Maintenant, transférez (téléversez) votre clé privée « kaggle.json » dans votre environnement Colab.\n",
        "\n",
        "La fenêtre de l'outil de fichiers de votre ordinateur s'ouvre alors. Allez chercher votre clé privée « kaggle.json » que vous avez sauvegardée sur votre  ordinateur.\n",
        "\n",
        "<img style=\"margin-left:40px;\" src=\"https://cours.edulib.org/asset-v1:Cegep-Matane+VAERN.1FR+P2021+type@asset+block@Colab_Importer_Fichier.png\"/>\n"
      ],
      "metadata": {
        "id": "iZF6eg-KoCtc"
      },
      "id": "iZF6eg-KoCtc"
    },
    {
      "cell_type": "markdown",
      "source": [
        "8. Créer à la racine un répertoire .kaggle et déplacez votre clé privée « kaggle.json » dans ce répertoire."
      ],
      "metadata": {
        "id": "LxAGn3tBobRO"
      },
      "id": "LxAGn3tBobRO"
    },
    {
      "cell_type": "code",
      "source": [
        "!mkdir ~/.kaggle\n",
        "!cp /content/kaggle.json ~/.kaggle/\n",
        "!chmod 600 ~/.kaggle/kaggle.json\n",
        "!ls ~/.kaggle -all"
      ],
      "metadata": {
        "id": "EvItGiwmod00"
      },
      "id": "EvItGiwmod00",
      "execution_count": null,
      "outputs": []
    },
    {
      "cell_type": "markdown",
      "source": [
        "9. Maintenant téléchargez le jeu de données réduit « barknet-mini » de 1.6 Go avec la commande suivante:"
      ],
      "metadata": {
        "id": "Zp7N4gn6oq4y"
      },
      "id": "Zp7N4gn6oq4y"
    },
    {
      "cell_type": "code",
      "source": [
        "# Attention! Jeu réduit de données 1.5 Go - plus rapide à télécharger et à traiter\n",
        "!kaggle datasets download claudecoulombe/barknet-mini --unzip -p /content/donnees/\n",
        "repertoire_entree = \"/content/donnees/BarkNet-mini\""
      ],
      "metadata": {
        "collapsed": true,
        "id": "uN4M5IAroneQ"
      },
      "id": "uN4M5IAroneQ",
      "execution_count": null,
      "outputs": []
    },
    {
      "cell_type": "markdown",
      "source": [
        "### Répartition des données"
      ],
      "metadata": {
        "id": "7JNTy51MoyrN"
      },
      "id": "7JNTy51MoyrN"
    },
    {
      "cell_type": "code",
      "source": [
        "# Installation des bibliothèques Python `split-folders` et `tqdm`\n",
        "!pip3 install split-folders tqdm"
      ],
      "metadata": {
        "id": "bDwXq311pbvq"
      },
      "id": "bDwXq311pbvq",
      "execution_count": null,
      "outputs": []
    },
    {
      "cell_type": "code",
      "source": [
        "# Répartition des données d'entraînement, de validation et de tests\n",
        "import splitfolders\n",
        "import pathlib\n",
        "\n",
        "#### répertoire des données une fois réparties\n",
        "repertoire_donnees_reparties = \"/content/lab_ecorces\"\n",
        "# => train, val, test\n",
        "\n",
        "nombre_images = len(list(pathlib.Path(repertoire_entree).glob('*/*.jpg')))\n",
        "print(\"Nombre total d'images:\",nombre_images)\n",
        "\n",
        "splitfolders.ratio(repertoire_entree, \n",
        "                   output=repertoire_donnees_reparties, \n",
        "                   seed=42, \n",
        "                   ratio = (0.65, 0.15, 0.20)\n",
        "                   )\n",
        "\n",
        "print(\"\\nRépartition des données terminée!\")"
      ],
      "metadata": {
        "id": "kxZlSFuJpfCk"
      },
      "id": "kxZlSFuJpfCk",
      "execution_count": null,
      "outputs": []
    },
    {
      "cell_type": "markdown",
      "source": [
        "## Conversion du modèle proprement dite"
      ],
      "metadata": {
        "id": "IAk--80qohqA"
      },
      "id": "IAk--80qohqA"
    },
    {
      "cell_type": "code",
      "execution_count": null,
      "id": "27def61a",
      "metadata": {
        "id": "27def61a"
      },
      "outputs": [],
      "source": [
        "TAILLE_LOT = 32\n",
        "HAUTEUR_IMAGE = 150\n",
        "LARGEUR_IMAGE = 150\n",
        "TAILLE_IMAGE = (HAUTEUR_IMAGE, LARGEUR_IMAGE)\n",
        "REPERTOIRE_VALIDATION = \"/content/lab_ecorces/val\"\n",
        "chemin_vers_modele_TFlite = \"/content/modele_TFlite/\"\n",
        "nom_modele_TFlite = \"modele.tflite\""
      ]
    },
    {
      "cell_type": "code",
      "execution_count": null,
      "id": "yvjgjaY3KWvp",
      "metadata": {
        "id": "yvjgjaY3KWvp"
      },
      "outputs": [],
      "source": [
        "# Conversion \n",
        "convertisseur = tf.lite.TFLiteConverter.from_keras_model(modele_keras) \n",
        "convertisseur.optimizations = [tf.lite.Optimize.DEFAULT]\n",
        "convertisseur.representative_dataset = tf.keras.utils.image_dataset_from_directory(REPERTOIRE_VALIDATION,\n",
        "                                                                 batch_size=TAILLE_LOT,\n",
        "                                                                 image_size=TAILLE_IMAGE)\n",
        "convertisseur.target_spec.supported_ops = [tf.lite.OpsSet.TFLITE_BUILTINS_INT8]\n",
        "modele_tflite = convertisseur.convert()\n",
        "\n",
        "# Sauvegarde du modèle TFlite\n",
        "with open(chemin_vers_modele_TFlite+nom_modele_TFlite, 'wb') as fichier:\n",
        "    fichier.write(modele_tflite)\n",
        "    \n",
        "print(\"Conversion terminée!\")"
      ]
    },
    {
      "cell_type": "code",
      "execution_count": null,
      "id": "8MQyvLW_PxEq",
      "metadata": {
        "id": "8MQyvLW_PxEq"
      },
      "outputs": [],
      "source": [
        "# Taille du modèle TFlite\n",
        "taille_modele_TFlite = os.path.getsize(chemin_vers_modele_TFlite+nom_modele_TFlite)\n",
        "print(\"La taille du fichier compact TFlite: \",str(taille_modele_TFlite//1.0E+06) + \" Mo\")"
      ]
    },
    {
      "cell_type": "markdown",
      "id": "HEp8w_oxOikj",
      "metadata": {
        "id": "HEp8w_oxOikj"
      },
      "source": [
        "## Télécharger le modèle TFlite sur son poste local"
      ]
    },
    {
      "cell_type": "code",
      "execution_count": null,
      "id": "WiZ7vtIxOhr0",
      "metadata": {
        "id": "WiZ7vtIxOhr0"
      },
      "outputs": [],
      "source": [
        "from google.colab import files\n",
        "\n",
        "files.download(chemin_vers_modele_TFlite+nom_modele_TFlite)"
      ]
    },
    {
      "cell_type": "code",
      "source": [
        ""
      ],
      "metadata": {
        "id": "M61F2MSuLvzj"
      },
      "id": "M61F2MSuLvzj",
      "execution_count": null,
      "outputs": []
    }
  ],
  "metadata": {
    "colab": {
      "name": "IdEcorces-ResConv-ConversionVersTFLite-Colab.ipynb",
      "provenance": []
    },
    "kernelspec": {
      "display_name": "Python 3",
      "language": "python",
      "name": "python3"
    },
    "language_info": {
      "codemirror_mode": {
        "name": "ipython",
        "version": 3
      },
      "file_extension": ".py",
      "mimetype": "text/x-python",
      "name": "python",
      "nbconvert_exporter": "python",
      "pygments_lexer": "ipython3",
      "version": "3.9.5"
    }
  },
  "nbformat": 4,
  "nbformat_minor": 5
}