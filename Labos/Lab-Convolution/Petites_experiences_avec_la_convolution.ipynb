{
  "cells": [
    {
      "cell_type": "markdown",
      "id": "relevant-endorsement",
      "metadata": {
        "id": "relevant-endorsement"
      },
      "source": [
        "<a href=\"https://colab.research.google.com/github/ClaudeCoulombe/VIARENA/blob/master/Labos/Petites_experiences_avec_la_convolution.ipynb\" target=\"_blank\"><img src=\"https://colab.research.google.com/assets/colab-badge.svg\" alt=\"Open In Colab\"/></a>\n",
        "\n",
        "### Rappel - Fonctionnement d'un carnet web iPython\n",
        "\n",
        "* Pour exécuter le code contenu dans une cellule d'un carnet iPython, cliquez dans la cellule et faites (⇧↵, shift-enter)\n",
        "* Le code d'un carnet iPython s'exécute séquentiellement de haut en bas de la page. Souvent, l'importation d'une bibliothèque Python ou l'initialisation d'une variable est préalable à l'exécution d'une cellule située plus bas. Il est donc recommandé d'exécuter les cellules en séquence. Enfin, méfiez-vous des retours en arrière qui peuvent réinitialiser certaines variables."
      ]
    },
    {
      "cell_type": "markdown",
      "id": "advance-transition",
      "metadata": {
        "id": "advance-transition"
      },
      "source": [
        "# Petites expériences avec la convolution\n",
        "\n",
        "Vous allez expérimenter l'application de filtres de convolution simples pour identifier des lignes horizontales et verticales et de contour. Dans un premier temps sur des images synthétiques puis sur une image de chevreuil faisant partie du jeu de données CIFAR-10.\n",
        "\n",
        "Rappel: pixel noir = 0 ou intensité nulle, pixel blanc = 1 ou intensité maximale"
      ]
    },
    {
      "cell_type": "code",
      "execution_count": null,
      "id": "generic-trading",
      "metadata": {
        "id": "generic-trading"
      },
      "outputs": [],
      "source": [
        "import numpy as np\n",
        "import matplotlib.pyplot as plt\n",
        "\n",
        "def convolution(image, filtre):\n",
        "    # normalisation du filtre\n",
        "    filtre_normal = filtre - filtre.mean()\n",
        "    dim_filtre = filtre.shape[0]\n",
        "    representation = np.zeros([image.shape[0]-dim_filtre+1,\n",
        "                               image.shape[1]-dim_filtre+1])\n",
        "    # Balayage de l'image\n",
        "    for ligne in range(image.shape[0]-2):\n",
        "        for col in range(image.shape[1]-dim_filtre+1):\n",
        "            # Calcul de la convolution\n",
        "            representation[ligne, col] = np.sum(image[ligne:ligne+dim_filtre,\n",
        "                                                col:col+dim_filtre]*filtre_normal)\n",
        "    return representation"
      ]
    },
    {
      "cell_type": "markdown",
      "id": "contained-train",
      "metadata": {
        "id": "contained-train"
      },
      "source": [
        "## Expérience avec de petites images synthétiques\n",
        "\n",
        "### Détection de lignes verticales\n",
        "\n",
        "Concrètement, nous allons expérimenter avec une convolution capable de détecter (ou filtrer) des lignes verticales. Le filtre utilisé est un tableau 3 x 3 ayant une colonne de 1, suivie d’une colonne de 0 et d’une colonne de -1.\n",
        "\n",
        "    [[ +1.0,  +0.0, -1.0],\n",
        "     [ +1.0,  +0.0, -1.0],\n",
        "     [ +1.0,  +0.0, -1.0]]"
      ]
    },
    {
      "cell_type": "code",
      "execution_count": null,
      "id": "suitable-leadership",
      "metadata": {
        "id": "suitable-leadership"
      },
      "outputs": [],
      "source": [
        "# image synthétique comportant une ligne verticale\n",
        "image = np.array([[0,0,1,0,0,0],\n",
        "                  [0,0,1,0,0,0],\n",
        "                  [0,0,1,0,0,0],\n",
        "                  [0,0,1,0,0,0],\n",
        "                  [0,0,1,0,0,0],\n",
        "                  [0,0,1,0,0,0]\n",
        "                 ])\n",
        "\n",
        "print(\"Image synthétique:\\n\",\"image.shape:\",image.shape,\"\\n\\n\",image,\"\\n\")\n",
        "\n",
        "# Filtre pour reconnaître des lignes verticales dans une image\n",
        "filtre = np.array([[ 1,  0, -1],\n",
        "                   [ 1,  0, -1],\n",
        "                   [ 1,  0, -1]])\n",
        "print(\"\\nFiltre ligne verticale:\\n\\n\",filtre,\"\\n\")\n",
        "\n",
        "resultat_convolution = convolution(image,filtre)\n",
        "print(\"Résultat convolution:\\n\",\"resultat_convolution.shape:\",resultat_convolution.shape,\"\\n\\n\",resultat_convolution,\"\\n\")\n",
        "\n",
        "plt.yticks(range(0, resultat_convolution.shape[0]))\n",
        "plt.xticks(range(0, resultat_convolution.shape[1]))\n",
        "plt.imshow(resultat_convolution,cmap=plt.get_cmap('gray'),vmin=0,vmax=1)\n",
        "plt.show()"
      ]
    },
    {
      "cell_type": "markdown",
      "source": [
        "**Note:** Le filtre « ligne verticale » a détecté la ligne verticale dans l'image synthétique."
      ],
      "metadata": {
        "id": "2QC1Dufpb3eD"
      },
      "id": "2QC1Dufpb3eD"
    },
    {
      "cell_type": "markdown",
      "id": "external-broadcasting",
      "metadata": {
        "id": "external-broadcasting"
      },
      "source": [
        "### Détection de lignes horizontales\n",
        "\n",
        "De son côté, un filtre capable de détecter des lignes horizontales est simplement une transposition du filtre précédent. C'est-à-dire un tableau 3 x 3 ayant une ligne de 1, suivie d’une ligne de 0 et d’une ligne de -1.\n",
        "\n",
        "    [[ +1.0, +1.0, +1.0],\n",
        "     [ +0.0, +0.0, +0.0],\n",
        "     [ -1.0, -1.0, -1.0]]"
      ]
    },
    {
      "cell_type": "code",
      "execution_count": null,
      "id": "acknowledged-palmer",
      "metadata": {
        "id": "acknowledged-palmer"
      },
      "outputs": [],
      "source": [
        "# image synthétique comportant une ligne verticale\n",
        "image = np.array([[0,0,0,0,0,0],\n",
        "                  [1,1,1,1,1,1],\n",
        "                  [0,0,0,0,0,0],\n",
        "                  [0,0,0,0,0,0],\n",
        "                  [0,0,0,0,0,0],\n",
        "                  [0,0,0,0,0,0],\n",
        "                 ])\n",
        "\n",
        "print(\"Image synthétique:\\n\",\"image.shape:\",image.shape,\"\\n\\n\",image,\"\\n\")\n",
        "\n",
        "# Filtre pour reconnaître des lignes horizontales dans une image\n",
        "filtre = np.array([[ +1.0, +1.0, +1.0],\n",
        "                   [ +0.0, +0.0, +0.0],\n",
        "                   [ -1.0, -1.0, -1.0]])\n",
        "print(\"\\nFiltre ligne horizontale:\\n\",filtre)\n",
        "\n",
        "resultat_convolution = convolution(image,filtre)\n",
        "print(\"\\nRésultat convolution:\\n\",\"resultat_convolution.shape:\",resultat_convolution.shape,\"\\n\\n\",resultat_convolution,\"\\n\")\n",
        "\n",
        "plt.yticks(range(0, resultat_convolution.shape[0]))\n",
        "plt.xticks(range(0, resultat_convolution.shape[1]))\n",
        "plt.imshow(resultat_convolution,cmap=plt.get_cmap('gray'),vmin=0,vmax=1)\n",
        "plt.show()"
      ]
    },
    {
      "cell_type": "markdown",
      "source": [
        "**Note:** Le filtre « ligne horizontale » a détecté la ligne horizontale dans l'image synthétique."
      ],
      "metadata": {
        "id": "5sDQzenycOuo"
      },
      "id": "5sDQzenycOuo"
    },
    {
      "cell_type": "markdown",
      "id": "institutional-gross",
      "metadata": {
        "id": "institutional-gross"
      },
      "source": [
        "## Expériences avec une photo de chevreuil en tons de gris"
      ]
    },
    {
      "cell_type": "code",
      "execution_count": null,
      "id": "british-newspaper",
      "metadata": {
        "scrolled": false,
        "id": "british-newspaper"
      },
      "outputs": [],
      "source": [
        "import urllib.request\n",
        "import PIL\n",
        "\n",
        "chemin_data = \"https://courses.edx.org/asset-v1:UMontrealX+Cegep-Matane-VIARENA+2T2024+type@asset+block@\"\n",
        "\n",
        "# Lecture image\n",
        "image = np.array(PIL.Image.open(urllib.request.urlopen(chemin_data+\"Chevreuil-0621_rouge-blanc_noir.png\")))\n",
        "print(\"Image source, taille\",image.shape)\n",
        "\n",
        "# Affichage image\n",
        "plt.imshow(image,cmap='gray')\n",
        "plt.show()"
      ]
    },
    {
      "cell_type": "code",
      "execution_count": null,
      "id": "drawn-graham",
      "metadata": {
        "id": "drawn-graham"
      },
      "outputs": [],
      "source": [
        "# Filtre ligne verticale\n",
        "filtre = np.array([[ +1.0, +0.0, -1.0],\n",
        "                   [ +1.0, +0.0, -1.0],\n",
        "                   [ +1.0, +0.0, -1.0]])\n",
        "print(\"Filtre ligne verticale:\\n\\n\",filtre,\"\\n\")\n",
        "\n",
        "resultat_convolution = convolution(image,filtre)\n",
        "\n",
        "print(\"\\nRésultat convolution:\\n\",\"resultat_convolution.shape:\",resultat_convolution.shape)\n",
        "plt.imshow(resultat_convolution,cmap='gray')\n",
        "plt.show()"
      ]
    },
    {
      "cell_type": "markdown",
      "id": "speaking-checklist",
      "metadata": {
        "id": "speaking-checklist"
      },
      "source": [
        "**Note:** Le filtre « lignes verticales » fait ressortir la croupe, les pattes, le cou et ses oreilles / panache du chevreuil."
      ]
    },
    {
      "cell_type": "code",
      "execution_count": null,
      "id": "steady-hunger",
      "metadata": {
        "id": "steady-hunger"
      },
      "outputs": [],
      "source": [
        "# Filtre ligne horizontale\n",
        "filtre = np.array([[ +1.0, +1.0, +1.0],\n",
        "                   [ +0.0, +0.0, +0.0],\n",
        "                   [ -1.0, -1.0, -1.0]])\n",
        "print(\"\\nFiltre ligne horizontale:\\n\",filtre)\n",
        "\n",
        "resultat_convolution = convolution(image,filtre)\n",
        "\n",
        "print(\"\\nRésultat convolution:\\n\",\"resultat_convolution.shape:\",resultat_convolution.shape)\n",
        "plt.imshow(resultat_convolution,cmap='gray')\n",
        "plt.show()"
      ]
    },
    {
      "cell_type": "markdown",
      "id": "ignored-project",
      "metadata": {
        "id": "ignored-project"
      },
      "source": [
        "**Note:** Le filtre « lignes horizontales » fait ressortir le dos du chevreuil."
      ]
    },
    {
      "cell_type": "code",
      "execution_count": null,
      "id": "animal-filling",
      "metadata": {
        "id": "animal-filling"
      },
      "outputs": [],
      "source": [
        "# Filtre : zone claire entourée de pixels plus foncés\n",
        "filtre = np.array([[-1.0, -1.0, -1.0],\n",
        "                   [-1.0, +1.0, -1.0],\n",
        "                   [-1.0, -1.0, -1.0]])\n",
        "print(\"\\nFiltre : zone claire entourée de pixels plus foncés\\n\",filtre)\n",
        "\n",
        "resultat_convolution = convolution(image,filtre)\n",
        "\n",
        "print(\"\\nRésultat convolution:\\n\",\"resultat_convolution.shape:\",resultat_convolution.shape)\n",
        "plt.imshow(resultat_convolution,cmap='gray')\n",
        "plt.show()"
      ]
    },
    {
      "cell_type": "markdown",
      "id": "subsequent-heath",
      "metadata": {
        "id": "subsequent-heath"
      },
      "source": [
        "**Note:** Le filtre pixel clair entouré de pixels foncés révèle le contour du chevreuil."
      ]
    },
    {
      "cell_type": "markdown",
      "id": "stainless-background",
      "metadata": {
        "id": "stainless-background"
      },
      "source": [
        "## Complément utile\n",
        "Ci-dessous, une manipulation simple de l'image qui consiste à ajouter un carré noir."
      ]
    },
    {
      "cell_type": "code",
      "execution_count": null,
      "id": "mathematical-valentine",
      "metadata": {
        "id": "mathematical-valentine"
      },
      "outputs": [],
      "source": [
        "image[25:30,25:30]=0\n",
        "plt.imshow(image,cmap=plt.get_cmap('gray'))\n",
        "plt.show()\n"
      ]
    },
    {
      "cell_type": "code",
      "source": [],
      "metadata": {
        "id": "UHSNynzs_W81"
      },
      "id": "UHSNynzs_W81",
      "execution_count": null,
      "outputs": []
    }
  ],
  "metadata": {
    "kernelspec": {
      "display_name": "Python 3",
      "language": "python",
      "name": "python3"
    },
    "language_info": {
      "codemirror_mode": {
        "name": "ipython",
        "version": 3
      },
      "file_extension": ".py",
      "mimetype": "text/x-python",
      "name": "python",
      "nbconvert_exporter": "python",
      "pygments_lexer": "ipython3",
      "version": "3.8.8"
    },
    "colab": {
      "name": "Petites_experiences_avec_la_convolution.ipynb",
      "provenance": []
    }
  },
  "nbformat": 4,
  "nbformat_minor": 5
}