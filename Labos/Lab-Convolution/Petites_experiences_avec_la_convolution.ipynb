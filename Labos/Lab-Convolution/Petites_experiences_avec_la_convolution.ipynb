{
 "cells": [
  {
   "cell_type": "markdown",
   "id": "relevant-endorsement",
   "metadata": {},
   "source": [
    "<a href=\"https://colab.research.google.com/github/ClaudeCoulombe/VIARENA/blob/master/Labos/Petites_experiences_avec_la_convolution.ipynb\" target=\"_blank\"><img src=\"https://colab.research.google.com/assets/colab-badge.svg\" alt=\"Open In Colab\"/></a>\n",
    "\n",
    "### Rappel - Fonctionnement d'un carnet web iPython\n",
    "\n",
    "* Pour exécuter le code contenu dans une cellule d'un carnet iPython, cliquez dans la cellule et faites (⇧↵, shift-enter) \n",
    "* Le code d'un carnet iPython s'exécute séquentiellement de haut en bas de la page. Souvent, l'importation d'une bibliothèque Python ou l'initialisation d'une variable est préalable à l'exécution d'une cellule située plus bas. Il est donc recommandé d'exécuter les cellules en séquence. Enfin, méfiez-vous des retours en arrière qui peuvent réinitialiser certaines variables."
   ]
  },
  {
   "cell_type": "markdown",
   "id": "advance-transition",
   "metadata": {},
   "source": [
    "# Petites expériences avec la convolution\n",
    "\n",
    "Vous allez expérimenter l'application de filtres de convolution simples pour identifier des lignes horizontales et verticales et de contour. Dans un premier temps sur des images synthétiques puis sur une image de chevreuil faisant partie du jeu de données CIFAR-10. "
   ]
  },
  {
   "cell_type": "code",
   "execution_count": null,
   "id": "generic-trading",
   "metadata": {},
   "outputs": [],
   "source": [
    "import numpy as np\n",
    "import matplotlib.pyplot as plt\n",
    "\n",
    "def convolution(image, filtre):\n",
    "    # normalisation du filtre\n",
    "    filtre_normal = filtre - filtre.mean()\n",
    "    dim_filtre = filtre.shape[0]  \n",
    "    representation = np.zeros([image.shape[0]-dim_filtre+1,\n",
    "                               image.shape[1]-dim_filtre+1])\n",
    "    # Balayage de l'image\n",
    "    for ligne in range(image.shape[0]-2):\n",
    "        for col in range(image.shape[1]-dim_filtre+1):\n",
    "            # Calcul de la convolution\n",
    "            representation[ligne, col] = np.sum(image[ligne:ligne+dim_filtre,\n",
    "                                                col:col+dim_filtre]*filtre_normal)\n",
    "    return representation"
   ]
  },
  {
   "cell_type": "markdown",
   "id": "running-communist",
   "metadata": {},
   "source": [
    "## Expérience avec de petites images synthétiques\n",
    "\n",
    "### Détection de lignes verticales \n",
    "\n",
    "Concrètement, nous allons expérimenter avec une convolution capable de détecter (ou filtrer) des lignes verticales. Le filtre utilisé est un tableau 3 x 3 ayant une colonne de 1, suivie d’une colonne de 0 et d’une colonne de -1. \n",
    "\n",
    "    [[ +1.0,  +0.0, -1.0],\n",
    "     [ +1.0,  +0.0, -1.0],\n",
    "     [ +1.0,  +0.0, -1.0]]"
   ]
  },
  {
   "cell_type": "code",
   "execution_count": null,
   "id": "arbitrary-flexibility",
   "metadata": {},
   "outputs": [],
   "source": [
    "# image synthétique comportant une ligne verticale\n",
    "image = np.array([[0,0,1,0,0,0],\n",
    "                  [0,0,1,0,0,0],\n",
    "                  [0,0,1,0,0,0],\n",
    "                  [0,0,1,0,0,0],\n",
    "                  [0,0,1,0,0,0],\n",
    "                  [0,0,1,0,0,0]\n",
    "                 ])\n",
    "\n",
    "print(\"Image synthétique:\\n\",\"image.shape:\",image.shape,\"\\n\\n\",image)\n",
    "\n",
    "yint = range(0, image.shape[1])\n",
    "plt.yticks(yint)\n",
    "plt.imshow(image,cmap=plt.get_cmap('gray'),vmin=0,vmax=1)\n",
    "plt.show()\n",
    "\n",
    "# Filtre pour reconnaître des lignes verticales dans une image\n",
    "filtre = np.array([[ 1,  0, -1],\n",
    "                   [ 1,  0, -1],\n",
    "                   [ 1,  0, -1]])\n",
    "print(\"Filtre vertical:\\n\\n\",filtre,\"\\n\")\n",
    "\n",
    "resultat_convolution = convolution(image,filtre)\n",
    "print(\"\\nRésultat convolution:\\n\",\"resultat_convolution.shape:\",resultat_convolution.shape,\"\\n\\n\",resultat_convolution)\n",
    "\n",
    "yint = range(0, resultat_convolution.shape[1])\n",
    "plt.yticks(yint)\n",
    "plt.imshow(resultat_convolution,cmap=plt.get_cmap('gray'),vmin=0,vmax=1)\n",
    "plt.show()"
   ]
  },
  {
   "cell_type": "markdown",
   "id": "legitimate-hotel",
   "metadata": {},
   "source": [
    "### Détection de lignes horizontales \n",
    "\n",
    "De son côté, un filtre capable de détecter des lignes horizontales est simplement une transposition du filtre précédent. C'est-à-dire un tableau 3 x 3 ayant une ligne de 1, suivie d’une ligne de 0 et d’une ligne de -1.\n",
    "\n",
    "    [[ +1.0, +0.0, -1.0],\n",
    "     [ +1.0, +0.0, -1.0],\n",
    "     [ +1.0, +0.0, -1.0]]"
   ]
  },
  {
   "cell_type": "code",
   "execution_count": null,
   "id": "funky-morrison",
   "metadata": {},
   "outputs": [],
   "source": [
    "# image synthétique comportant une ligne verticale\n",
    "image = np.array([[0,0,0,0,0,0],\n",
    "                  [1,1,1,1,1,1],\n",
    "                  [0,0,0,0,0,0],\n",
    "                  [0,0,0,0,0,0],\n",
    "                  [0,0,0,0,0,0],\n",
    "                  [0,0,0,0,0,0],\n",
    "                 ])\n",
    "\n",
    "print(\"Image synthétique:\\n\",\"image.shape:\",image.shape,\"\\n\\n\",image)\n",
    "\n",
    "yint = range(0, image.shape[1])\n",
    "plt.yticks(yint)\n",
    "plt.imshow(image,cmap=plt.get_cmap('gray'),vmin=0,vmax=1)\n",
    "plt.show()\n",
    "\n",
    "# Filtre pour reconnaître des lignes horizontales dans une image\n",
    "filtre = np.array([[ +1.0, +1.0, +1.0],\n",
    "                   [ +0.0, +0.0, +0.0],\n",
    "                   [ -1.0, -1.0, -1.0]])\n",
    "print(\"\\nFiltre ligne horizontale:\\n\",filtre)\n",
    "\n",
    "resultat_convolution = convolution(image,filtre)\n",
    "print(\"\\nRésultat convolution:\\n\",\"resultat_convolution.shape:\",resultat_convolution.shape,\"\\n\\n\",resultat_convolution)\n",
    "\n",
    "yint = range(0, resultat_convolution.shape[1])\n",
    "plt.yticks(yint)\n",
    "plt.imshow(resultat_convolution,cmap=plt.get_cmap('gray'),vmin=0,vmax=1)\n",
    "plt.show()"
   ]
  },
  {
   "cell_type": "markdown",
   "id": "institutional-gross",
   "metadata": {},
   "source": [
    "## Expériences avec une photo de chevreuil en tons de gris"
   ]
  },
  {
   "cell_type": "code",
   "execution_count": null,
   "id": "british-newspaper",
   "metadata": {
    "scrolled": false
   },
   "outputs": [],
   "source": [
    "chemin_data = \"https://cours.edulib.org/asset-v1:Cegep-Matane+VAERN.1FR+P2021+type@asset+block@\"\n",
    "\n",
    "# Image source\n",
    "image = plt.imread(chemin_data+\"Chevreuil-0621_rouge-blanc_noir.png\")\n",
    "print(\"Image source, taille\",image.shape)\n",
    "\n",
    "yint = range(0, image.shape[1])\n",
    "plt.yticks(yint)\n",
    "plt.imshow(image,cmap=plt.get_cmap('gray'),vmin=0,vmax=1)\n",
    "plt.show()"
   ]
  },
  {
   "cell_type": "code",
   "execution_count": null,
   "id": "thousand-pharmaceutical",
   "metadata": {},
   "outputs": [],
   "source": [
    "# Filtre ligne verticale\n",
    "filtre = np.array([[ +1.0, +0.0, -1.0],\n",
    "                   [ +1.0, +0.0, -1.0],\n",
    "                   [ +1.0, +0.0, -1.0]])\n",
    "print(\"Filtre vertical:\\n\\n\",filtre,\"\\n\")\n",
    "\n",
    "resultat_convolution = convolution(image,filtre)\n",
    "\n",
    "print(\"\\nRésultat convolution:\\n\",\"resultat_convolution.shape:\",resultat_convolution.shape)\n",
    "yint = range(0, resultat_convolution.shape[1])\n",
    "plt.yticks(yint)\n",
    "plt.imshow(resultat_convolution,cmap=plt.get_cmap('gray'),vmin=0,vmax=1)\n",
    "plt.show()"
   ]
  },
  {
   "cell_type": "markdown",
   "id": "major-growth",
   "metadata": {},
   "source": [
    "**Note:** Le filtre de lignes verticales fait ressortir les pattes et ses oreilles du chevreuil. "
   ]
  },
  {
   "cell_type": "code",
   "execution_count": null,
   "id": "joined-person",
   "metadata": {},
   "outputs": [],
   "source": [
    "# Filtre ligne horizontale\n",
    "filtre = np.array([[ +1.0, +1.0, +1.0],\n",
    "                   [ +0.0, +0.0, +0.0],\n",
    "                   [ -1.0, -1.0, -1.0]])\n",
    "print(\"\\nFiltre ligne horizontale:\\n\",filtre)\n",
    "\n",
    "resultat_convolution = convolution(image,filtre)\n",
    "\n",
    "print(\"\\nRésultat convolution:\\n\",\"resultat_convolution.shape:\",resultat_convolution.shape)\n",
    "yint = range(0, resultat_convolution.shape[1])\n",
    "plt.yticks(yint)\n",
    "plt.imshow(resultat_convolution,cmap=plt.get_cmap('gray'),vmin=0,vmax=1)\n",
    "plt.show()"
   ]
  },
  {
   "cell_type": "markdown",
   "id": "streaming-marina",
   "metadata": {},
   "source": [
    "**Note:** Le filtre de lignes horizontales fait ressortir le dos du chevreuil."
   ]
  },
  {
   "cell_type": "code",
   "execution_count": null,
   "id": "infrared-withdrawal",
   "metadata": {},
   "outputs": [],
   "source": [
    "# Filtre : zone claire entourée de pixels plus foncés\n",
    "filtre = np.array([[-1.0, -1.0, -1.0], \n",
    "                   [-1.0, +1.0, -1.0],\n",
    "                   [-1.0, -1.0, -1.0]])\n",
    "print(\"\\nFiltre : zone claire entourée de pixels plus foncés\\n\",filtre)\n",
    "\n",
    "resultat_convolution = convolution(image,filtre)\n",
    "\n",
    "print(\"\\nRésultat convolution:\\n\",\"resultat_convolution.shape:\",resultat_convolution.shape)\n",
    "yint = range(0, resultat_convolution.shape[1])\n",
    "plt.yticks(yint)\n",
    "plt.imshow(resultat_convolution,cmap=plt.get_cmap('gray'),vmin=0,vmax=1)\n",
    "plt.show()"
   ]
  },
  {
   "cell_type": "markdown",
   "id": "subsequent-heath",
   "metadata": {},
   "source": [
    "**Note:** Le filtre pixel clair entouré de pixels foncés révèle le contour du chevreuil."
   ]
  },
  {
   "cell_type": "markdown",
   "id": "stainless-background",
   "metadata": {},
   "source": [
    "## Complément utile\n",
    "Ci-dessous, une manipulation simple de l'image en y ajoutant un carré noir."
   ]
  },
  {
   "cell_type": "code",
   "execution_count": null,
   "id": "mathematical-valentine",
   "metadata": {},
   "outputs": [],
   "source": [
    "image[25:30,25:30]=0\n",
    "plt.imshow(image,cmap=plt.get_cmap('gray'),vmin=0,vmax=1)\n",
    "plt.show()\n"
   ]
  },
  {
   "cell_type": "code",
   "execution_count": null,
   "id": "saving-humor",
   "metadata": {},
   "outputs": [],
   "source": []
  }
 ],
 "metadata": {
  "kernelspec": {
   "display_name": "Python 3",
   "language": "python",
   "name": "python3"
  },
  "language_info": {
   "codemirror_mode": {
    "name": "ipython",
    "version": 3
   },
   "file_extension": ".py",
   "mimetype": "text/x-python",
   "name": "python",
   "nbconvert_exporter": "python",
   "pygments_lexer": "ipython3",
   "version": "3.8.8"
  }
 },
 "nbformat": 4,
 "nbformat_minor": 5
}
