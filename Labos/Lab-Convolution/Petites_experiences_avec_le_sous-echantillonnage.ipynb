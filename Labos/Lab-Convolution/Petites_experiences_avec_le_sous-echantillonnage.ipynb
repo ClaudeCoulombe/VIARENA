{
 "cells": [
  {
   "cell_type": "markdown",
   "id": "relevant-endorsement",
   "metadata": {},
   "source": [
    "<a href=\"https://colab.research.google.com/github/ClaudeCoulombe/VIARENA/blob/master/Labos/Petites_experiences_avec_la_convolution.ipynb\" target=\"_blank\"><img src=\"https://colab.research.google.com/assets/colab-badge.svg\" alt=\"Open In Colab\"/></a>\n",
    "\n",
    "### Rappel - Fonctionnement d'un carnet web iPython\n",
    "\n",
    "* Pour exécuter le code contenu dans une cellule d'un carnet iPython, cliquez dans la cellule et faites (⇧↵, shift-enter) \n",
    "* Le code d'un carnet iPython s'exécute séquentiellement de haut en bas de la page. Souvent, l'importation d'une bibliothèque Python ou l'initialisation d'une variable est préalable à l'exécution d'une cellule située plus bas. Il est donc recommandé d'exécuter les cellules en séquence. Enfin, méfiez-vous des retours en arrière qui peuvent réinitialiser certaines variables."
   ]
  },
  {
   "cell_type": "markdown",
   "id": "advance-transition",
   "metadata": {},
   "source": [
    "# Petites expériences le sous-échantillonnage\n",
    "\n",
    "Vous allez expérimenter l'application du sous-échantillonage pour rédure la taille des représentations en sortie d'une couche convolutive. Dans un premier temps sur des images synthétiques puis sur une image de chevreuil faisant partie du jeu de données CIFAR-10. "
   ]
  },
  {
   "cell_type": "code",
   "execution_count": null,
   "id": "generic-trading",
   "metadata": {},
   "outputs": [],
   "source": [
    "import numpy as np\n",
    "import matplotlib.pyplot as plt\n",
    "\n",
    "def sous_echantillonnage(image):\n",
    "    filtre = np.array([[1,1],[1,1]]) \n",
    "    representation = np.zeros([image.shape[0]//2,\n",
    "                               image.shape[1]//2])\n",
    "    # Balayage de l'image\n",
    "    for ligne in range(0,image.shape[0]-1,2):\n",
    "        for col in range(0,image.shape[1]-1,2):\n",
    "            # Calcul du sous-échantillon\n",
    "            zone_a_reduire = image[ligne:ligne+2,col:col+2]*filtre\n",
    "            representation[ligne//2, col//2] = np.max(zone_a_reduire)\n",
    "    return representation"
   ]
  },
  {
   "cell_type": "code",
   "execution_count": null,
   "id": "framed-segment",
   "metadata": {},
   "outputs": [],
   "source": [
    "# image synthétique d'un damier\n",
    "image = np.array([[1,0,1,0,1,0],\n",
    "                  [0,1,0,1,0,1],\n",
    "                  [1,0,1,0,1,0],\n",
    "                  [0,1,0,1,0,1],\n",
    "                  [1,0,1,0,1,0],\n",
    "                  [0,1,0,1,0,1]\n",
    "                 ])\n",
    "\n",
    "print(\"image:\\n\",image)\n",
    "\n",
    "plt.imshow(image,cmap=plt.get_cmap('gray'),vmin=0,vmax=1)\n",
    "plt.show()\n",
    "\n",
    "resultat_sousEchantillon = sous_echantillonnage(image)\n",
    "print(\"\\nRésultat sous-échantillon:\\n\",resultat_sousEchantillon)\n",
    "\n",
    "plt.yticks(range(0, resultat_sousEchantillon.shape[0]))\n",
    "plt.xticks(range(0, resultat_sousEchantillon.shape[1]))\n",
    "plt.imshow(resultat_sousEchantillon,cmap=plt.get_cmap('gray'),vmin=0,vmax=1)\n",
    "plt.show()"
   ]
  },
  {
   "cell_type": "markdown",
   "id": "ecological-korea",
   "metadata": {},
   "source": [
    "**Note:** Chaque fenêtre de 2 x 2 de notre damier régulier contient un pixel à 1. Le résultat est donc une image avec tout les pixels à 1, soit un carré blanc.\n"
   ]
  },
  {
   "cell_type": "code",
   "execution_count": null,
   "id": "periodic-franklin",
   "metadata": {},
   "outputs": [],
   "source": [
    "# image synthétique comportant une ligne verticale\n",
    "image = np.array([[0,0,1,0,0,0],\n",
    "                  [0,0,1,0,0,0],\n",
    "                  [0,0,1,0,0,0],\n",
    "                  [0,0,1,0,0,0],\n",
    "                  [0,0,1,0,0,0],\n",
    "                  [0,0,1,0,0,0]\n",
    "                 ])\n",
    "\n",
    "print(\"image:\\n\",image)\n",
    "\n",
    "plt.imshow(image,cmap=plt.get_cmap('gray'),vmin=0,vmax=1)\n",
    "plt.show()\n",
    "\n",
    "resultat_sousEchantillon = sous_echantillonnage(image)\n",
    "print(\"\\nRésultat sous-échantillon:\\n\",resultat_sousEchantillon)\n",
    "\n",
    "plt.yticks(range(0, resultat_sousEchantillon.shape[0]))\n",
    "plt.xticks(range(0, resultat_sousEchantillon.shape[1]))\n",
    "plt.imshow(resultat_sousEchantillon,cmap=plt.get_cmap('gray'),vmin=0,vmax=1)\n",
    "plt.show()"
   ]
  },
  {
   "cell_type": "markdown",
   "id": "direct-candy",
   "metadata": {},
   "source": [
    "**Note:** Ici, la ligne verticale a été détectée par le filtre."
   ]
  },
  {
   "cell_type": "code",
   "execution_count": null,
   "id": "ongoing-flesh",
   "metadata": {
    "scrolled": false
   },
   "outputs": [],
   "source": [
    "# image synthétique comportant une ligne verticale\n",
    "image = np.array([[0, 0, 0, 1, 1, 0, 0, 0],\n",
    "                 [0, 0, 0, 1, 1, 0, 0, 0],\n",
    "                 [0, 0, 0, 1, 1, 0, 0, 0],\n",
    "                 [0, 0, 0, 1, 1, 0, 0, 0],\n",
    "                 [0, 0, 0, 1, 1, 0, 0, 0],\n",
    "                 [0, 0, 0, 1, 1, 0, 0, 0],\n",
    "                 [0, 0, 0, 1, 1, 0, 0, 0],\n",
    "                 [0, 0, 0, 1, 1, 0, 0, 0]])\n",
    "\n",
    "print(\"image:\\n\",image)\n",
    "\n",
    "plt.imshow(image,cmap=plt.get_cmap('gray'),vmin=0,vmax=1)\n",
    "plt.show()\n",
    "\n",
    "resultat_sousEchantillon = sous_echantillonnage(image)\n",
    "print(\"\\nRésultat sous-échantillon:\\n\",resultat_sousEchantillon)\n",
    "\n",
    "plt.yticks(range(0, resultat_sousEchantillon.shape[0]))\n",
    "plt.xticks(range(0, resultat_sousEchantillon.shape[1]))\n",
    "plt.imshow(resultat_sousEchantillon,cmap=plt.get_cmap('gray'),vmin=0,vmax=1)\n",
    "plt.show()"
   ]
  },
  {
   "cell_type": "markdown",
   "id": "institutional-gross",
   "metadata": {},
   "source": [
    "## Expérience avec une photo de chevreuil en tons de gris"
   ]
  },
  {
   "cell_type": "code",
   "execution_count": null,
   "id": "british-newspaper",
   "metadata": {
    "scrolled": false
   },
   "outputs": [],
   "source": [
    "chemin_data = \"https://cours.edulib.org/asset-v1:Cegep-Matane+VAERN.1FR+P2021+type@asset+block@\"\n",
    "\n",
    "# Image source\n",
    "image = plt.imread(chemin_data+\"Chevreuil-0621_rouge-blanc_noir.png\")\n",
    "print(\"Image originale:\",image.shape)\n",
    "\n",
    "plt.imshow(image,cmap=plt.get_cmap('gray'),vmin=0,vmax=1)\n",
    "plt.show()\n",
    "\n",
    "# Sous-échantillonnage de l'image\n",
    "resultat_sousEchantillon = sous_echantillonnage(image)\n",
    "print(\"\\nRésultat sous-échantillon:\",resultat_sousEchantillon.shape)\n",
    "plt.yticks(range(0, resultat_sousEchantillon.shape[0]))\n",
    "plt.xticks(range(0, resultat_sousEchantillon.shape[1]))\n",
    "plt.imshow(resultat_sousEchantillon,cmap=plt.get_cmap('gray'),vmin=0,vmax=1)\n",
    "plt.show()\n"
   ]
  },
  {
   "cell_type": "code",
   "execution_count": null,
   "id": "saving-humor",
   "metadata": {},
   "outputs": [],
   "source": []
  }
 ],
 "metadata": {
  "kernelspec": {
   "display_name": "Python 3",
   "language": "python",
   "name": "python3"
  },
  "language_info": {
   "codemirror_mode": {
    "name": "ipython",
    "version": 3
   },
   "file_extension": ".py",
   "mimetype": "text/x-python",
   "name": "python",
   "nbconvert_exporter": "python",
   "pygments_lexer": "ipython3",
   "version": "3.8.8"
  }
 },
 "nbformat": 4,
 "nbformat_minor": 5
}
