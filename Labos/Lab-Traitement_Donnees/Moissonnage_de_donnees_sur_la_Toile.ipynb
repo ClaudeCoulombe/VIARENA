{
 "cells": [
  {
   "cell_type": "markdown",
   "id": "sudden-brooklyn",
   "metadata": {},
   "source": [
    "<a href=\"https://colab.research.google.com/github/ClaudeCoulombe/VIARENA/blob/master/Labos/Moissonnage_de_donnees_sur_la_Toile.ipynb\" target=\"_blank\"><img src=\"https://colab.research.google.com/assets/colab-badge.svg\" alt=\"Open In Colab\"/></a>\n",
    "\n",
    "### Rappel - Fonctionnement d'un carnet web iPython\n",
    "\n",
    "* Pour exécuter le code contenu dans une cellule d'un carnet iPython, cliquez dans la cellule et faites (⇧↵, shift-enter) \n",
    "* Le code d'un carnet iPython s'exécute séquentiellement de haut en bas de la page. Souvent, l'importation d'une bibliothèque Python ou l'initialisation d'une variable est préalable à l'exécution d'une cellule située plus bas. Il est donc recommandé d'exécuter les cellules en séquence. Enfin, méfiez-vous des retours en arrière qui peuvent réinitialiser certaines variables."
   ]
  },
  {
   "cell_type": "markdown",
   "id": "altered-authorization",
   "metadata": {},
   "source": [
    "# Moissonnage de données sur la Toile\n",
    "\n",
    "## Les marées des sept prochains jours à Tadoussac \n",
    "\n",
    "<p>Vous planifiez une sortie en kayak de mer à Tadoussac qui est située sur le fleuve Saint-Laurent à l'embouchure du Saguenay. Vous allez moissonner les informations concernant les marées pour les sept prochains jours à compter du 21 septembre 2021. Pour cela, vous utiliserez un formulaire disponible sur le site de Pêches et Océans Canada.</p> \n",
    "\n",
    "<p>Pour simuler les interactions que fait un humain avec le site web, vous utiliserez la bibliothèque python <a href=\"https://selenium-python.readthedocs.io/\" target='_blank'>Selenium</a>. L'extraction des sections pertinentes de la page web des résultats sera faite avec l'outil python <a href=\"https://www.crummy.com/software/BeautifulSoup/bs4/doc/\" target='_blank'>Beautiful Soup</a>. Enfin, des <a href=\"https://docs.python.org/fr/3/howto/regex.html\" target='_blank'>expressions régulières<sup>1</sup></a> seront utilisées pour extraire les informations détaillées.</p>\n",
    "<hr/>\n",
    "<span style=\"font-size:80%\"><sup>1</sup><b>Note - pratique: </b><a href=\"https://regex101.com/\" target='_blank'>regex101.com</a> est un excellent site pour pratiquer et metre au point des expressions régulières.</span>"
   ]
  },
  {
   "cell_type": "markdown",
   "id": "accurate-remainder",
   "metadata": {},
   "source": [
    "## Importation des bibliothèques Python"
   ]
  },
  {
   "cell_type": "code",
   "execution_count": null,
   "id": "coated-dimension",
   "metadata": {},
   "outputs": [],
   "source": [
    "# -*- coding: utf-8 -*-\n",
    "\n",
    "import requests, csv, os, time\n",
    "# sudo pip3 install bs4\n",
    "from bs4 import BeautifulSoup\n",
    "# Installer ChromeDriver sur mac OS\n",
    "# brew install chromedriver\n",
    "# sudo pip3 install selenium\n",
    "from selenium import webdriver\n",
    "from selenium.webdriver.common.keys import Keys\n",
    "\n",
    "print(\"Bibliothèques Python importées\")"
   ]
  },
  {
   "cell_type": "markdown",
   "id": "retained-agreement",
   "metadata": {},
   "source": [
    "## Analyse des points d'entrée du formulaire avec la fonction d'inspection de votre fureteur\n",
    "<ul>\n",
    "    <ul>\n",
    "        <li>Ouvrir la page du <a href=\"https://www.marees.gc.ca/fra/station?sid=2985\" target='_blank'>formulaire</a> sur le site de Pêches et Océans Canada;</li>\n",
    "        <li>Reconstituer la séquence des interactions avec le formulaire (clics, menus et saisie clavier);</li>\n",
    "        <li>Obtenir les identifiants des boutons, des menus, des champs de saisie;</li>\n",
    "    </ul>\n",
    "</ul>   "
   ]
  },
  {
   "cell_type": "markdown",
   "id": "dangerous-upset",
   "metadata": {},
   "source": [
    "## Programmation d'un script d'interaction Selenium avec le formulaire"
   ]
  },
  {
   "cell_type": "code",
   "execution_count": null,
   "id": "waiting-medicaid",
   "metadata": {},
   "outputs": [],
   "source": [
    "# Instanciation d'un pilote pour le fureteur Chrome \n",
    "pilote_chrome = webdriver.Chrome(\"/usr/local/bin/chromedriver\")\n",
    "\n",
    "# Obtenir la page du formulaire de Pêches et Océans\n",
    "pilote_chrome.get(\"https://www.marees.gc.ca/fra/station?sid=2985\")\n",
    "\n",
    "date_requise = \"2021/09/21\"\n",
    "saisie_date = pilote_chrome.find_element_by_id(\"date\")\n",
    "saisie_date.clear()\n",
    "saisie_date.send_keys(date_requise, Keys.RETURN)\n",
    "\n",
    "municipalite_requise = \"Tadoussac\"\n",
    "# Obtenir le menu déroulant des municipalités\n",
    "menu_deroulant_localites = pilote_chrome.find_element_by_id(\"sid\")\n",
    "# Obtenir la liste des municipalités\n",
    "liste_municipalites = menu_deroulant_localites.find_elements_by_tag_name('option')\n",
    "# Choisir la municipalité requise\n",
    "for municipalite in liste_municipalites:\n",
    "    # print(municipalite.text)\n",
    "    if (municipalite.text == municipalite_requise):\n",
    "        municipalite.click()\n",
    "\n",
    "format_requis = \"texte\"\n",
    "# Obtenir le menu déroulant des formats de sortie\n",
    "menu_deroulant_formats = pilote_chrome.find_element_by_id(\"pres\")\n",
    "# Obtenir la liste des formats de sortie\n",
    "liste_formats = menu_deroulant_formats.find_elements_by_tag_name('option')\n",
    "# Choisir le format requis\n",
    "for format_type in liste_formats:\n",
    "    # print(format_type.text)\n",
    "    if (format_type.text == format_requis):\n",
    "        format_type.click()\n",
    "\n",
    "# Activer la soumission du formulaire     \n",
    "bouton_soumission = pilote_chrome.find_element_by_css_selector(\"input.button.button-accent\")       \n",
    "bouton_soumission.click()\n",
    "\n",
    "# Obtenir la page web des résultats\n",
    "page_reponse = pilote_chrome.page_source\n",
    "\n",
    "print(\"Script Selenium exécuté, formulaire soumis...\")"
   ]
  },
  {
   "cell_type": "markdown",
   "id": "extreme-matrix",
   "metadata": {},
   "source": [
    "## Analyse de la page de réponse retournée avec BeautifulSoup"
   ]
  },
  {
   "cell_type": "code",
   "execution_count": null,
   "id": "pretty-madagascar",
   "metadata": {},
   "outputs": [],
   "source": [
    "# Analyser la page de réponse retournée avec BeautifulSoup\n",
    "dom_page_resultats = BeautifulSoup(page_reponse,\"html.parser\") \n",
    "\n",
    "# Afficher la page web retournée\n",
    "print(dom_page_resultats.prettify())"
   ]
  },
  {
   "cell_type": "markdown",
   "id": "capable-friendship",
   "metadata": {},
   "source": [
    "## Extraction des sections pertinentes de la page de résultats avec Beautiful Soup;"
   ]
  },
  {
   "cell_type": "code",
   "execution_count": null,
   "id": "union-equity",
   "metadata": {},
   "outputs": [],
   "source": [
    "# Extraire de la page les sections pertinentes\n",
    "# cela implique un examen du contenu de la page et\n",
    "# une connaissance des possibilités de BeautifulSoup\n",
    "# https://www.crummy.com/software/BeautifulSoup/bs4/doc/\n",
    "\n",
    "# Extraire les paramètres de la requête de recherche d'information\n",
    "parametres_bruts = dom_page_resultats.find(\"div\", {\"class\":\"stationTextHeader\"})\n",
    "# print(\"Paramètres bruts:\")\n",
    "parametres_bruts = parametres_bruts.getText().strip()\n",
    "\n",
    "# Extraire les données de marée \n",
    "donnees_marees_brutes = dom_page_resultats.find(\"div\", {\"class\":\"stationTextData\"})\n",
    "# print(\"Données marées brutes:\\n\",donnees_marees_brutes)\n",
    "donnees_marees_brutes = donnees_marees_brutes.getText().strip()\n",
    "donnees_marees_brutes_liste = donnees_marees_brutes.split('\\n')\n",
    "\n",
    "print(\"Sections pertinentes de la page de résultats isolées\")"
   ]
  },
  {
   "cell_type": "markdown",
   "id": "swedish-climate",
   "metadata": {},
   "source": [
    "## Extraction des informations détaillées avec des expressions régulières;"
   ]
  },
  {
   "cell_type": "code",
   "execution_count": null,
   "id": "acoustic-venezuela",
   "metadata": {},
   "outputs": [],
   "source": [
    "# Extraction des attributs au moyen d'une expression régulière\n",
    "# la mise au point de l'expression régulière se fait avec https://regex101.com/\n",
    "import re\n",
    "FORME1 = re.compile(r'# Station : (\\W*\\w*)\\s\\((\\d*)\\)\\s*#\\sfuseau horaire : (\\w*)[\\W*\\w*\\s*]*')\n",
    "formes_reconnues = re.match(FORME1,parametres_bruts)\n",
    "if formes_reconnues:\n",
    "    localite = formes_reconnues.group(1)\n",
    "    code_station = formes_reconnues.group(2)\n",
    "    fuseau_horaire = formes_reconnues.group(3)\n",
    "    # print(localite+'\\t'+code_station+'\\t'+fuseau_horaire)\n",
    "\n",
    "# Extraction des attributs au moyen d'une expression régulière\n",
    "# la mise au point de l'expression régulière se fait avec https://regex101.com/\n",
    "import re\n",
    "FORME2 = re.compile(r'\\s*(\\d*-\\d*-\\d*);(\\d*:\\d*:\\d*);(\\d*.\\d*)\\(m\\);\\d*.\\d*\\(ft\\)$')\n",
    "donnees_marees_liste = []\n",
    "for data_element in donnees_marees_brutes_liste:\n",
    "    formes_reconnues = re.match(FORME2,data_element)\n",
    "    if formes_reconnues:\n",
    "        date = formes_reconnues.group(1)\n",
    "        heure = formes_reconnues.group(2)\n",
    "        hauteur = formes_reconnues.group(3)\n",
    "        donnees_chaine = date+'\\t'+heure+'\\t'+hauteur\n",
    "        # print(donnees_chaine)\n",
    "        donnees_marees_liste.append(donnees_chaine)\n",
    "        \n",
    "print(\"Informations détaillées sur les marées extraites\")"
   ]
  },
  {
   "cell_type": "markdown",
   "id": "fitted-junction",
   "metadata": {},
   "source": [
    "## Sauvegarde des données de marées dans le fichier `marees_donnees.csv`"
   ]
  },
  {
   "cell_type": "code",
   "execution_count": null,
   "id": "fleet-preference",
   "metadata": {},
   "outputs": [],
   "source": [
    "# Sauvegarder les données dans un fichier .csv\n",
    "chemin_fichier_sortie = './'\n",
    "nom_fichier_sortie = \"marees_donnees.csv\"\n",
    "with open(chemin_fichier_sortie+nom_fichier_sortie,'w') as fichier_sortie:\n",
    "    # Écriture de l'entête du fichier listant les différents attributs\n",
    "    fichier_sortie.write('localite\\tstation\\tfuseau_horaire\\tdate\\theure\\thauteur_m\\n')\n",
    "    for donnees_marees in donnees_marees_liste:\n",
    "        # Écriture des données sur la marée dans le fichier\n",
    "        fichier_sortie.write(localite+'\\t'+code_station+'\\t'+fuseau_horaire+'\\t'+donnees_marees+'\\n')\n",
    "        \n",
    "print(\"Données de marées sauvegardées dans le fichier `marees_donnees.csv`\")"
   ]
  },
  {
   "cell_type": "markdown",
   "id": "underlying-confidence",
   "metadata": {},
   "source": [
    "## Test de lecture du fichier de données"
   ]
  },
  {
   "cell_type": "code",
   "execution_count": null,
   "id": "future-beginning",
   "metadata": {},
   "outputs": [],
   "source": [
    "import pandas as pd\n",
    "\n",
    "donnees_marees_df = pd.read_csv(chemin_fichier_sortie+nom_fichier_sortie,delimiter='\\t')\n",
    "donnees_marees_df"
   ]
  },
  {
   "cell_type": "code",
   "execution_count": null,
   "id": "inner-farmer",
   "metadata": {},
   "outputs": [],
   "source": []
  }
 ],
 "metadata": {
  "kernelspec": {
   "display_name": "Python 3",
   "language": "python",
   "name": "python3"
  },
  "language_info": {
   "codemirror_mode": {
    "name": "ipython",
    "version": 3
   },
   "file_extension": ".py",
   "mimetype": "text/x-python",
   "name": "python",
   "nbconvert_exporter": "python",
   "pygments_lexer": "ipython3",
   "version": "3.8.10"
  }
 },
 "nbformat": 4,
 "nbformat_minor": 5
}
