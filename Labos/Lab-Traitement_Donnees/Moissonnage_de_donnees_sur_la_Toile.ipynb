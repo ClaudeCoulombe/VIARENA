{
 "cells": [
  {
   "cell_type": "markdown",
   "id": "modern-rabbit",
   "metadata": {},
   "source": [
    "# Laboratoire facultatif \n",
    "## Ce carnet web IPython ne fonctionne pas dans Google Colab mais il peut s'exécuter sur un poste de travail sur lequel est installé un fureteur piloté par Selenium.\n",
    "\n",
    "### Rappel - Fonctionnement d'un carnet web iPython\n",
    "\n",
    "* Pour exécuter le code contenu dans une cellule d'un carnet iPython, cliquez dans la cellule et faites (⇧↵, shift-enter) \n",
    "* Le code d'un carnet iPython s'exécute séquentiellement de haut en bas de la page. Souvent, l'importation d'une bibliothèque Python ou l'initialisation d'une variable est préalable à l'exécution d'une cellule située plus bas. Il est donc recommandé d'exécuter les cellules en séquence. Enfin, méfiez-vous des retours en arrière qui peuvent réinitialiser certaines variables."
   ]
  },
  {
   "cell_type": "markdown",
   "id": "informed-links",
   "metadata": {},
   "source": [
    "# Moissonnage de données sur la Toile - formulaire web\n",
    "\n",
    "## Les marées des sept prochains jours à Tadoussac \n",
    "\n",
    "<p>Vous planifiez une sortie en kayak de mer à Tadoussac qui est située sur le fleuve Saint-Laurent à l'embouchure du Saguenay. Vous allez moissonner les informations concernant les marées pour les sept prochains jours à compter du 21 septembre 2024. Pour cela, vous utiliserez un formulaire disponible sur le site de Pêches et Océans Canada. </p> \n",
    "\n",
    "<p>Pour simuler les interactions que fait un humain avec le site web, vous utiliserez la bibliothèque python <a href=\"https://selenium-python.readthedocs.io/\" target='_blank'>Selenium</a>. L'extraction des sections pertinentes de la page web des résultats sera faite avec l'outil python <a href=\"https://www.crummy.com/software/BeautifulSoup/bs4/doc/\" target='_blank'>Beautiful Soup</a>. Enfin, des <a href=\"https://docs.python.org/fr/3/howto/regex.html\" target='_blank'>expressions régulières<sup>1</sup></a> seront utilisées pour extraire les informations détaillées.</p>\n",
    "<hr/>\n",
    "<span style=\"font-size:80%\"><sup>1</sup><b>Note - pratique: </b><a href=\"https://regex101.com/\" target='_blank'>regex101.com</a> est un excellent site pour pratiquer et mettre au point des expressions régulières.</span>"
   ]
  },
  {
   "cell_type": "markdown",
   "id": "military-bundle",
   "metadata": {},
   "source": [
    "## Importation des bibliothèques Python\n",
    "<ul>\n",
    "<ul>\n",
    "  <li><b><i>re</i></b> (expressions régulières), <b><i>json</i></b> (traitement du format de données json: JavaScript Object Notation) et et <b><i>datetime</i></b> (traitement des dates et de l'heure) sont des bibliothèques Python standard, vous n'avez pas besoin de les installer, il suffit de les importer.</li>\n",
    "    <li>Installation d'un <a href=\"https://selenium-python.readthedocs.io/installation.html#drivers\" target='_blank'>pilote pour le contrôle de votre fureteur par Selenium</a></li>\n",
    "  <ul>\n",
    "      <li><a href=\"https://sites.google.com/a/chromium.org/chromedriver/downloads\" target='_blank'>Pilotes</a> pour le fureteur Chrome</li> \n",
    "      <li>Par exemple sur Mac OS et le fureteur Chrome, brew install chromedriver</li>\n",
    "  </ul>\n",
    "  <li>Installation de <a href=\"https://selenium-python.readthedocs.io/\" target='_blank'>Selenium</a></li>\n",
    "  <ul>\n",
    "    <li>Par exemple, sudo pip3 install selenium</li>\n",
    "  </ul>\n",
    "  <li>Installation de <a href=\"https://www.crummy.com/software/BeautifulSoup/bs4/doc/\" target='_blank'>Beautiful Soup</a></li>\n",
    "  <ul>\n",
    "    <li>Par exemple, sudo pip3 install bs4</li>\n",
    "  </ul>\n",
    "</ul>\n",
    "</ul>"
   ]
  },
  {
   "cell_type": "code",
   "execution_count": null,
   "id": "c877d64b-a6f4-472c-8870-f04e97b384a0",
   "metadata": {},
   "outputs": [],
   "source": [
    "# Importation et installation de la bibliothèque Selenium\n",
    "# Attention! insérez votre mot de passe (celui de votre ordinateur), sans guillemets\n",
    "import sys\n",
    "!echo votreMotDePasse | sudo -S {sys.executable} -m  pip install selenium"
   ]
  },
  {
   "cell_type": "code",
   "execution_count": null,
   "id": "747f2ead-5c01-41a8-943a-5e07961149f3",
   "metadata": {},
   "outputs": [],
   "source": [
    "# Importation et installation de la bibliothèque webdriver-manager\n",
    "# Attention! insérez votre mot de passe (celui de votre ordinateur), sans guillemets\n",
    "!echo votreMotDePasse | sudo -S {sys.executable} -m pip install webdriver-manager"
   ]
  },
  {
   "cell_type": "code",
   "execution_count": null,
   "id": "74663332-4adf-41eb-8473-c9e3bd744ef2",
   "metadata": {},
   "outputs": [],
   "source": [
    "# Importation et installation de la bibliothèque chromedriver\n",
    "# Par exemple, ici je télécharge le ChromeDriver pour Mac et l'installe dans le répertoire /usr/local/bin/\n",
    "# Évidemment vous devez fournir votre mot de passe et le répertoire adéquat sur votre ordinateur\n",
    "# Attention! insérez votre mot de passe (celui de votre ordinateur), sans guillemets\n",
    "# Vous pourriez aussi devoir décompresser / unzip le fichier télécharger\n",
    "!echo votreMotDePasse | sudo -S wget -O /usr/local/bin/chromedriver-mac-arm64.zip https://storage.googleapis.com/chrome-for-testing-public/128.0.6613.84/mac-arm64/chromedriver-mac-arm64.zip"
   ]
  },
  {
   "cell_type": "code",
   "execution_count": null,
   "id": "c654c3f5-0c7d-4789-937c-a69edc34b9df",
   "metadata": {},
   "outputs": [],
   "source": [
    "# Installer la bibliothèque BeautifulSoup de manipulation du HTML  \n",
    "# sudo pip3 install bs4\n",
    "!echo votreMotDePasse | sudo -S {sys.executable} -m pip install bs4"
   ]
  },
  {
   "cell_type": "code",
   "execution_count": null,
   "id": "sharing-statement",
   "metadata": {},
   "outputs": [],
   "source": [
    "# -*- coding: utf-8 -*-\n",
    "from bs4 import BeautifulSoup\n",
    "from selenium import webdriver\n",
    "\n",
    "import re\n",
    "import pandas as pd\n",
    "\n",
    "print(\"Bibliothèques Python importées\")"
   ]
  },
  {
   "cell_type": "markdown",
   "id": "secondary-chance",
   "metadata": {},
   "source": [
    "## Analyse des points d'entrée du formulaire avec la fonction d'inspection de votre fureteur\n",
    "<ul>\n",
    "    <ul>\n",
    "        <li>Ouvrir la page du <a href=\"https://www.marees.gc.ca/fra/station?sid=2985\" target='_blank'>formulaire</a> sur le site de Pêches et Océans Canada;</li>\n",
    "        <li>Reconstituer la séquence des interactions avec le formulaire (clics, menus et saisie clavier);</li>\n",
    "        <li>Obtenir les identifiants des boutons, des menus, des champs de saisie;</li>\n",
    "    </ul>\n",
    "</ul>   "
   ]
  },
  {
   "cell_type": "markdown",
   "id": "partial-cyprus",
   "metadata": {},
   "source": [
    "## Programmation d'un script d'interaction Selenium avec le formulaire des marées\n",
    "\n"
   ]
  },
  {
   "cell_type": "code",
   "execution_count": null,
   "id": "occupational-ceiling",
   "metadata": {},
   "outputs": [],
   "source": [
    "# La nouvelle façon d'installer le pilote pour le fureteur Chrome\n",
    "# mais pour cela, il faut réussir à installer la bibliothèque webdriver_manager\n",
    "from selenium import webdriver\n",
    "from selenium.webdriver.common.by import By\n",
    "from selenium.webdriver.chrome.service import Service\n",
    "from webdriver_manager.chrome import ChromeDriverManager\n",
    "\n",
    "from warnings import filterwarnings\n",
    "filterwarnings(\"ignore\")\n",
    "\n",
    "# Instancier un pilote web pour le fureteur Chrome\n",
    "# service = Service('chemin vers chromedriver')\n",
    "service = Service('/usr/local/bin/chromedriver-mac-arm64/chromedriver')\n",
    "\n",
    "# pilote_chrome = webdriver.Chrome(service=Service(ChromeDriverManager().install()))\n",
    "pilote_chrome = webdriver.Chrome(service=service)\n",
    "\n",
    "# Ouvrir la page web où se trouve le formulaire des marées\n",
    "# Nous allons partir avec la station 00001\n",
    "pilote_chrome.get(\"https://www.marees.gc.ca/fr/stations/00001\")\n",
    "# puis la changer pour la station \"Tadoussac\"\n",
    "localite = \"Tadoussac\"\n",
    "\n",
    "# Demander le formulaire pour la localité de Tadoussac avec l'outil de recherche / filtrage\n",
    "# Pour trouver les identifiants HTML, il faut examiner la page web avec un outil d'inpection\n",
    "# Pour le fureteur Chrome en faisant option-click sur la page Web et choisir « inspecter »\n",
    "saisie_localite = pilote_chrome.find_element(By.ID,\"station-select-list\")\n",
    "# saisie_localite.clear()\n",
    "saisie_localite.send_keys(localite)\n",
    "\n",
    "# Demander un délai d'exécution\n",
    "import time \n",
    "time.sleep(2)\n",
    "\n",
    "# Changer la date du composant calendrier, ici le 21 septembre 2024\n",
    "nouvelle_date = \"2024-09-21\"\n",
    "saisie_date = pilote_chrome.find_element(By.ID, \"water-levels-date\")\n",
    "saisie_date.clear()\n",
    "pilote_chrome.execute_script(\"arguments[0].value = '\" + nouvelle_date + \"';\", saisie_date)\n",
    "\n",
    "# Soumettre la requête pour obtenir l'horaire des marées à Tadoussac pour\n",
    "# les sept prochains jours à compter du 21 septembre 2024\n",
    "bouton_soumettre = pilote_chrome.find_element(By.ID, \"water-levels-date-submit\")\n",
    "bouton_soumettre.click()\n",
    "\n",
    "# Demander un délai d'exécution\n",
    "time.sleep(5)\n",
    "\n",
    "# Obtenir la page web des résultats\n",
    "page_reponse = pilote_chrome.page_source\n",
    "\n",
    "print(\"Le script Selenium devrait ouvrir un fureteur et afficher un message\")\n",
    "print(\"du genre: « Browser is being controlled by automated test software. »\")\n",
    "print(\"puis le script Selenium simule les interactions avec le formulaire.\\n\")\n",
    "print(\"Script Selenium exécuté, formulaire soumis, page de résultats récupérée...\")"
   ]
  },
  {
   "cell_type": "markdown",
   "id": "understood-thomas",
   "metadata": {},
   "source": [
    "## Analyse de la page de résultats retournée avec `BeautifulSoup`"
   ]
  },
  {
   "cell_type": "markdown",
   "id": "435df815",
   "metadata": {},
   "source": [
    "### Affichage formaté de la page de résultats en HTML "
   ]
  },
  {
   "cell_type": "code",
   "execution_count": null,
   "id": "color-origin",
   "metadata": {},
   "outputs": [],
   "source": [
    "# Demander un délai d'exécution\n",
    "time.sleep(2)\n",
    "\n",
    "# Analyser la page de réponse retournée avec BeautifulSoup\n",
    "dom_page_resultats = BeautifulSoup(page_reponse,\"html.parser\") \n",
    "\n",
    "# Afficher la page web retournée\n",
    "print(dom_page_resultats.prettify())"
   ]
  },
  {
   "cell_type": "markdown",
   "id": "commercial-harassment",
   "metadata": {},
   "source": [
    "## Extraction des sections pertinentes de la page de résultats avec `Beautiful Soup`"
   ]
  },
  {
   "cell_type": "markdown",
   "id": "2d86e68e",
   "metadata": {},
   "source": [
    "### Affichage des sections pertinentes contenant les données de marée pour sept jours"
   ]
  },
  {
   "cell_type": "code",
   "execution_count": null,
   "id": "sacred-genre",
   "metadata": {},
   "outputs": [],
   "source": [
    "# Extraire de la page les sections pertinentes\n",
    "# cela implique un examen du contenu de la page et\n",
    "# une connaissance des possibilités de BeautifulSoup\n",
    "# https://www.crummy.com/software/BeautifulSoup/bs4/doc/\n",
    "\n",
    "# Demander un délai d'exécution\n",
    "time.sleep(2)\n",
    "\n",
    "# Extraire les paramètres de la requête de recherche d'information\n",
    "parametres_bruts = dom_page_resultats.find_all(\"table\", {\"class\":\"day-tables clearfix table-bordered responsive-enabled table table-hover table-striped\"})\n",
    "print(\"Sections pertinentes en HTML:\\n\")\n",
    "print(\"Nombre de jours:\",len(parametres_bruts),\"\\n\")\n",
    "print(parametres_bruts)\n",
    "# parametres_bruts = parametres_bruts.find(\"div\", {\"class\":\"wb-eqht wb-init wb-eqht-inited\"})"
   ]
  },
  {
   "cell_type": "markdown",
   "id": "d523fae5",
   "metadata": {},
   "source": [
    "### Affichage du texte brut sans les balises HTML"
   ]
  },
  {
   "cell_type": "code",
   "execution_count": null,
   "id": "5df87a74",
   "metadata": {},
   "outputs": [],
   "source": [
    "print(\"Sections pertinentes en texte brut sans les balises HTML:\\n\")\n",
    "for parametre_brut in parametres_bruts:\n",
    "    texte_affichage = parametre_brut.getText().strip()\n",
    "    print(texte_affichage)"
   ]
  },
  {
   "cell_type": "markdown",
   "id": "loved-subcommittee",
   "metadata": {},
   "source": [
    "## Affichage avec rendu des tableaux HTML de marées"
   ]
  },
  {
   "cell_type": "code",
   "execution_count": null,
   "id": "bde608a4",
   "metadata": {},
   "outputs": [],
   "source": [
    "import re\n",
    "from IPython.display import display, HTML\n",
    "\n",
    "# Extraction des attributs au moyen d'une expression régulière\n",
    "# la mise au point de l'expression régulière se fait avec https://regex101.com/\n",
    "\n",
    "FORME_1 = r\"(?:.*\\n)<caption>(\\d\\d\\d\\d-\\d\\d-\\d\\d\\s*\\(\\w*\\))\\<\\/caption>\"\n",
    "\n",
    "for parametre_brut in parametres_bruts:\n",
    "    titre = re.match(re.compile(FORME_1),str(parametre_brut)).group(1)\n",
    "    substitution = re.sub(FORME_1, '<table>', str(parametre_brut))\n",
    "    display(HTML(titre+\"\\n\"+substitution))"
   ]
  },
  {
   "cell_type": "markdown",
   "id": "5390786f",
   "metadata": {},
   "source": [
    "## Extraction des données de marées au moyen d'expressions régulières"
   ]
  },
  {
   "cell_type": "code",
   "execution_count": null,
   "id": "93734285",
   "metadata": {},
   "outputs": [],
   "source": [
    "def extraire_numero_station(texte_entree):\n",
    "    FORME_1 = r'\\s+\\((\\d*)\\)\\s+|\\s+Pêches\\s+et\\s+Océans Canada<\\/title>'\n",
    "    return re.search(FORME_1, str(texte_entree)).group(1)\n",
    "\n",
    "numero_station = extraire_numero_station(dom_page_resultats)\n",
    "print(\"Numéro de station:\",numero_station)"
   ]
  },
  {
   "cell_type": "code",
   "execution_count": null,
   "id": "fd7b6d3a",
   "metadata": {},
   "outputs": [],
   "source": [
    "def extraire_fuseau_horaire(texte_entree):\n",
    "    FORME_2 = r'<th>Heure\\s*(\\w*)<\\/th>'\n",
    "    return re.search(FORME_2, str(texte_entree)).group(1)\n",
    "\n",
    "fuseau_horaire = extraire_fuseau_horaire(parametres_bruts[0])\n",
    "print(\"Fuseau horaire:\",fuseau_horaire)"
   ]
  },
  {
   "cell_type": "code",
   "execution_count": null,
   "id": "e1f113a0",
   "metadata": {},
   "outputs": [],
   "source": [
    "from datetime import datetime\n",
    "\n",
    "def extraire_date(texte_entree):\n",
    "    FORME_3 = r\"(\\d\\d\\d\\d)-(\\d\\d)-(\\d\\d)\"\n",
    "    resultats_extraction = re.search(re.compile(FORME_3),str(texte_entree))\n",
    "    # Réécriture de la date en français\n",
    "    date_str = resultats_extraction.group(3) + \"-\" + resultats_extraction.group(2) + \"-\" + resultats_extraction.group(1) \n",
    "    return date_str\n",
    "\n",
    "extraire_date(parametres_bruts[0])"
   ]
  },
  {
   "cell_type": "code",
   "execution_count": null,
   "id": "e3c34245",
   "metadata": {},
   "outputs": [],
   "source": [
    "def extraire_donnees_maree(texte_entree):\n",
    "    FORME_4 = r\"<td>(\\d*:\\d*)<\\/td>\\n<td>(\\d*.\\d*)<\\/td>\"\n",
    "    resultats_extraction = re.findall(re.compile(FORME_4),str(texte_entree))\n",
    "    return resultats_extraction\n",
    "\n",
    "extraire_donnees_maree(parametres_bruts[0])"
   ]
  },
  {
   "cell_type": "markdown",
   "id": "industrial-familiar",
   "metadata": {},
   "source": [
    "## Sauvegarde des données dans le fichier `donnees_marees_formulaire_web.csv`"
   ]
  },
  {
   "cell_type": "code",
   "execution_count": null,
   "id": "lonely-rochester",
   "metadata": {},
   "outputs": [],
   "source": [
    "# Sauvegarder les données dans un fichier .csv\n",
    "chemin_fichier_sortie = './'\n",
    "nom_fichier_sortie = \"donnees_marees_formulaire_web.csv\"\n",
    "with open(chemin_fichier_sortie+nom_fichier_sortie,'w') as fichier_sortie:\n",
    "    # Écriture de l'entête du fichier listant les différents attributs\n",
    "    fichier_sortie.write('localite\\tstation\\tfuseau_horaire\\tdate\\theure\\thauteur_m\\n')\n",
    "    for parametre_brut in parametres_bruts:\n",
    "        titre = re.match(re.compile(FORME_1),str(parametre_brut)).group(1)\n",
    "        date = extraire_date(parametre_brut)\n",
    "        donnees_marees_liste = extraire_donnees_maree(parametre_brut)\n",
    "        for donnees_marees in donnees_marees_liste:\n",
    "            # Écriture des données sur la marée dans le fichier\n",
    "            fichier_sortie.write(localite+'\\t'+numero_station+'\\t'+fuseau_horaire+'\\t'+date+'\\t'\n",
    "                                 +donnees_marees[0]+'\\t'+donnees_marees[1]+'\\n')\n",
    "        \n",
    "print(\"Données de marées sauvegardées dans le fichier \"+ nom_fichier_sortie)"
   ]
  },
  {
   "cell_type": "markdown",
   "id": "younger-congo",
   "metadata": {},
   "source": [
    "## Test de lecture du fichier de données\n",
    "\n",
    "Vérification que le fichier .csv est correct."
   ]
  },
  {
   "cell_type": "code",
   "execution_count": null,
   "id": "essential-palace",
   "metadata": {},
   "outputs": [],
   "source": [
    "import pandas as pd\n",
    "\n",
    "nom_fichier_sortie = \"donnees_marees_formulaire_web.csv\"\n",
    "\n",
    "\n",
    "donnees_marees_df = pd.read_csv(chemin_fichier_sortie+nom_fichier_sortie,delimiter='\\t')\n",
    "donnees_marees_df"
   ]
  },
  {
   "cell_type": "code",
   "execution_count": null,
   "id": "7bf10526",
   "metadata": {},
   "outputs": [],
   "source": []
  }
 ],
 "metadata": {
  "kernelspec": {
   "display_name": "Python 3 (ipykernel)",
   "language": "python",
   "name": "python3"
  },
  "language_info": {
   "codemirror_mode": {
    "name": "ipython",
    "version": 3
   },
   "file_extension": ".py",
   "mimetype": "text/x-python",
   "name": "python",
   "nbconvert_exporter": "python",
   "pygments_lexer": "ipython3",
   "version": "3.11.9"
  }
 },
 "nbformat": 4,
 "nbformat_minor": 5
}
