{
 "cells": [
  {
   "cell_type": "markdown",
   "metadata": {},
   "source": [
    "[![Open In Colab](https://colab.research.google.com/assets/colab-badge.svg)](https://colab.research.google.com/github.com/ClaudeCoulombe/VIARENA/blob/master/Mon_premier_reseau_de_neurones_avec_Keras-version_commentee.ipynb)\n"
   ]
  },
  {
   "cell_type": "markdown",
   "metadata": {},
   "source": [
    "# Mon premier réseau de neurones avec Keras - version commentée\n",
    "\n",
    "Vous allez créer votre premier réseau de neurones vraiment très simple pour faire de la reconnaissance de formes (pattern matching). \n",
    "\n",
    "Notre petite application a pour objectif de convertir des températures en degrés Farenheit en degrés Celsius. Ce petit exercice nous montrera comment un réseau de neurones peut apprendre à approximer une fonction à partir de données.\n",
    "\n",
    "Nous partirons d'un jeu de données très simple qui consiste en un tableau de conversion températures de degrés Farenheit en degré Celsius que nous allons générer à partir d'une formule. Ce petit exercice nous montrera comment un réseau de neurones peut apprendre à approximer une fonction à partir de données."
   ]
  },
  {
   "cell_type": "markdown",
   "metadata": {},
   "source": [
    "## Génération des données\n",
    "\n",
    "Pour générer des données d'entraînement «synthétiques», nous nous servirons de la formule exacte: $\\;\\;celsius = \\large{\\frac{5}{9}}\\small(farenheit -32)$"
   ]
  },
  {
   "cell_type": "code",
   "execution_count": 56,
   "metadata": {},
   "outputs": [
    {
     "name": "stdout",
     "output_type": "stream",
     "text": [
      "\n",
      "Farenheit:  [-100.0, -95.0, -90.0, -85.0, -80.0, -75.0, -70.0, -65.0, -60.0, -55.0, -50.0, -45.0, -40.0, -35.0, -30.0, -25.0, -20.0, -15.0, -10.0, -5.0, 0.0, 5.0, 10.0, 15.0, 20.0, 25.0, 30.0, 35.0, 40.0, 45.0, 50.0, 55.0, 60.0, 65.0, 70.0, 75.0, 80.0, 85.0, 90.0, 95.0]\n",
      "\n",
      "Celsius:  [-73.33, -70.56, -67.78, -65.0, -62.22, -59.44, -56.67, -53.89, -51.11, -48.33, -45.56, -42.78, -40.0, -37.22, -34.44, -31.67, -28.89, -26.11, -23.33, -20.56, -17.78, -15.0, -12.22, -9.44, -6.67, -3.89, -1.11, 1.67, 4.44, 7.22, 10.0, 12.78, 15.56, 18.33, 21.11, 23.89, 26.67, 29.44, 32.22, 35.0]\n"
     ]
    }
   ],
   "source": [
    "import numpy as np\n",
    "\n",
    "farenheit_liste = [float(farenheit) for farenheit in range(-100,100,5)]\n",
    "print(\"\\nFarenheit: \",farenheit_liste)\n",
    "\n",
    "celsius_liste = [round(5/9*(farenheit-32),2) for farenheit in farenheit_liste]\n",
    "print(\"\\nCelsius: \",celsius_liste)\n",
    "\n",
    "farenheit_np = np.array(farenheit_liste)\n",
    "celsius_np = np.array(celsius_liste)\n"
   ]
  },
  {
   "cell_type": "markdown",
   "metadata": {},
   "source": [
    "## Création d'un réseau de neurones ou modèle "
   ]
  },
  {
   "cell_type": "code",
   "execution_count": 57,
   "metadata": {},
   "outputs": [
    {
     "name": "stdout",
     "output_type": "stream",
     "text": [
      "Architecture du réseau de neurones:\n",
      "\n",
      "Model: \"sequential_8\"\n",
      "_________________________________________________________________\n",
      "Layer (type)                 Output Shape              Param #   \n",
      "=================================================================\n",
      "dense_8 (Dense)              (None, 1)                 2         \n",
      "=================================================================\n",
      "Total params: 2\n",
      "Trainable params: 2\n",
      "Non-trainable params: 0\n",
      "_________________________________________________________________\n",
      "None\n"
     ]
    }
   ],
   "source": [
    "import tensorflow as tf\n",
    "from keras.models import Sequential\n",
    "from keras.layers import Dense\n",
    "\n",
    "reseau_de_neurones = Sequential()\n",
    "reseau_de_neurones.add(Dense(units=1, input_shape=[1]))\n",
    "\n",
    "print(\"Architecture du réseau de neurones:\\n\")\n",
    "print(reseau_de_neurones.summary())\n"
   ]
  },
  {
   "cell_type": "markdown",
   "metadata": {},
   "source": [
    "## Compilation du modèle "
   ]
  },
  {
   "cell_type": "code",
   "execution_count": 58,
   "metadata": {},
   "outputs": [],
   "source": [
    "reseau_de_neurones.compile(optimizer=tf.keras.optimizers.Adam(learning_rate=0.1),\n",
    "                           loss='mean_squared_error')\n"
   ]
  },
  {
   "cell_type": "markdown",
   "metadata": {},
   "source": [
    "## Entraînement du modèle sur les données"
   ]
  },
  {
   "cell_type": "code",
   "execution_count": 59,
   "metadata": {
    "scrolled": false
   },
   "outputs": [
    {
     "name": "stdout",
     "output_type": "stream",
     "text": [
      "Epoch 1/150\n",
      " - 0s - loss: 322.2809\n",
      "Epoch 2/150\n",
      " - 0s - loss: 317.2619\n",
      "Epoch 3/150\n",
      " - 0s - loss: 306.1806\n",
      "Epoch 4/150\n",
      " - 0s - loss: 294.0485\n",
      "Epoch 5/150\n",
      " - 0s - loss: 287.1545\n",
      "Epoch 6/150\n",
      " - 0s - loss: 280.6279\n",
      "Epoch 7/150\n",
      " - 0s - loss: 275.8059\n",
      "Epoch 8/150\n",
      " - 0s - loss: 265.2750\n",
      "Epoch 9/150\n",
      " - 0s - loss: 272.5392\n",
      "Epoch 10/150\n",
      " - 0s - loss: 268.7025\n",
      "Epoch 11/150\n",
      " - 0s - loss: 251.5735\n",
      "Epoch 12/150\n",
      " - 0s - loss: 241.6977\n",
      "Epoch 13/150\n",
      " - 0s - loss: 240.9814\n",
      "Epoch 14/150\n",
      " - 0s - loss: 237.9302\n",
      "Epoch 15/150\n",
      " - 0s - loss: 228.1006\n",
      "Epoch 16/150\n",
      " - 0s - loss: 220.2738\n",
      "Epoch 17/150\n",
      " - 0s - loss: 212.7942\n",
      "Epoch 18/150\n",
      " - 0s - loss: 208.0307\n",
      "Epoch 19/150\n",
      " - 0s - loss: 208.7723\n",
      "Epoch 20/150\n",
      " - 0s - loss: 209.6429\n",
      "Epoch 21/150\n",
      " - 0s - loss: 201.3168\n",
      "Epoch 22/150\n",
      " - 0s - loss: 188.7539\n",
      "Epoch 23/150\n",
      " - 0s - loss: 181.9177\n",
      "Epoch 24/150\n",
      " - 0s - loss: 177.1911\n",
      "Epoch 25/150\n",
      " - 0s - loss: 173.9629\n",
      "Epoch 26/150\n",
      " - 0s - loss: 170.6557\n",
      "Epoch 27/150\n",
      " - 0s - loss: 164.6825\n",
      "Epoch 28/150\n",
      " - 0s - loss: 159.7942\n",
      "Epoch 29/150\n",
      " - 0s - loss: 154.2401\n",
      "Epoch 30/150\n",
      " - 0s - loss: 153.3421\n",
      "Epoch 31/150\n",
      " - 0s - loss: 151.2139\n",
      "Epoch 32/150\n",
      " - 0s - loss: 146.1567\n",
      "Epoch 33/150\n",
      " - 0s - loss: 140.1623\n",
      "Epoch 34/150\n",
      " - 0s - loss: 137.6260\n",
      "Epoch 35/150\n",
      " - 0s - loss: 134.9536\n",
      "Epoch 36/150\n",
      " - 0s - loss: 127.4706\n",
      "Epoch 37/150\n",
      " - 0s - loss: 125.7420\n",
      "Epoch 38/150\n",
      " - 0s - loss: 119.5854\n",
      "Epoch 39/150\n",
      " - 0s - loss: 115.8088\n",
      "Epoch 40/150\n",
      " - 0s - loss: 113.0271\n",
      "Epoch 41/150\n",
      " - 0s - loss: 110.0613\n",
      "Epoch 42/150\n",
      " - 0s - loss: 105.4696\n",
      "Epoch 43/150\n",
      " - 0s - loss: 102.1604\n",
      "Epoch 44/150\n",
      " - 0s - loss: 99.4716\n",
      "Epoch 45/150\n",
      " - 0s - loss: 98.4704\n",
      "Epoch 46/150\n",
      " - 0s - loss: 96.0004\n",
      "Epoch 47/150\n",
      " - 0s - loss: 91.1929\n",
      "Epoch 48/150\n",
      " - 0s - loss: 86.9255\n",
      "Epoch 49/150\n",
      " - 0s - loss: 85.6031\n",
      "Epoch 50/150\n",
      " - 0s - loss: 87.6738\n",
      "Epoch 51/150\n",
      " - 0s - loss: 87.0929\n",
      "Epoch 52/150\n",
      " - 0s - loss: 80.4044\n",
      "Epoch 53/150\n",
      " - 0s - loss: 75.8715\n",
      "Epoch 54/150\n",
      " - 0s - loss: 71.9743\n",
      "Epoch 55/150\n",
      " - 0s - loss: 70.2860\n",
      "Epoch 56/150\n",
      " - 0s - loss: 67.6231\n",
      "Epoch 57/150\n",
      " - 0s - loss: 65.2410\n",
      "Epoch 58/150\n",
      " - 0s - loss: 64.7558\n",
      "Epoch 59/150\n",
      " - 0s - loss: 61.6651\n",
      "Epoch 60/150\n",
      " - 0s - loss: 58.5938\n",
      "Epoch 61/150\n",
      " - 0s - loss: 58.9583\n",
      "Epoch 62/150\n",
      " - 0s - loss: 57.9225\n",
      "Epoch 63/150\n",
      " - 0s - loss: 53.9756\n",
      "Epoch 64/150\n",
      " - 0s - loss: 51.4065\n",
      "Epoch 65/150\n",
      " - 0s - loss: 49.9455\n",
      "Epoch 66/150\n",
      " - 0s - loss: 47.4224\n",
      "Epoch 67/150\n",
      " - 0s - loss: 48.3410\n",
      "Epoch 68/150\n",
      " - 0s - loss: 47.9634\n",
      "Epoch 69/150\n",
      " - 0s - loss: 44.8181\n",
      "Epoch 70/150\n",
      " - 0s - loss: 41.7275\n",
      "Epoch 71/150\n",
      " - 0s - loss: 40.1543\n",
      "Epoch 72/150\n",
      " - 0s - loss: 38.9689\n",
      "Epoch 73/150\n",
      " - 0s - loss: 37.1301\n",
      "Epoch 74/150\n",
      " - 0s - loss: 35.6933\n",
      "Epoch 75/150\n",
      " - 0s - loss: 34.3479\n",
      "Epoch 76/150\n",
      " - 0s - loss: 33.4277\n",
      "Epoch 77/150\n",
      " - 0s - loss: 32.2179\n",
      "Epoch 78/150\n",
      " - 0s - loss: 30.4659\n",
      "Epoch 79/150\n",
      " - 0s - loss: 31.5894\n",
      "Epoch 80/150\n",
      " - 0s - loss: 30.7228\n",
      "Epoch 81/150\n",
      " - 0s - loss: 27.3713\n",
      "Epoch 82/150\n",
      " - 0s - loss: 26.2971\n",
      "Epoch 83/150\n",
      " - 0s - loss: 25.3617\n",
      "Epoch 84/150\n",
      " - 0s - loss: 24.3772\n",
      "Epoch 85/150\n",
      " - 0s - loss: 23.4798\n",
      "Epoch 86/150\n",
      " - 0s - loss: 22.4610\n",
      "Epoch 87/150\n",
      " - 0s - loss: 21.7831\n",
      "Epoch 88/150\n",
      " - 0s - loss: 21.0388\n",
      "Epoch 89/150\n",
      " - 0s - loss: 19.8033\n",
      "Epoch 90/150\n",
      " - 0s - loss: 19.5700\n",
      "Epoch 91/150\n",
      " - 0s - loss: 18.4859\n",
      "Epoch 92/150\n",
      " - 0s - loss: 17.3612\n",
      "Epoch 93/150\n",
      " - 0s - loss: 17.9189\n",
      "Epoch 94/150\n",
      " - 0s - loss: 18.5330\n",
      "Epoch 95/150\n",
      " - 0s - loss: 16.7689\n",
      "Epoch 96/150\n",
      " - 0s - loss: 14.6503\n",
      "Epoch 97/150\n",
      " - 0s - loss: 15.2309\n",
      "Epoch 98/150\n",
      " - 0s - loss: 14.7735\n",
      "Epoch 99/150\n",
      " - 0s - loss: 13.3427\n",
      "Epoch 100/150\n",
      " - 0s - loss: 12.5878\n",
      "Epoch 101/150\n",
      " - 0s - loss: 11.8270\n",
      "Epoch 102/150\n",
      " - 0s - loss: 12.6917\n",
      "Epoch 103/150\n",
      " - 0s - loss: 12.7256\n",
      "Epoch 104/150\n",
      " - 0s - loss: 10.8589\n",
      "Epoch 105/150\n",
      " - 0s - loss: 9.9290\n",
      "Epoch 106/150\n",
      " - 0s - loss: 10.1124\n",
      "Epoch 107/150\n",
      " - 0s - loss: 10.0131\n",
      "Epoch 108/150\n",
      " - 0s - loss: 8.7224\n",
      "Epoch 109/150\n",
      " - 0s - loss: 9.4838\n",
      "Epoch 110/150\n",
      " - 0s - loss: 9.5184\n",
      "Epoch 111/150\n",
      " - 0s - loss: 8.0652\n",
      "Epoch 112/150\n",
      " - 0s - loss: 7.6691\n",
      "Epoch 113/150\n",
      " - 0s - loss: 7.3027\n",
      "Epoch 114/150\n",
      " - 0s - loss: 6.8082\n",
      "Epoch 115/150\n",
      " - 0s - loss: 6.3837\n",
      "Epoch 116/150\n",
      " - 0s - loss: 6.0277\n",
      "Epoch 117/150\n",
      " - 0s - loss: 5.8477\n",
      "Epoch 118/150\n",
      " - 0s - loss: 5.5430\n",
      "Epoch 119/150\n",
      " - 0s - loss: 5.3093\n",
      "Epoch 120/150\n",
      " - 0s - loss: 4.9941\n",
      "Epoch 121/150\n",
      " - 0s - loss: 4.7320\n",
      "Epoch 122/150\n",
      " - 0s - loss: 4.8168\n",
      "Epoch 123/150\n",
      " - 0s - loss: 4.3598\n",
      "Epoch 124/150\n",
      " - 0s - loss: 4.1181\n",
      "Epoch 125/150\n",
      " - 0s - loss: 4.7741\n",
      "Epoch 126/150\n",
      " - 0s - loss: 4.2812\n",
      "Epoch 127/150\n",
      " - 0s - loss: 3.6792\n",
      "Epoch 128/150\n",
      " - 0s - loss: 3.6368\n",
      "Epoch 129/150\n",
      " - 0s - loss: 3.3179\n",
      "Epoch 130/150\n",
      " - 0s - loss: 3.0159\n",
      "Epoch 131/150\n",
      " - 0s - loss: 2.9756\n",
      "Epoch 132/150\n",
      " - 0s - loss: 2.8703\n",
      "Epoch 133/150\n",
      " - 0s - loss: 2.6208\n",
      "Epoch 134/150\n",
      " - 0s - loss: 2.4713\n",
      "Epoch 135/150\n",
      " - 0s - loss: 2.3679\n",
      "Epoch 136/150\n",
      " - 0s - loss: 2.2895\n",
      "Epoch 137/150\n",
      " - 0s - loss: 2.1574\n",
      "Epoch 138/150\n",
      " - 0s - loss: 1.9956\n",
      "Epoch 139/150\n",
      " - 0s - loss: 1.9811\n",
      "Epoch 140/150\n",
      " - 0s - loss: 1.9664\n",
      "Epoch 141/150\n",
      " - 0s - loss: 1.8349\n",
      "Epoch 142/150\n",
      " - 0s - loss: 1.9696\n",
      "Epoch 143/150\n",
      " - 0s - loss: 1.6450\n",
      "Epoch 144/150\n",
      " - 0s - loss: 1.4986\n",
      "Epoch 145/150\n",
      " - 0s - loss: 1.6015\n",
      "Epoch 146/150\n",
      " - 0s - loss: 1.3772\n",
      "Epoch 147/150\n",
      " - 0s - loss: 1.2636\n",
      "Epoch 148/150\n",
      " - 0s - loss: 1.2776\n",
      "Epoch 149/150\n",
      " - 0s - loss: 1.1162\n",
      "Epoch 150/150\n",
      " - 0s - loss: 1.1148\n",
      "Le réseau de neurones a été entraîné!\n"
     ]
    }
   ],
   "source": [
    "traces_entrainement = reseau_de_neurones.fit(farenheit_np,celsius_np,\n",
    "                                             epochs=150,\n",
    "                                             verbose=2)\n",
    "print(\"Le réseau de neurones a été entraîné!\")\n"
   ]
  },
  {
   "cell_type": "markdown",
   "metadata": {},
   "source": [
    "## Évolution de la fonction de perte ou coût"
   ]
  },
  {
   "cell_type": "code",
   "execution_count": 60,
   "metadata": {},
   "outputs": [
    {
     "data": {
      "image/png": "[encoded data removed]",
      "text/plain": [
       "<Figure size 648x432 with 1 Axes>"
      ]
     },
     "metadata": {
      "needs_background": "light"
     },
     "output_type": "display_data"
    }
   ],
   "source": [
    "import matplotlib.pyplot as plt\n",
    "nombre_dor = 1.618\n",
    "hauteur = 6\n",
    "longueur = int(nombre_dor * hauteur)\n",
    "_ = plt.figure(figsize=(longueur,hauteur))\n",
    "plt.xlabel('Nombre de passages dans les données')\n",
    "plt.ylabel(\"Fonction de coût ou de perte\")\n",
    "_ = plt.plot(traces_entrainement.history['loss'],linewidth=2)\n",
    "plt.show()\n"
   ]
  },
  {
   "cell_type": "markdown",
   "metadata": {},
   "source": [
    "## Test sur des données «fraîches»\n",
    "\n",
    "Prenons deux températures qui ne font pas partie de nos données d'entraînement. Nous choisirons des températures intéresantes dun point de vue physique comme le point de congélation de l'eau $-32^o F$ et le point d'ébullition de l'eau $212^o F$."
   ]
  },
  {
   "cell_type": "code",
   "execution_count": 61,
   "metadata": {},
   "outputs": [
    {
     "name": "stdout",
     "output_type": "stream",
     "text": [
      "Farenheit: 32 , prédiction => Celsius: 0.82055855 , formule exacte: 0.0\n"
     ]
    }
   ],
   "source": [
    "farenheit = 32\n",
    "print(\"Farenheit:\",farenheit,\", prédiction =>\",\"Celsius:\",reseau_de_neurones.predict([farenheit])[0][0],\", formule exacte:\",5/9*(farenheit-32))\n"
   ]
  },
  {
   "cell_type": "code",
   "execution_count": 62,
   "metadata": {},
   "outputs": [
    {
     "name": "stdout",
     "output_type": "stream",
     "text": [
      "Farenheit: 212 , prédiction => Celsius: 99.84537 , formule exacte: 100.0\n"
     ]
    }
   ],
   "source": [
    "farenheit = 212\n",
    "print(\"Farenheit:\",farenheit,\", prédiction =>\",\"Celsius:\",reseau_de_neurones.predict([farenheit])[0][0],\", formule exacte:\",5/9*(farenheit-32))\n"
   ]
  },
  {
   "cell_type": "markdown",
   "metadata": {},
   "source": [
    "Le réseau de neurones retourne des valeurs très proches des vraies valeurs données par la formule $\\;\\;celsius = \\large{\\frac{5}{9}}\\small(farenheit -32)$. Il est important de comprendre que le réseau de neurones n'apprend pas la formule exacte mais bien qu'il calcule itérativement une approximation de cette formule.  \n",
    "    "
   ]
  },
  {
   "cell_type": "code",
   "execution_count": null,
   "metadata": {},
   "outputs": [],
   "source": []
  }
 ],
 "metadata": {
  "kernelspec": {
   "display_name": "Python 3",
   "language": "python",
   "name": "python3"
  },
  "language_info": {
   "codemirror_mode": {
    "name": "ipython",
    "version": 3
   },
   "file_extension": ".py",
   "mimetype": "text/x-python",
   "name": "python",
   "nbconvert_exporter": "python",
   "pygments_lexer": "ipython3",
   "version": "3.6.5"
  }
 },
 "nbformat": 4,
 "nbformat_minor": 2
}
