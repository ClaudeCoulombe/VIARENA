{
 "cells": [
  {
   "cell_type": "markdown",
   "metadata": {},
   "source": [
    "[![Open In Colab](https://colab.research.google.com/assets/colab-badge.svg)](https://colab.research.google.com/github/googlecolab/colabtools/blob/master/notebooks/colab-github-demo.ipynb)\n"
   ]
  },
  {
   "cell_type": "markdown",
   "metadata": {},
   "source": [
    "# Mon premier réseau de neurones avec Keras - version commentée\n",
    "\n",
    "Vous allez créer votre premier réseau de neurones vraiment très simple pour faire de la reconnaissance de formes (pattern matching). \n",
    "\n",
    "Notre petite application a pour objectif de convertir des températures en degrés Farenheit en degrés Celsius. Ce petit exercice nous montrera comment un réseau de neurones peut apprendre à approximer une fonction à partir de données.\n",
    "\n",
    "Nous partirons d'un jeu de données très simple qui consiste en un tableau de conversion températures de degrés Farenheit en degré Celsius que nous allons générer à partir d'une formule. Ce petit exercice nous montrera comment un réseau de neurones peut apprendre à approximer une fonction à partir de données."
   ]
  },
  {
   "cell_type": "markdown",
   "metadata": {},
   "source": [
    "## Génération des données\n",
    "\n",
    "Pour générer des données d'entraînement «synthétiques», nous nous servirons de la formule exacte: $\\;\\;celsius = \\large{\\frac{5}{9}}\\small(farenheit -32)$"
   ]
  },
  {
   "cell_type": "code",
   "execution_count": 14,
   "metadata": {},
   "outputs": [
    {
     "name": "stdout",
     "output_type": "stream",
     "text": [
      "\n",
      "Farenheit:  [-100.0, -95.0, -90.0, -85.0, -80.0, -75.0, -70.0, -65.0, -60.0, -55.0, -50.0, -45.0, -40.0, -35.0, -30.0, -25.0, -20.0, -15.0, -10.0, -5.0, 0.0, 5.0, 10.0, 15.0, 20.0, 25.0, 30.0, 35.0, 40.0, 45.0, 50.0, 55.0, 60.0, 65.0, 70.0, 75.0, 80.0, 85.0, 90.0, 95.0]\n",
      "\n",
      "Celsius:  [-73.33, -70.56, -67.78, -65.0, -62.22, -59.44, -56.67, -53.89, -51.11, -48.33, -45.56, -42.78, -40.0, -37.22, -34.44, -31.67, -28.89, -26.11, -23.33, -20.56, -17.78, -15.0, -12.22, -9.44, -6.67, -3.89, -1.11, 1.67, 4.44, 7.22, 10.0, 12.78, 15.56, 18.33, 21.11, 23.89, 26.67, 29.44, 32.22, 35.0]\n"
     ]
    }
   ],
   "source": [
    "import numpy as np\n",
    "\n",
    "farenheit_liste = [float(farenheit) for farenheit in range(-100,100,5)]\n",
    "print(\"\\nFarenheit: \",farenheit_liste)\n",
    "\n",
    "celsius_liste = [round(5/9*(farenheit-32),2) for farenheit in farenheit_liste]\n",
    "print(\"\\nCelsius: \",celsius_liste)\n",
    "\n",
    "farenheit_np = np.array(farenheit_liste)\n",
    "celsius_np = np.array(celsius_liste)\n"
   ]
  },
  {
   "cell_type": "markdown",
   "metadata": {},
   "source": [
    "## Création d'un réseau de neurones ou modèle "
   ]
  },
  {
   "cell_type": "code",
   "execution_count": 15,
   "metadata": {},
   "outputs": [
    {
     "name": "stdout",
     "output_type": "stream",
     "text": [
      "Architecture du réseau de neurones:\n",
      "\n",
      "Model: \"sequential_4\"\n",
      "_________________________________________________________________\n",
      "Layer (type)                 Output Shape              Param #   \n",
      "=================================================================\n",
      "dense_4 (Dense)              (None, 1)                 2         \n",
      "=================================================================\n",
      "Total params: 2\n",
      "Trainable params: 2\n",
      "Non-trainable params: 0\n",
      "_________________________________________________________________\n",
      "None\n"
     ]
    }
   ],
   "source": [
    "import tensorflow as tf\n",
    "from keras.models import Sequential\n",
    "from keras.layers import Dense\n",
    "\n",
    "reseau_de_neurones = Sequential()\n",
    "reseau_de_neurones.add(Dense(units=1, input_shape=[1]))\n",
    "\n",
    "print(\"Architecture du réseau de neurones:\\n\")\n",
    "print(reseau_de_neurones.summary())\n"
   ]
  },
  {
   "cell_type": "markdown",
   "metadata": {},
   "source": [
    "## Compilation du modèle "
   ]
  },
  {
   "cell_type": "code",
   "execution_count": 16,
   "metadata": {},
   "outputs": [],
   "source": [
    "reseau_de_neurones.compile(optimizer=tf.keras.optimizers.Adam(0.1),\n",
    "                           loss='mean_squared_error')\n"
   ]
  },
  {
   "cell_type": "markdown",
   "metadata": {},
   "source": [
    "## Entraînement du modèle sur les données"
   ]
  },
  {
   "cell_type": "code",
   "execution_count": 17,
   "metadata": {},
   "outputs": [
    {
     "name": "stdout",
     "output_type": "stream",
     "text": [
      "Le réseau de neurones a été entraîné!\n"
     ]
    }
   ],
   "source": [
    "traces_entrainement = reseau_de_neurones.fit(farenheit_np,celsius_np,\n",
    "                                             epochs=500,\n",
    "                                             verbose=0)\n",
    "print(\"Le réseau de neurones a été entraîné!\")\n"
   ]
  },
  {
   "cell_type": "markdown",
   "metadata": {},
   "source": [
    "## Évolution de la fonction de perte ou coût"
   ]
  },
  {
   "cell_type": "code",
   "execution_count": 18,
   "metadata": {},
   "outputs": [
    {
     "data": {
      "image/png": "[encoded data removed]",
      "text/plain": [
       "<Figure size 648x432 with 1 Axes>"
      ]
     },
     "metadata": {
      "needs_background": "light"
     },
     "output_type": "display_data"
    }
   ],
   "source": [
    "import matplotlib.pyplot as plt\n",
    "nombre_dor = 1.618\n",
    "hauteur = 6\n",
    "longueur = int(nombre_dor * hauteur)\n",
    "_ = plt.figure(figsize=(longueur,hauteur))\n",
    "plt.xlabel('Nombre de passages dans les données')\n",
    "plt.ylabel(\"Fonction de coût ou de perte\")\n",
    "_ = plt.plot(traces_entrainement.history['loss'],linewidth=2)\n",
    "plt.show()\n"
   ]
  },
  {
   "cell_type": "markdown",
   "metadata": {},
   "source": [
    "## Test sur des données «fraîches»\n",
    "\n",
    "Prenons deux températures qui ne font pas partie de nos données d'entraînement. Nous choisirons des températures intéresantes dun point de vue physique comme le point de congélation de l'eau $-32^o F$ et le point d'ébullition de l'eau $212^o F$."
   ]
  },
  {
   "cell_type": "code",
   "execution_count": 19,
   "metadata": {},
   "outputs": [
    {
     "name": "stdout",
     "output_type": "stream",
     "text": [
      "Farenheit: 32 , prédiction => Celsius: 0.0005245209 , formule exacte: 0.0\n"
     ]
    }
   ],
   "source": [
    "farenheit = 32\n",
    "print(\"Farenheit:\",farenheit,\", prédiction =>\",\"Celsius:\",reseau_de_neurones.predict([farenheit])[0][0],\", formule exacte:\",5/9*(farenheit-32))\n"
   ]
  },
  {
   "cell_type": "code",
   "execution_count": 20,
   "metadata": {},
   "outputs": [
    {
     "name": "stdout",
     "output_type": "stream",
     "text": [
      "Farenheit: 212 , prédiction => Celsius: 100.00378 , formule exacte: 100.0\n"
     ]
    }
   ],
   "source": [
    "farenheit = 212\n",
    "print(\"Farenheit:\",farenheit,\", prédiction =>\",\"Celsius:\",reseau_de_neurones.predict([farenheit])[0][0],\", formule exacte:\",5/9*(farenheit-32))\n"
   ]
  },
  {
   "cell_type": "markdown",
   "metadata": {},
   "source": [
    "Le réseau de neurones retourne des valeurs très proches des vraies valeurs données par la formule $\\;\\;celsius = \\large{\\frac{5}{9}}\\small(farenheit -32)$. Il est important de comprendre que le réseau de neurones n'apprend pas la formule exacte mais bien qu'il calcule itérativement une approximation de cette formule.  \n",
    "    "
   ]
  },
  {
   "cell_type": "code",
   "execution_count": null,
   "metadata": {},
   "outputs": [],
   "source": []
  }
 ],
 "metadata": {
  "kernelspec": {
   "display_name": "Python 3",
   "language": "python",
   "name": "python3"
  },
  "language_info": {
   "codemirror_mode": {
    "name": "ipython",
    "version": 3
   },
   "file_extension": ".py",
   "mimetype": "text/x-python",
   "name": "python",
   "nbconvert_exporter": "python",
   "pygments_lexer": "ipython3",
   "version": "3.6.5"
  }
 },
 "nbformat": 4,
 "nbformat_minor": 2
}
