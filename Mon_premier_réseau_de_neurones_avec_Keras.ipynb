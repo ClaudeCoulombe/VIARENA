{
 "cells": [
  {
   "cell_type": "markdown",
   "metadata": {},
   "source": [
    "[![Open In Colab](https://colab.research.google.com/assets/colab-badge.svg)](https://colab.research.google.com/github/googlecolab/colabtools/blob/master/notebooks/colab-github-demo.ipynb)\n"
   ]
  },
  {
   "cell_type": "markdown",
   "metadata": {},
   "source": [
    "# Mon premier réseau de neurones avec Keras\n",
    "\n",
    "Vous allez créer votre premier réseau de neurones vrainent très simple pour faire de la reconnaissance de formes (pattern matching).\n",
    "\n",
    "Nous partirons d'un jeu de données très simple qui consiste en un tableau de conversion températures de degrés Farenheit en degré Celsius que nous allons générer à partir d'une formule. Ce petit exercice nous montrera comment un réseau de neurones peut apprendre à approximer une fonction à partir de données."
   ]
  },
  {
   "cell_type": "markdown",
   "metadata": {},
   "source": [
    "# Version compacte"
   ]
  },
  {
   "cell_type": "code",
   "execution_count": 190,
   "metadata": {},
   "outputs": [
    {
     "name": "stdout",
     "output_type": "stream",
     "text": [
      "Farenheit: 32 => Celsius: -3.4332275e-05\n",
      "Farenheit: 212 => Celsius: 99.99979\n"
     ]
    }
   ],
   "source": [
    "import tensorflow as tf\n",
    "import numpy as np\n",
    "\n",
    "farenheit_np = np.array([float(farenheit) for farenheit in range(-100,100,5)])\n",
    "celsius_np = np.array([round(5/9*(farenheit-32),2) for farenheit in farenheit_liste])\n",
    "\n",
    "modele = tf.keras.models.Sequential([tf.keras.layers.Dense(units=1, input_shape=[1])])\n",
    "modele.compile(optimizer=tf.keras.optimizers.Adam(0.1),loss='mean_squared_error')\n",
    "modele.fit(farenheit_np,celsius_np,epochs=500,verbose=0)\n",
    "\n",
    "print(\"Farenheit:\",32,\"=>\",\"Celsius:\",modele.predict([32])[0][0])\n",
    "print(\"Farenheit:\",212,\"=>\",\"Celsius:\",modele.predict([212])[0][0])\n"
   ]
  },
  {
   "cell_type": "markdown",
   "metadata": {},
   "source": [
    "# Version documentée"
   ]
  },
  {
   "cell_type": "markdown",
   "metadata": {},
   "source": [
    "## Génération des données\n",
    "\n",
    "Nous nous servirons de la formule: $\\;\\;celsius = \\large{\\frac{5}{9}}\\small(farenheit -32)$"
   ]
  },
  {
   "cell_type": "code",
   "execution_count": 187,
   "metadata": {},
   "outputs": [
    {
     "name": "stdout",
     "output_type": "stream",
     "text": [
      "\n",
      "Farenheit:  [-100.0, -95.0, -90.0, -85.0, -80.0, -75.0, -70.0, -65.0, -60.0, -55.0, -50.0, -45.0, -40.0, -35.0, -30.0, -25.0, -20.0, -15.0, -10.0, -5.0, 0.0, 5.0, 10.0, 15.0, 20.0, 25.0, 30.0, 35.0, 40.0, 45.0, 50.0, 55.0, 60.0, 65.0, 70.0, 75.0, 80.0, 85.0, 90.0, 95.0]\n",
      "\n",
      "Celsius:  [-73.33, -70.56, -67.78, -65.0, -62.22, -59.44, -56.67, -53.89, -51.11, -48.33, -45.56, -42.78, -40.0, -37.22, -34.44, -31.67, -28.89, -26.11, -23.33, -20.56, -17.78, -15.0, -12.22, -9.44, -6.67, -3.89, -1.11, 1.67, 4.44, 7.22, 10.0, 12.78, 15.56, 18.33, 21.11, 23.89, 26.67, 29.44, 32.22, 35.0]\n"
     ]
    }
   ],
   "source": [
    "import numpy as np\n",
    "\n",
    "farenheit_liste = [float(farenheit) for farenheit in range(-100,100,5)]\n",
    "print(\"\\nFarenheit: \",farenheit_liste)\n",
    "\n",
    "celsius_liste = [round(5/9*(farenheit-32),2) for farenheit in farenheit_liste]\n",
    "print(\"\\nCelsius: \",celsius_liste)\n",
    "\n",
    "farenheit_np = np.array(farenheit_liste)\n",
    "celsius_np = np.array(celsius_liste)\n"
   ]
  },
  {
   "cell_type": "markdown",
   "metadata": {},
   "source": [
    "## Création d'un réseau de neurones ou modèle "
   ]
  },
  {
   "cell_type": "code",
   "execution_count": 188,
   "metadata": {},
   "outputs": [
    {
     "name": "stdout",
     "output_type": "stream",
     "text": [
      "Architecture du modèle\n",
      "Model: \"sequential_72\"\n",
      "_________________________________________________________________\n",
      "Layer (type)                 Output Shape              Param #   \n",
      "=================================================================\n",
      "dense_113 (Dense)            (None, 1)                 2         \n",
      "=================================================================\n",
      "Total params: 2\n",
      "Trainable params: 2\n",
      "Non-trainable params: 0\n",
      "_________________________________________________________________\n",
      "None\n"
     ]
    }
   ],
   "source": [
    "from keras.models import Sequential\n",
    "from keras.layers import Dense\n",
    "\n",
    "modele = Sequential()\n",
    "modele.add(Dense(units=1, input_shape=[1]))\n",
    "\n",
    "print(\"Architecture du modèle\")\n",
    "print(modele.summary())\n"
   ]
  },
  {
   "cell_type": "markdown",
   "metadata": {},
   "source": [
    "## Compilation du modèle "
   ]
  },
  {
   "cell_type": "code",
   "execution_count": 189,
   "metadata": {},
   "outputs": [],
   "source": [
    "modele.compile(optimizer=tf.keras.optimizers.Adam(0.1),\n",
    "               loss='mean_squared_error')"
   ]
  },
  {
   "cell_type": "markdown",
   "metadata": {},
   "source": [
    "## Entraînement du modèle sur les données"
   ]
  },
  {
   "cell_type": "code",
   "execution_count": 165,
   "metadata": {},
   "outputs": [
    {
     "name": "stdout",
     "output_type": "stream",
     "text": [
      "Modèle entraîné\n"
     ]
    }
   ],
   "source": [
    "traces_entrainement = modele.fit(farenheit_np,celsius_np,\n",
    "                                 epochs=500,\n",
    "                                 verbose=0)\n",
    "print(\"Modèle entraîné\")"
   ]
  },
  {
   "cell_type": "markdown",
   "metadata": {},
   "source": [
    "## Évolution de la fonction de perte ou coût"
   ]
  },
  {
   "cell_type": "code",
   "execution_count": 183,
   "metadata": {},
   "outputs": [
    {
     "data": {
      "image/png": "[encoded data removed]",
      "text/plain": [
       "<Figure size 648x432 with 1 Axes>"
      ]
     },
     "metadata": {
      "needs_background": "light"
     },
     "output_type": "display_data"
    }
   ],
   "source": [
    "import matplotlib.pyplot as plt\n",
    "nombre_dor = 1.618\n",
    "hauteur = 6\n",
    "longueur = int(nombre_dor * hauteur)\n",
    "_ = plt.figure(figsize=(longueur,hauteur))\n",
    "plt.xlabel('Nombre de passages dans les données')\n",
    "plt.ylabel(\"Fonction de coût ou de perte\")\n",
    "_ = plt.plot(traces_entrainement.history['loss'],linewidth=2)\n",
    "plt.show()"
   ]
  },
  {
   "cell_type": "markdown",
   "metadata": {},
   "source": [
    "## Test sur des données «fraîches»\n",
    "\n",
    "Prenons deux températures qui ne font pas partie de nos données d'entraînement. Nous choisirons des températures intéresantes dun point de vue physique comme le point de congélation de l'eau $-32^o F$ et le point d'ébullition de l'eau $212^o F$."
   ]
  },
  {
   "cell_type": "code",
   "execution_count": 170,
   "metadata": {},
   "outputs": [
    {
     "name": "stdout",
     "output_type": "stream",
     "text": [
      "Farenheit: 32 => Celsius: -0.00019264221\n"
     ]
    }
   ],
   "source": [
    "farenheit = 32\n",
    "print(\"Farenheit:\",farenheit,\"=>\",\"Celsius:\",modele.predict([farenheit])[0][0])\n"
   ]
  },
  {
   "cell_type": "code",
   "execution_count": 169,
   "metadata": {},
   "outputs": [
    {
     "name": "stdout",
     "output_type": "stream",
     "text": [
      "Farenheit: 212 Celsius: 99.99936\n"
     ]
    }
   ],
   "source": [
    "farenheit = 212\n",
    "print(\"Farenheit:\",farenheit,\"=>\",\"Celsius:\",modele.predict([farenheit])[0][0])\n"
   ]
  },
  {
   "cell_type": "markdown",
   "metadata": {},
   "source": [
    "Le réseau de neurones retourne des valeurs très proches des vraies valeurs données par la formule $\\;\\;celsius = \\large{\\frac{5}{9}}\\small(farenheit -32)$. Il est important de comprendre que le réseau de neurones n'apprend pas la formule exacte mais bien qu'il calcule itérativement une approximation de cette formule.  \n",
    "    "
   ]
  },
  {
   "cell_type": "code",
   "execution_count": null,
   "metadata": {},
   "outputs": [],
   "source": []
  }
 ],
 "metadata": {
  "kernelspec": {
   "display_name": "Python 3",
   "language": "python",
   "name": "python3"
  },
  "language_info": {
   "codemirror_mode": {
    "name": "ipython",
    "version": 3
   },
   "file_extension": ".py",
   "mimetype": "text/x-python",
   "name": "python",
   "nbconvert_exporter": "python",
   "pygments_lexer": "ipython3",
   "version": "3.6.5"
  }
 },
 "nbformat": 4,
 "nbformat_minor": 2
}
